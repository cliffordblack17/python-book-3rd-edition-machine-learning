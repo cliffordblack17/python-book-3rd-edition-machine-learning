{
 "cells": [
  {
   "cell_type": "markdown",
   "metadata": {},
   "source": [
    "*Python Machine Learning 3rd Edition* by [Sebastian Raschka](https://sebastianraschka.com) & [Vahid Mirjalili](http://vahidmirjalili.com), Packt Publishing Ltd. 2019\n",
    "\n",
    "Code Repository: https://github.com/rasbt/python-machine-learning-book-3rd-edition\n",
    "\n",
    "Code License: [MIT License](https://github.com/rasbt/python-machine-learning-book-3rd-edition/blob/master/LICENSE.txt)"
   ]
  },
  {
   "cell_type": "markdown",
   "metadata": {},
   "source": [
    "Chapter 14: Going Deeper -- the Mechanics of TensorFlow\n",
    "===="
   ]
  },
  {
   "cell_type": "code",
   "execution_count": 1,
   "metadata": {},
   "outputs": [],
   "source": [
    "import tensorflow as tf\n",
    "import numpy as np\n",
    "import pandas as pd\n",
    "import matplotlib.pyplot as plt\n",
    "%matplotlib inline"
   ]
  },
  {
   "cell_type": "markdown",
   "metadata": {},
   "source": [
    "### Migrating from TF version 1"
   ]
  },
  {
   "cell_type": "code",
   "execution_count": 2,
   "metadata": {},
   "outputs": [
    {
     "name": "stdout",
     "output_type": "stream",
     "text": [
      "Result:  z= 1\n",
      "Result:  z= 1\n"
     ]
    }
   ],
   "source": [
    "## TF-v1.x style\n",
    "g = tf.Graph()\n",
    "with g.as_default():\n",
    "    a = tf.constant(1, name='a')\n",
    "    b = tf.constant(2, name='b')\n",
    "    c = tf.constant(3, name='c')\n",
    "    z = 2*(a-b) + c\n",
    "    \n",
    "with tf.compat.v1.Session(graph=g) as sess:\n",
    "    print('Result:  z=', sess.run(z))\n",
    "    print('Result:  z=', z.eval())"
   ]
  },
  {
   "cell_type": "code",
   "execution_count": 3,
   "metadata": {},
   "outputs": [
    {
     "name": "stdout",
     "output_type": "stream",
     "text": [
      "Result:  z= 1\n"
     ]
    }
   ],
   "source": [
    "## TF v2 style\n",
    "a = tf.constant(1, name='a')\n",
    "b = tf.constant(2, name='b')\n",
    "c = tf.constant(3, name='c')\n",
    "\n",
    "z = 2*(a - b) + c\n",
    "tf.print('Result:  z=', z)"
   ]
  },
  {
   "cell_type": "code",
   "execution_count": 4,
   "metadata": {},
   "outputs": [
    {
     "name": "stdout",
     "output_type": "stream",
     "text": [
      "Result:  z= 1\n"
     ]
    }
   ],
   "source": [
    "## TF-v1.x style\n",
    "g = tf.Graph()\n",
    "with g.as_default():\n",
    "    a = tf.compat.v1.placeholder(shape=None, dtype=tf.int32, name='tf_a')\n",
    "    b = tf.compat.v1.placeholder(shape=None, dtype=tf.int32, name='tf_b')\n",
    "    c = tf.compat.v1.placeholder(shape=None, dtype=tf.int32, name='tf_c')\n",
    "    z = 2*(a-b) + c\n",
    "    \n",
    "with tf.compat.v1.Session(graph=g) as sess:\n",
    "    feed_dict={a:1, b:2, c:3}\n",
    "    print('Result:  z=', sess.run(z, feed_dict=feed_dict))"
   ]
  },
  {
   "cell_type": "code",
   "execution_count": 5,
   "metadata": {},
   "outputs": [
    {
     "name": "stdout",
     "output_type": "stream",
     "text": [
      "Scalar Inputs:  1\n",
      "Rank 1 Inputs:  [1]\n",
      "Rank 2 Inputs:  [[1]]\n"
     ]
    }
   ],
   "source": [
    "## TF-v2 style\n",
    "def compute_z(a, b, c):\n",
    "    r1 = tf.subtract(a, b)\n",
    "    r2 = tf.multiply(2, r1)\n",
    "    z = tf.add(r2, c)\n",
    "    return z\n",
    "\n",
    "tf.print('Scalar Inputs: ', compute_z(1, 2, 3))\n",
    "tf.print('Rank 1 Inputs: ', compute_z([1], [2], [3]))\n",
    "tf.print('Rank 2 Inputs: ', compute_z([[1]], [[2]], [[3]]))"
   ]
  },
  {
   "cell_type": "code",
   "execution_count": null,
   "metadata": {},
   "outputs": [],
   "source": []
  },
  {
   "cell_type": "code",
   "execution_count": 6,
   "metadata": {},
   "outputs": [
    {
     "name": "stdout",
     "output_type": "stream",
     "text": [
      "Scalar Inputs:  1\n",
      "Rank 1 Inputs:  [1]\n",
      "Rank 2 Inputs:  [[1]]\n"
     ]
    }
   ],
   "source": [
    "@tf.function\n",
    "def compute_z(a, b, c):\n",
    "    r1 = tf.subtract(a, b)\n",
    "    r2 = tf.multiply(2, r1)\n",
    "    z = tf.add(r2, c)\n",
    "    return z\n",
    "\n",
    "tf.print('Scalar Inputs: ', compute_z(1, 2, 3))\n",
    "tf.print('Rank 1 Inputs: ', compute_z([1], [2], [3]))\n",
    "tf.print('Rank 2 Inputs: ', compute_z([[1]], [[2]], [[3]]))"
   ]
  },
  {
   "cell_type": "code",
   "execution_count": 7,
   "metadata": {},
   "outputs": [
    {
     "name": "stdout",
     "output_type": "stream",
     "text": [
      "Rank 1 Inputs:  [1]\n",
      "Rank 1 Inputs:  [1 2]\n"
     ]
    }
   ],
   "source": [
    "@tf.function(input_signature=(tf.TensorSpec(shape=[None], dtype=tf.int32),\n",
    "                              tf.TensorSpec(shape=[None], dtype=tf.int32),\n",
    "                              tf.TensorSpec(shape=[None], dtype=tf.int32),))\n",
    "def compute_z(a, b, c):\n",
    "    r1 = tf.subtract(a, b)\n",
    "    r2 = tf.multiply(2, r1)\n",
    "    z = tf.add(r2, c)\n",
    "    return z\n",
    "\n",
    "tf.print('Rank 1 Inputs: ', compute_z([1], [2], [3]))\n",
    "tf.print('Rank 1 Inputs: ', compute_z([1, 2], [2, 4], [3, 6]))"
   ]
  },
  {
   "cell_type": "code",
   "execution_count": null,
   "metadata": {},
   "outputs": [],
   "source": [
    "## we expect this to result in an error\n",
    "tf.print('Rank 2 Inputs: ', compute_z([[1], [2]], [[2], [4]], [[3], [6]]))\n",
    "\n",
    "\n",
    "## >> Error:\n",
    "#ValueError: Python inputs incompatible with input_signature: \n",
    "#inputs (([[1], [2]], [[2], [4]], [[3], [6]])), input_signature \n",
    "#((TensorSpec(shape=(None,), dtype=tf.int32, name=None), \n",
    "#  TensorSpec(shape=(None,), dtype=tf.int32, name=None), \n",
    "#  TensorSpec(shape=(None,), dtype=tf.int32, name=None)))"
   ]
  },
  {
   "cell_type": "code",
   "execution_count": 9,
   "metadata": {},
   "outputs": [
    {
     "data": {
      "text/plain": [
       "TensorSpec(shape=(None,), dtype=tf.int32, name=None)"
      ]
     },
     "execution_count": 9,
     "metadata": {},
     "output_type": "execute_result"
    }
   ],
   "source": [
    "tf.TensorSpec(shape=[None], dtype=tf.int32)"
   ]
  },
  {
   "cell_type": "markdown",
   "metadata": {},
   "source": [
    "## Variables"
   ]
  },
  {
   "cell_type": "code",
   "execution_count": 8,
   "metadata": {},
   "outputs": [
    {
     "name": "stdout",
     "output_type": "stream",
     "text": [
      "<tf.Variable 'var_a:0' shape=() dtype=float32, numpy=3.14>\n",
      "<tf.Variable 'var_b:0' shape=(3,) dtype=int32, numpy=array([1, 2, 3], dtype=int32)>\n",
      "<tf.Variable 'Variable:0' shape=(2,) dtype=bool, numpy=array([ True, False])>\n",
      "<tf.Variable 'Variable:0' shape=(1,) dtype=string, numpy=array([b'abc'], dtype=object)>\n"
     ]
    }
   ],
   "source": [
    "a = tf.Variable(initial_value=3.14, name='var_a')\n",
    "b = tf.Variable(initial_value=[1, 2, 3], name='var_b')\n",
    "c = tf.Variable(initial_value=[True, False], dtype=tf.bool)\n",
    "d = tf.Variable(initial_value=[\"abc\"], dtype=tf.string)\n",
    "print(a)\n",
    "print(b)\n",
    "print(c)\n",
    "print(d)"
   ]
  },
  {
   "cell_type": "code",
   "execution_count": 9,
   "metadata": {},
   "outputs": [
    {
     "data": {
      "text/plain": [
       "True"
      ]
     },
     "execution_count": 9,
     "metadata": {},
     "output_type": "execute_result"
    }
   ],
   "source": [
    "a.trainable"
   ]
  },
  {
   "cell_type": "code",
   "execution_count": 10,
   "metadata": {},
   "outputs": [
    {
     "name": "stdout",
     "output_type": "stream",
     "text": [
      "False\n"
     ]
    }
   ],
   "source": [
    "w = tf.Variable([1, 2, 3], trainable=False)\n",
    "\n",
    "print(w.trainable)"
   ]
  },
  {
   "cell_type": "code",
   "execution_count": 12,
   "metadata": {},
   "outputs": [
    {
     "name": "stdout",
     "output_type": "stream",
     "text": [
      "<tf.Variable 'UnreadVariable' shape=(3,) dtype=int32, numpy=array([3, 1, 4], dtype=int32)>\n",
      "tf.Tensor([5 0 6], shape=(3,), dtype=int32)\n"
     ]
    }
   ],
   "source": [
    "print(w.assign([3, 1, 4], read_value=True))\n",
    "w.assign_add([2, -1, 2], read_value=False)\n",
    "\n",
    "print(w.value())"
   ]
  },
  {
   "cell_type": "code",
   "execution_count": 17,
   "metadata": {},
   "outputs": [
    {
     "name": "stdout",
     "output_type": "stream",
     "text": [
      "[-0.722795904 1.01456821 0.251808226]\n"
     ]
    }
   ],
   "source": [
    "tf.random.set_seed(1)\n",
    "init = tf.keras.initializers.GlorotNormal()\n",
    "\n",
    "tf.print(init(shape=(3,)))"
   ]
  },
  {
   "cell_type": "code",
   "execution_count": 18,
   "metadata": {},
   "outputs": [
    {
     "name": "stdout",
     "output_type": "stream",
     "text": [
      "[[0.28982234 -0.782292783 -0.0453658961]\n",
      " [0.960991383 -0.120003454 0.708528221]]\n"
     ]
    }
   ],
   "source": [
    "v = tf.Variable(init(shape=(2, 3)))\n",
    "tf.print(v)"
   ]
  },
  {
   "cell_type": "code",
   "execution_count": 19,
   "metadata": {
    "scrolled": true
   },
   "outputs": [
    {
     "name": "stdout",
     "output_type": "stream",
     "text": [
      "All module variables:  [TensorShape([2, 3]), TensorShape([1, 2])]\n",
      "Trainable variable:    [TensorShape([2, 3])]\n"
     ]
    }
   ],
   "source": [
    "class MyModule(tf.Module):\n",
    "    def __init__(self):\n",
    "        init = tf.keras.initializers.GlorotNormal()\n",
    "        self.w1 = tf.Variable(init(shape=(2, 3)), trainable=True)\n",
    "        self.w2 = tf.Variable(init(shape=(1, 2)), trainable=False)\n",
    "                \n",
    "m = MyModule()\n",
    "print('All module variables: ', [v.shape for v in m.variables])\n",
    "print('Trainable variable:   ', [v.shape for v in\n",
    "                                 m.trainable_variables])\n"
   ]
  },
  {
   "cell_type": "markdown",
   "metadata": {},
   "source": [
    "### Variables with tf.function"
   ]
  },
  {
   "cell_type": "code",
   "execution_count": null,
   "metadata": {},
   "outputs": [],
   "source": [
    "## this will produce an error\n",
    "## ==> you cannot create a varibale inside a\n",
    "##     decorated function\n",
    "\n",
    "@tf.function\n",
    "def f(x):\n",
    "    w = tf.Variable([1, 2, 3])\n",
    "\n",
    "f([1])\n",
    "\n",
    "## ==> results in error\n",
    "## ValueError: tf.function-decorated function tried to create variables on non-first call."
   ]
  },
  {
   "cell_type": "code",
   "execution_count": 24,
   "metadata": {},
   "outputs": [
    {
     "name": "stdout",
     "output_type": "stream",
     "text": [
      "[[2.62276983]\n",
      " [3.40736914]\n",
      " [3.00806189]]\n"
     ]
    }
   ],
   "source": [
    "import tensorflow as tf\n",
    "\n",
    "#tf.random.set_seed(1)\n",
    "w = tf.Variable(tf.random.uniform((3, 3)))\n",
    "\n",
    "@tf.function\n",
    "def compute_z(x):    \n",
    "    return tf.matmul(w, x)\n",
    "\n",
    "x = tf.constant([[1], [2], [3]], dtype=tf.float32)\n",
    "tf.print(compute_z(x))"
   ]
  },
  {
   "cell_type": "markdown",
   "metadata": {},
   "source": [
    "## Computing gradients\n",
    "\n",
    "### GradientTape"
   ]
  },
  {
   "cell_type": "code",
   "execution_count": 25,
   "metadata": {},
   "outputs": [
    {
     "name": "stdout",
     "output_type": "stream",
     "text": [
      "True True\n",
      "dL/dw :  -0.559999764\n"
     ]
    }
   ],
   "source": [
    "import tensorflow as tf\n",
    "\n",
    "w = tf.Variable(1.0)\n",
    "b = tf.Variable(0.5)\n",
    "print(w.trainable, b.trainable)\n",
    "\n",
    "x = tf.convert_to_tensor([1.4])\n",
    "y = tf.convert_to_tensor([2.1])\n",
    "\n",
    "with tf.GradientTape() as tape:\n",
    "    z = tf.add(tf.multiply(w, x), b)\n",
    "    loss = tf.reduce_sum(tf.square(y - z))\n",
    "\n",
    "dloss_dw = tape.gradient(loss, w)\n",
    "\n",
    "tf.print('dL/dw : ', dloss_dw)"
   ]
  },
  {
   "cell_type": "code",
   "execution_count": 26,
   "metadata": {},
   "outputs": [
    {
     "name": "stdout",
     "output_type": "stream",
     "text": [
      "[-0.559999764]\n"
     ]
    }
   ],
   "source": [
    "# verifying the computed gradient\n",
    "tf.print(2*x*(w*x+b-y))"
   ]
  },
  {
   "cell_type": "markdown",
   "metadata": {},
   "source": [
    "### Gradients of non-variables: `tape.watch()`"
   ]
  },
  {
   "cell_type": "code",
   "execution_count": 27,
   "metadata": {},
   "outputs": [
    {
     "name": "stdout",
     "output_type": "stream",
     "text": [
      "dL/dx :  [-0.399999857]\n"
     ]
    }
   ],
   "source": [
    "\n",
    "with tf.GradientTape() as tape:\n",
    "    tape.watch(x)\n",
    "    z = tf.add(tf.multiply(w, x), b)\n",
    "    loss = tf.square(y - z)\n",
    "\n",
    "dloss_dx = tape.gradient(loss, x)\n",
    "\n",
    "tf.print('dL/dx : ', dloss_dx)"
   ]
  },
  {
   "cell_type": "code",
   "execution_count": 28,
   "metadata": {},
   "outputs": [
    {
     "name": "stdout",
     "output_type": "stream",
     "text": [
      "[-0.399999857]\n"
     ]
    }
   ],
   "source": [
    "# verifying the computed gradient\n",
    "tf.print(2*w*(w*x+b-y))"
   ]
  },
  {
   "cell_type": "markdown",
   "metadata": {},
   "source": [
    "### Multiple gradients in one forward call `persistent=True`"
   ]
  },
  {
   "cell_type": "code",
   "execution_count": 29,
   "metadata": {},
   "outputs": [
    {
     "name": "stdout",
     "output_type": "stream",
     "text": [
      "dL/dw :  -0.559999764\n",
      "dL/db :  -0.399999857\n"
     ]
    }
   ],
   "source": [
    "with tf.GradientTape(persistent=True) as tape:\n",
    "    z = tf.add(tf.multiply(w, x), b)\n",
    "    loss = tf.reduce_sum(tf.square(y - z))\n",
    "\n",
    "dloss_dw = tape.gradient(loss, w)\n",
    "dloss_db = tape.gradient(loss, b)\n",
    "\n",
    "tf.print('dL/dw : ', dloss_dw)\n",
    "tf.print('dL/db : ', dloss_db)"
   ]
  },
  {
   "cell_type": "markdown",
   "metadata": {},
   "source": [
    "### Updating variables: `optimizer.apply_gradients()`"
   ]
  },
  {
   "cell_type": "code",
   "execution_count": 30,
   "metadata": {},
   "outputs": [
    {
     "name": "stdout",
     "output_type": "stream",
     "text": [
      "Updated w:  1.0056\n",
      "Updated bias:  0.504\n"
     ]
    }
   ],
   "source": [
    "optimizer = tf.keras.optimizers.SGD()\n",
    "\n",
    "optimizer.apply_gradients(zip([dloss_dw, dloss_db], [w, b]))\n",
    "\n",
    "tf.print('Updated w: ', w)\n",
    "tf.print('Updated bias: ', b)"
   ]
  },
  {
   "cell_type": "markdown",
   "metadata": {},
   "source": [
    "## Keras API"
   ]
  },
  {
   "cell_type": "code",
   "execution_count": 1,
   "metadata": {},
   "outputs": [
    {
     "name": "stdout",
     "output_type": "stream",
     "text": [
      "Model: \"sequential\"\n",
      "_________________________________________________________________\n",
      "Layer (type)                 Output Shape              Param #   \n",
      "=================================================================\n",
      "dense (Dense)                multiple                  80        \n",
      "_________________________________________________________________\n",
      "dense_1 (Dense)              multiple                  544       \n",
      "=================================================================\n",
      "Total params: 624\n",
      "Trainable params: 624\n",
      "Non-trainable params: 0\n",
      "_________________________________________________________________\n"
     ]
    }
   ],
   "source": [
    "import tensorflow as tf\n",
    "\n",
    "model = tf.keras.Sequential()\n",
    "model.add(tf.keras.layers.Dense(16, activation='relu'))\n",
    "model.add(tf.keras.layers.Dense(32, activation='relu'))\n",
    "\n",
    "## late variable creation\n",
    "model.build(input_shape=(None, 4))\n",
    "model.summary()\n"
   ]
  },
  {
   "cell_type": "code",
   "execution_count": 2,
   "metadata": {},
   "outputs": [
    {
     "name": "stdout",
     "output_type": "stream",
     "text": [
      "dense/kernel:0       True (4, 16)\n",
      "dense/bias:0         True (16,)\n",
      "dense_1/kernel:0     True (16, 32)\n",
      "dense_1/bias:0       True (32,)\n"
     ]
    }
   ],
   "source": [
    "\n",
    "## printing variables of the model\n",
    "for v in model.variables:\n",
    "    print('{:20s}'.format(v.name), v.trainable, v.shape)"
   ]
  },
  {
   "cell_type": "markdown",
   "metadata": {},
   "source": [
    "### Configuring layers\n",
    "\n",
    " * Keras Initializers `tf.keras.initializers`: https://www.tensorflow.org/versions/r2.0/api_docs/python/tf/keras/initializers  \n",
    " * Keras Regularizers `tf.keras.regularizers`: https://www.tensorflow.org/versions/r2.0/api_docs/python/tf/keras/regularizers  \n",
    " * Activations `tf.keras.activations`: https://www.tensorflow.org/versions/r2.0/api_docs/python/tf/keras/activations  "
   ]
  },
  {
   "cell_type": "code",
   "execution_count": 3,
   "metadata": {},
   "outputs": [
    {
     "name": "stdout",
     "output_type": "stream",
     "text": [
      "Model: \"sequential_1\"\n",
      "_________________________________________________________________\n",
      "Layer (type)                 Output Shape              Param #   \n",
      "=================================================================\n",
      "dense_2 (Dense)              multiple                  80        \n",
      "_________________________________________________________________\n",
      "dense_3 (Dense)              multiple                  544       \n",
      "=================================================================\n",
      "Total params: 624\n",
      "Trainable params: 624\n",
      "Non-trainable params: 0\n",
      "_________________________________________________________________\n"
     ]
    }
   ],
   "source": [
    "model = tf.keras.Sequential()\n",
    "\n",
    "model.add(\n",
    "    tf.keras.layers.Dense(\n",
    "        units=16, \n",
    "        activation=tf.keras.activations.relu,\n",
    "        kernel_initializer=tf.keras.initializers.GlorotNormal(),\n",
    "        bias_initializer=tf.keras.initializers.Constant(2.0)\n",
    "    ))\n",
    "\n",
    "model.add(\n",
    "    tf.keras.layers.Dense(\n",
    "        units=32, \n",
    "        activation=tf.keras.activations.sigmoid,\n",
    "        kernel_regularizer=tf.keras.regularizers.l1\n",
    "    ))\n",
    "\n",
    "model.build(input_shape=(None, 4))\n",
    "model.summary()"
   ]
  },
  {
   "cell_type": "markdown",
   "metadata": {},
   "source": [
    "### Compiling a model\n",
    "\n",
    " * Keras Optimizers `tf.keras.optimizers`:  https://www.tensorflow.org/versions/r2.0/api_docs/python/tf/keras/optimizers\n",
    " * Keras Loss Functins `tf.keras.losses`: https://www.tensorflow.org/versions/r2.0/api_docs/python/tf/keras/losses\n",
    " * Keras Metrics `tf.keras.metrics`: https://www.tensorflow.org/versions/r2.0/api_docs/python/tf/keras/metrics"
   ]
  },
  {
   "cell_type": "code",
   "execution_count": 4,
   "metadata": {},
   "outputs": [],
   "source": [
    "model.compile(\n",
    "    optimizer=tf.keras.optimizers.SGD(learning_rate=0.001),\n",
    "    loss=tf.keras.losses.BinaryCrossentropy(),\n",
    "    metrics=[tf.keras.metrics.Accuracy(), \n",
    "             tf.keras.metrics.Precision(),\n",
    "             tf.keras.metrics.Recall(),])"
   ]
  },
  {
   "cell_type": "markdown",
   "metadata": {},
   "source": [
    "## XOR-example"
   ]
  },
  {
   "cell_type": "code",
   "execution_count": 1,
   "metadata": {},
   "outputs": [
    {
     "data": {
      "image/png": "[encoded data removed]",
      "text/plain": [
       "<Figure size 432x432 with 1 Axes>"
      ]
     },
     "metadata": {
      "needs_background": "light"
     },
     "output_type": "display_data"
    }
   ],
   "source": [
    "import tensorflow as tf\n",
    "import numpy as np\n",
    "import matplotlib.pyplot as plt\n",
    "%matplotlib inline\n",
    "\n",
    "tf.random.set_seed(1)\n",
    "np.random.seed(1)\n",
    "\n",
    "x = np.random.uniform(low=-1, high=1, size=(200, 2))\n",
    "y = np.ones(len(x))\n",
    "y[x[:, 0] * x[:, 1]<0] = 0\n",
    "\n",
    "x_train = x[:100, :]\n",
    "y_train = y[:100]\n",
    "x_valid = x[100:, :]\n",
    "y_valid = y[100:]\n",
    "\n",
    "fig = plt.figure(figsize=(6, 6))\n",
    "plt.plot(x[y==0, 0], \n",
    "         x[y==0, 1], 'o', alpha=0.75, markersize=10)\n",
    "plt.plot(x[y==1, 0], \n",
    "         x[y==1, 1], '<', alpha=0.75, markersize=10)\n",
    "plt.xlabel(r'$x_1$', size=15)\n",
    "plt.ylabel(r'$x_2$', size=15)\n",
    "plt.show()"
   ]
  },
  {
   "cell_type": "code",
   "execution_count": 2,
   "metadata": {},
   "outputs": [
    {
     "name": "stdout",
     "output_type": "stream",
     "text": [
      "Model: \"sequential\"\n",
      "_________________________________________________________________\n",
      "Layer (type)                 Output Shape              Param #   \n",
      "=================================================================\n",
      "dense (Dense)                (None, 1)                 3         \n",
      "=================================================================\n",
      "Total params: 3\n",
      "Trainable params: 3\n",
      "Non-trainable params: 0\n",
      "_________________________________________________________________\n"
     ]
    }
   ],
   "source": [
    "model = tf.keras.Sequential()\n",
    "model.add(tf.keras.layers.Dense(1, input_shape=(2,), \n",
    "                                activation='sigmoid'))\n",
    "\n",
    "model.summary()"
   ]
  },
  {
   "cell_type": "code",
   "execution_count": 3,
   "metadata": {},
   "outputs": [],
   "source": [
    "model.compile(optimizer=tf.keras.optimizers.SGD(),\n",
    "              loss=tf.keras.losses.BinaryCrossentropy(),\n",
    "              metrics=[tf.keras.metrics.BinaryAccuracy()])"
   ]
  },
  {
   "cell_type": "code",
   "execution_count": 4,
   "metadata": {},
   "outputs": [],
   "source": [
    "hist = model.fit(x_train, y_train, \n",
    "                 validation_data=(x_valid, y_valid), \n",
    "                 epochs=200, batch_size=2, verbose=0)"
   ]
  },
  {
   "cell_type": "code",
   "execution_count": 5,
   "metadata": {},
   "outputs": [
    {
     "data": {
      "image/png": "[encoded data removed]",
      "text/plain": [
       "<Figure size 1152x288 with 3 Axes>"
      ]
     },
     "metadata": {
      "needs_background": "light"
     },
     "output_type": "display_data"
    }
   ],
   "source": [
    "from mlxtend.plotting import plot_decision_regions\n",
    "\n",
    "history = hist.history\n",
    "\n",
    "fig = plt.figure(figsize=(16, 4))\n",
    "ax = fig.add_subplot(1, 3, 1)\n",
    "plt.plot(history['loss'], lw=4)\n",
    "plt.plot(history['val_loss'], lw=4)\n",
    "plt.legend(['Train loss', 'Validation loss'], fontsize=15)\n",
    "ax.set_xlabel('Epochs', size=15)\n",
    "\n",
    "ax = fig.add_subplot(1, 3, 2)\n",
    "plt.plot(history['binary_accuracy'], lw=4)\n",
    "plt.plot(history['val_binary_accuracy'], lw=4)\n",
    "plt.legend(['Train Acc.', 'Validation Acc.'], fontsize=15)\n",
    "ax.set_xlabel('Epochs', size=15)\n",
    "\n",
    "ax = fig.add_subplot(1, 3, 3)\n",
    "plot_decision_regions(X=x_valid, y=y_valid.astype(np.integer),\n",
    "                      clf=model)\n",
    "ax.set_xlabel(r'$x_1$', size=15)\n",
    "ax.xaxis.set_label_coords(1, -0.025)\n",
    "ax.set_ylabel(r'$x_2$', size=15)\n",
    "ax.yaxis.set_label_coords(-0.025, 1)\n",
    "plt.show()"
   ]
  },
  {
   "cell_type": "code",
   "execution_count": 6,
   "metadata": {},
   "outputs": [
    {
     "name": "stdout",
     "output_type": "stream",
     "text": [
      "Model: \"sequential_1\"\n",
      "_________________________________________________________________\n",
      "Layer (type)                 Output Shape              Param #   \n",
      "=================================================================\n",
      "dense_1 (Dense)              (None, 4)                 12        \n",
      "_________________________________________________________________\n",
      "dense_2 (Dense)              (None, 4)                 20        \n",
      "_________________________________________________________________\n",
      "dense_3 (Dense)              (None, 4)                 20        \n",
      "_________________________________________________________________\n",
      "dense_4 (Dense)              (None, 1)                 5         \n",
      "=================================================================\n",
      "Total params: 57\n",
      "Trainable params: 57\n",
      "Non-trainable params: 0\n",
      "_________________________________________________________________\n"
     ]
    }
   ],
   "source": [
    "tf.random.set_seed(1)\n",
    "\n",
    "model = tf.keras.Sequential()\n",
    "model.add(tf.keras.layers.Dense(4, input_shape=(2,), activation='relu'))\n",
    "model.add(tf.keras.layers.Dense(4, activation='relu'))\n",
    "model.add(tf.keras.layers.Dense(4, activation='relu'))\n",
    "model.add(tf.keras.layers.Dense(1, activation='sigmoid'))\n",
    "\n",
    "model.summary()\n",
    "\n",
    "## compile:\n",
    "model.compile(optimizer=tf.keras.optimizers.SGD(),\n",
    "              loss=tf.keras.losses.BinaryCrossentropy(),\n",
    "              metrics=[tf.keras.metrics.BinaryAccuracy()])\n",
    "\n",
    "## train:\n",
    "hist = model.fit(x_train, y_train, \n",
    "                 validation_data=(x_valid, y_valid), \n",
    "                 epochs=200, batch_size=2, verbose=0)"
   ]
  },
  {
   "cell_type": "code",
   "execution_count": 7,
   "metadata": {},
   "outputs": [
    {
     "data": {
      "image/png": "[encoded data removed]",
      "text/plain": [
       "<Figure size 1152x288 with 3 Axes>"
      ]
     },
     "metadata": {
      "needs_background": "light"
     },
     "output_type": "display_data"
    }
   ],
   "source": [
    "history = hist.history\n",
    "\n",
    "from mlxtend.plotting import plot_decision_regions\n",
    "\n",
    "fig = plt.figure(figsize=(16, 4))\n",
    "ax = fig.add_subplot(1, 3, 1)\n",
    "plt.plot(history['loss'], lw=4)\n",
    "plt.plot(history['val_loss'], lw=4)\n",
    "plt.legend(['Train loss', 'Validation loss'], fontsize=15)\n",
    "ax.set_xlabel('Epochs', size=15)\n",
    "\n",
    "ax = fig.add_subplot(1, 3, 2)\n",
    "plt.plot(history['binary_accuracy'], lw=4)\n",
    "plt.plot(history['val_binary_accuracy'], lw=4)\n",
    "plt.legend(['Train Acc.', 'Validation Acc.'], fontsize=15)\n",
    "ax.set_xlabel('Epochs', size=15)\n",
    "\n",
    "ax = fig.add_subplot(1, 3, 3)\n",
    "plot_decision_regions(X=x_valid, y=y_valid.astype(np.integer),\n",
    "                      clf=model)\n",
    "ax.set_xlabel(r'$x_1$', size=15)\n",
    "ax.xaxis.set_label_coords(1, -0.025)\n",
    "ax.set_ylabel(r'$x_2$', size=15)\n",
    "ax.yaxis.set_label_coords(-0.025, 1)\n",
    "plt.show()"
   ]
  },
  {
   "cell_type": "markdown",
   "metadata": {},
   "source": [
    "## Building complex models \n",
    "\n",
    "### Using Keras functional API\n",
    "\n",
    " * For building mroe complex models, with multiple inputs, multiple outputs,, fusion, etc."
   ]
  },
  {
   "cell_type": "code",
   "execution_count": 8,
   "metadata": {},
   "outputs": [
    {
     "name": "stdout",
     "output_type": "stream",
     "text": [
      "Model: \"model\"\n",
      "_________________________________________________________________\n",
      "Layer (type)                 Output Shape              Param #   \n",
      "=================================================================\n",
      "input_1 (InputLayer)         [(None, 2)]               0         \n",
      "_________________________________________________________________\n",
      "dense_5 (Dense)              (None, 4)                 12        \n",
      "_________________________________________________________________\n",
      "dense_6 (Dense)              (None, 4)                 20        \n",
      "_________________________________________________________________\n",
      "dense_7 (Dense)              (None, 4)                 20        \n",
      "_________________________________________________________________\n",
      "dense_8 (Dense)              (None, 1)                 5         \n",
      "=================================================================\n",
      "Total params: 57\n",
      "Trainable params: 57\n",
      "Non-trainable params: 0\n",
      "_________________________________________________________________\n"
     ]
    }
   ],
   "source": [
    "tf.random.set_seed(1)\n",
    "\n",
    "## input layer:\n",
    "inputs = tf.keras.Input(shape=(2,))\n",
    "\n",
    "## hidden layers\n",
    "h1 = tf.keras.layers.Dense(4, activation='relu')(inputs)\n",
    "h2 = tf.keras.layers.Dense(4, activation='relu')(h1)\n",
    "h3 = tf.keras.layers.Dense(4, activation='relu')(h2)\n",
    "\n",
    "## output:\n",
    "outputs = tf.keras.layers.Dense(1, activation='sigmoid')(h3)\n",
    "\n",
    "## construct a model:\n",
    "model = tf.keras.Model(inputs=inputs, outputs=outputs)\n",
    "\n",
    "model.summary()"
   ]
  },
  {
   "cell_type": "code",
   "execution_count": 9,
   "metadata": {},
   "outputs": [
    {
     "data": {
      "image/png": "[encoded data removed]",
      "text/plain": [
       "<Figure size 1152x288 with 3 Axes>"
      ]
     },
     "metadata": {
      "needs_background": "light"
     },
     "output_type": "display_data"
    }
   ],
   "source": [
    "## compile:\n",
    "model.compile(optimizer=tf.keras.optimizers.SGD(),\n",
    "              loss=tf.keras.losses.BinaryCrossentropy(),\n",
    "              metrics=[tf.keras.metrics.BinaryAccuracy()])\n",
    "\n",
    "## train:\n",
    "hist = model.fit(x_train, y_train, \n",
    "                 validation_data=(x_valid, y_valid), \n",
    "                 epochs=200, batch_size=2, verbose=0)\n",
    "\n",
    "## Plotting\n",
    "history = hist.history\n",
    "\n",
    "from mlxtend.plotting import plot_decision_regions\n",
    "\n",
    "fig = plt.figure(figsize=(16, 4))\n",
    "ax = fig.add_subplot(1, 3, 1)\n",
    "plt.plot(history['loss'], lw=4)\n",
    "plt.plot(history['val_loss'], lw=4)\n",
    "plt.legend(['Train loss', 'Validation loss'], fontsize=15)\n",
    "ax.set_xlabel('Epochs', size=15)\n",
    "\n",
    "ax = fig.add_subplot(1, 3, 2)\n",
    "plt.plot(history['binary_accuracy'], lw=4)\n",
    "plt.plot(history['val_binary_accuracy'], lw=4)\n",
    "plt.legend(['Train Acc.', 'Validation Acc.'], fontsize=15)\n",
    "ax.set_xlabel('Epochs', size=15)\n",
    "\n",
    "ax = fig.add_subplot(1, 3, 3)\n",
    "plot_decision_regions(X=x_valid, y=y_valid.astype(np.integer),\n",
    "                      clf=model)\n",
    "ax.set_xlabel(r'$x_1$', size=15)\n",
    "ax.xaxis.set_label_coords(1, -0.025)\n",
    "ax.set_ylabel(r'$x_2$', size=15)\n",
    "ax.yaxis.set_label_coords(-0.025, 1)\n",
    "plt.show()"
   ]
  },
  {
   "cell_type": "markdown",
   "metadata": {},
   "source": [
    "### Subclassing `tf.keras.Model`\n",
    "\n",
    " * define `__init__()`\n",
    " * define `call()`"
   ]
  },
  {
   "cell_type": "code",
   "execution_count": 26,
   "metadata": {},
   "outputs": [
    {
     "name": "stdout",
     "output_type": "stream",
     "text": [
      "Model: \"my_model\"\n",
      "_________________________________________________________________\n",
      "Layer (type)                 Output Shape              Param #   \n",
      "=================================================================\n",
      "dense_17 (Dense)             multiple                  12        \n",
      "_________________________________________________________________\n",
      "dense_18 (Dense)             multiple                  20        \n",
      "_________________________________________________________________\n",
      "dense_19 (Dense)             multiple                  20        \n",
      "_________________________________________________________________\n",
      "dense_20 (Dense)             multiple                  5         \n",
      "=================================================================\n",
      "Total params: 57\n",
      "Trainable params: 57\n",
      "Non-trainable params: 0\n",
      "_________________________________________________________________\n"
     ]
    },
    {
     "data": {
      "image/png": "[encoded data removed]",
      "text/plain": [
       "<Figure size 1152x288 with 3 Axes>"
      ]
     },
     "metadata": {
      "needs_background": "light"
     },
     "output_type": "display_data"
    }
   ],
   "source": [
    "class MyModel(tf.keras.Model):\n",
    "    def __init__(self):\n",
    "        super(MyModel, self).__init__()\n",
    "        self.hidden_1 = tf.keras.layers.Dense(4, activation='relu')\n",
    "        self.hidden_2 = tf.keras.layers.Dense(4, activation='relu')\n",
    "        self.hidden_3 = tf.keras.layers.Dense(4, activation='relu')\n",
    "        self.outputs = tf.keras.layers.Dense(1, activation='sigmoid')\n",
    "        \n",
    "    def call(self, inputs):\n",
    "        h = self.hidden_1(inputs)\n",
    "        h = self.hidden_2(h)\n",
    "        h = self.hidden_3(h)\n",
    "        return self.outputs(h)\n",
    "    \n",
    "tf.random.set_seed(1)\n",
    "\n",
    "## testing:\n",
    "model = MyModel()\n",
    "model.build(input_shape=(None, 2))\n",
    "\n",
    "model.summary()\n",
    "\n",
    "## compile:\n",
    "model.compile(optimizer=tf.keras.optimizers.SGD(),\n",
    "              loss=tf.keras.losses.BinaryCrossentropy(),\n",
    "              metrics=[tf.keras.metrics.BinaryAccuracy()])\n",
    "\n",
    "## train:\n",
    "hist = model.fit(x_train, y_train, \n",
    "                 validation_data=(x_valid, y_valid), \n",
    "                 epochs=200, batch_size=2, verbose=0)\n",
    "\n",
    "## Plotting\n",
    "history = hist.history\n",
    "\n",
    "from mlxtend.plotting import plot_decision_regions\n",
    "\n",
    "fig = plt.figure(figsize=(16, 4))\n",
    "ax = fig.add_subplot(1, 3, 1)\n",
    "plt.plot(history['loss'], lw=4)\n",
    "plt.plot(history['val_loss'], lw=4)\n",
    "plt.legend(['Train loss', 'Validation loss'], fontsize=15)\n",
    "ax.set_xlabel('Epochs', size=15)\n",
    "\n",
    "ax = fig.add_subplot(1, 3, 2)\n",
    "plt.plot(history['binary_accuracy'], lw=4)\n",
    "plt.plot(history['val_binary_accuracy'], lw=4)\n",
    "plt.legend(['Train Acc.', 'Validation Acc.'], fontsize=15)\n",
    "ax.set_xlabel('Epochs', size=15)\n",
    "\n",
    "ax = fig.add_subplot(1, 3, 3)\n",
    "plot_decision_regions(X=x_valid, y=y_valid.astype(np.integer),\n",
    "                      clf=model)\n",
    "ax.set_xlabel(r'$x_1$', size=15)\n",
    "ax.xaxis.set_label_coords(1, -0.025)\n",
    "ax.set_ylabel(r'$x_2$', size=15)\n",
    "ax.yaxis.set_label_coords(-0.025, 1)\n",
    "plt.show()"
   ]
  },
  {
   "cell_type": "code",
   "execution_count": null,
   "metadata": {},
   "outputs": [],
   "source": [
    "model.get_config()"
   ]
  },
  {
   "cell_type": "markdown",
   "metadata": {},
   "source": [
    "### Customizing Keras Layers\n",
    "\n",
    " * Define `__init__()`\n",
    " * Define `build()` for late-variable creation\n",
    " * Define `call()`\n",
    " * Define `get_config()` for serialization"
   ]
  },
  {
   "cell_type": "code",
   "execution_count": 2,
   "metadata": {},
   "outputs": [
    {
     "name": "stdout",
     "output_type": "stream",
     "text": [
      "[[0 0.00821428 0 0]]\n",
      "[[0 0.0108502861 0 0]]\n"
     ]
    }
   ],
   "source": [
    "import tensorflow as tf\n",
    "\n",
    "class NoisyLinear(tf.keras.layers.Layer):\n",
    "    def __init__(self, output_dim, noise_stddev=0.1, **kwargs):\n",
    "        self.output_dim = output_dim\n",
    "        self.noise_stddev = noise_stddev\n",
    "        super(NoisyLinear, self).__init__(**kwargs)\n",
    "\n",
    "    def build(self, input_shape):\n",
    "        self.w = self.add_weight(name='weights',\n",
    "                                 shape=(input_shape[1], self.output_dim),\n",
    "                                 initializer='random_normal',\n",
    "                                 trainable=True)\n",
    "        \n",
    "        self.b = self.add_weight(shape=(self.output_dim,),\n",
    "                                 initializer='zeros',\n",
    "                                 trainable=True)\n",
    "\n",
    "    def call(self, inputs, training=None):\n",
    "        if training:\n",
    "            batch = tf.shape(inputs)[0]\n",
    "            dim = tf.shape(inputs)[1]\n",
    "            noise = tf.random.normal(shape=(batch, dim),\n",
    "                                     mean=0.0,\n",
    "                                     stddev=self.noise_stddev)\n",
    "\n",
    "            noisy_inputs = tf.add(inputs, noise)\n",
    "        else:\n",
    "            noisy_inputs = inputs\n",
    "        z = tf.matmul(noisy_inputs, self.w) + self.b\n",
    "        return tf.keras.activations.relu(z)\n",
    "    \n",
    "    def get_config(self):\n",
    "        config = super(NoisyLinear, self).get_config()\n",
    "        config.update({'output_dim': self.output_dim,\n",
    "                       'noise_stddev': self.noise_stddev})\n",
    "        return config\n",
    "\n",
    "\n",
    "## testing:\n",
    "\n",
    "tf.random.set_seed(1)\n",
    "\n",
    "noisy_layer = NoisyLinear(4)\n",
    "noisy_layer.build(input_shape=(None, 4))\n",
    "\n",
    "x = tf.zeros(shape=(1, 4))\n",
    "tf.print(noisy_layer(x, training=True))\n",
    "\n",
    "## re-building from config:\n",
    "config = noisy_layer.get_config()\n",
    "new_layer = NoisyLinear.from_config(config)\n",
    "tf.print(new_layer(x, training=True))"
   ]
  },
  {
   "cell_type": "code",
   "execution_count": 3,
   "metadata": {},
   "outputs": [
    {
     "name": "stderr",
     "output_type": "stream",
     "text": [
      "WARNING: Logging before flag parsing goes to stderr.\n",
      "W0711 10:30:12.170183 140034806978304 deprecation.py:323] From /home/vahid/anaconda3/envs/tf2.0-beta/lib/python3.7/site-packages/tensorflow/python/ops/math_grad.py:1250: add_dispatch_support.<locals>.wrapper (from tensorflow.python.ops.array_ops) is deprecated and will be removed in a future version.\n",
      "Instructions for updating:\n",
      "Use tf.where in 2.0, which has the same broadcast rule as np.where\n"
     ]
    },
    {
     "name": "stdout",
     "output_type": "stream",
     "text": [
      "Model: \"sequential\"\n",
      "_________________________________________________________________\n",
      "Layer (type)                 Output Shape              Param #   \n",
      "=================================================================\n",
      "noisy_linear_1 (NoisyLinear) multiple                  12        \n",
      "_________________________________________________________________\n",
      "dense (Dense)                multiple                  20        \n",
      "_________________________________________________________________\n",
      "dense_1 (Dense)              multiple                  20        \n",
      "_________________________________________________________________\n",
      "dense_2 (Dense)              multiple                  5         \n",
      "=================================================================\n",
      "Total params: 57\n",
      "Trainable params: 57\n",
      "Non-trainable params: 0\n",
      "_________________________________________________________________\n"
     ]
    },
    {
     "data": {
      "image/png": "[encoded data removed]",
      "text/plain": [
       "<Figure size 1152x288 with 3 Axes>"
      ]
     },
     "metadata": {
      "needs_background": "light"
     },
     "output_type": "display_data"
    }
   ],
   "source": [
    "tf.random.set_seed(1)\n",
    "\n",
    "model = tf.keras.Sequential([\n",
    "    NoisyLinear(4, noise_stddev=0.1),\n",
    "    tf.keras.layers.Dense(4, activation='relu'),\n",
    "    tf.keras.layers.Dense(4, activation='relu'),\n",
    "    tf.keras.layers.Dense(1, activation='sigmoid')])\n",
    "\n",
    "model.build(input_shape=(None, 2))\n",
    "model.summary()\n",
    "\n",
    "## compile:\n",
    "model.compile(optimizer=tf.keras.optimizers.SGD(),\n",
    "              loss=tf.keras.losses.BinaryCrossentropy(),\n",
    "              metrics=[tf.keras.metrics.BinaryAccuracy()])\n",
    "\n",
    "## train:\n",
    "hist = model.fit(x_train, y_train, \n",
    "                 validation_data=(x_valid, y_valid), \n",
    "                 epochs=200, batch_size=2, \n",
    "                 verbose=0)\n",
    "\n",
    "## Plotting\n",
    "history = hist.history\n",
    "\n",
    "from mlxtend.plotting import plot_decision_regions\n",
    "\n",
    "fig = plt.figure(figsize=(16, 4))\n",
    "ax = fig.add_subplot(1, 3, 1)\n",
    "plt.plot(history['loss'], lw=4)\n",
    "plt.plot(history['val_loss'], lw=4)\n",
    "plt.legend(['Train loss', 'Validation loss'], fontsize=15)\n",
    "ax.set_xlabel('Epochs', size=15)\n",
    "\n",
    "ax = fig.add_subplot(1, 3, 2)\n",
    "plt.plot(history['binary_accuracy'], lw=4)\n",
    "plt.plot(history['val_binary_accuracy'], lw=4)\n",
    "plt.legend(['Train Acc.', 'Validation Acc.'], fontsize=15)\n",
    "ax.set_xlabel('Epochs', size=15)\n",
    "\n",
    "ax = fig.add_subplot(1, 3, 3)\n",
    "plot_decision_regions(X=x_valid, y=y_valid.astype(np.integer),\n",
    "                      clf=model)\n",
    "ax.set_xlabel(r'$x_1$', size=15)\n",
    "ax.xaxis.set_label_coords(1, -0.025)\n",
    "ax.set_ylabel(r'$x_2$', size=15)\n",
    "ax.yaxis.set_label_coords(-0.025, 1)\n",
    "plt.show()"
   ]
  },
  {
   "cell_type": "markdown",
   "metadata": {},
   "source": [
    "## Estimators\n",
    "\n",
    "### Pre-made estimators\n",
    "\n",
    " * **Step 1:** Define the input function for importing the data   \n",
    " * **Step 2:**  Define the feature columns to bridge between the estimator and the data   \n",
    " * **Step 3:** Instantiate an estimator or convert a Keras model to an estimator   \n",
    " * **Step 4:** Use the estimator: train() evaluate() predict()   "
   ]
  },
  {
   "cell_type": "markdown",
   "metadata": {},
   "source": [
    "### Feature Columns\n",
    "\n",
    "\n",
    " * See definition: https://developers.google.com/machine-learning/glossary/#feature_columns\n",
    " * Documentation: https://www.tensorflow.org/api_docs/python/tf/feature_column"
   ]
  },
  {
   "cell_type": "code",
   "execution_count": 1,
   "metadata": {},
   "outputs": [],
   "source": [
    "import tensorflow as tf\n",
    "import pandas as pd\n",
    "import numpy as np\n",
    "\n",
    "tf.random.set_seed(1)\n",
    "np.random.seed(1)"
   ]
  },
  {
   "cell_type": "code",
   "execution_count": 2,
   "metadata": {},
   "outputs": [
    {
     "data": {
      "text/html": [
       "<div>\n",
       "<style scoped>\n",
       "    .dataframe tbody tr th:only-of-type {\n",
       "        vertical-align: middle;\n",
       "    }\n",
       "\n",
       "    .dataframe tbody tr th {\n",
       "        vertical-align: top;\n",
       "    }\n",
       "\n",
       "    .dataframe thead th {\n",
       "        text-align: right;\n",
       "    }\n",
       "</style>\n",
       "<table border=\"1\" class=\"dataframe\">\n",
       "  <thead>\n",
       "    <tr style=\"text-align: right;\">\n",
       "      <th></th>\n",
       "      <th>MPG</th>\n",
       "      <th>Cylinders</th>\n",
       "      <th>Displacement</th>\n",
       "      <th>Horsepower</th>\n",
       "      <th>Weight</th>\n",
       "      <th>Acceleration</th>\n",
       "      <th>ModelYear</th>\n",
       "      <th>Origin</th>\n",
       "    </tr>\n",
       "  </thead>\n",
       "  <tbody>\n",
       "    <tr>\n",
       "      <td>393</td>\n",
       "      <td>27.0</td>\n",
       "      <td>4</td>\n",
       "      <td>140.0</td>\n",
       "      <td>86.0</td>\n",
       "      <td>2790.0</td>\n",
       "      <td>15.6</td>\n",
       "      <td>82</td>\n",
       "      <td>1</td>\n",
       "    </tr>\n",
       "    <tr>\n",
       "      <td>394</td>\n",
       "      <td>44.0</td>\n",
       "      <td>4</td>\n",
       "      <td>97.0</td>\n",
       "      <td>52.0</td>\n",
       "      <td>2130.0</td>\n",
       "      <td>24.6</td>\n",
       "      <td>82</td>\n",
       "      <td>2</td>\n",
       "    </tr>\n",
       "    <tr>\n",
       "      <td>395</td>\n",
       "      <td>32.0</td>\n",
       "      <td>4</td>\n",
       "      <td>135.0</td>\n",
       "      <td>84.0</td>\n",
       "      <td>2295.0</td>\n",
       "      <td>11.6</td>\n",
       "      <td>82</td>\n",
       "      <td>1</td>\n",
       "    </tr>\n",
       "    <tr>\n",
       "      <td>396</td>\n",
       "      <td>28.0</td>\n",
       "      <td>4</td>\n",
       "      <td>120.0</td>\n",
       "      <td>79.0</td>\n",
       "      <td>2625.0</td>\n",
       "      <td>18.6</td>\n",
       "      <td>82</td>\n",
       "      <td>1</td>\n",
       "    </tr>\n",
       "    <tr>\n",
       "      <td>397</td>\n",
       "      <td>31.0</td>\n",
       "      <td>4</td>\n",
       "      <td>119.0</td>\n",
       "      <td>82.0</td>\n",
       "      <td>2720.0</td>\n",
       "      <td>19.4</td>\n",
       "      <td>82</td>\n",
       "      <td>1</td>\n",
       "    </tr>\n",
       "  </tbody>\n",
       "</table>\n",
       "</div>"
      ],
      "text/plain": [
       "      MPG  Cylinders  Displacement  Horsepower  Weight  Acceleration  \\\n",
       "393  27.0          4         140.0        86.0  2790.0          15.6   \n",
       "394  44.0          4          97.0        52.0  2130.0          24.6   \n",
       "395  32.0          4         135.0        84.0  2295.0          11.6   \n",
       "396  28.0          4         120.0        79.0  2625.0          18.6   \n",
       "397  31.0          4         119.0        82.0  2720.0          19.4   \n",
       "\n",
       "     ModelYear  Origin  \n",
       "393         82       1  \n",
       "394         82       2  \n",
       "395         82       1  \n",
       "396         82       1  \n",
       "397         82       1  "
      ]
     },
     "execution_count": 2,
     "metadata": {},
     "output_type": "execute_result"
    }
   ],
   "source": [
    "dataset_path = tf.keras.utils.get_file(\"auto-mpg.data\", \n",
    "                                       (\"http://archive.ics.uci.edu/ml/machine-learning-databases\"\n",
    "                                        \"/auto-mpg/auto-mpg.data\"))\n",
    "\n",
    "column_names = ['MPG', 'Cylinders', 'Displacement', 'Horsepower',\n",
    "                'Weight', 'Acceleration', 'ModelYear', 'Origin']\n",
    "\n",
    "df = pd.read_csv(dataset_path, names=column_names,\n",
    "                 na_values = \"?\", comment='\\t',\n",
    "                 sep=\" \", skipinitialspace=True)\n",
    "\n",
    "df.tail()"
   ]
  },
  {
   "cell_type": "code",
   "execution_count": 3,
   "metadata": {},
   "outputs": [
    {
     "name": "stdout",
     "output_type": "stream",
     "text": [
      "MPG             0\n",
      "Cylinders       0\n",
      "Displacement    0\n",
      "Horsepower      6\n",
      "Weight          0\n",
      "Acceleration    0\n",
      "ModelYear       0\n",
      "Origin          0\n",
      "dtype: int64\n"
     ]
    },
    {
     "data": {
      "text/html": [
       "<div>\n",
       "<style scoped>\n",
       "    .dataframe tbody tr th:only-of-type {\n",
       "        vertical-align: middle;\n",
       "    }\n",
       "\n",
       "    .dataframe tbody tr th {\n",
       "        vertical-align: top;\n",
       "    }\n",
       "\n",
       "    .dataframe thead th {\n",
       "        text-align: right;\n",
       "    }\n",
       "</style>\n",
       "<table border=\"1\" class=\"dataframe\">\n",
       "  <thead>\n",
       "    <tr style=\"text-align: right;\">\n",
       "      <th></th>\n",
       "      <th>MPG</th>\n",
       "      <th>Cylinders</th>\n",
       "      <th>Displacement</th>\n",
       "      <th>Horsepower</th>\n",
       "      <th>Weight</th>\n",
       "      <th>Acceleration</th>\n",
       "      <th>ModelYear</th>\n",
       "      <th>Origin</th>\n",
       "    </tr>\n",
       "  </thead>\n",
       "  <tbody>\n",
       "    <tr>\n",
       "      <td>387</td>\n",
       "      <td>27.0</td>\n",
       "      <td>4</td>\n",
       "      <td>140.0</td>\n",
       "      <td>86.0</td>\n",
       "      <td>2790.0</td>\n",
       "      <td>15.6</td>\n",
       "      <td>82</td>\n",
       "      <td>1</td>\n",
       "    </tr>\n",
       "    <tr>\n",
       "      <td>388</td>\n",
       "      <td>44.0</td>\n",
       "      <td>4</td>\n",
       "      <td>97.0</td>\n",
       "      <td>52.0</td>\n",
       "      <td>2130.0</td>\n",
       "      <td>24.6</td>\n",
       "      <td>82</td>\n",
       "      <td>2</td>\n",
       "    </tr>\n",
       "    <tr>\n",
       "      <td>389</td>\n",
       "      <td>32.0</td>\n",
       "      <td>4</td>\n",
       "      <td>135.0</td>\n",
       "      <td>84.0</td>\n",
       "      <td>2295.0</td>\n",
       "      <td>11.6</td>\n",
       "      <td>82</td>\n",
       "      <td>1</td>\n",
       "    </tr>\n",
       "    <tr>\n",
       "      <td>390</td>\n",
       "      <td>28.0</td>\n",
       "      <td>4</td>\n",
       "      <td>120.0</td>\n",
       "      <td>79.0</td>\n",
       "      <td>2625.0</td>\n",
       "      <td>18.6</td>\n",
       "      <td>82</td>\n",
       "      <td>1</td>\n",
       "    </tr>\n",
       "    <tr>\n",
       "      <td>391</td>\n",
       "      <td>31.0</td>\n",
       "      <td>4</td>\n",
       "      <td>119.0</td>\n",
       "      <td>82.0</td>\n",
       "      <td>2720.0</td>\n",
       "      <td>19.4</td>\n",
       "      <td>82</td>\n",
       "      <td>1</td>\n",
       "    </tr>\n",
       "  </tbody>\n",
       "</table>\n",
       "</div>"
      ],
      "text/plain": [
       "      MPG  Cylinders  Displacement  Horsepower  Weight  Acceleration  \\\n",
       "387  27.0          4         140.0        86.0  2790.0          15.6   \n",
       "388  44.0          4          97.0        52.0  2130.0          24.6   \n",
       "389  32.0          4         135.0        84.0  2295.0          11.6   \n",
       "390  28.0          4         120.0        79.0  2625.0          18.6   \n",
       "391  31.0          4         119.0        82.0  2720.0          19.4   \n",
       "\n",
       "     ModelYear  Origin  \n",
       "387         82       1  \n",
       "388         82       2  \n",
       "389         82       1  \n",
       "390         82       1  \n",
       "391         82       1  "
      ]
     },
     "execution_count": 3,
     "metadata": {},
     "output_type": "execute_result"
    }
   ],
   "source": [
    "print(df.isna().sum())\n",
    "\n",
    "df = df.dropna()\n",
    "\n",
    "df = df.reset_index(drop=True)\n",
    "\n",
    "df.tail()"
   ]
  },
  {
   "cell_type": "code",
   "execution_count": 4,
   "metadata": {},
   "outputs": [
    {
     "data": {
      "text/html": [
       "<div>\n",
       "<style scoped>\n",
       "    .dataframe tbody tr th:only-of-type {\n",
       "        vertical-align: middle;\n",
       "    }\n",
       "\n",
       "    .dataframe tbody tr th {\n",
       "        vertical-align: top;\n",
       "    }\n",
       "\n",
       "    .dataframe thead th {\n",
       "        text-align: right;\n",
       "    }\n",
       "</style>\n",
       "<table border=\"1\" class=\"dataframe\">\n",
       "  <thead>\n",
       "    <tr style=\"text-align: right;\">\n",
       "      <th></th>\n",
       "      <th>count</th>\n",
       "      <th>mean</th>\n",
       "      <th>std</th>\n",
       "      <th>min</th>\n",
       "      <th>25%</th>\n",
       "      <th>50%</th>\n",
       "      <th>75%</th>\n",
       "      <th>max</th>\n",
       "    </tr>\n",
       "  </thead>\n",
       "  <tbody>\n",
       "    <tr>\n",
       "      <td>MPG</td>\n",
       "      <td>313.0</td>\n",
       "      <td>23.404153</td>\n",
       "      <td>7.666909</td>\n",
       "      <td>9.0</td>\n",
       "      <td>17.5</td>\n",
       "      <td>23.0</td>\n",
       "      <td>29.0</td>\n",
       "      <td>46.6</td>\n",
       "    </tr>\n",
       "    <tr>\n",
       "      <td>Cylinders</td>\n",
       "      <td>313.0</td>\n",
       "      <td>5.402556</td>\n",
       "      <td>1.701506</td>\n",
       "      <td>3.0</td>\n",
       "      <td>4.0</td>\n",
       "      <td>4.0</td>\n",
       "      <td>8.0</td>\n",
       "      <td>8.0</td>\n",
       "    </tr>\n",
       "    <tr>\n",
       "      <td>Displacement</td>\n",
       "      <td>313.0</td>\n",
       "      <td>189.512780</td>\n",
       "      <td>102.675646</td>\n",
       "      <td>68.0</td>\n",
       "      <td>104.0</td>\n",
       "      <td>140.0</td>\n",
       "      <td>260.0</td>\n",
       "      <td>455.0</td>\n",
       "    </tr>\n",
       "    <tr>\n",
       "      <td>Horsepower</td>\n",
       "      <td>313.0</td>\n",
       "      <td>102.929712</td>\n",
       "      <td>37.919046</td>\n",
       "      <td>46.0</td>\n",
       "      <td>75.0</td>\n",
       "      <td>92.0</td>\n",
       "      <td>120.0</td>\n",
       "      <td>230.0</td>\n",
       "    </tr>\n",
       "    <tr>\n",
       "      <td>Weight</td>\n",
       "      <td>313.0</td>\n",
       "      <td>2961.198083</td>\n",
       "      <td>848.602146</td>\n",
       "      <td>1613.0</td>\n",
       "      <td>2219.0</td>\n",
       "      <td>2755.0</td>\n",
       "      <td>3574.0</td>\n",
       "      <td>5140.0</td>\n",
       "    </tr>\n",
       "    <tr>\n",
       "      <td>Acceleration</td>\n",
       "      <td>313.0</td>\n",
       "      <td>15.704473</td>\n",
       "      <td>2.725399</td>\n",
       "      <td>8.5</td>\n",
       "      <td>14.0</td>\n",
       "      <td>15.5</td>\n",
       "      <td>17.3</td>\n",
       "      <td>24.8</td>\n",
       "    </tr>\n",
       "    <tr>\n",
       "      <td>ModelYear</td>\n",
       "      <td>313.0</td>\n",
       "      <td>75.929712</td>\n",
       "      <td>3.675305</td>\n",
       "      <td>70.0</td>\n",
       "      <td>73.0</td>\n",
       "      <td>76.0</td>\n",
       "      <td>79.0</td>\n",
       "      <td>82.0</td>\n",
       "    </tr>\n",
       "    <tr>\n",
       "      <td>Origin</td>\n",
       "      <td>313.0</td>\n",
       "      <td>1.591054</td>\n",
       "      <td>0.807923</td>\n",
       "      <td>1.0</td>\n",
       "      <td>1.0</td>\n",
       "      <td>1.0</td>\n",
       "      <td>2.0</td>\n",
       "      <td>3.0</td>\n",
       "    </tr>\n",
       "  </tbody>\n",
       "</table>\n",
       "</div>"
      ],
      "text/plain": [
       "              count         mean         std     min     25%     50%     75%  \\\n",
       "MPG           313.0    23.404153    7.666909     9.0    17.5    23.0    29.0   \n",
       "Cylinders     313.0     5.402556    1.701506     3.0     4.0     4.0     8.0   \n",
       "Displacement  313.0   189.512780  102.675646    68.0   104.0   140.0   260.0   \n",
       "Horsepower    313.0   102.929712   37.919046    46.0    75.0    92.0   120.0   \n",
       "Weight        313.0  2961.198083  848.602146  1613.0  2219.0  2755.0  3574.0   \n",
       "Acceleration  313.0    15.704473    2.725399     8.5    14.0    15.5    17.3   \n",
       "ModelYear     313.0    75.929712    3.675305    70.0    73.0    76.0    79.0   \n",
       "Origin        313.0     1.591054    0.807923     1.0     1.0     1.0     2.0   \n",
       "\n",
       "                 max  \n",
       "MPG             46.6  \n",
       "Cylinders        8.0  \n",
       "Displacement   455.0  \n",
       "Horsepower     230.0  \n",
       "Weight        5140.0  \n",
       "Acceleration    24.8  \n",
       "ModelYear       82.0  \n",
       "Origin           3.0  "
      ]
     },
     "execution_count": 4,
     "metadata": {},
     "output_type": "execute_result"
    }
   ],
   "source": [
    "import sklearn\n",
    "import sklearn.model_selection\n",
    "\n",
    "df_train, df_test = sklearn.model_selection.train_test_split(df, train_size=0.8)\n",
    "\n",
    "\n",
    "train_stats = df_train.describe().transpose()\n",
    "\n",
    "train_stats"
   ]
  },
  {
   "cell_type": "code",
   "execution_count": 5,
   "metadata": {},
   "outputs": [
    {
     "data": {
      "text/html": [
       "<div>\n",
       "<style scoped>\n",
       "    .dataframe tbody tr th:only-of-type {\n",
       "        vertical-align: middle;\n",
       "    }\n",
       "\n",
       "    .dataframe tbody tr th {\n",
       "        vertical-align: top;\n",
       "    }\n",
       "\n",
       "    .dataframe thead th {\n",
       "        text-align: right;\n",
       "    }\n",
       "</style>\n",
       "<table border=\"1\" class=\"dataframe\">\n",
       "  <thead>\n",
       "    <tr style=\"text-align: right;\">\n",
       "      <th></th>\n",
       "      <th>MPG</th>\n",
       "      <th>Cylinders</th>\n",
       "      <th>Displacement</th>\n",
       "      <th>Horsepower</th>\n",
       "      <th>Weight</th>\n",
       "      <th>Acceleration</th>\n",
       "      <th>ModelYear</th>\n",
       "      <th>Origin</th>\n",
       "    </tr>\n",
       "  </thead>\n",
       "  <tbody>\n",
       "    <tr>\n",
       "      <td>203</td>\n",
       "      <td>28.0</td>\n",
       "      <td>-0.824303</td>\n",
       "      <td>-0.901020</td>\n",
       "      <td>-0.736562</td>\n",
       "      <td>-0.950031</td>\n",
       "      <td>0.255202</td>\n",
       "      <td>76</td>\n",
       "      <td>3</td>\n",
       "    </tr>\n",
       "    <tr>\n",
       "      <td>255</td>\n",
       "      <td>19.4</td>\n",
       "      <td>0.351127</td>\n",
       "      <td>0.413800</td>\n",
       "      <td>-0.340982</td>\n",
       "      <td>0.293190</td>\n",
       "      <td>0.548737</td>\n",
       "      <td>78</td>\n",
       "      <td>1</td>\n",
       "    </tr>\n",
       "    <tr>\n",
       "      <td>72</td>\n",
       "      <td>13.0</td>\n",
       "      <td>1.526556</td>\n",
       "      <td>1.144256</td>\n",
       "      <td>0.713897</td>\n",
       "      <td>1.339617</td>\n",
       "      <td>-0.625403</td>\n",
       "      <td>72</td>\n",
       "      <td>1</td>\n",
       "    </tr>\n",
       "    <tr>\n",
       "      <td>235</td>\n",
       "      <td>30.5</td>\n",
       "      <td>-0.824303</td>\n",
       "      <td>-0.891280</td>\n",
       "      <td>-1.053025</td>\n",
       "      <td>-1.072585</td>\n",
       "      <td>0.475353</td>\n",
       "      <td>77</td>\n",
       "      <td>1</td>\n",
       "    </tr>\n",
       "    <tr>\n",
       "      <td>37</td>\n",
       "      <td>14.0</td>\n",
       "      <td>1.526556</td>\n",
       "      <td>1.563051</td>\n",
       "      <td>1.636916</td>\n",
       "      <td>1.470420</td>\n",
       "      <td>-1.359240</td>\n",
       "      <td>71</td>\n",
       "      <td>1</td>\n",
       "    </tr>\n",
       "  </tbody>\n",
       "</table>\n",
       "</div>"
      ],
      "text/plain": [
       "      MPG  Cylinders  Displacement  Horsepower    Weight  Acceleration  \\\n",
       "203  28.0  -0.824303     -0.901020   -0.736562 -0.950031      0.255202   \n",
       "255  19.4   0.351127      0.413800   -0.340982  0.293190      0.548737   \n",
       "72   13.0   1.526556      1.144256    0.713897  1.339617     -0.625403   \n",
       "235  30.5  -0.824303     -0.891280   -1.053025 -1.072585      0.475353   \n",
       "37   14.0   1.526556      1.563051    1.636916  1.470420     -1.359240   \n",
       "\n",
       "     ModelYear  Origin  \n",
       "203         76       3  \n",
       "255         78       1  \n",
       "72          72       1  \n",
       "235         77       1  \n",
       "37          71       1  "
      ]
     },
     "execution_count": 5,
     "metadata": {},
     "output_type": "execute_result"
    }
   ],
   "source": [
    "numeric_column_names = ['Cylinders', 'Displacement', 'Horsepower', 'Weight', 'Acceleration']\n",
    "\n",
    "df_train_norm, df_test_norm = df_train.copy(), df_test.copy()\n",
    "\n",
    "for col_name in numeric_column_names:\n",
    "    mean = train_stats.loc[col_name, 'mean']\n",
    "    std  = train_stats.loc[col_name, 'std']\n",
    "    df_train_norm.loc[:, col_name] = (df_train_norm.loc[:, col_name] - mean)/std\n",
    "    df_test_norm.loc[:, col_name] = (df_test_norm.loc[:, col_name] - mean)/std\n",
    "    \n",
    "df_train_norm.tail()"
   ]
  },
  {
   "cell_type": "markdown",
   "metadata": {},
   "source": [
    "#### Numeric Columns"
   ]
  },
  {
   "cell_type": "code",
   "execution_count": 6,
   "metadata": {},
   "outputs": [
    {
     "data": {
      "text/plain": [
       "[NumericColumn(key='Cylinders', shape=(1,), default_value=None, dtype=tf.float32, normalizer_fn=None),\n",
       " NumericColumn(key='Displacement', shape=(1,), default_value=None, dtype=tf.float32, normalizer_fn=None),\n",
       " NumericColumn(key='Horsepower', shape=(1,), default_value=None, dtype=tf.float32, normalizer_fn=None),\n",
       " NumericColumn(key='Weight', shape=(1,), default_value=None, dtype=tf.float32, normalizer_fn=None),\n",
       " NumericColumn(key='Acceleration', shape=(1,), default_value=None, dtype=tf.float32, normalizer_fn=None)]"
      ]
     },
     "execution_count": 6,
     "metadata": {},
     "output_type": "execute_result"
    }
   ],
   "source": [
    "\n",
    "numeric_features = []\n",
    "\n",
    "for col_name in numeric_column_names:\n",
    "    numeric_features.append(tf.feature_column.numeric_column(key=col_name))\n",
    "    \n",
    "numeric_features"
   ]
  },
  {
   "cell_type": "code",
   "execution_count": 7,
   "metadata": {},
   "outputs": [
    {
     "name": "stdout",
     "output_type": "stream",
     "text": [
      "[BucketizedColumn(source_column=NumericColumn(key='ModelYear', shape=(1,), default_value=None, dtype=tf.float32, normalizer_fn=None), boundaries=(73, 76, 79))]\n"
     ]
    }
   ],
   "source": [
    "feature_year = tf.feature_column.numeric_column(key=\"ModelYear\")\n",
    "\n",
    "bucketized_features = []\n",
    "\n",
    "bucketized_features.append(tf.feature_column.bucketized_column(\n",
    "    source_column=feature_year,\n",
    "    boundaries=[73, 76, 79]))\n",
    "\n",
    "print(bucketized_features)"
   ]
  },
  {
   "cell_type": "code",
   "execution_count": 8,
   "metadata": {},
   "outputs": [
    {
     "name": "stdout",
     "output_type": "stream",
     "text": [
      "[IndicatorColumn(categorical_column=VocabularyListCategoricalColumn(key='Origin', vocabulary_list=(1, 2, 3), dtype=tf.int64, default_value=-1, num_oov_buckets=0))]\n"
     ]
    }
   ],
   "source": [
    "\n",
    "feature_origin = tf.feature_column.categorical_column_with_vocabulary_list(\n",
    "    key='Origin',\n",
    "    vocabulary_list=[1, 2, 3])\n",
    "\n",
    "\n",
    "categorical_indicator_features = []\n",
    "categorical_indicator_features.append(tf.feature_column.indicator_column(feature_origin))\n",
    "\n",
    "print(categorical_indicator_features)"
   ]
  },
  {
   "cell_type": "code",
   "execution_count": 9,
   "metadata": {},
   "outputs": [
    {
     "name": "stdout",
     "output_type": "stream",
     "text": [
      "Keys ::  dict_keys(['Cylinders', 'Displacement', 'Horsepower', 'Weight', 'Acceleration', 'ModelYear', 'Origin'])\n",
      "Batch Model Years ::  tf.Tensor([82 78 76 72 78 73 70 78], shape=(8,), dtype=int32)\n"
     ]
    }
   ],
   "source": [
    "def train_input_fn(df_train, batch_size=8):\n",
    "    df = df_train.copy()\n",
    "    train_x, train_y = df, df.pop('MPG')\n",
    "    dataset = tf.data.Dataset.from_tensor_slices((dict(train_x), train_y))\n",
    "\n",
    "    # Shuffle, repeat, and batch the examples.\n",
    "    return dataset.shuffle(1000).repeat().batch(batch_size)\n",
    "\n",
    "## inspection:\n",
    "ds = train_input_fn(df_train_norm)\n",
    "batch = next(iter(ds))\n",
    "print('Keys :: ', batch[0].keys())\n",
    "print('Batch Model Years :: ', batch[0]['ModelYear'])"
   ]
  },
  {
   "cell_type": "code",
   "execution_count": 10,
   "metadata": {},
   "outputs": [
    {
     "name": "stdout",
     "output_type": "stream",
     "text": [
      "[NumericColumn(key='Cylinders', shape=(1,), default_value=None, dtype=tf.float32, normalizer_fn=None), NumericColumn(key='Displacement', shape=(1,), default_value=None, dtype=tf.float32, normalizer_fn=None), NumericColumn(key='Horsepower', shape=(1,), default_value=None, dtype=tf.float32, normalizer_fn=None), NumericColumn(key='Weight', shape=(1,), default_value=None, dtype=tf.float32, normalizer_fn=None), NumericColumn(key='Acceleration', shape=(1,), default_value=None, dtype=tf.float32, normalizer_fn=None), BucketizedColumn(source_column=NumericColumn(key='ModelYear', shape=(1,), default_value=None, dtype=tf.float32, normalizer_fn=None), boundaries=(73, 76, 79)), IndicatorColumn(categorical_column=VocabularyListCategoricalColumn(key='Origin', vocabulary_list=(1, 2, 3), dtype=tf.int64, default_value=-1, num_oov_buckets=0))]\n"
     ]
    }
   ],
   "source": [
    "all_feature_columns = (numeric_features + \n",
    "                       bucketized_features + \n",
    "                       categorical_indicator_features)\n",
    "\n",
    "print(all_feature_columns)"
   ]
  },
  {
   "cell_type": "code",
   "execution_count": 11,
   "metadata": {},
   "outputs": [
    {
     "name": "stdout",
     "output_type": "stream",
     "text": [
      "INFO:tensorflow:Using default config.\n",
      "INFO:tensorflow:Using config: {'_model_dir': 'models/autompg-dnnregressor/', '_tf_random_seed': None, '_save_summary_steps': 100, '_save_checkpoints_steps': None, '_save_checkpoints_secs': 600, '_session_config': allow_soft_placement: true\n",
      "graph_options {\n",
      "  rewrite_options {\n",
      "    meta_optimizer_iterations: ONE\n",
      "  }\n",
      "}\n",
      ", '_keep_checkpoint_max': 5, '_keep_checkpoint_every_n_hours': 10000, '_log_step_count_steps': 100, '_train_distribute': None, '_device_fn': None, '_protocol': None, '_eval_distribute': None, '_experimental_distribute': None, '_experimental_max_worker_delay_secs': None, '_session_creation_timeout_secs': 7200, '_service': None, '_cluster_spec': <tensorflow.python.training.server_lib.ClusterSpec object at 0x7fea703759d0>, '_task_type': 'worker', '_task_id': 0, '_global_id_in_cluster': 0, '_master': '', '_evaluation_master': '', '_is_chief': True, '_num_ps_replicas': 0, '_num_worker_replicas': 1}\n"
     ]
    }
   ],
   "source": [
    "\n",
    "regressor = tf.estimator.DNNRegressor(\n",
    "    feature_columns=all_feature_columns,\n",
    "    hidden_units=[32, 10],\n",
    "    model_dir='models/autompg-dnnregressor/')\n"
   ]
  },
  {
   "cell_type": "code",
   "execution_count": 12,
   "metadata": {
    "scrolled": true
   },
   "outputs": [
    {
     "name": "stdout",
     "output_type": "stream",
     "text": [
      "Training Steps:  40000\n",
      "WARNING:tensorflow:From /home/vahid/anaconda3/envs/tf2/lib/python3.7/site-packages/tensorflow_core/python/ops/resource_variable_ops.py:1630: calling BaseResourceVariable.__init__ (from tensorflow.python.ops.resource_variable_ops) with constraint is deprecated and will be removed in a future version.\n",
      "Instructions for updating:\n",
      "If using Keras pass *_constraint arguments to layers.\n",
      "WARNING:tensorflow:From /home/vahid/anaconda3/envs/tf2/lib/python3.7/site-packages/tensorflow_core/python/training/training_util.py:236: Variable.initialized_value (from tensorflow.python.ops.variables) is deprecated and will be removed in a future version.\n",
      "Instructions for updating:\n",
      "Use Variable.read_value. Variables in 2.X are initialized automatically both in eager and graph (inside tf.defun) contexts.\n",
      "INFO:tensorflow:Calling model_fn.\n",
      "WARNING:tensorflow:Layer dnn is casting an input tensor from dtype float64 to the layer's dtype of float32, which is new behavior in TensorFlow 2.  The layer has dtype float32 because it's dtype defaults to floatx.\n",
      "\n",
      "If you intended to run this layer in float32, you can safely ignore this warning. If in doubt, this warning is likely only an issue if you are porting a TensorFlow 1.X model to TensorFlow 2.\n",
      "\n",
      "To change all layers to have dtype float64 by default, call `tf.keras.backend.set_floatx('float64')`. To change just this layer, pass dtype='float64' to the layer constructor. If you are the author of this layer, you can disable autocasting by passing autocast=False to the base Layer constructor.\n",
      "\n",
      "WARNING:tensorflow:From /home/vahid/anaconda3/envs/tf2/lib/python3.7/site-packages/tensorflow_core/python/feature_column/feature_column_v2.py:4276: IndicatorColumn._variable_shape (from tensorflow.python.feature_column.feature_column_v2) is deprecated and will be removed in a future version.\n",
      "Instructions for updating:\n",
      "The old _FeatureColumn APIs are being deprecated. Please use the new FeatureColumn APIs instead.\n",
      "WARNING:tensorflow:From /home/vahid/anaconda3/envs/tf2/lib/python3.7/site-packages/tensorflow_core/python/feature_column/feature_column_v2.py:4331: VocabularyListCategoricalColumn._num_buckets (from tensorflow.python.feature_column.feature_column_v2) is deprecated and will be removed in a future version.\n",
      "Instructions for updating:\n",
      "The old _FeatureColumn APIs are being deprecated. Please use the new FeatureColumn APIs instead.\n",
      "WARNING:tensorflow:From /home/vahid/anaconda3/envs/tf2/lib/python3.7/site-packages/tensorflow_estimator/python/estimator/head/regression_head.py:156: to_float (from tensorflow.python.ops.math_ops) is deprecated and will be removed in a future version.\n",
      "Instructions for updating:\n",
      "Use `tf.cast` instead.\n",
      "WARNING:tensorflow:From /home/vahid/anaconda3/envs/tf2/lib/python3.7/site-packages/tensorflow_core/python/keras/optimizer_v2/adagrad.py:108: calling Constant.__init__ (from tensorflow.python.ops.init_ops) with dtype is deprecated and will be removed in a future version.\n",
      "Instructions for updating:\n",
      "Call initializer instance with the dtype argument instead of passing it to the constructor\n",
      "INFO:tensorflow:Done calling model_fn.\n",
      "INFO:tensorflow:Create CheckpointSaverHook.\n",
      "INFO:tensorflow:Graph was finalized.\n",
      "INFO:tensorflow:Running local_init_op.\n",
      "INFO:tensorflow:Done running local_init_op.\n",
      "INFO:tensorflow:Saving checkpoints for 0 into models/autompg-dnnregressor/model.ckpt.\n",
      "INFO:tensorflow:loss = 657.5952, step = 0\n",
      "INFO:tensorflow:global_step/sec: 482.683\n",
      "INFO:tensorflow:loss = 557.6489, step = 100 (0.209 sec)\n",
      "INFO:tensorflow:global_step/sec: 658.251\n",
      "INFO:tensorflow:loss = 484.67407, step = 200 (0.152 sec)\n",
      "INFO:tensorflow:global_step/sec: 640.107\n",
      "INFO:tensorflow:loss = 578.31995, step = 300 (0.156 sec)\n",
      "INFO:tensorflow:global_step/sec: 638.856\n",
      "INFO:tensorflow:loss = 457.42548, step = 400 (0.156 sec)\n",
      "INFO:tensorflow:global_step/sec: 643.696\n",
      "INFO:tensorflow:loss = 368.1149, step = 500 (0.155 sec)\n",
      "INFO:tensorflow:global_step/sec: 648.612\n",
      "INFO:tensorflow:loss = 376.00436, step = 600 (0.155 sec)\n",
      "INFO:tensorflow:global_step/sec: 642.11\n",
      "INFO:tensorflow:loss = 426.9007, step = 700 (0.156 sec)\n",
      "INFO:tensorflow:global_step/sec: 641.277\n",
      "INFO:tensorflow:loss = 460.12323, step = 800 (0.156 sec)\n",
      "INFO:tensorflow:global_step/sec: 638.549\n",
      "INFO:tensorflow:loss = 536.4379, step = 900 (0.157 sec)\n",
      "INFO:tensorflow:global_step/sec: 649.691\n",
      "INFO:tensorflow:loss = 373.92722, step = 1000 (0.154 sec)\n",
      "INFO:tensorflow:global_step/sec: 647.897\n",
      "INFO:tensorflow:loss = 334.62622, step = 1100 (0.154 sec)\n",
      "INFO:tensorflow:global_step/sec: 643.841\n",
      "INFO:tensorflow:loss = 337.9565, step = 1200 (0.155 sec)\n",
      "INFO:tensorflow:global_step/sec: 645.425\n",
      "INFO:tensorflow:loss = 484.2738, step = 1300 (0.155 sec)\n",
      "INFO:tensorflow:global_step/sec: 647.563\n",
      "INFO:tensorflow:loss = 387.98175, step = 1400 (0.154 sec)\n",
      "INFO:tensorflow:global_step/sec: 647.963\n",
      "INFO:tensorflow:loss = 330.1019, step = 1500 (0.154 sec)\n",
      "INFO:tensorflow:global_step/sec: 649.298\n",
      "INFO:tensorflow:loss = 320.49606, step = 1600 (0.154 sec)\n",
      "INFO:tensorflow:global_step/sec: 654.825\n",
      "INFO:tensorflow:loss = 261.08185, step = 1700 (0.153 sec)\n",
      "INFO:tensorflow:global_step/sec: 645.502\n",
      "INFO:tensorflow:loss = 304.45633, step = 1800 (0.155 sec)\n",
      "INFO:tensorflow:global_step/sec: 654.494\n",
      "INFO:tensorflow:loss = 301.4652, step = 1900 (0.153 sec)\n",
      "INFO:tensorflow:global_step/sec: 650.278\n",
      "INFO:tensorflow:loss = 198.7786, step = 2000 (0.154 sec)\n",
      "INFO:tensorflow:global_step/sec: 665.325\n",
      "INFO:tensorflow:loss = 262.18463, step = 2100 (0.150 sec)\n",
      "INFO:tensorflow:global_step/sec: 898.968\n",
      "INFO:tensorflow:loss = 246.47246, step = 2200 (0.111 sec)\n",
      "INFO:tensorflow:global_step/sec: 991.915\n",
      "INFO:tensorflow:loss = 180.72266, step = 2300 (0.101 sec)\n",
      "INFO:tensorflow:global_step/sec: 725.679\n",
      "INFO:tensorflow:loss = 380.47226, step = 2400 (0.138 sec)\n",
      "INFO:tensorflow:global_step/sec: 634.304\n",
      "INFO:tensorflow:loss = 320.3031, step = 2500 (0.158 sec)\n",
      "INFO:tensorflow:global_step/sec: 614.874\n",
      "INFO:tensorflow:loss = 273.86218, step = 2600 (0.163 sec)\n",
      "INFO:tensorflow:global_step/sec: 619.638\n",
      "INFO:tensorflow:loss = 285.63263, step = 2700 (0.161 sec)\n",
      "INFO:tensorflow:global_step/sec: 619.486\n",
      "INFO:tensorflow:loss = 416.43893, step = 2800 (0.161 sec)\n",
      "INFO:tensorflow:global_step/sec: 722.359\n",
      "INFO:tensorflow:loss = 163.24045, step = 2900 (0.138 sec)\n",
      "INFO:tensorflow:global_step/sec: 922.801\n",
      "INFO:tensorflow:loss = 235.00891, step = 3000 (0.108 sec)\n",
      "INFO:tensorflow:global_step/sec: 995.65\n",
      "INFO:tensorflow:loss = 146.46678, step = 3100 (0.100 sec)\n",
      "INFO:tensorflow:global_step/sec: 979.547\n",
      "INFO:tensorflow:loss = 256.28195, step = 3200 (0.102 sec)\n",
      "INFO:tensorflow:global_step/sec: 965.009\n",
      "INFO:tensorflow:loss = 232.42818, step = 3300 (0.104 sec)\n",
      "INFO:tensorflow:global_step/sec: 972.996\n",
      "INFO:tensorflow:loss = 180.57608, step = 3400 (0.103 sec)\n",
      "INFO:tensorflow:global_step/sec: 970.931\n",
      "INFO:tensorflow:loss = 179.35796, step = 3500 (0.103 sec)\n",
      "INFO:tensorflow:global_step/sec: 973.794\n",
      "INFO:tensorflow:loss = 138.38496, step = 3600 (0.103 sec)\n",
      "INFO:tensorflow:global_step/sec: 981.751\n",
      "INFO:tensorflow:loss = 238.2626, step = 3700 (0.102 sec)\n",
      "INFO:tensorflow:global_step/sec: 973.545\n",
      "INFO:tensorflow:loss = 203.41815, step = 3800 (0.103 sec)\n",
      "INFO:tensorflow:global_step/sec: 643.759\n",
      "INFO:tensorflow:loss = 171.89471, step = 3900 (0.156 sec)\n",
      "INFO:tensorflow:global_step/sec: 628.217\n",
      "INFO:tensorflow:loss = 134.16959, step = 4000 (0.159 sec)\n",
      "INFO:tensorflow:global_step/sec: 628.573\n",
      "INFO:tensorflow:loss = 117.263145, step = 4100 (0.159 sec)\n",
      "INFO:tensorflow:global_step/sec: 618.326\n",
      "INFO:tensorflow:loss = 156.63441, step = 4200 (0.162 sec)\n",
      "INFO:tensorflow:global_step/sec: 620.197\n",
      "INFO:tensorflow:loss = 176.01846, step = 4300 (0.161 sec)\n",
      "INFO:tensorflow:global_step/sec: 625.409\n",
      "INFO:tensorflow:loss = 137.88644, step = 4400 (0.160 sec)\n",
      "INFO:tensorflow:global_step/sec: 615.348\n",
      "INFO:tensorflow:loss = 103.77842, step = 4500 (0.162 sec)\n",
      "INFO:tensorflow:global_step/sec: 626.611\n",
      "INFO:tensorflow:loss = 89.257866, step = 4600 (0.160 sec)\n",
      "INFO:tensorflow:global_step/sec: 625.172\n",
      "INFO:tensorflow:loss = 109.813065, step = 4700 (0.160 sec)\n",
      "INFO:tensorflow:global_step/sec: 618.611\n",
      "INFO:tensorflow:loss = 80.15389, step = 4800 (0.162 sec)\n",
      "INFO:tensorflow:global_step/sec: 621.131\n",
      "INFO:tensorflow:loss = 83.17403, step = 4900 (0.161 sec)\n",
      "INFO:tensorflow:global_step/sec: 623.994\n",
      "INFO:tensorflow:loss = 80.266884, step = 5000 (0.160 sec)\n",
      "INFO:tensorflow:global_step/sec: 618.513\n",
      "INFO:tensorflow:loss = 106.402695, step = 5100 (0.162 sec)\n",
      "INFO:tensorflow:global_step/sec: 622.772\n",
      "INFO:tensorflow:loss = 159.29117, step = 5200 (0.161 sec)\n",
      "INFO:tensorflow:global_step/sec: 628.738\n",
      "INFO:tensorflow:loss = 93.6469, step = 5300 (0.159 sec)\n",
      "INFO:tensorflow:global_step/sec: 625.903\n",
      "INFO:tensorflow:loss = 90.42153, step = 5400 (0.160 sec)\n",
      "INFO:tensorflow:global_step/sec: 617.311\n",
      "INFO:tensorflow:loss = 117.86067, step = 5500 (0.162 sec)\n",
      "INFO:tensorflow:global_step/sec: 614.181\n",
      "INFO:tensorflow:loss = 69.909386, step = 5600 (0.163 sec)\n",
      "INFO:tensorflow:global_step/sec: 619.233\n",
      "INFO:tensorflow:loss = 97.84955, step = 5700 (0.162 sec)\n",
      "INFO:tensorflow:global_step/sec: 617.055\n",
      "INFO:tensorflow:loss = 57.248146, step = 5800 (0.162 sec)\n",
      "INFO:tensorflow:global_step/sec: 616.22\n",
      "INFO:tensorflow:loss = 131.23868, step = 5900 (0.162 sec)\n",
      "INFO:tensorflow:global_step/sec: 624.358\n",
      "INFO:tensorflow:loss = 77.497375, step = 6000 (0.160 sec)\n",
      "INFO:tensorflow:global_step/sec: 627.69\n",
      "INFO:tensorflow:loss = 44.59199, step = 6100 (0.159 sec)\n",
      "INFO:tensorflow:global_step/sec: 621.763\n",
      "INFO:tensorflow:loss = 87.97707, step = 6200 (0.161 sec)\n",
      "INFO:tensorflow:global_step/sec: 625.197\n",
      "INFO:tensorflow:loss = 49.96405, step = 6300 (0.160 sec)\n",
      "INFO:tensorflow:global_step/sec: 620.7\n",
      "INFO:tensorflow:loss = 52.705406, step = 6400 (0.161 sec)\n",
      "INFO:tensorflow:global_step/sec: 616.607\n",
      "INFO:tensorflow:loss = 71.76206, step = 6500 (0.162 sec)\n",
      "INFO:tensorflow:global_step/sec: 622.576\n",
      "INFO:tensorflow:loss = 34.005905, step = 6600 (0.161 sec)\n",
      "INFO:tensorflow:global_step/sec: 623.471\n",
      "INFO:tensorflow:loss = 51.795105, step = 6700 (0.160 sec)\n",
      "INFO:tensorflow:global_step/sec: 621.201\n",
      "INFO:tensorflow:loss = 24.481604, step = 6800 (0.161 sec)\n",
      "INFO:tensorflow:global_step/sec: 623.32\n",
      "INFO:tensorflow:loss = 57.33905, step = 6900 (0.160 sec)\n",
      "INFO:tensorflow:global_step/sec: 619.291\n",
      "INFO:tensorflow:loss = 53.956146, step = 7000 (0.161 sec)\n",
      "INFO:tensorflow:global_step/sec: 621.409\n",
      "INFO:tensorflow:loss = 66.21356, step = 7100 (0.161 sec)\n",
      "INFO:tensorflow:global_step/sec: 623.781\n",
      "INFO:tensorflow:loss = 42.552338, step = 7200 (0.160 sec)\n",
      "INFO:tensorflow:global_step/sec: 628.149\n",
      "INFO:tensorflow:loss = 60.83576, step = 7300 (0.159 sec)\n",
      "INFO:tensorflow:global_step/sec: 621.733\n",
      "INFO:tensorflow:loss = 47.406822, step = 7400 (0.161 sec)\n",
      "INFO:tensorflow:global_step/sec: 624.65\n",
      "INFO:tensorflow:loss = 102.1715, step = 7500 (0.160 sec)\n",
      "INFO:tensorflow:global_step/sec: 623.111\n",
      "INFO:tensorflow:loss = 55.28649, step = 7600 (0.160 sec)\n",
      "INFO:tensorflow:global_step/sec: 621.739\n",
      "INFO:tensorflow:loss = 35.528416, step = 7700 (0.161 sec)\n",
      "INFO:tensorflow:global_step/sec: 619.409\n",
      "INFO:tensorflow:loss = 28.756922, step = 7800 (0.161 sec)\n",
      "INFO:tensorflow:global_step/sec: 619.223\n",
      "INFO:tensorflow:loss = 26.715008, step = 7900 (0.161 sec)\n",
      "INFO:tensorflow:global_step/sec: 624.634\n",
      "INFO:tensorflow:loss = 48.81586, step = 8000 (0.160 sec)\n",
      "INFO:tensorflow:global_step/sec: 622.308\n",
      "INFO:tensorflow:loss = 59.67297, step = 8100 (0.161 sec)\n",
      "INFO:tensorflow:global_step/sec: 621.701\n",
      "INFO:tensorflow:loss = 22.939081, step = 8200 (0.161 sec)\n",
      "INFO:tensorflow:global_step/sec: 630.179\n",
      "INFO:tensorflow:loss = 40.912636, step = 8300 (0.159 sec)\n",
      "INFO:tensorflow:global_step/sec: 619.781\n",
      "INFO:tensorflow:loss = 68.91703, step = 8400 (0.161 sec)\n",
      "INFO:tensorflow:global_step/sec: 627.098\n",
      "INFO:tensorflow:loss = 38.17033, step = 8500 (0.159 sec)\n",
      "INFO:tensorflow:global_step/sec: 626.28\n",
      "INFO:tensorflow:loss = 24.129894, step = 8600 (0.159 sec)\n",
      "INFO:tensorflow:global_step/sec: 621.645\n",
      "INFO:tensorflow:loss = 26.56329, step = 8700 (0.161 sec)\n",
      "INFO:tensorflow:global_step/sec: 631.187\n",
      "INFO:tensorflow:loss = 36.76889, step = 8800 (0.158 sec)\n",
      "INFO:tensorflow:global_step/sec: 622.526\n",
      "INFO:tensorflow:loss = 11.12675, step = 8900 (0.161 sec)\n",
      "INFO:tensorflow:global_step/sec: 622.975\n",
      "INFO:tensorflow:loss = 33.61374, step = 9000 (0.161 sec)\n",
      "INFO:tensorflow:global_step/sec: 616.611\n",
      "INFO:tensorflow:loss = 40.575306, step = 9100 (0.162 sec)\n",
      "INFO:tensorflow:global_step/sec: 615.565\n",
      "INFO:tensorflow:loss = 28.530561, step = 9200 (0.162 sec)\n",
      "INFO:tensorflow:global_step/sec: 616.044\n",
      "INFO:tensorflow:loss = 18.963575, step = 9300 (0.162 sec)\n",
      "INFO:tensorflow:global_step/sec: 626.178\n",
      "INFO:tensorflow:loss = 29.736134, step = 9400 (0.160 sec)\n",
      "INFO:tensorflow:global_step/sec: 618.863\n",
      "INFO:tensorflow:loss = 19.305485, step = 9500 (0.162 sec)\n",
      "INFO:tensorflow:global_step/sec: 625.883\n",
      "INFO:tensorflow:loss = 39.44049, step = 9600 (0.160 sec)\n",
      "INFO:tensorflow:global_step/sec: 624.775\n",
      "INFO:tensorflow:loss = 9.117452, step = 9700 (0.160 sec)\n",
      "INFO:tensorflow:global_step/sec: 627.555\n",
      "INFO:tensorflow:loss = 39.3379, step = 9800 (0.159 sec)\n",
      "INFO:tensorflow:global_step/sec: 623.687\n",
      "INFO:tensorflow:loss = 30.72681, step = 9900 (0.160 sec)\n",
      "INFO:tensorflow:global_step/sec: 623.212\n",
      "INFO:tensorflow:loss = 41.16591, step = 10000 (0.160 sec)\n",
      "INFO:tensorflow:global_step/sec: 573.764\n",
      "INFO:tensorflow:loss = 28.702877, step = 10100 (0.174 sec)\n",
      "INFO:tensorflow:global_step/sec: 602.922\n",
      "INFO:tensorflow:loss = 76.39154, step = 10200 (0.166 sec)\n",
      "INFO:tensorflow:global_step/sec: 605.797\n",
      "INFO:tensorflow:loss = 26.063759, step = 10300 (0.165 sec)\n",
      "INFO:tensorflow:global_step/sec: 610.422\n",
      "INFO:tensorflow:loss = 9.598902, step = 10400 (0.164 sec)\n",
      "INFO:tensorflow:global_step/sec: 604.798\n",
      "INFO:tensorflow:loss = 93.17958, step = 10500 (0.165 sec)\n",
      "INFO:tensorflow:global_step/sec: 599.286\n",
      "INFO:tensorflow:loss = 48.746246, step = 10600 (0.167 sec)\n",
      "INFO:tensorflow:global_step/sec: 607.786\n",
      "INFO:tensorflow:loss = 40.0269, step = 10700 (0.164 sec)\n",
      "INFO:tensorflow:global_step/sec: 604.492\n",
      "INFO:tensorflow:loss = 33.373196, step = 10800 (0.165 sec)\n",
      "INFO:tensorflow:global_step/sec: 602.762\n",
      "INFO:tensorflow:loss = 38.592262, step = 10900 (0.166 sec)\n",
      "INFO:tensorflow:global_step/sec: 609.195\n",
      "INFO:tensorflow:loss = 14.427067, step = 11000 (0.164 sec)\n",
      "INFO:tensorflow:global_step/sec: 606.696\n",
      "INFO:tensorflow:loss = 10.515163, step = 11100 (0.165 sec)\n",
      "INFO:tensorflow:global_step/sec: 605.022\n",
      "INFO:tensorflow:loss = 26.500973, step = 11200 (0.165 sec)\n",
      "INFO:tensorflow:global_step/sec: 609.582\n",
      "INFO:tensorflow:loss = 9.660977, step = 11300 (0.164 sec)\n",
      "INFO:tensorflow:global_step/sec: 605.105\n",
      "INFO:tensorflow:loss = 44.603836, step = 11400 (0.165 sec)\n",
      "INFO:tensorflow:global_step/sec: 600.799\n",
      "INFO:tensorflow:loss = 18.39376, step = 11500 (0.166 sec)\n",
      "INFO:tensorflow:global_step/sec: 601.462\n",
      "INFO:tensorflow:loss = 38.262527, step = 11600 (0.166 sec)\n",
      "INFO:tensorflow:global_step/sec: 609.453\n",
      "INFO:tensorflow:loss = 26.374014, step = 11700 (0.164 sec)\n",
      "INFO:tensorflow:global_step/sec: 611.235\n",
      "INFO:tensorflow:loss = 39.07757, step = 11800 (0.164 sec)\n",
      "INFO:tensorflow:global_step/sec: 602.921\n",
      "INFO:tensorflow:loss = 41.0062, step = 11900 (0.166 sec)\n",
      "INFO:tensorflow:global_step/sec: 602.694\n",
      "INFO:tensorflow:loss = 11.513717, step = 12000 (0.166 sec)\n",
      "INFO:tensorflow:global_step/sec: 608.999\n",
      "INFO:tensorflow:loss = 32.633133, step = 12100 (0.164 sec)\n",
      "INFO:tensorflow:global_step/sec: 595.658\n",
      "INFO:tensorflow:loss = 27.65621, step = 12200 (0.168 sec)\n",
      "INFO:tensorflow:global_step/sec: 609\n",
      "INFO:tensorflow:loss = 80.21222, step = 12300 (0.164 sec)\n",
      "INFO:tensorflow:global_step/sec: 608.706\n",
      "INFO:tensorflow:loss = 38.21443, step = 12400 (0.164 sec)\n",
      "INFO:tensorflow:global_step/sec: 606.311\n",
      "INFO:tensorflow:loss = 35.619156, step = 12500 (0.165 sec)\n",
      "INFO:tensorflow:global_step/sec: 608.527\n",
      "INFO:tensorflow:loss = 10.762424, step = 12600 (0.164 sec)\n",
      "INFO:tensorflow:global_step/sec: 596.98\n",
      "INFO:tensorflow:loss = 11.522208, step = 12700 (0.167 sec)\n",
      "INFO:tensorflow:global_step/sec: 603.401\n",
      "INFO:tensorflow:loss = 5.938079, step = 12800 (0.166 sec)\n",
      "INFO:tensorflow:global_step/sec: 607.507\n",
      "INFO:tensorflow:loss = 18.7967, step = 12900 (0.165 sec)\n",
      "INFO:tensorflow:global_step/sec: 606.794\n",
      "INFO:tensorflow:loss = 20.214, step = 13000 (0.165 sec)\n",
      "INFO:tensorflow:global_step/sec: 609.062\n",
      "INFO:tensorflow:loss = 33.071213, step = 13100 (0.164 sec)\n",
      "INFO:tensorflow:global_step/sec: 605.735\n",
      "INFO:tensorflow:loss = 31.293764, step = 13200 (0.165 sec)\n",
      "INFO:tensorflow:global_step/sec: 607.502\n",
      "INFO:tensorflow:loss = 12.629317, step = 13300 (0.165 sec)\n",
      "INFO:tensorflow:global_step/sec: 608.678\n",
      "INFO:tensorflow:loss = 14.218715, step = 13400 (0.164 sec)\n",
      "INFO:tensorflow:global_step/sec: 607.488\n",
      "INFO:tensorflow:loss = 26.199917, step = 13500 (0.165 sec)\n",
      "INFO:tensorflow:global_step/sec: 604.629\n",
      "INFO:tensorflow:loss = 5.435256, step = 13600 (0.165 sec)\n",
      "INFO:tensorflow:global_step/sec: 610.282\n",
      "INFO:tensorflow:loss = 16.59472, step = 13700 (0.164 sec)\n",
      "INFO:tensorflow:global_step/sec: 616.118\n",
      "INFO:tensorflow:loss = 16.815441, step = 13800 (0.162 sec)\n",
      "INFO:tensorflow:global_step/sec: 605.576\n",
      "INFO:tensorflow:loss = 18.003456, step = 13900 (0.165 sec)\n",
      "INFO:tensorflow:global_step/sec: 605.57\n",
      "INFO:tensorflow:loss = 9.101876, step = 14000 (0.165 sec)\n",
      "INFO:tensorflow:global_step/sec: 600.381\n",
      "INFO:tensorflow:loss = 16.405924, step = 14100 (0.167 sec)\n",
      "INFO:tensorflow:global_step/sec: 601.84\n",
      "INFO:tensorflow:loss = 11.358658, step = 14200 (0.166 sec)\n",
      "INFO:tensorflow:global_step/sec: 607.085\n",
      "INFO:tensorflow:loss = 15.51166, step = 14300 (0.165 sec)\n",
      "INFO:tensorflow:global_step/sec: 607.916\n",
      "INFO:tensorflow:loss = 27.684124, step = 14400 (0.164 sec)\n",
      "INFO:tensorflow:global_step/sec: 587.864\n",
      "INFO:tensorflow:loss = 13.142756, step = 14500 (0.170 sec)\n",
      "INFO:tensorflow:global_step/sec: 601.048\n",
      "INFO:tensorflow:loss = 24.95385, step = 14600 (0.167 sec)\n",
      "INFO:tensorflow:global_step/sec: 608.581\n",
      "INFO:tensorflow:loss = 15.6557865, step = 14700 (0.164 sec)\n",
      "INFO:tensorflow:global_step/sec: 611.622\n",
      "INFO:tensorflow:loss = 10.379879, step = 14800 (0.164 sec)\n",
      "INFO:tensorflow:global_step/sec: 610.372\n",
      "INFO:tensorflow:loss = 7.709038, step = 14900 (0.164 sec)\n",
      "INFO:tensorflow:global_step/sec: 616.309\n",
      "INFO:tensorflow:loss = 23.517546, step = 15000 (0.162 sec)\n",
      "INFO:tensorflow:global_step/sec: 604.346\n",
      "INFO:tensorflow:loss = 40.877735, step = 15100 (0.165 sec)\n",
      "INFO:tensorflow:global_step/sec: 615.822\n",
      "INFO:tensorflow:loss = 11.076447, step = 15200 (0.162 sec)\n",
      "INFO:tensorflow:global_step/sec: 610.551\n",
      "INFO:tensorflow:loss = 16.282972, step = 15300 (0.164 sec)\n",
      "INFO:tensorflow:global_step/sec: 607.242\n",
      "INFO:tensorflow:loss = 6.8650227, step = 15400 (0.165 sec)\n",
      "INFO:tensorflow:global_step/sec: 674.284\n",
      "INFO:tensorflow:loss = 17.083073, step = 15500 (0.148 sec)\n",
      "INFO:tensorflow:global_step/sec: 739.228\n",
      "INFO:tensorflow:loss = 15.280033, step = 15600 (0.135 sec)\n",
      "INFO:tensorflow:global_step/sec: 762.612\n",
      "INFO:tensorflow:loss = 8.369352, step = 15700 (0.131 sec)\n",
      "INFO:tensorflow:global_step/sec: 744.624\n",
      "INFO:tensorflow:loss = 8.618115, step = 15800 (0.134 sec)\n",
      "INFO:tensorflow:global_step/sec: 754.731\n",
      "INFO:tensorflow:loss = 10.968094, step = 15900 (0.132 sec)\n",
      "INFO:tensorflow:global_step/sec: 749.999\n",
      "INFO:tensorflow:loss = 19.594482, step = 16000 (0.133 sec)\n",
      "INFO:tensorflow:global_step/sec: 746.238\n",
      "INFO:tensorflow:loss = 47.87027, step = 16100 (0.134 sec)\n",
      "INFO:tensorflow:global_step/sec: 764.314\n",
      "INFO:tensorflow:loss = 49.53106, step = 16200 (0.131 sec)\n",
      "INFO:tensorflow:global_step/sec: 756.615\n",
      "INFO:tensorflow:loss = 18.40356, step = 16300 (0.132 sec)\n",
      "INFO:tensorflow:global_step/sec: 772.288\n",
      "INFO:tensorflow:loss = 19.90119, step = 16400 (0.130 sec)\n",
      "INFO:tensorflow:global_step/sec: 757.055\n",
      "INFO:tensorflow:loss = 17.226856, step = 16500 (0.132 sec)\n",
      "INFO:tensorflow:global_step/sec: 697.754\n",
      "INFO:tensorflow:loss = 8.586212, step = 16600 (0.143 sec)\n",
      "INFO:tensorflow:global_step/sec: 606.509\n",
      "INFO:tensorflow:loss = 18.545927, step = 16700 (0.165 sec)\n",
      "INFO:tensorflow:global_step/sec: 612.569\n",
      "INFO:tensorflow:loss = 23.221504, step = 16800 (0.163 sec)\n",
      "INFO:tensorflow:global_step/sec: 606.226\n",
      "INFO:tensorflow:loss = 8.447188, step = 16900 (0.165 sec)\n",
      "INFO:tensorflow:global_step/sec: 610.809\n",
      "INFO:tensorflow:loss = 13.326759, step = 17000 (0.164 sec)\n",
      "INFO:tensorflow:global_step/sec: 605.898\n",
      "INFO:tensorflow:loss = 11.969912, step = 17100 (0.165 sec)\n",
      "INFO:tensorflow:global_step/sec: 603.404\n",
      "INFO:tensorflow:loss = 18.360952, step = 17200 (0.166 sec)\n",
      "INFO:tensorflow:global_step/sec: 604.536\n",
      "INFO:tensorflow:loss = 11.262244, step = 17300 (0.165 sec)\n",
      "INFO:tensorflow:global_step/sec: 607.551\n",
      "INFO:tensorflow:loss = 32.929844, step = 17400 (0.165 sec)\n",
      "INFO:tensorflow:global_step/sec: 609.551\n",
      "INFO:tensorflow:loss = 20.396812, step = 17500 (0.164 sec)\n",
      "INFO:tensorflow:global_step/sec: 605.031\n",
      "INFO:tensorflow:loss = 12.920612, step = 17600 (0.165 sec)\n",
      "INFO:tensorflow:global_step/sec: 611.482\n",
      "INFO:tensorflow:loss = 9.952381, step = 17700 (0.164 sec)\n",
      "INFO:tensorflow:global_step/sec: 613.001\n",
      "INFO:tensorflow:loss = 28.488035, step = 17800 (0.163 sec)\n",
      "INFO:tensorflow:global_step/sec: 611.831\n",
      "INFO:tensorflow:loss = 27.86641, step = 17900 (0.163 sec)\n",
      "INFO:tensorflow:global_step/sec: 616.497\n",
      "INFO:tensorflow:loss = 17.584126, step = 18000 (0.162 sec)\n",
      "INFO:tensorflow:global_step/sec: 613.092\n",
      "INFO:tensorflow:loss = 8.948881, step = 18100 (0.163 sec)\n",
      "INFO:tensorflow:global_step/sec: 614.748\n",
      "INFO:tensorflow:loss = 5.8416195, step = 18200 (0.163 sec)\n",
      "INFO:tensorflow:global_step/sec: 610.935\n",
      "INFO:tensorflow:loss = 13.873205, step = 18300 (0.164 sec)\n",
      "INFO:tensorflow:global_step/sec: 615.909\n",
      "INFO:tensorflow:loss = 20.545958, step = 18400 (0.162 sec)\n",
      "INFO:tensorflow:global_step/sec: 756.712\n",
      "INFO:tensorflow:loss = 2.066881, step = 18500 (0.132 sec)\n",
      "INFO:tensorflow:global_step/sec: 781.41\n",
      "INFO:tensorflow:loss = 16.299616, step = 18600 (0.128 sec)\n",
      "INFO:tensorflow:global_step/sec: 772.12\n",
      "INFO:tensorflow:loss = 4.5948644, step = 18700 (0.130 sec)\n",
      "INFO:tensorflow:global_step/sec: 770.107\n",
      "INFO:tensorflow:loss = 11.63568, step = 18800 (0.130 sec)\n",
      "INFO:tensorflow:global_step/sec: 774.62\n",
      "INFO:tensorflow:loss = 12.472652, step = 18900 (0.129 sec)\n",
      "INFO:tensorflow:global_step/sec: 768.344\n",
      "INFO:tensorflow:loss = 8.941952, step = 19000 (0.130 sec)\n",
      "INFO:tensorflow:global_step/sec: 626.681\n",
      "INFO:tensorflow:loss = 5.836118, step = 19100 (0.160 sec)\n",
      "INFO:tensorflow:global_step/sec: 605.548\n",
      "INFO:tensorflow:loss = 21.993288, step = 19200 (0.165 sec)\n",
      "INFO:tensorflow:global_step/sec: 611.955\n",
      "INFO:tensorflow:loss = 19.100883, step = 19300 (0.163 sec)\n",
      "INFO:tensorflow:global_step/sec: 614.95\n",
      "INFO:tensorflow:loss = 34.08346, step = 19400 (0.163 sec)\n",
      "INFO:tensorflow:global_step/sec: 608.846\n",
      "INFO:tensorflow:loss = 11.387133, step = 19500 (0.164 sec)\n",
      "INFO:tensorflow:global_step/sec: 611.662\n",
      "INFO:tensorflow:loss = 9.136641, step = 19600 (0.164 sec)\n",
      "INFO:tensorflow:global_step/sec: 610.799\n",
      "INFO:tensorflow:loss = 15.39927, step = 19700 (0.164 sec)\n",
      "INFO:tensorflow:global_step/sec: 609.212\n",
      "INFO:tensorflow:loss = 12.568081, step = 19800 (0.164 sec)\n",
      "INFO:tensorflow:global_step/sec: 611.52\n",
      "INFO:tensorflow:loss = 21.756775, step = 19900 (0.164 sec)\n",
      "INFO:tensorflow:global_step/sec: 610.826\n",
      "INFO:tensorflow:loss = 14.076336, step = 20000 (0.164 sec)\n",
      "INFO:tensorflow:global_step/sec: 611.464\n",
      "INFO:tensorflow:loss = 16.634796, step = 20100 (0.164 sec)\n",
      "INFO:tensorflow:global_step/sec: 614.801\n",
      "INFO:tensorflow:loss = 10.392862, step = 20200 (0.163 sec)\n",
      "INFO:tensorflow:global_step/sec: 610.627\n",
      "INFO:tensorflow:loss = 31.27934, step = 20300 (0.164 sec)\n",
      "INFO:tensorflow:global_step/sec: 604.712\n",
      "INFO:tensorflow:loss = 40.382988, step = 20400 (0.165 sec)\n",
      "INFO:tensorflow:global_step/sec: 612.132\n",
      "INFO:tensorflow:loss = 8.734255, step = 20500 (0.163 sec)\n",
      "INFO:tensorflow:global_step/sec: 609.701\n",
      "INFO:tensorflow:loss = 27.545942, step = 20600 (0.164 sec)\n",
      "INFO:tensorflow:global_step/sec: 615.364\n",
      "INFO:tensorflow:loss = 8.844204, step = 20700 (0.163 sec)\n",
      "INFO:tensorflow:global_step/sec: 612.615\n",
      "INFO:tensorflow:loss = 26.93731, step = 20800 (0.163 sec)\n",
      "INFO:tensorflow:global_step/sec: 609.244\n",
      "INFO:tensorflow:loss = 19.305067, step = 20900 (0.164 sec)\n",
      "INFO:tensorflow:global_step/sec: 558.601\n",
      "INFO:tensorflow:loss = 10.0130205, step = 21000 (0.179 sec)\n",
      "INFO:tensorflow:global_step/sec: 605.761\n",
      "INFO:tensorflow:loss = 11.569003, step = 21100 (0.165 sec)\n",
      "INFO:tensorflow:global_step/sec: 604.735\n",
      "INFO:tensorflow:loss = 34.495773, step = 21200 (0.165 sec)\n",
      "INFO:tensorflow:global_step/sec: 602.215\n",
      "INFO:tensorflow:loss = 13.63604, step = 21300 (0.166 sec)\n",
      "INFO:tensorflow:global_step/sec: 616.56\n",
      "INFO:tensorflow:loss = 26.493355, step = 21400 (0.162 sec)\n",
      "INFO:tensorflow:global_step/sec: 601.674\n",
      "INFO:tensorflow:loss = 12.689213, step = 21500 (0.166 sec)\n",
      "INFO:tensorflow:global_step/sec: 603.798\n",
      "INFO:tensorflow:loss = 10.207602, step = 21600 (0.166 sec)\n",
      "INFO:tensorflow:global_step/sec: 599.011\n",
      "INFO:tensorflow:loss = 16.83073, step = 21700 (0.167 sec)\n",
      "INFO:tensorflow:global_step/sec: 608.903\n",
      "INFO:tensorflow:loss = 10.836359, step = 21800 (0.164 sec)\n",
      "INFO:tensorflow:global_step/sec: 606.629\n",
      "INFO:tensorflow:loss = 34.256092, step = 21900 (0.165 sec)\n",
      "INFO:tensorflow:global_step/sec: 604.292\n",
      "INFO:tensorflow:loss = 15.966996, step = 22000 (0.165 sec)\n",
      "INFO:tensorflow:global_step/sec: 607.63\n",
      "INFO:tensorflow:loss = 15.95005, step = 22100 (0.164 sec)\n",
      "INFO:tensorflow:global_step/sec: 604.487\n",
      "INFO:tensorflow:loss = 5.6824765, step = 22200 (0.166 sec)\n",
      "INFO:tensorflow:global_step/sec: 603.422\n",
      "INFO:tensorflow:loss = 10.286382, step = 22300 (0.166 sec)\n",
      "INFO:tensorflow:global_step/sec: 603.339\n",
      "INFO:tensorflow:loss = 28.465061, step = 22400 (0.166 sec)\n",
      "INFO:tensorflow:global_step/sec: 607.018\n",
      "INFO:tensorflow:loss = 2.88454, step = 22500 (0.165 sec)\n",
      "INFO:tensorflow:global_step/sec: 598.424\n",
      "INFO:tensorflow:loss = 27.438784, step = 22600 (0.167 sec)\n",
      "INFO:tensorflow:global_step/sec: 608.424\n",
      "INFO:tensorflow:loss = 5.9430523, step = 22700 (0.164 sec)\n",
      "INFO:tensorflow:global_step/sec: 606.829\n",
      "INFO:tensorflow:loss = 13.255681, step = 22800 (0.165 sec)\n",
      "INFO:tensorflow:global_step/sec: 607.999\n",
      "INFO:tensorflow:loss = 11.189652, step = 22900 (0.164 sec)\n",
      "INFO:tensorflow:global_step/sec: 601.59\n",
      "INFO:tensorflow:loss = 19.604465, step = 23000 (0.166 sec)\n",
      "INFO:tensorflow:global_step/sec: 608.021\n",
      "INFO:tensorflow:loss = 3.9995828, step = 23100 (0.165 sec)\n",
      "INFO:tensorflow:global_step/sec: 601.434\n",
      "INFO:tensorflow:loss = 21.67474, step = 23200 (0.166 sec)\n",
      "INFO:tensorflow:global_step/sec: 613.374\n",
      "INFO:tensorflow:loss = 9.510488, step = 23300 (0.163 sec)\n",
      "INFO:tensorflow:global_step/sec: 616.818\n",
      "INFO:tensorflow:loss = 38.460045, step = 23400 (0.162 sec)\n",
      "INFO:tensorflow:global_step/sec: 602.982\n",
      "INFO:tensorflow:loss = 23.460163, step = 23500 (0.166 sec)\n",
      "INFO:tensorflow:global_step/sec: 609.268\n",
      "INFO:tensorflow:loss = 17.171442, step = 23600 (0.164 sec)\n",
      "INFO:tensorflow:global_step/sec: 610.147\n",
      "INFO:tensorflow:loss = 14.378641, step = 23700 (0.164 sec)\n",
      "INFO:tensorflow:global_step/sec: 603.86\n",
      "INFO:tensorflow:loss = 14.936234, step = 23800 (0.166 sec)\n",
      "INFO:tensorflow:global_step/sec: 611.93\n",
      "INFO:tensorflow:loss = 14.854445, step = 23900 (0.163 sec)\n",
      "INFO:tensorflow:global_step/sec: 618.821\n",
      "INFO:tensorflow:loss = 22.6666, step = 24000 (0.161 sec)\n",
      "INFO:tensorflow:global_step/sec: 620.802\n",
      "INFO:tensorflow:loss = 8.079822, step = 24100 (0.161 sec)\n",
      "INFO:tensorflow:global_step/sec: 553.731\n",
      "INFO:tensorflow:loss = 15.68051, step = 24200 (0.181 sec)\n",
      "INFO:tensorflow:global_step/sec: 552.014\n",
      "INFO:tensorflow:loss = 49.282066, step = 24300 (0.181 sec)\n",
      "INFO:tensorflow:global_step/sec: 608.417\n",
      "INFO:tensorflow:loss = 16.399416, step = 24400 (0.164 sec)\n",
      "INFO:tensorflow:global_step/sec: 614.481\n",
      "INFO:tensorflow:loss = 22.882565, step = 24500 (0.163 sec)\n",
      "INFO:tensorflow:global_step/sec: 609.287\n",
      "INFO:tensorflow:loss = 36.95665, step = 24600 (0.164 sec)\n",
      "INFO:tensorflow:global_step/sec: 612.596\n",
      "INFO:tensorflow:loss = 13.419166, step = 24700 (0.163 sec)\n",
      "INFO:tensorflow:global_step/sec: 614.013\n",
      "INFO:tensorflow:loss = 10.809979, step = 24800 (0.163 sec)\n",
      "INFO:tensorflow:global_step/sec: 600.459\n",
      "INFO:tensorflow:loss = 2.9137425, step = 24900 (0.167 sec)\n",
      "INFO:tensorflow:global_step/sec: 685.728\n",
      "INFO:tensorflow:loss = 25.615978, step = 25000 (0.146 sec)\n",
      "INFO:tensorflow:global_step/sec: 744.237\n",
      "INFO:tensorflow:loss = 10.670422, step = 25100 (0.134 sec)\n",
      "INFO:tensorflow:global_step/sec: 757.144\n",
      "INFO:tensorflow:loss = 11.097601, step = 25200 (0.132 sec)\n",
      "INFO:tensorflow:global_step/sec: 732.711\n",
      "INFO:tensorflow:loss = 25.267418, step = 25300 (0.136 sec)\n",
      "INFO:tensorflow:global_step/sec: 774.527\n",
      "INFO:tensorflow:loss = 8.309276, step = 25400 (0.129 sec)\n",
      "INFO:tensorflow:global_step/sec: 753.369\n",
      "INFO:tensorflow:loss = 6.0909967, step = 25500 (0.133 sec)\n",
      "INFO:tensorflow:global_step/sec: 745.901\n",
      "INFO:tensorflow:loss = 25.735033, step = 25600 (0.134 sec)\n",
      "INFO:tensorflow:global_step/sec: 760.032\n",
      "INFO:tensorflow:loss = 7.798992, step = 25700 (0.132 sec)\n",
      "INFO:tensorflow:global_step/sec: 763.56\n",
      "INFO:tensorflow:loss = 7.57805, step = 25800 (0.131 sec)\n",
      "INFO:tensorflow:global_step/sec: 733.36\n",
      "INFO:tensorflow:loss = 6.260689, step = 25900 (0.137 sec)\n",
      "INFO:tensorflow:global_step/sec: 740.984\n",
      "INFO:tensorflow:loss = 11.36092, step = 26000 (0.135 sec)\n",
      "INFO:tensorflow:global_step/sec: 752.378\n",
      "INFO:tensorflow:loss = 6.9703417, step = 26100 (0.133 sec)\n",
      "INFO:tensorflow:global_step/sec: 759.179\n",
      "INFO:tensorflow:loss = 9.569019, step = 26200 (0.132 sec)\n",
      "INFO:tensorflow:global_step/sec: 745.488\n",
      "INFO:tensorflow:loss = 18.731903, step = 26300 (0.134 sec)\n",
      "INFO:tensorflow:global_step/sec: 736.009\n",
      "INFO:tensorflow:loss = 14.059604, step = 26400 (0.136 sec)\n",
      "INFO:tensorflow:global_step/sec: 733.205\n",
      "INFO:tensorflow:loss = 19.93857, step = 26500 (0.136 sec)\n",
      "INFO:tensorflow:global_step/sec: 748.705\n",
      "INFO:tensorflow:loss = 17.956787, step = 26600 (0.134 sec)\n",
      "INFO:tensorflow:global_step/sec: 729.537\n",
      "INFO:tensorflow:loss = 3.5695877, step = 26700 (0.137 sec)\n",
      "INFO:tensorflow:global_step/sec: 750.863\n",
      "INFO:tensorflow:loss = 10.5764885, step = 26800 (0.133 sec)\n",
      "INFO:tensorflow:global_step/sec: 741.196\n",
      "INFO:tensorflow:loss = 14.619806, step = 26900 (0.135 sec)\n",
      "INFO:tensorflow:global_step/sec: 649.018\n",
      "INFO:tensorflow:loss = 13.653896, step = 27000 (0.154 sec)\n",
      "INFO:tensorflow:global_step/sec: 610.383\n",
      "INFO:tensorflow:loss = 8.245964, step = 27100 (0.164 sec)\n",
      "INFO:tensorflow:global_step/sec: 606.626\n",
      "INFO:tensorflow:loss = 20.350132, step = 27200 (0.165 sec)\n",
      "INFO:tensorflow:global_step/sec: 603.537\n",
      "INFO:tensorflow:loss = 8.16834, step = 27300 (0.166 sec)\n",
      "INFO:tensorflow:global_step/sec: 599.621\n",
      "INFO:tensorflow:loss = 8.52783, step = 27400 (0.167 sec)\n",
      "INFO:tensorflow:global_step/sec: 600.211\n",
      "INFO:tensorflow:loss = 8.029388, step = 27500 (0.167 sec)\n",
      "INFO:tensorflow:global_step/sec: 601.51\n",
      "INFO:tensorflow:loss = 17.739235, step = 27600 (0.166 sec)\n",
      "INFO:tensorflow:global_step/sec: 613.108\n",
      "INFO:tensorflow:loss = 6.0851307, step = 27700 (0.163 sec)\n",
      "INFO:tensorflow:global_step/sec: 605.336\n",
      "INFO:tensorflow:loss = 13.124583, step = 27800 (0.165 sec)\n",
      "INFO:tensorflow:global_step/sec: 606.811\n",
      "INFO:tensorflow:loss = 8.335943, step = 27900 (0.165 sec)\n",
      "INFO:tensorflow:global_step/sec: 607.242\n",
      "INFO:tensorflow:loss = 10.207844, step = 28000 (0.165 sec)\n",
      "INFO:tensorflow:global_step/sec: 608.625\n",
      "INFO:tensorflow:loss = 11.327834, step = 28100 (0.164 sec)\n",
      "INFO:tensorflow:global_step/sec: 608.721\n",
      "INFO:tensorflow:loss = 19.798035, step = 28200 (0.164 sec)\n",
      "INFO:tensorflow:global_step/sec: 603.486\n",
      "INFO:tensorflow:loss = 18.708885, step = 28300 (0.166 sec)\n",
      "INFO:tensorflow:global_step/sec: 614.562\n",
      "INFO:tensorflow:loss = 7.7426343, step = 28400 (0.163 sec)\n",
      "INFO:tensorflow:global_step/sec: 605.068\n",
      "INFO:tensorflow:loss = 19.358358, step = 28500 (0.165 sec)\n",
      "INFO:tensorflow:global_step/sec: 608.208\n",
      "INFO:tensorflow:loss = 18.976181, step = 28600 (0.164 sec)\n",
      "INFO:tensorflow:global_step/sec: 608.223\n",
      "INFO:tensorflow:loss = 7.950467, step = 28700 (0.165 sec)\n",
      "INFO:tensorflow:global_step/sec: 613.428\n",
      "INFO:tensorflow:loss = 26.61744, step = 28800 (0.163 sec)\n",
      "INFO:tensorflow:global_step/sec: 605.761\n",
      "INFO:tensorflow:loss = 6.503431, step = 28900 (0.165 sec)\n",
      "INFO:tensorflow:global_step/sec: 608.031\n",
      "INFO:tensorflow:loss = 11.75782, step = 29000 (0.164 sec)\n",
      "INFO:tensorflow:global_step/sec: 606.465\n",
      "INFO:tensorflow:loss = 2.7832427, step = 29100 (0.165 sec)\n",
      "INFO:tensorflow:global_step/sec: 600.807\n",
      "INFO:tensorflow:loss = 10.834962, step = 29200 (0.166 sec)\n",
      "INFO:tensorflow:global_step/sec: 602.098\n",
      "INFO:tensorflow:loss = 6.8787136, step = 29300 (0.166 sec)\n",
      "INFO:tensorflow:global_step/sec: 602.762\n",
      "INFO:tensorflow:loss = 6.808033, step = 29400 (0.166 sec)\n",
      "INFO:tensorflow:global_step/sec: 610.062\n",
      "INFO:tensorflow:loss = 9.8611145, step = 29500 (0.164 sec)\n",
      "INFO:tensorflow:global_step/sec: 608.143\n",
      "INFO:tensorflow:loss = 2.415665, step = 29600 (0.164 sec)\n",
      "INFO:tensorflow:global_step/sec: 611.1\n",
      "INFO:tensorflow:loss = 18.143162, step = 29700 (0.164 sec)\n",
      "INFO:tensorflow:global_step/sec: 605.798\n",
      "INFO:tensorflow:loss = 32.53024, step = 29800 (0.165 sec)\n",
      "INFO:tensorflow:global_step/sec: 608.495\n",
      "INFO:tensorflow:loss = 20.985128, step = 29900 (0.164 sec)\n",
      "INFO:tensorflow:global_step/sec: 605.6\n",
      "INFO:tensorflow:loss = 6.416387, step = 30000 (0.165 sec)\n",
      "INFO:tensorflow:global_step/sec: 602.897\n",
      "INFO:tensorflow:loss = 9.8632765, step = 30100 (0.166 sec)\n",
      "INFO:tensorflow:global_step/sec: 610.569\n",
      "INFO:tensorflow:loss = 11.159876, step = 30200 (0.164 sec)\n",
      "INFO:tensorflow:global_step/sec: 604.003\n",
      "INFO:tensorflow:loss = 9.881433, step = 30300 (0.166 sec)\n",
      "INFO:tensorflow:global_step/sec: 543.879\n",
      "INFO:tensorflow:loss = 9.262335, step = 30400 (0.184 sec)\n",
      "INFO:tensorflow:global_step/sec: 546.511\n",
      "INFO:tensorflow:loss = 17.03417, step = 30500 (0.183 sec)\n",
      "INFO:tensorflow:global_step/sec: 545.885\n",
      "INFO:tensorflow:loss = 10.3673935, step = 30600 (0.183 sec)\n",
      "INFO:tensorflow:global_step/sec: 546.124\n",
      "INFO:tensorflow:loss = 25.351206, step = 30700 (0.183 sec)\n",
      "INFO:tensorflow:global_step/sec: 543.776\n",
      "INFO:tensorflow:loss = 8.311635, step = 30800 (0.184 sec)\n",
      "INFO:tensorflow:global_step/sec: 542.803\n",
      "INFO:tensorflow:loss = 8.52332, step = 30900 (0.184 sec)\n",
      "INFO:tensorflow:global_step/sec: 544.122\n",
      "INFO:tensorflow:loss = 10.649828, step = 31000 (0.184 sec)\n",
      "INFO:tensorflow:global_step/sec: 544.884\n",
      "INFO:tensorflow:loss = 22.182236, step = 31100 (0.183 sec)\n",
      "INFO:tensorflow:global_step/sec: 546.106\n",
      "INFO:tensorflow:loss = 20.22522, step = 31200 (0.183 sec)\n",
      "INFO:tensorflow:global_step/sec: 543.58\n",
      "INFO:tensorflow:loss = 14.5345745, step = 31300 (0.184 sec)\n",
      "INFO:tensorflow:global_step/sec: 545.816\n",
      "INFO:tensorflow:loss = 9.6771145, step = 31400 (0.183 sec)\n",
      "INFO:tensorflow:global_step/sec: 544.645\n",
      "INFO:tensorflow:loss = 2.5696018, step = 31500 (0.183 sec)\n",
      "INFO:tensorflow:global_step/sec: 544.149\n",
      "INFO:tensorflow:loss = 9.068397, step = 31600 (0.184 sec)\n",
      "INFO:tensorflow:global_step/sec: 546.632\n",
      "INFO:tensorflow:loss = 6.858538, step = 31700 (0.183 sec)\n",
      "INFO:tensorflow:global_step/sec: 570.394\n",
      "INFO:tensorflow:loss = 18.26683, step = 31800 (0.175 sec)\n",
      "INFO:tensorflow:global_step/sec: 543.878\n",
      "INFO:tensorflow:loss = 17.251534, step = 31900 (0.184 sec)\n",
      "INFO:tensorflow:global_step/sec: 542.828\n",
      "INFO:tensorflow:loss = 10.44895, step = 32000 (0.184 sec)\n",
      "INFO:tensorflow:global_step/sec: 543.41\n",
      "INFO:tensorflow:loss = 18.04864, step = 32100 (0.184 sec)\n",
      "INFO:tensorflow:global_step/sec: 544.2\n",
      "INFO:tensorflow:loss = 13.094084, step = 32200 (0.184 sec)\n",
      "INFO:tensorflow:global_step/sec: 546.057\n",
      "INFO:tensorflow:loss = 8.776364, step = 32300 (0.183 sec)\n",
      "INFO:tensorflow:global_step/sec: 643.668\n",
      "INFO:tensorflow:loss = 14.646915, step = 32400 (0.155 sec)\n",
      "INFO:tensorflow:global_step/sec: 775.954\n",
      "INFO:tensorflow:loss = 20.17769, step = 32500 (0.129 sec)\n",
      "INFO:tensorflow:global_step/sec: 770.345\n",
      "INFO:tensorflow:loss = 19.51951, step = 32600 (0.130 sec)\n",
      "INFO:tensorflow:global_step/sec: 775.36\n",
      "INFO:tensorflow:loss = 5.5544243, step = 32700 (0.129 sec)\n",
      "INFO:tensorflow:global_step/sec: 765.466\n",
      "INFO:tensorflow:loss = 37.185738, step = 32800 (0.131 sec)\n",
      "INFO:tensorflow:global_step/sec: 768.973\n",
      "INFO:tensorflow:loss = 5.7744956, step = 32900 (0.130 sec)\n",
      "INFO:tensorflow:global_step/sec: 773.062\n",
      "INFO:tensorflow:loss = 17.285326, step = 33000 (0.129 sec)\n",
      "INFO:tensorflow:global_step/sec: 768.782\n",
      "INFO:tensorflow:loss = 11.432161, step = 33100 (0.130 sec)\n",
      "INFO:tensorflow:global_step/sec: 769.416\n",
      "INFO:tensorflow:loss = 10.647139, step = 33200 (0.130 sec)\n",
      "INFO:tensorflow:global_step/sec: 568.848\n",
      "INFO:tensorflow:loss = 17.527779, step = 33300 (0.176 sec)\n",
      "INFO:tensorflow:global_step/sec: 565.42\n",
      "INFO:tensorflow:loss = 8.771994, step = 33400 (0.177 sec)\n",
      "INFO:tensorflow:global_step/sec: 547.723\n",
      "INFO:tensorflow:loss = 5.8024187, step = 33500 (0.183 sec)\n",
      "INFO:tensorflow:global_step/sec: 548.616\n",
      "INFO:tensorflow:loss = 12.336805, step = 33600 (0.182 sec)\n",
      "INFO:tensorflow:global_step/sec: 546.078\n",
      "INFO:tensorflow:loss = 11.5433445, step = 33700 (0.183 sec)\n",
      "INFO:tensorflow:global_step/sec: 546.044\n",
      "INFO:tensorflow:loss = 24.768154, step = 33800 (0.183 sec)\n",
      "INFO:tensorflow:global_step/sec: 546.071\n",
      "INFO:tensorflow:loss = 22.965652, step = 33900 (0.183 sec)\n",
      "INFO:tensorflow:global_step/sec: 548.37\n",
      "INFO:tensorflow:loss = 3.0824807, step = 34000 (0.182 sec)\n",
      "INFO:tensorflow:global_step/sec: 548.365\n",
      "INFO:tensorflow:loss = 4.8034067, step = 34100 (0.182 sec)\n",
      "INFO:tensorflow:global_step/sec: 550.658\n",
      "INFO:tensorflow:loss = 7.623246, step = 34200 (0.182 sec)\n",
      "INFO:tensorflow:global_step/sec: 549.428\n",
      "INFO:tensorflow:loss = 13.926509, step = 34300 (0.182 sec)\n",
      "INFO:tensorflow:global_step/sec: 548.851\n",
      "INFO:tensorflow:loss = 4.921852, step = 34400 (0.182 sec)\n",
      "INFO:tensorflow:global_step/sec: 593.461\n",
      "INFO:tensorflow:loss = 15.878366, step = 34500 (0.169 sec)\n",
      "INFO:tensorflow:global_step/sec: 547.936\n",
      "INFO:tensorflow:loss = 6.4329367, step = 34600 (0.182 sec)\n",
      "INFO:tensorflow:global_step/sec: 552.165\n",
      "INFO:tensorflow:loss = 21.83181, step = 34700 (0.181 sec)\n",
      "INFO:tensorflow:global_step/sec: 546.055\n",
      "INFO:tensorflow:loss = 15.049608, step = 34800 (0.183 sec)\n",
      "INFO:tensorflow:global_step/sec: 564.433\n",
      "INFO:tensorflow:loss = 24.10469, step = 34900 (0.177 sec)\n",
      "INFO:tensorflow:global_step/sec: 615.854\n",
      "INFO:tensorflow:loss = 16.756222, step = 35000 (0.162 sec)\n",
      "INFO:tensorflow:global_step/sec: 564.854\n",
      "INFO:tensorflow:loss = 26.640182, step = 35100 (0.177 sec)\n",
      "INFO:tensorflow:global_step/sec: 598.873\n",
      "INFO:tensorflow:loss = 14.472396, step = 35200 (0.167 sec)\n",
      "INFO:tensorflow:global_step/sec: 607.23\n",
      "INFO:tensorflow:loss = 9.683292, step = 35300 (0.165 sec)\n",
      "INFO:tensorflow:global_step/sec: 606.485\n",
      "INFO:tensorflow:loss = 12.334396, step = 35400 (0.165 sec)\n",
      "INFO:tensorflow:global_step/sec: 607.167\n",
      "INFO:tensorflow:loss = 14.236019, step = 35500 (0.165 sec)\n",
      "INFO:tensorflow:global_step/sec: 606.019\n",
      "INFO:tensorflow:loss = 2.557418, step = 35600 (0.165 sec)\n",
      "INFO:tensorflow:global_step/sec: 604.564\n",
      "INFO:tensorflow:loss = 6.4518137, step = 35700 (0.165 sec)\n",
      "INFO:tensorflow:global_step/sec: 602.769\n",
      "INFO:tensorflow:loss = 7.5966053, step = 35800 (0.166 sec)\n",
      "INFO:tensorflow:global_step/sec: 606.048\n",
      "INFO:tensorflow:loss = 2.8703623, step = 35900 (0.165 sec)\n",
      "INFO:tensorflow:global_step/sec: 606.159\n",
      "INFO:tensorflow:loss = 13.266034, step = 36000 (0.165 sec)\n",
      "INFO:tensorflow:global_step/sec: 608.452\n",
      "INFO:tensorflow:loss = 33.426186, step = 36100 (0.164 sec)\n",
      "INFO:tensorflow:global_step/sec: 614.914\n",
      "INFO:tensorflow:loss = 7.106618, step = 36200 (0.163 sec)\n",
      "INFO:tensorflow:global_step/sec: 579.671\n",
      "INFO:tensorflow:loss = 4.7745647, step = 36300 (0.173 sec)\n",
      "INFO:tensorflow:global_step/sec: 601.973\n",
      "INFO:tensorflow:loss = 5.621604, step = 36400 (0.166 sec)\n",
      "INFO:tensorflow:global_step/sec: 604.749\n",
      "INFO:tensorflow:loss = 13.650362, step = 36500 (0.165 sec)\n",
      "INFO:tensorflow:global_step/sec: 604.775\n",
      "INFO:tensorflow:loss = 8.876423, step = 36600 (0.165 sec)\n",
      "INFO:tensorflow:global_step/sec: 611.643\n",
      "INFO:tensorflow:loss = 4.1911793, step = 36700 (0.163 sec)\n",
      "INFO:tensorflow:global_step/sec: 604.658\n",
      "INFO:tensorflow:loss = 8.318517, step = 36800 (0.165 sec)\n",
      "INFO:tensorflow:global_step/sec: 587.601\n",
      "INFO:tensorflow:loss = 17.430899, step = 36900 (0.170 sec)\n",
      "INFO:tensorflow:global_step/sec: 551.054\n",
      "INFO:tensorflow:loss = 14.823732, step = 37000 (0.181 sec)\n",
      "INFO:tensorflow:global_step/sec: 553.571\n",
      "INFO:tensorflow:loss = 15.501139, step = 37100 (0.181 sec)\n",
      "INFO:tensorflow:global_step/sec: 547.342\n",
      "INFO:tensorflow:loss = 4.173862, step = 37200 (0.183 sec)\n",
      "INFO:tensorflow:global_step/sec: 550.411\n",
      "INFO:tensorflow:loss = 4.278327, step = 37300 (0.182 sec)\n",
      "INFO:tensorflow:global_step/sec: 623.356\n",
      "INFO:tensorflow:loss = 6.808351, step = 37400 (0.161 sec)\n",
      "INFO:tensorflow:global_step/sec: 633.486\n",
      "INFO:tensorflow:loss = 9.919334, step = 37500 (0.158 sec)\n",
      "INFO:tensorflow:global_step/sec: 634.199\n",
      "INFO:tensorflow:loss = 7.04196, step = 37600 (0.158 sec)\n",
      "INFO:tensorflow:global_step/sec: 632.811\n",
      "INFO:tensorflow:loss = 15.828875, step = 37700 (0.158 sec)\n",
      "INFO:tensorflow:global_step/sec: 622.919\n",
      "INFO:tensorflow:loss = 11.002477, step = 37800 (0.161 sec)\n",
      "INFO:tensorflow:global_step/sec: 632.102\n",
      "INFO:tensorflow:loss = 23.273972, step = 37900 (0.158 sec)\n",
      "INFO:tensorflow:global_step/sec: 625.609\n",
      "INFO:tensorflow:loss = 5.7780647, step = 38000 (0.160 sec)\n",
      "INFO:tensorflow:global_step/sec: 640.198\n",
      "INFO:tensorflow:loss = 24.69968, step = 38100 (0.156 sec)\n",
      "INFO:tensorflow:global_step/sec: 627.085\n",
      "INFO:tensorflow:loss = 14.841597, step = 38200 (0.159 sec)\n",
      "INFO:tensorflow:global_step/sec: 628.11\n",
      "INFO:tensorflow:loss = 9.693447, step = 38300 (0.159 sec)\n",
      "INFO:tensorflow:global_step/sec: 636.381\n",
      "INFO:tensorflow:loss = 8.004492, step = 38400 (0.157 sec)\n",
      "INFO:tensorflow:global_step/sec: 633.516\n",
      "INFO:tensorflow:loss = 8.497599, step = 38500 (0.158 sec)\n",
      "INFO:tensorflow:global_step/sec: 623.189\n",
      "INFO:tensorflow:loss = 12.888876, step = 38600 (0.160 sec)\n",
      "INFO:tensorflow:global_step/sec: 620.277\n",
      "INFO:tensorflow:loss = 3.6877656, step = 38700 (0.161 sec)\n",
      "INFO:tensorflow:global_step/sec: 623.356\n",
      "INFO:tensorflow:loss = 22.447525, step = 38800 (0.160 sec)\n",
      "INFO:tensorflow:global_step/sec: 635.261\n",
      "INFO:tensorflow:loss = 13.225922, step = 38900 (0.157 sec)\n",
      "INFO:tensorflow:global_step/sec: 631.679\n",
      "INFO:tensorflow:loss = 21.030441, step = 39000 (0.158 sec)\n",
      "INFO:tensorflow:global_step/sec: 631.577\n",
      "INFO:tensorflow:loss = 13.090731, step = 39100 (0.158 sec)\n",
      "INFO:tensorflow:global_step/sec: 622.036\n",
      "INFO:tensorflow:loss = 17.78622, step = 39200 (0.161 sec)\n",
      "INFO:tensorflow:global_step/sec: 627.711\n",
      "INFO:tensorflow:loss = 14.776085, step = 39300 (0.159 sec)\n",
      "INFO:tensorflow:global_step/sec: 632.626\n",
      "INFO:tensorflow:loss = 9.62057, step = 39400 (0.158 sec)\n",
      "INFO:tensorflow:global_step/sec: 637.925\n",
      "INFO:tensorflow:loss = 2.3708858, step = 39500 (0.157 sec)\n",
      "INFO:tensorflow:global_step/sec: 592.376\n",
      "INFO:tensorflow:loss = 11.080213, step = 39600 (0.169 sec)\n",
      "INFO:tensorflow:global_step/sec: 546.263\n",
      "INFO:tensorflow:loss = 5.8864245, step = 39700 (0.183 sec)\n",
      "INFO:tensorflow:global_step/sec: 545.308\n",
      "INFO:tensorflow:loss = 8.431757, step = 39800 (0.183 sec)\n",
      "INFO:tensorflow:global_step/sec: 545.548\n",
      "INFO:tensorflow:loss = 6.2483263, step = 39900 (0.183 sec)\n",
      "INFO:tensorflow:Saving checkpoints for 40000 into models/autompg-dnnregressor/model.ckpt.\n",
      "INFO:tensorflow:Loss for final step: 3.2347763.\n"
     ]
    },
    {
     "data": {
      "text/plain": [
       "<tensorflow_estimator.python.estimator.canned.dnn.DNNRegressorV2 at 0x7fea733d8e50>"
      ]
     },
     "execution_count": 12,
     "metadata": {},
     "output_type": "execute_result"
    }
   ],
   "source": [
    "EPOCHS = 1000\n",
    "BATCH_SIZE = 8\n",
    "total_steps = EPOCHS * int(np.ceil(len(df_train) / BATCH_SIZE))\n",
    "print('Training Steps: ', total_steps)\n",
    "\n",
    "regressor.train(\n",
    "    input_fn=lambda:train_input_fn(df_train_norm, batch_size=BATCH_SIZE),\n",
    "    steps=total_steps)\n"
   ]
  },
  {
   "cell_type": "code",
   "execution_count": 13,
   "metadata": {},
   "outputs": [
    {
     "name": "stdout",
     "output_type": "stream",
     "text": [
      "INFO:tensorflow:Using default config.\n",
      "INFO:tensorflow:Using config: {'_model_dir': 'models/autompg-dnnregressor/', '_tf_random_seed': None, '_save_summary_steps': 100, '_save_checkpoints_steps': None, '_save_checkpoints_secs': 600, '_session_config': allow_soft_placement: true\n",
      "graph_options {\n",
      "  rewrite_options {\n",
      "    meta_optimizer_iterations: ONE\n",
      "  }\n",
      "}\n",
      ", '_keep_checkpoint_max': 5, '_keep_checkpoint_every_n_hours': 10000, '_log_step_count_steps': 100, '_train_distribute': None, '_device_fn': None, '_protocol': None, '_eval_distribute': None, '_experimental_distribute': None, '_experimental_max_worker_delay_secs': None, '_session_creation_timeout_secs': 7200, '_service': None, '_cluster_spec': <tensorflow.python.training.server_lib.ClusterSpec object at 0x7fea70321050>, '_task_type': 'worker', '_task_id': 0, '_global_id_in_cluster': 0, '_master': '', '_evaluation_master': '', '_is_chief': True, '_num_ps_replicas': 0, '_num_worker_replicas': 1}\n"
     ]
    }
   ],
   "source": [
    "reloaded_regressor = tf.estimator.DNNRegressor(\n",
    "    feature_columns=all_feature_columns,\n",
    "    hidden_units=[32, 10],\n",
    "    warm_start_from='models/autompg-dnnregressor/',\n",
    "    model_dir='models/autompg-dnnregressor/')\n"
   ]
  },
  {
   "cell_type": "code",
   "execution_count": 14,
   "metadata": {},
   "outputs": [
    {
     "name": "stdout",
     "output_type": "stream",
     "text": [
      "INFO:tensorflow:Calling model_fn.\n",
      "WARNING:tensorflow:Layer dnn is casting an input tensor from dtype float64 to the layer's dtype of float32, which is new behavior in TensorFlow 2.  The layer has dtype float32 because it's dtype defaults to floatx.\n",
      "\n",
      "If you intended to run this layer in float32, you can safely ignore this warning. If in doubt, this warning is likely only an issue if you are porting a TensorFlow 1.X model to TensorFlow 2.\n",
      "\n",
      "To change all layers to have dtype float64 by default, call `tf.keras.backend.set_floatx('float64')`. To change just this layer, pass dtype='float64' to the layer constructor. If you are the author of this layer, you can disable autocasting by passing autocast=False to the base Layer constructor.\n",
      "\n",
      "INFO:tensorflow:Done calling model_fn.\n",
      "INFO:tensorflow:Starting evaluation at 2019-10-06T17:55:16Z\n",
      "INFO:tensorflow:Graph was finalized.\n",
      "INFO:tensorflow:Restoring parameters from models/autompg-dnnregressor/model.ckpt-40000\n",
      "INFO:tensorflow:Running local_init_op.\n",
      "INFO:tensorflow:Done running local_init_op.\n",
      "INFO:tensorflow:Finished evaluation at 2019-10-06-17:55:16\n",
      "INFO:tensorflow:Saving dict for global step 40000: average_loss = 15.186558, global_step = 40000, label/mean = 23.611393, loss = 15.09321, prediction/mean = 22.16366\n",
      "INFO:tensorflow:Saving 'checkpoint_path' summary for global step 40000: models/autompg-dnnregressor/model.ckpt-40000\n",
      "average_loss    15.18655776977539\n",
      "label/mean      23.611392974853516\n",
      "loss            15.093210220336914\n",
      "prediction/mean 22.163660049438477\n",
      "global_step     40000\n",
      "Average-Loss 15.1866\n"
     ]
    }
   ],
   "source": [
    "def eval_input_fn(df_test, batch_size=8):\n",
    "    df = df_test.copy()\n",
    "    test_x, test_y = df, df.pop('MPG')\n",
    "    dataset = tf.data.Dataset.from_tensor_slices((dict(test_x), test_y))\n",
    "\n",
    "    return dataset.batch(batch_size)\n",
    "\n",
    "eval_results = reloaded_regressor.evaluate(\n",
    "    input_fn=lambda:eval_input_fn(df_test_norm, batch_size=8))\n",
    "\n",
    "for key in eval_results:\n",
    "    print('{:15s} {}'.format(key, eval_results[key]))\n",
    "    \n",
    "print('Average-Loss {:.4f}'.format(eval_results['average_loss']))"
   ]
  },
  {
   "cell_type": "code",
   "execution_count": 15,
   "metadata": {},
   "outputs": [
    {
     "name": "stdout",
     "output_type": "stream",
     "text": [
      "INFO:tensorflow:Calling model_fn.\n",
      "WARNING:tensorflow:Layer dnn is casting an input tensor from dtype float64 to the layer's dtype of float32, which is new behavior in TensorFlow 2.  The layer has dtype float32 because it's dtype defaults to floatx.\n",
      "\n",
      "If you intended to run this layer in float32, you can safely ignore this warning. If in doubt, this warning is likely only an issue if you are porting a TensorFlow 1.X model to TensorFlow 2.\n",
      "\n",
      "To change all layers to have dtype float64 by default, call `tf.keras.backend.set_floatx('float64')`. To change just this layer, pass dtype='float64' to the layer constructor. If you are the author of this layer, you can disable autocasting by passing autocast=False to the base Layer constructor.\n",
      "\n",
      "INFO:tensorflow:Done calling model_fn.\n",
      "INFO:tensorflow:Graph was finalized.\n",
      "INFO:tensorflow:Restoring parameters from models/autompg-dnnregressor/model.ckpt-40000\n",
      "INFO:tensorflow:Running local_init_op.\n",
      "INFO:tensorflow:Done running local_init_op.\n",
      "{'predictions': array([23.747658], dtype=float32)}\n"
     ]
    }
   ],
   "source": [
    "\n",
    "\n",
    "pred_res = regressor.predict(input_fn=lambda: eval_input_fn(df_test_norm, batch_size=8))\n",
    "\n",
    "print(next(iter(pred_res)))"
   ]
  },
  {
   "cell_type": "markdown",
   "metadata": {},
   "source": [
    "#### Boosted Tree Regressor"
   ]
  },
  {
   "cell_type": "code",
   "execution_count": 18,
   "metadata": {},
   "outputs": [
    {
     "name": "stdout",
     "output_type": "stream",
     "text": [
      "INFO:tensorflow:Using default config.\n",
      "WARNING:tensorflow:Using temporary folder as model directory: /tmp/tmpos_6ksrf\n",
      "INFO:tensorflow:Using config: {'_model_dir': '/tmp/tmpos_6ksrf', '_tf_random_seed': None, '_save_summary_steps': 100, '_save_checkpoints_steps': None, '_save_checkpoints_secs': 600, '_session_config': allow_soft_placement: true\n",
      "graph_options {\n",
      "  rewrite_options {\n",
      "    meta_optimizer_iterations: ONE\n",
      "  }\n",
      "}\n",
      ", '_keep_checkpoint_max': 5, '_keep_checkpoint_every_n_hours': 10000, '_log_step_count_steps': 100, '_train_distribute': None, '_device_fn': None, '_protocol': None, '_eval_distribute': None, '_experimental_distribute': None, '_experimental_max_worker_delay_secs': None, '_session_creation_timeout_secs': 7200, '_service': None, '_cluster_spec': <tensorflow.python.training.server_lib.ClusterSpec object at 0x7fea70138e10>, '_task_type': 'worker', '_task_id': 0, '_global_id_in_cluster': 0, '_master': '', '_evaluation_master': '', '_is_chief': True, '_num_ps_replicas': 0, '_num_worker_replicas': 1}\n",
      "INFO:tensorflow:Calling model_fn.\n",
      "INFO:tensorflow:Done calling model_fn.\n",
      "INFO:tensorflow:Create CheckpointSaverHook.\n",
      "WARNING:tensorflow:Issue encountered when serializing resources.\n",
      "Type is unsupported, or the types of the items don't match field type in CollectionDef. Note this is a warning and probably safe to ignore.\n",
      "'_Resource' object has no attribute 'name'\n",
      "INFO:tensorflow:Graph was finalized.\n",
      "INFO:tensorflow:Running local_init_op.\n",
      "INFO:tensorflow:Done running local_init_op.\n",
      "WARNING:tensorflow:Issue encountered when serializing resources.\n",
      "Type is unsupported, or the types of the items don't match field type in CollectionDef. Note this is a warning and probably safe to ignore.\n",
      "'_Resource' object has no attribute 'name'\n",
      "INFO:tensorflow:Saving checkpoints for 0 into /tmp/tmpos_6ksrf/model.ckpt.\n",
      "WARNING:tensorflow:Issue encountered when serializing resources.\n",
      "Type is unsupported, or the types of the items don't match field type in CollectionDef. Note this is a warning and probably safe to ignore.\n",
      "'_Resource' object has no attribute 'name'\n",
      "INFO:tensorflow:loss = 623.53503, step = 0\n",
      "INFO:tensorflow:loss = 253.33023, step = 80 (0.447 sec)\n",
      "INFO:tensorflow:global_step/sec: 160.905\n",
      "INFO:tensorflow:loss = 86.758156, step = 180 (0.366 sec)\n",
      "INFO:tensorflow:global_step/sec: 420.518\n",
      "INFO:tensorflow:loss = 41.81453, step = 280 (0.247 sec)\n",
      "INFO:tensorflow:global_step/sec: 408.12\n",
      "INFO:tensorflow:loss = 10.729473, step = 380 (0.249 sec)\n",
      "INFO:tensorflow:global_step/sec: 401.775\n",
      "INFO:tensorflow:loss = 7.053065, step = 480 (0.251 sec)\n",
      "INFO:tensorflow:global_step/sec: 399.654\n",
      "INFO:tensorflow:loss = 5.803857, step = 580 (0.240 sec)\n",
      "INFO:tensorflow:global_step/sec: 392.589\n",
      "INFO:tensorflow:loss = 10.6741085, step = 680 (0.250 sec)\n",
      "INFO:tensorflow:global_step/sec: 410.962\n",
      "INFO:tensorflow:loss = 2.0203042, step = 780 (0.250 sec)\n",
      "INFO:tensorflow:global_step/sec: 405.152\n",
      "INFO:tensorflow:loss = 6.1307974, step = 880 (0.254 sec)\n",
      "INFO:tensorflow:global_step/sec: 399.381\n",
      "INFO:tensorflow:loss = 3.539592, step = 980 (0.255 sec)\n",
      "INFO:tensorflow:global_step/sec: 391.912\n",
      "INFO:tensorflow:loss = 4.290577, step = 1080 (0.255 sec)\n",
      "INFO:tensorflow:global_step/sec: 392.68\n",
      "INFO:tensorflow:loss = 1.6383308, step = 1180 (0.245 sec)\n",
      "INFO:tensorflow:global_step/sec: 387.588\n",
      "INFO:tensorflow:loss = 0.8708091, step = 1280 (0.253 sec)\n",
      "INFO:tensorflow:global_step/sec: 405.002\n",
      "INFO:tensorflow:loss = 1.3396549, step = 1380 (0.255 sec)\n",
      "INFO:tensorflow:global_step/sec: 400.188\n",
      "INFO:tensorflow:loss = 6.682251, step = 1480 (0.254 sec)\n",
      "INFO:tensorflow:global_step/sec: 394.264\n",
      "INFO:tensorflow:loss = 4.10042, step = 1580 (0.258 sec)\n",
      "INFO:tensorflow:global_step/sec: 388.049\n",
      "INFO:tensorflow:loss = 2.662496, step = 1680 (0.263 sec)\n",
      "INFO:tensorflow:global_step/sec: 380.532\n",
      "INFO:tensorflow:loss = 1.244699, step = 1780 (0.246 sec)\n",
      "INFO:tensorflow:global_step/sec: 388.456\n",
      "INFO:tensorflow:loss = 1.9717957, step = 1880 (0.249 sec)\n",
      "INFO:tensorflow:global_step/sec: 409.251\n",
      "INFO:tensorflow:loss = 0.9274743, step = 1980 (0.262 sec)\n",
      "INFO:tensorflow:global_step/sec: 386.986\n",
      "INFO:tensorflow:loss = 0.40791252, step = 2080 (0.261 sec)\n",
      "INFO:tensorflow:global_step/sec: 385.011\n",
      "INFO:tensorflow:loss = 0.65465933, step = 2180 (0.260 sec)\n",
      "INFO:tensorflow:global_step/sec: 386.87\n",
      "INFO:tensorflow:loss = 0.41372976, step = 2280 (0.263 sec)\n",
      "INFO:tensorflow:global_step/sec: 382.75\n",
      "INFO:tensorflow:loss = 1.3418026, step = 2380 (0.246 sec)\n",
      "INFO:tensorflow:global_step/sec: 384.233\n",
      "INFO:tensorflow:loss = 0.60337806, step = 2480 (0.254 sec)\n",
      "INFO:tensorflow:global_step/sec: 402.181\n",
      "INFO:tensorflow:loss = 1.4781059, step = 2580 (0.260 sec)\n",
      "INFO:tensorflow:global_step/sec: 389.426\n",
      "INFO:tensorflow:loss = 0.19650409, step = 2680 (0.264 sec)\n",
      "INFO:tensorflow:global_step/sec: 380.339\n",
      "INFO:tensorflow:loss = 1.1014357, step = 2780 (0.267 sec)\n",
      "INFO:tensorflow:global_step/sec: 375.959\n",
      "INFO:tensorflow:loss = 0.6665402, step = 2880 (0.269 sec)\n",
      "INFO:tensorflow:global_step/sec: 371.947\n",
      "INFO:tensorflow:loss = 0.3238989, step = 2980 (0.256 sec)\n",
      "INFO:tensorflow:global_step/sec: 372.197\n",
      "INFO:tensorflow:loss = 0.6706404, step = 3080 (0.263 sec)\n",
      "INFO:tensorflow:global_step/sec: 388.704\n",
      "INFO:tensorflow:loss = 0.95094025, step = 3180 (0.271 sec)\n",
      "INFO:tensorflow:global_step/sec: 377.66\n",
      "INFO:tensorflow:loss = 0.15089291, step = 3280 (0.263 sec)\n",
      "INFO:tensorflow:global_step/sec: 383.576\n",
      "INFO:tensorflow:loss = 0.20291357, step = 3380 (0.267 sec)\n",
      "INFO:tensorflow:global_step/sec: 372.998\n",
      "INFO:tensorflow:loss = 0.49755168, step = 3480 (0.269 sec)\n",
      "INFO:tensorflow:global_step/sec: 370.159\n",
      "INFO:tensorflow:loss = 0.6534091, step = 3580 (0.261 sec)\n",
      "INFO:tensorflow:global_step/sec: 367.568\n",
      "INFO:tensorflow:loss = 0.14818114, step = 3680 (0.263 sec)\n",
      "INFO:tensorflow:global_step/sec: 389.315\n",
      "INFO:tensorflow:loss = 0.23829585, step = 3780 (0.267 sec)\n",
      "INFO:tensorflow:global_step/sec: 380.231\n",
      "INFO:tensorflow:loss = 0.7760176, step = 3880 (0.270 sec)\n",
      "INFO:tensorflow:global_step/sec: 373.111\n",
      "INFO:tensorflow:loss = 0.6041539, step = 3980 (0.272 sec)\n",
      "INFO:tensorflow:global_step/sec: 370.583\n",
      "INFO:tensorflow:loss = 0.5407955, step = 4080 (0.270 sec)\n",
      "INFO:tensorflow:global_step/sec: 370.641\n",
      "INFO:tensorflow:loss = 0.5053086, step = 4180 (0.259 sec)\n",
      "INFO:tensorflow:global_step/sec: 365.036\n",
      "INFO:tensorflow:loss = 0.18544577, step = 4280 (0.266 sec)\n",
      "INFO:tensorflow:global_step/sec: 386.884\n",
      "INFO:tensorflow:loss = 0.46846813, step = 4380 (0.270 sec)\n",
      "INFO:tensorflow:global_step/sec: 376.621\n",
      "INFO:tensorflow:loss = 0.32655868, step = 4480 (0.273 sec)\n",
      "INFO:tensorflow:global_step/sec: 368.212\n",
      "INFO:tensorflow:loss = 0.4194101, step = 4580 (0.273 sec)\n",
      "INFO:tensorflow:global_step/sec: 367.991\n",
      "INFO:tensorflow:loss = 0.18378381, step = 4680 (0.274 sec)\n",
      "INFO:tensorflow:global_step/sec: 363.512\n",
      "INFO:tensorflow:loss = 0.15389407, step = 4780 (0.267 sec)\n",
      "INFO:tensorflow:global_step/sec: 360.834\n",
      "INFO:tensorflow:loss = 0.1345658, step = 4880 (0.266 sec)\n",
      "INFO:tensorflow:global_step/sec: 382.84\n",
      "INFO:tensorflow:loss = 0.241535, step = 4980 (0.274 sec)\n",
      "INFO:tensorflow:global_step/sec: 368.686\n",
      "INFO:tensorflow:loss = 0.21019253, step = 5080 (0.275 sec)\n",
      "INFO:tensorflow:global_step/sec: 364.975\n",
      "INFO:tensorflow:loss = 1.229659, step = 5180 (0.278 sec)\n",
      "INFO:tensorflow:global_step/sec: 360.945\n",
      "INFO:tensorflow:loss = 0.3842961, step = 5280 (0.277 sec)\n",
      "INFO:tensorflow:global_step/sec: 360.749\n",
      "INFO:tensorflow:loss = 0.30949628, step = 5380 (0.268 sec)\n",
      "INFO:tensorflow:global_step/sec: 355.466\n",
      "INFO:tensorflow:loss = 0.37451607, step = 5480 (0.273 sec)\n",
      "INFO:tensorflow:global_step/sec: 376.807\n",
      "INFO:tensorflow:loss = 0.20820905, step = 5580 (0.278 sec)\n",
      "INFO:tensorflow:global_step/sec: 363.899\n",
      "INFO:tensorflow:loss = 0.13567057, step = 5680 (0.287 sec)\n",
      "INFO:tensorflow:global_step/sec: 348.619\n",
      "INFO:tensorflow:loss = 0.2721311, step = 5780 (0.284 sec)\n",
      "INFO:tensorflow:global_step/sec: 355.045\n",
      "INFO:tensorflow:loss = 0.35641688, step = 5880 (0.283 sec)\n",
      "INFO:tensorflow:global_step/sec: 354.04\n",
      "INFO:tensorflow:loss = 0.17041269, step = 5980 (0.271 sec)\n",
      "INFO:tensorflow:global_step/sec: 351.08\n",
      "INFO:tensorflow:loss = 0.60950536, step = 6080 (0.253 sec)\n",
      "INFO:tensorflow:global_step/sec: 417.202\n",
      "INFO:tensorflow:loss = 0.26656717, step = 6180 (0.247 sec)\n",
      "INFO:tensorflow:global_step/sec: 407.654\n",
      "INFO:tensorflow:loss = 0.77231365, step = 6280 (0.257 sec)\n",
      "INFO:tensorflow:global_step/sec: 392.997\n",
      "INFO:tensorflow:loss = 0.22460794, step = 6380 (0.261 sec)\n",
      "INFO:tensorflow:global_step/sec: 382.983\n",
      "INFO:tensorflow:loss = 0.18314129, step = 6480 (0.255 sec)\n",
      "INFO:tensorflow:global_step/sec: 395.772\n",
      "INFO:tensorflow:loss = 0.08586919, step = 6580 (0.268 sec)\n",
      "INFO:tensorflow:global_step/sec: 346.516\n",
      "INFO:tensorflow:loss = 0.08796426, step = 6680 (0.289 sec)\n",
      "INFO:tensorflow:global_step/sec: 353.103\n",
      "INFO:tensorflow:loss = 0.08278617, step = 6780 (0.290 sec)\n",
      "INFO:tensorflow:global_step/sec: 349.923\n",
      "INFO:tensorflow:loss = 0.17962529, step = 6880 (0.293 sec)\n",
      "INFO:tensorflow:global_step/sec: 342.997\n",
      "INFO:tensorflow:loss = 0.098591894, step = 6980 (0.295 sec)\n",
      "INFO:tensorflow:global_step/sec: 340.433\n",
      "INFO:tensorflow:loss = 0.12199256, step = 7080 (0.294 sec)\n",
      "INFO:tensorflow:global_step/sec: 341.197\n",
      "INFO:tensorflow:loss = 0.08100985, step = 7180 (0.282 sec)\n",
      "INFO:tensorflow:global_step/sec: 338.347\n",
      "INFO:tensorflow:loss = 0.10816482, step = 7280 (0.290 sec)\n",
      "INFO:tensorflow:global_step/sec: 352.32\n",
      "INFO:tensorflow:loss = 0.06819467, step = 7380 (0.293 sec)\n",
      "INFO:tensorflow:global_step/sec: 347.007\n",
      "INFO:tensorflow:loss = 0.046484947, step = 7480 (0.295 sec)\n",
      "INFO:tensorflow:global_step/sec: 339.75\n",
      "INFO:tensorflow:loss = 0.046328872, step = 7580 (0.298 sec)\n",
      "INFO:tensorflow:global_step/sec: 335.183\n",
      "INFO:tensorflow:loss = 0.57472974, step = 7680 (0.305 sec)\n",
      "INFO:tensorflow:global_step/sec: 328.977\n",
      "INFO:tensorflow:loss = 0.12615885, step = 7780 (0.291 sec)\n",
      "INFO:tensorflow:global_step/sec: 327.683\n",
      "INFO:tensorflow:loss = 0.4255345, step = 7880 (0.300 sec)\n",
      "INFO:tensorflow:global_step/sec: 342.059\n",
      "INFO:tensorflow:loss = 0.08983396, step = 7980 (0.301 sec)\n",
      "INFO:tensorflow:global_step/sec: 335.722\n",
      "INFO:tensorflow:loss = 0.0242597, step = 8080 (0.304 sec)\n",
      "INFO:tensorflow:global_step/sec: 330.006\n",
      "INFO:tensorflow:loss = 0.014305854, step = 8180 (0.307 sec)\n",
      "INFO:tensorflow:global_step/sec: 325.291\n",
      "INFO:tensorflow:loss = 0.064209536, step = 8280 (0.309 sec)\n",
      "INFO:tensorflow:global_step/sec: 325.855\n",
      "INFO:tensorflow:loss = 0.07691235, step = 8380 (0.293 sec)\n",
      "INFO:tensorflow:global_step/sec: 324.868\n",
      "INFO:tensorflow:loss = 0.18103845, step = 8480 (0.301 sec)\n",
      "INFO:tensorflow:global_step/sec: 340.311\n",
      "INFO:tensorflow:loss = 0.10037625, step = 8580 (0.309 sec)\n",
      "INFO:tensorflow:global_step/sec: 327.601\n",
      "INFO:tensorflow:loss = 0.110353254, step = 8680 (0.309 sec)\n",
      "INFO:tensorflow:global_step/sec: 326.795\n",
      "INFO:tensorflow:loss = 0.03432948, step = 8780 (0.306 sec)\n",
      "INFO:tensorflow:global_step/sec: 326.107\n",
      "INFO:tensorflow:loss = 0.059009552, step = 8880 (0.308 sec)\n",
      "INFO:tensorflow:global_step/sec: 325.489\n",
      "INFO:tensorflow:loss = 0.032255642, step = 8980 (0.296 sec)\n",
      "INFO:tensorflow:global_step/sec: 320.843\n",
      "INFO:tensorflow:loss = 0.077510275, step = 9080 (0.306 sec)\n",
      "INFO:tensorflow:global_step/sec: 335.829\n",
      "INFO:tensorflow:loss = 0.028462265, step = 9180 (0.306 sec)\n",
      "INFO:tensorflow:global_step/sec: 332.152\n",
      "INFO:tensorflow:loss = 0.04032657, step = 9280 (0.303 sec)\n",
      "INFO:tensorflow:global_step/sec: 331.884\n",
      "INFO:tensorflow:loss = 0.030592121, step = 9380 (0.310 sec)\n",
      "INFO:tensorflow:global_step/sec: 322.62\n",
      "INFO:tensorflow:loss = 0.083413005, step = 9480 (0.312 sec)\n",
      "INFO:tensorflow:global_step/sec: 319.082\n",
      "INFO:tensorflow:loss = 0.043285307, step = 9580 (0.299 sec)\n",
      "INFO:tensorflow:global_step/sec: 322.143\n",
      "INFO:tensorflow:loss = 0.026327636, step = 9680 (0.304 sec)\n",
      "INFO:tensorflow:global_step/sec: 334.422\n",
      "INFO:tensorflow:loss = 0.151696, step = 9780 (0.308 sec)\n",
      "INFO:tensorflow:global_step/sec: 327.693\n",
      "INFO:tensorflow:loss = 0.119765855, step = 9880 (0.310 sec)\n",
      "INFO:tensorflow:global_step/sec: 324.721\n",
      "INFO:tensorflow:loss = 0.03941699, step = 9980 (0.315 sec)\n",
      "INFO:tensorflow:global_step/sec: 317.946\n",
      "INFO:tensorflow:loss = 0.042621423, step = 10080 (0.313 sec)\n",
      "INFO:tensorflow:global_step/sec: 319.929\n",
      "INFO:tensorflow:loss = 0.058344625, step = 10180 (0.307 sec)\n",
      "INFO:tensorflow:global_step/sec: 309.841\n",
      "INFO:tensorflow:loss = 0.076871246, step = 10280 (0.317 sec)\n",
      "INFO:tensorflow:global_step/sec: 324.418\n",
      "INFO:tensorflow:loss = 0.021496374, step = 10380 (0.321 sec)\n",
      "INFO:tensorflow:global_step/sec: 314.226\n",
      "INFO:tensorflow:loss = 0.006834712, step = 10480 (0.320 sec)\n",
      "INFO:tensorflow:global_step/sec: 313.808\n",
      "INFO:tensorflow:loss = 0.032068744, step = 10580 (0.322 sec)\n",
      "INFO:tensorflow:global_step/sec: 311.058\n",
      "INFO:tensorflow:loss = 0.012654156, step = 10680 (0.324 sec)\n",
      "INFO:tensorflow:global_step/sec: 309.638\n",
      "INFO:tensorflow:loss = 0.04483257, step = 10780 (0.310 sec)\n",
      "INFO:tensorflow:global_step/sec: 307.224\n",
      "INFO:tensorflow:loss = 0.036381215, step = 10880 (0.322 sec)\n",
      "INFO:tensorflow:global_step/sec: 318.017\n",
      "INFO:tensorflow:loss = 0.010510937, step = 10980 (0.326 sec)\n",
      "INFO:tensorflow:global_step/sec: 309.865\n",
      "INFO:tensorflow:loss = 0.018372875, step = 11080 (0.328 sec)\n",
      "INFO:tensorflow:global_step/sec: 307.565\n",
      "INFO:tensorflow:loss = 0.05339595, step = 11180 (0.326 sec)\n",
      "INFO:tensorflow:global_step/sec: 307.967\n",
      "INFO:tensorflow:loss = 0.07428838, step = 11280 (0.328 sec)\n",
      "INFO:tensorflow:global_step/sec: 307.515\n",
      "INFO:tensorflow:loss = 0.011740442, step = 11380 (0.309 sec)\n",
      "INFO:tensorflow:global_step/sec: 308.752\n",
      "INFO:tensorflow:loss = 0.0074716154, step = 11480 (0.316 sec)\n",
      "INFO:tensorflow:global_step/sec: 322.593\n",
      "INFO:tensorflow:loss = 0.03239619, step = 11580 (0.321 sec)\n",
      "INFO:tensorflow:global_step/sec: 314.13\n",
      "INFO:tensorflow:loss = 0.028759517, step = 11680 (0.322 sec)\n",
      "INFO:tensorflow:global_step/sec: 313.896\n",
      "INFO:tensorflow:loss = 0.019010104, step = 11780 (0.322 sec)\n",
      "INFO:tensorflow:global_step/sec: 311.094\n",
      "INFO:tensorflow:loss = 0.013204106, step = 11880 (0.315 sec)\n",
      "INFO:tensorflow:global_step/sec: 317.402\n",
      "INFO:tensorflow:loss = 0.012117969, step = 11980 (0.308 sec)\n",
      "INFO:tensorflow:global_step/sec: 311.145\n",
      "INFO:tensorflow:loss = 0.019471288, step = 12080 (0.320 sec)\n",
      "INFO:tensorflow:global_step/sec: 318.951\n",
      "INFO:tensorflow:loss = 0.019658012, step = 12180 (0.326 sec)\n",
      "INFO:tensorflow:global_step/sec: 308.646\n",
      "INFO:tensorflow:loss = 0.005117608, step = 12280 (0.330 sec)\n",
      "INFO:tensorflow:global_step/sec: 306.945\n",
      "INFO:tensorflow:loss = 0.038993098, step = 12380 (0.327 sec)\n",
      "INFO:tensorflow:global_step/sec: 305.049\n",
      "INFO:tensorflow:loss = 0.020406593, step = 12480 (0.333 sec)\n",
      "INFO:tensorflow:global_step/sec: 299.871\n",
      "INFO:tensorflow:loss = 0.0090289805, step = 12580 (0.322 sec)\n",
      "INFO:tensorflow:global_step/sec: 299.939\n",
      "INFO:tensorflow:loss = 0.006531168, step = 12680 (0.328 sec)\n",
      "INFO:tensorflow:global_step/sec: 309.971\n",
      "INFO:tensorflow:loss = 0.0025853133, step = 12780 (0.333 sec)\n",
      "INFO:tensorflow:global_step/sec: 301.824\n",
      "INFO:tensorflow:loss = 0.0082032895, step = 12880 (0.332 sec)\n",
      "INFO:tensorflow:global_step/sec: 305.788\n",
      "INFO:tensorflow:loss = 0.006439007, step = 12980 (0.326 sec)\n",
      "INFO:tensorflow:global_step/sec: 306.069\n",
      "INFO:tensorflow:loss = 0.005619075, step = 13080 (0.335 sec)\n",
      "INFO:tensorflow:global_step/sec: 301.524\n",
      "INFO:tensorflow:loss = 0.010091941, step = 13180 (0.318 sec)\n",
      "INFO:tensorflow:global_step/sec: 299.022\n",
      "INFO:tensorflow:loss = 0.0130573055, step = 13280 (0.331 sec)\n",
      "INFO:tensorflow:global_step/sec: 307.753\n",
      "INFO:tensorflow:loss = 0.01725234, step = 13380 (0.338 sec)\n",
      "INFO:tensorflow:global_step/sec: 298.443\n",
      "INFO:tensorflow:loss = 0.02495825, step = 13480 (0.336 sec)\n",
      "INFO:tensorflow:global_step/sec: 301.305\n",
      "INFO:tensorflow:loss = 0.026571378, step = 13580 (0.334 sec)\n",
      "INFO:tensorflow:global_step/sec: 297.204\n",
      "INFO:tensorflow:loss = 0.019483749, step = 13680 (0.338 sec)\n",
      "INFO:tensorflow:global_step/sec: 299.13\n",
      "INFO:tensorflow:loss = 0.006268067, step = 13780 (0.320 sec)\n",
      "INFO:tensorflow:global_step/sec: 297.824\n",
      "INFO:tensorflow:loss = 0.009512516, step = 13880 (0.335 sec)\n",
      "INFO:tensorflow:global_step/sec: 304.389\n",
      "INFO:tensorflow:loss = 0.009578241, step = 13980 (0.338 sec)\n",
      "INFO:tensorflow:global_step/sec: 299.479\n",
      "INFO:tensorflow:loss = 0.013397868, step = 14080 (0.341 sec)\n",
      "INFO:tensorflow:global_step/sec: 293.311\n",
      "INFO:tensorflow:loss = 0.0042418875, step = 14180 (0.342 sec)\n",
      "INFO:tensorflow:global_step/sec: 294.558\n",
      "INFO:tensorflow:loss = 0.018557403, step = 14280 (0.340 sec)\n",
      "INFO:tensorflow:global_step/sec: 293.882\n",
      "INFO:tensorflow:loss = 0.011596655, step = 14380 (0.327 sec)\n",
      "INFO:tensorflow:global_step/sec: 293.636\n",
      "INFO:tensorflow:loss = 0.0056028846, step = 14480 (0.335 sec)\n",
      "INFO:tensorflow:global_step/sec: 304.153\n",
      "INFO:tensorflow:loss = 0.011124132, step = 14580 (0.343 sec)\n",
      "INFO:tensorflow:global_step/sec: 294.167\n",
      "INFO:tensorflow:loss = 0.0056153648, step = 14680 (0.345 sec)\n",
      "INFO:tensorflow:global_step/sec: 291.616\n",
      "INFO:tensorflow:loss = 0.0019941647, step = 14780 (0.347 sec)\n",
      "INFO:tensorflow:global_step/sec: 288.515\n",
      "INFO:tensorflow:loss = 0.004212275, step = 14880 (0.347 sec)\n",
      "INFO:tensorflow:global_step/sec: 290.284\n",
      "INFO:tensorflow:loss = 0.0037952317, step = 14980 (0.329 sec)\n",
      "INFO:tensorflow:global_step/sec: 290.445\n",
      "INFO:tensorflow:loss = 0.0042548347, step = 15080 (0.338 sec)\n",
      "INFO:tensorflow:global_step/sec: 301.729\n",
      "INFO:tensorflow:loss = 0.0047678244, step = 15180 (0.343 sec)\n",
      "INFO:tensorflow:global_step/sec: 295.52\n",
      "INFO:tensorflow:loss = 0.005469841, step = 15280 (0.346 sec)\n",
      "INFO:tensorflow:global_step/sec: 289.43\n",
      "INFO:tensorflow:loss = 0.00469305, step = 15380 (0.348 sec)\n",
      "INFO:tensorflow:global_step/sec: 288.639\n",
      "INFO:tensorflow:loss = 0.008090111, step = 15480 (0.350 sec)\n",
      "INFO:tensorflow:global_step/sec: 285.412\n",
      "INFO:tensorflow:loss = 0.017089844, step = 15580 (0.338 sec)\n",
      "INFO:tensorflow:global_step/sec: 286.625\n",
      "INFO:tensorflow:loss = 0.004096309, step = 15680 (0.341 sec)\n",
      "INFO:tensorflow:global_step/sec: 296.296\n",
      "INFO:tensorflow:loss = 0.011275276, step = 15780 (0.351 sec)\n",
      "INFO:tensorflow:global_step/sec: 288.606\n",
      "INFO:tensorflow:loss = 0.0025311639, step = 15880 (0.353 sec)\n",
      "INFO:tensorflow:global_step/sec: 284.449\n",
      "INFO:tensorflow:loss = 0.0062829275, step = 15980 (0.355 sec)\n",
      "INFO:tensorflow:global_step/sec: 281.733\n",
      "INFO:tensorflow:loss = 0.0016862957, step = 16080 (0.357 sec)\n",
      "INFO:tensorflow:global_step/sec: 282.034\n",
      "INFO:tensorflow:loss = 0.007675102, step = 16180 (0.340 sec)\n",
      "INFO:tensorflow:global_step/sec: 280.677\n",
      "INFO:tensorflow:loss = 0.0008325178, step = 16280 (0.351 sec)\n",
      "INFO:tensorflow:global_step/sec: 292.441\n",
      "INFO:tensorflow:loss = 0.0034268438, step = 16380 (0.352 sec)\n",
      "INFO:tensorflow:global_step/sec: 286.035\n",
      "INFO:tensorflow:loss = 0.0027856806, step = 16480 (0.357 sec)\n",
      "INFO:tensorflow:global_step/sec: 281.312\n",
      "INFO:tensorflow:loss = 0.0028347662, step = 16580 (0.356 sec)\n",
      "INFO:tensorflow:global_step/sec: 280.89\n",
      "INFO:tensorflow:loss = 0.00051759527, step = 16680 (0.356 sec)\n",
      "INFO:tensorflow:global_step/sec: 281.796\n",
      "INFO:tensorflow:loss = 0.003048962, step = 16780 (0.347 sec)\n",
      "INFO:tensorflow:global_step/sec: 276.664\n",
      "INFO:tensorflow:loss = 0.008885926, step = 16880 (0.351 sec)\n",
      "INFO:tensorflow:global_step/sec: 290.218\n",
      "INFO:tensorflow:loss = 0.006082525, step = 16980 (0.353 sec)\n",
      "INFO:tensorflow:global_step/sec: 287.865\n",
      "INFO:tensorflow:loss = 0.0015377826, step = 17080 (0.357 sec)\n",
      "INFO:tensorflow:global_step/sec: 280.16\n",
      "INFO:tensorflow:loss = 0.0063670063, step = 17180 (0.363 sec)\n",
      "INFO:tensorflow:global_step/sec: 277.212\n",
      "INFO:tensorflow:loss = 0.0042023608, step = 17280 (0.354 sec)\n",
      "INFO:tensorflow:global_step/sec: 283.186\n",
      "INFO:tensorflow:loss = 0.0048547797, step = 17380 (0.344 sec)\n",
      "INFO:tensorflow:global_step/sec: 280.674\n",
      "INFO:tensorflow:loss = 0.0041769175, step = 17480 (0.350 sec)\n",
      "INFO:tensorflow:global_step/sec: 290.777\n",
      "INFO:tensorflow:loss = 0.002464649, step = 17580 (0.352 sec)\n",
      "INFO:tensorflow:global_step/sec: 286.275\n",
      "INFO:tensorflow:loss = 0.0027441583, step = 17680 (0.357 sec)\n",
      "INFO:tensorflow:global_step/sec: 281.543\n",
      "INFO:tensorflow:loss = 0.0036998442, step = 17780 (0.359 sec)\n",
      "INFO:tensorflow:global_step/sec: 279.275\n",
      "INFO:tensorflow:loss = 0.0027609495, step = 17880 (0.360 sec)\n",
      "INFO:tensorflow:global_step/sec: 277.477\n",
      "INFO:tensorflow:loss = 0.0012809625, step = 17980 (0.348 sec)\n",
      "INFO:tensorflow:global_step/sec: 278.435\n",
      "INFO:tensorflow:loss = 0.004579692, step = 18080 (0.352 sec)\n",
      "INFO:tensorflow:global_step/sec: 288.879\n",
      "INFO:tensorflow:loss = 0.0010537787, step = 18180 (0.359 sec)\n",
      "INFO:tensorflow:global_step/sec: 281.447\n",
      "INFO:tensorflow:loss = 0.0012701816, step = 18280 (0.359 sec)\n",
      "INFO:tensorflow:global_step/sec: 279.135\n",
      "INFO:tensorflow:loss = 0.00076436147, step = 18380 (0.362 sec)\n",
      "INFO:tensorflow:global_step/sec: 277.3\n",
      "INFO:tensorflow:loss = 0.0041650557, step = 18480 (0.361 sec)\n",
      "INFO:tensorflow:global_step/sec: 277.072\n",
      "INFO:tensorflow:loss = 0.0017748652, step = 18580 (0.350 sec)\n",
      "INFO:tensorflow:global_step/sec: 275.214\n",
      "INFO:tensorflow:loss = 0.0019556829, step = 18680 (0.362 sec)\n",
      "INFO:tensorflow:global_step/sec: 280.496\n",
      "INFO:tensorflow:loss = 0.003920836, step = 18780 (0.366 sec)\n",
      "INFO:tensorflow:global_step/sec: 275.607\n",
      "INFO:tensorflow:loss = 0.001190217, step = 18880 (0.368 sec)\n",
      "INFO:tensorflow:global_step/sec: 273.728\n",
      "INFO:tensorflow:loss = 0.0007947081, step = 18980 (0.371 sec)\n",
      "INFO:tensorflow:global_step/sec: 270.167\n",
      "INFO:tensorflow:loss = 0.0017583217, step = 19080 (0.369 sec)\n",
      "INFO:tensorflow:global_step/sec: 271.871\n",
      "INFO:tensorflow:loss = 0.00043815974, step = 19180 (0.358 sec)\n",
      "INFO:tensorflow:global_step/sec: 268.466\n",
      "INFO:tensorflow:loss = 0.0010497833, step = 19280 (0.363 sec)\n",
      "INFO:tensorflow:global_step/sec: 280.565\n",
      "INFO:tensorflow:loss = 0.0007486555, step = 19380 (0.367 sec)\n",
      "INFO:tensorflow:global_step/sec: 274.422\n",
      "INFO:tensorflow:loss = 0.003815694, step = 19480 (0.368 sec)\n",
      "INFO:tensorflow:global_step/sec: 273.745\n",
      "INFO:tensorflow:loss = 0.0011952422, step = 19580 (0.370 sec)\n",
      "INFO:tensorflow:global_step/sec: 272.061\n",
      "INFO:tensorflow:loss = 0.0022656748, step = 19680 (0.369 sec)\n",
      "INFO:tensorflow:global_step/sec: 270.668\n",
      "INFO:tensorflow:loss = 0.000613081, step = 19780 (0.359 sec)\n",
      "INFO:tensorflow:global_step/sec: 268.513\n",
      "INFO:tensorflow:loss = 0.0014473374, step = 19880 (0.365 sec)\n",
      "INFO:tensorflow:global_step/sec: 278.904\n",
      "INFO:tensorflow:loss = 0.0017055769, step = 19980 (0.369 sec)\n",
      "INFO:tensorflow:global_step/sec: 274.849\n",
      "INFO:tensorflow:loss = 0.0013687317, step = 20080 (0.370 sec)\n",
      "INFO:tensorflow:global_step/sec: 270.543\n",
      "INFO:tensorflow:loss = 0.0007818587, step = 20180 (0.372 sec)\n",
      "INFO:tensorflow:global_step/sec: 269.421\n",
      "INFO:tensorflow:loss = 0.0005079101, step = 20280 (0.376 sec)\n",
      "INFO:tensorflow:global_step/sec: 266.07\n",
      "INFO:tensorflow:loss = 0.0010259222, step = 20380 (0.363 sec)\n",
      "INFO:tensorflow:global_step/sec: 266.589\n",
      "INFO:tensorflow:loss = 0.0012335249, step = 20480 (0.367 sec)\n",
      "INFO:tensorflow:global_step/sec: 277.408\n",
      "INFO:tensorflow:loss = 0.002605944, step = 20580 (0.365 sec)\n",
      "INFO:tensorflow:global_step/sec: 281.888\n",
      "INFO:tensorflow:loss = 0.0010553624, step = 20680 (0.336 sec)\n",
      "INFO:tensorflow:global_step/sec: 298.925\n",
      "INFO:tensorflow:loss = 0.00013761694, step = 20780 (0.362 sec)\n",
      "INFO:tensorflow:global_step/sec: 270.614\n",
      "INFO:tensorflow:loss = 0.0005673123, step = 20880 (0.378 sec)\n",
      "INFO:tensorflow:global_step/sec: 265.252\n",
      "INFO:tensorflow:loss = 0.00028406878, step = 20980 (0.364 sec)\n",
      "INFO:tensorflow:global_step/sec: 263.571\n",
      "INFO:tensorflow:loss = 0.00038662832, step = 21080 (0.373 sec)\n",
      "INFO:tensorflow:global_step/sec: 274.599\n",
      "INFO:tensorflow:loss = 0.00088284945, step = 21180 (0.378 sec)\n",
      "INFO:tensorflow:global_step/sec: 266.632\n",
      "INFO:tensorflow:loss = 0.002049651, step = 21280 (0.378 sec)\n",
      "INFO:tensorflow:global_step/sec: 266.92\n",
      "INFO:tensorflow:loss = 0.00040053113, step = 21380 (0.380 sec)\n",
      "INFO:tensorflow:global_step/sec: 263.138\n",
      "INFO:tensorflow:loss = 0.00041711246, step = 21480 (0.382 sec)\n",
      "INFO:tensorflow:global_step/sec: 262.812\n",
      "INFO:tensorflow:loss = 0.00042464054, step = 21580 (0.367 sec)\n",
      "INFO:tensorflow:global_step/sec: 261.846\n",
      "INFO:tensorflow:loss = 0.0010065361, step = 21680 (0.377 sec)\n",
      "INFO:tensorflow:global_step/sec: 271.22\n",
      "INFO:tensorflow:loss = 0.0005866914, step = 21780 (0.380 sec)\n",
      "INFO:tensorflow:global_step/sec: 265.848\n",
      "INFO:tensorflow:loss = 0.00027671893, step = 21880 (0.382 sec)\n",
      "INFO:tensorflow:global_step/sec: 262.055\n",
      "INFO:tensorflow:loss = 0.00036802975, step = 21980 (0.383 sec)\n",
      "INFO:tensorflow:global_step/sec: 261.948\n",
      "INFO:tensorflow:loss = 0.00013698009, step = 22080 (0.383 sec)\n",
      "INFO:tensorflow:global_step/sec: 260.444\n",
      "INFO:tensorflow:loss = 0.00017702841, step = 22180 (0.370 sec)\n",
      "INFO:tensorflow:global_step/sec: 262.067\n",
      "INFO:tensorflow:loss = 0.0015975421, step = 22280 (0.378 sec)\n",
      "INFO:tensorflow:global_step/sec: 268.495\n",
      "INFO:tensorflow:loss = 0.00070010894, step = 22380 (0.382 sec)\n",
      "INFO:tensorflow:global_step/sec: 263.104\n",
      "INFO:tensorflow:loss = 0.0007586455, step = 22480 (0.386 sec)\n",
      "INFO:tensorflow:global_step/sec: 261.308\n",
      "INFO:tensorflow:loss = 0.00030616176, step = 22580 (0.386 sec)\n",
      "INFO:tensorflow:global_step/sec: 258.783\n",
      "INFO:tensorflow:loss = 0.0015422241, step = 22680 (0.389 sec)\n",
      "INFO:tensorflow:global_step/sec: 258.694\n",
      "INFO:tensorflow:loss = 0.0011715429, step = 22780 (0.373 sec)\n",
      "INFO:tensorflow:global_step/sec: 257.923\n",
      "INFO:tensorflow:loss = 0.00029495667, step = 22880 (0.385 sec)\n",
      "INFO:tensorflow:global_step/sec: 264.829\n",
      "INFO:tensorflow:loss = 0.0006073343, step = 22980 (0.386 sec)\n",
      "INFO:tensorflow:global_step/sec: 262.215\n",
      "INFO:tensorflow:loss = 0.00061574497, step = 23080 (0.389 sec)\n",
      "INFO:tensorflow:global_step/sec: 257.536\n",
      "INFO:tensorflow:loss = 0.00054436014, step = 23180 (0.391 sec)\n",
      "INFO:tensorflow:global_step/sec: 256.276\n",
      "INFO:tensorflow:loss = 0.00029620412, step = 23280 (0.392 sec)\n",
      "INFO:tensorflow:global_step/sec: 254.337\n",
      "INFO:tensorflow:loss = 0.00024264466, step = 23380 (0.380 sec)\n",
      "INFO:tensorflow:global_step/sec: 253.687\n",
      "INFO:tensorflow:loss = 0.00045313008, step = 23480 (0.385 sec)\n",
      "INFO:tensorflow:global_step/sec: 264.562\n",
      "INFO:tensorflow:loss = 0.00023694421, step = 23580 (0.391 sec)\n",
      "INFO:tensorflow:global_step/sec: 258.958\n",
      "INFO:tensorflow:loss = 0.00016719027, step = 23680 (0.391 sec)\n",
      "INFO:tensorflow:global_step/sec: 256.323\n",
      "INFO:tensorflow:loss = 0.00029504643, step = 23780 (0.395 sec)\n",
      "INFO:tensorflow:global_step/sec: 253.457\n",
      "INFO:tensorflow:loss = 0.0003263256, step = 23880 (0.397 sec)\n",
      "INFO:tensorflow:global_step/sec: 237.736\n",
      "INFO:tensorflow:loss = 0.0003567127, step = 23980 (0.448 sec)\n",
      "INFO:tensorflow:global_step/sec: 223.331\n",
      "INFO:tensorflow:Saving checkpoints for 24000 into /tmp/tmpos_6ksrf/model.ckpt.\n",
      "WARNING:tensorflow:Issue encountered when serializing resources.\n",
      "Type is unsupported, or the types of the items don't match field type in CollectionDef. Note this is a warning and probably safe to ignore.\n",
      "'_Resource' object has no attribute 'name'\n",
      "INFO:tensorflow:Loss for final step: 0.00016184276.\n",
      "INFO:tensorflow:Calling model_fn.\n",
      "INFO:tensorflow:Done calling model_fn.\n",
      "INFO:tensorflow:Starting evaluation at 2019-10-06T18:05:12Z\n",
      "INFO:tensorflow:Graph was finalized.\n",
      "INFO:tensorflow:Restoring parameters from /tmp/tmpos_6ksrf/model.ckpt-24000\n",
      "INFO:tensorflow:Running local_init_op.\n",
      "INFO:tensorflow:Done running local_init_op.\n",
      "INFO:tensorflow:Finished evaluation at 2019-10-06-18:05:12\n",
      "INFO:tensorflow:Saving dict for global step 24000: average_loss = 12.991299, global_step = 24000, label/mean = 23.611393, loss = 12.8544235, prediction/mean = 22.624313\n",
      "WARNING:tensorflow:Issue encountered when serializing resources.\n",
      "Type is unsupported, or the types of the items don't match field type in CollectionDef. Note this is a warning and probably safe to ignore.\n",
      "'_Resource' object has no attribute 'name'\n",
      "INFO:tensorflow:Saving 'checkpoint_path' summary for global step 24000: /tmp/tmpos_6ksrf/model.ckpt-24000\n",
      "{'average_loss': 12.991299, 'label/mean': 23.611393, 'loss': 12.8544235, 'prediction/mean': 22.624313, 'global_step': 24000}\n",
      "Average-Loss 12.9913\n"
     ]
    }
   ],
   "source": [
    "\n",
    "boosted_tree = tf.estimator.BoostedTreesRegressor(\n",
    "    feature_columns=all_feature_columns,\n",
    "    n_batches_per_layer=20,\n",
    "    n_trees=200)\n",
    "\n",
    "boosted_tree.train(\n",
    "    input_fn=lambda:train_input_fn(df_train_norm, batch_size=BATCH_SIZE))\n",
    "\n",
    "eval_results = boosted_tree.evaluate(\n",
    "    input_fn=lambda:eval_input_fn(df_test_norm, batch_size=8))\n",
    "\n",
    "print(eval_results)\n",
    "\n",
    "print('Average-Loss {:.4f}'.format(eval_results['average_loss']))"
   ]
  },
  {
   "cell_type": "markdown",
   "metadata": {},
   "source": [
    "### Estimator -- MNIST dataset"
   ]
  },
  {
   "cell_type": "code",
   "execution_count": 1,
   "metadata": {},
   "outputs": [],
   "source": [
    "import tensorflow as tf\n",
    "import tensorflow_datasets as tfds\n",
    "import numpy as np"
   ]
  },
  {
   "cell_type": "code",
   "execution_count": 2,
   "metadata": {},
   "outputs": [],
   "source": [
    "BUFFER_SIZE = 10000\n",
    "BATCH_SIZE = 64\n",
    "NUM_EPOCHS = 20\n",
    "steps_per_epoch = np.ceil(60000 / BATCH_SIZE)"
   ]
  },
  {
   "cell_type": "code",
   "execution_count": 3,
   "metadata": {},
   "outputs": [],
   "source": [
    "def preprocess(item):\n",
    "    image = item['image']\n",
    "    label = item['label']\n",
    "    image = tf.image.convert_image_dtype(\n",
    "        image, tf.float32)\n",
    "    image = tf.reshape(image, (-1,))\n",
    "\n",
    "    return {'image-pixels':image}, label[..., tf.newaxis]\n",
    "\n",
    "#Step 1: Defining the input functions (one for training and one for evaluation)\n",
    "## Step 1: Define the input function for training\n",
    "def train_input_fn():\n",
    "    datasets = tfds.load(name='mnist')\n",
    "    mnist_train = datasets['train']\n",
    "\n",
    "    dataset = mnist_train.map(preprocess)\n",
    "    dataset = dataset.shuffle(BUFFER_SIZE)\n",
    "    dataset = dataset.batch(BATCH_SIZE)\n",
    "    return dataset.repeat()\n",
    "\n",
    "## define input-function for evaluation:\n",
    "def eval_input_fn():\n",
    "    datasets = tfds.load(name='mnist')\n",
    "    mnist_test = datasets['test']\n",
    "    dataset = mnist_test.map(preprocess).batch(BATCH_SIZE)\n",
    "    return dataset\n"
   ]
  },
  {
   "cell_type": "code",
   "execution_count": 4,
   "metadata": {},
   "outputs": [],
   "source": [
    "## Step 2: feature column\n",
    "image_feature_column = tf.feature_column.numeric_column(\n",
    "    key='image-pixels', shape=(28*28))"
   ]
  },
  {
   "cell_type": "code",
   "execution_count": 5,
   "metadata": {},
   "outputs": [
    {
     "name": "stdout",
     "output_type": "stream",
     "text": [
      "INFO:tensorflow:Using default config.\n",
      "INFO:tensorflow:Using config: {'_model_dir': 'models/mnist-dnn/', '_tf_random_seed': None, '_save_summary_steps': 100, '_save_checkpoints_steps': None, '_save_checkpoints_secs': 600, '_session_config': allow_soft_placement: true\n",
      "graph_options {\n",
      "  rewrite_options {\n",
      "    meta_optimizer_iterations: ONE\n",
      "  }\n",
      "}\n",
      ", '_keep_checkpoint_max': 5, '_keep_checkpoint_every_n_hours': 10000, '_log_step_count_steps': 100, '_train_distribute': None, '_device_fn': None, '_protocol': None, '_eval_distribute': None, '_experimental_distribute': None, '_experimental_max_worker_delay_secs': None, '_session_creation_timeout_secs': 7200, '_service': None, '_cluster_spec': <tensorflow.python.training.server_lib.ClusterSpec object at 0x7f84b0103a10>, '_task_type': 'worker', '_task_id': 0, '_global_id_in_cluster': 0, '_master': '', '_evaluation_master': '', '_is_chief': True, '_num_ps_replicas': 0, '_num_worker_replicas': 1}\n",
      "WARNING:tensorflow:From /home/vahid/anaconda3/envs/tf2/lib/python3.7/site-packages/tensorflow_core/python/ops/resource_variable_ops.py:1630: calling BaseResourceVariable.__init__ (from tensorflow.python.ops.resource_variable_ops) with constraint is deprecated and will be removed in a future version.\n",
      "Instructions for updating:\n",
      "If using Keras pass *_constraint arguments to layers.\n",
      "WARNING:tensorflow:From /home/vahid/anaconda3/envs/tf2/lib/python3.7/site-packages/tensorflow_core/python/training/training_util.py:236: Variable.initialized_value (from tensorflow.python.ops.variables) is deprecated and will be removed in a future version.\n",
      "Instructions for updating:\n",
      "Use Variable.read_value. Variables in 2.X are initialized automatically both in eager and graph (inside tf.defun) contexts.\n"
     ]
    },
    {
     "name": "stderr",
     "output_type": "stream",
     "text": [
      "WARNING:absl:Warning: Setting shuffle_files=True because split=TRAIN and shuffle_files=None. This behavior will be deprecated on 2019-08-06, at which point shuffle_files=False will be the default for all splits.\n"
     ]
    },
    {
     "name": "stdout",
     "output_type": "stream",
     "text": [
      "INFO:tensorflow:Calling model_fn.\n"
     ]
    },
    {
     "name": "stderr",
     "output_type": "stream",
     "text": [
      "INFO:tensorflow:Calling model_fn.\n"
     ]
    },
    {
     "name": "stdout",
     "output_type": "stream",
     "text": [
      "WARNING:tensorflow:From /home/vahid/anaconda3/envs/tf2/lib/python3.7/site-packages/tensorflow_core/python/keras/optimizer_v2/adagrad.py:108: calling Constant.__init__ (from tensorflow.python.ops.init_ops) with dtype is deprecated and will be removed in a future version.\n",
      "Instructions for updating:\n",
      "Call initializer instance with the dtype argument instead of passing it to the constructor\n"
     ]
    },
    {
     "name": "stderr",
     "output_type": "stream",
     "text": [
      "WARNING:tensorflow:From /home/vahid/anaconda3/envs/tf2/lib/python3.7/site-packages/tensorflow_core/python/keras/optimizer_v2/adagrad.py:108: calling Constant.__init__ (from tensorflow.python.ops.init_ops) with dtype is deprecated and will be removed in a future version.\n",
      "Instructions for updating:\n",
      "Call initializer instance with the dtype argument instead of passing it to the constructor\n"
     ]
    },
    {
     "name": "stdout",
     "output_type": "stream",
     "text": [
      "INFO:tensorflow:Done calling model_fn.\n"
     ]
    },
    {
     "name": "stderr",
     "output_type": "stream",
     "text": [
      "INFO:tensorflow:Done calling model_fn.\n"
     ]
    },
    {
     "name": "stdout",
     "output_type": "stream",
     "text": [
      "INFO:tensorflow:Create CheckpointSaverHook.\n"
     ]
    },
    {
     "name": "stderr",
     "output_type": "stream",
     "text": [
      "INFO:tensorflow:Create CheckpointSaverHook.\n"
     ]
    },
    {
     "name": "stdout",
     "output_type": "stream",
     "text": [
      "INFO:tensorflow:Graph was finalized.\n"
     ]
    },
    {
     "name": "stderr",
     "output_type": "stream",
     "text": [
      "INFO:tensorflow:Graph was finalized.\n"
     ]
    },
    {
     "name": "stdout",
     "output_type": "stream",
     "text": [
      "INFO:tensorflow:Running local_init_op.\n"
     ]
    },
    {
     "name": "stderr",
     "output_type": "stream",
     "text": [
      "INFO:tensorflow:Running local_init_op.\n"
     ]
    },
    {
     "name": "stdout",
     "output_type": "stream",
     "text": [
      "INFO:tensorflow:Done running local_init_op.\n"
     ]
    },
    {
     "name": "stderr",
     "output_type": "stream",
     "text": [
      "INFO:tensorflow:Done running local_init_op.\n"
     ]
    },
    {
     "name": "stdout",
     "output_type": "stream",
     "text": [
      "INFO:tensorflow:Saving checkpoints for 0 into models/mnist-dnn/model.ckpt.\n"
     ]
    },
    {
     "name": "stderr",
     "output_type": "stream",
     "text": [
      "INFO:tensorflow:Saving checkpoints for 0 into models/mnist-dnn/model.ckpt.\n"
     ]
    },
    {
     "name": "stdout",
     "output_type": "stream",
     "text": [
      "INFO:tensorflow:loss = 2.2911584, step = 0\n"
     ]
    },
    {
     "name": "stderr",
     "output_type": "stream",
     "text": [
      "INFO:tensorflow:loss = 2.2911584, step = 0\n"
     ]
    },
    {
     "name": "stdout",
     "output_type": "stream",
     "text": [
      "INFO:tensorflow:global_step/sec: 103.413\n"
     ]
    },
    {
     "name": "stderr",
     "output_type": "stream",
     "text": [
      "INFO:tensorflow:global_step/sec: 103.413\n"
     ]
    },
    {
     "name": "stdout",
     "output_type": "stream",
     "text": [
      "INFO:tensorflow:loss = 2.2823455, step = 100 (0.970 sec)\n"
     ]
    },
    {
     "name": "stderr",
     "output_type": "stream",
     "text": [
      "INFO:tensorflow:loss = 2.2823455, step = 100 (0.970 sec)\n"
     ]
    },
    {
     "name": "stdout",
     "output_type": "stream",
     "text": [
      "INFO:tensorflow:global_step/sec: 114.706\n"
     ]
    },
    {
     "name": "stderr",
     "output_type": "stream",
     "text": [
      "INFO:tensorflow:global_step/sec: 114.706\n"
     ]
    },
    {
     "name": "stdout",
     "output_type": "stream",
     "text": [
      "INFO:tensorflow:loss = 2.1860042, step = 200 (0.872 sec)\n"
     ]
    },
    {
     "name": "stderr",
     "output_type": "stream",
     "text": [
      "INFO:tensorflow:loss = 2.1860042, step = 200 (0.872 sec)\n"
     ]
    },
    {
     "name": "stdout",
     "output_type": "stream",
     "text": [
      "INFO:tensorflow:global_step/sec: 114.522\n"
     ]
    },
    {
     "name": "stderr",
     "output_type": "stream",
     "text": [
      "INFO:tensorflow:global_step/sec: 114.522\n"
     ]
    },
    {
     "name": "stdout",
     "output_type": "stream",
     "text": [
      "INFO:tensorflow:loss = 2.1106935, step = 300 (0.873 sec)\n"
     ]
    },
    {
     "name": "stderr",
     "output_type": "stream",
     "text": [
      "INFO:tensorflow:loss = 2.1106935, step = 300 (0.873 sec)\n"
     ]
    },
    {
     "name": "stdout",
     "output_type": "stream",
     "text": [
      "INFO:tensorflow:global_step/sec: 112.807\n"
     ]
    },
    {
     "name": "stderr",
     "output_type": "stream",
     "text": [
      "INFO:tensorflow:global_step/sec: 112.807\n"
     ]
    },
    {
     "name": "stdout",
     "output_type": "stream",
     "text": [
      "INFO:tensorflow:loss = 2.1935492, step = 400 (0.886 sec)\n"
     ]
    },
    {
     "name": "stderr",
     "output_type": "stream",
     "text": [
      "INFO:tensorflow:loss = 2.1935492, step = 400 (0.886 sec)\n"
     ]
    },
    {
     "name": "stdout",
     "output_type": "stream",
     "text": [
      "INFO:tensorflow:global_step/sec: 118.975\n"
     ]
    },
    {
     "name": "stderr",
     "output_type": "stream",
     "text": [
      "INFO:tensorflow:global_step/sec: 118.975\n"
     ]
    },
    {
     "name": "stdout",
     "output_type": "stream",
     "text": [
      "INFO:tensorflow:loss = 2.1524801, step = 500 (0.841 sec)\n"
     ]
    },
    {
     "name": "stderr",
     "output_type": "stream",
     "text": [
      "INFO:tensorflow:loss = 2.1524801, step = 500 (0.841 sec)\n"
     ]
    },
    {
     "name": "stdout",
     "output_type": "stream",
     "text": [
      "INFO:tensorflow:global_step/sec: 129.316\n"
     ]
    },
    {
     "name": "stderr",
     "output_type": "stream",
     "text": [
      "INFO:tensorflow:global_step/sec: 129.316\n"
     ]
    },
    {
     "name": "stdout",
     "output_type": "stream",
     "text": [
      "INFO:tensorflow:loss = 1.9318869, step = 600 (0.773 sec)\n"
     ]
    },
    {
     "name": "stderr",
     "output_type": "stream",
     "text": [
      "INFO:tensorflow:loss = 1.9318869, step = 600 (0.773 sec)\n"
     ]
    },
    {
     "name": "stdout",
     "output_type": "stream",
     "text": [
      "INFO:tensorflow:global_step/sec: 131.012\n"
     ]
    },
    {
     "name": "stderr",
     "output_type": "stream",
     "text": [
      "INFO:tensorflow:global_step/sec: 131.012\n"
     ]
    },
    {
     "name": "stdout",
     "output_type": "stream",
     "text": [
      "INFO:tensorflow:loss = 2.0087776, step = 700 (0.763 sec)\n"
     ]
    },
    {
     "name": "stderr",
     "output_type": "stream",
     "text": [
      "INFO:tensorflow:loss = 2.0087776, step = 700 (0.763 sec)\n"
     ]
    },
    {
     "name": "stdout",
     "output_type": "stream",
     "text": [
      "INFO:tensorflow:global_step/sec: 143.963\n"
     ]
    },
    {
     "name": "stderr",
     "output_type": "stream",
     "text": [
      "INFO:tensorflow:global_step/sec: 143.963\n"
     ]
    },
    {
     "name": "stdout",
     "output_type": "stream",
     "text": [
      "INFO:tensorflow:loss = 1.8597662, step = 800 (0.695 sec)\n"
     ]
    },
    {
     "name": "stderr",
     "output_type": "stream",
     "text": [
      "INFO:tensorflow:loss = 1.8597662, step = 800 (0.695 sec)\n"
     ]
    },
    {
     "name": "stdout",
     "output_type": "stream",
     "text": [
      "INFO:tensorflow:global_step/sec: 368.727\n"
     ]
    },
    {
     "name": "stderr",
     "output_type": "stream",
     "text": [
      "INFO:tensorflow:global_step/sec: 368.727\n"
     ]
    },
    {
     "name": "stdout",
     "output_type": "stream",
     "text": [
      "INFO:tensorflow:loss = 1.8434176, step = 900 (0.271 sec)\n"
     ]
    },
    {
     "name": "stderr",
     "output_type": "stream",
     "text": [
      "INFO:tensorflow:loss = 1.8434176, step = 900 (0.271 sec)\n"
     ]
    },
    {
     "name": "stdout",
     "output_type": "stream",
     "text": [
      "INFO:tensorflow:global_step/sec: 53.9182\n"
     ]
    },
    {
     "name": "stderr",
     "output_type": "stream",
     "text": [
      "INFO:tensorflow:global_step/sec: 53.9182\n"
     ]
    },
    {
     "name": "stdout",
     "output_type": "stream",
     "text": [
      "INFO:tensorflow:loss = 1.825604, step = 1000 (1.855 sec)\n"
     ]
    },
    {
     "name": "stderr",
     "output_type": "stream",
     "text": [
      "INFO:tensorflow:loss = 1.825604, step = 1000 (1.855 sec)\n"
     ]
    },
    {
     "name": "stdout",
     "output_type": "stream",
     "text": [
      "INFO:tensorflow:global_step/sec: 112.703\n"
     ]
    },
    {
     "name": "stderr",
     "output_type": "stream",
     "text": [
      "INFO:tensorflow:global_step/sec: 112.703\n"
     ]
    },
    {
     "name": "stdout",
     "output_type": "stream",
     "text": [
      "INFO:tensorflow:loss = 1.8583578, step = 1100 (0.887 sec)\n"
     ]
    },
    {
     "name": "stderr",
     "output_type": "stream",
     "text": [
      "INFO:tensorflow:loss = 1.8583578, step = 1100 (0.887 sec)\n"
     ]
    },
    {
     "name": "stdout",
     "output_type": "stream",
     "text": [
      "INFO:tensorflow:global_step/sec: 113.852\n"
     ]
    },
    {
     "name": "stderr",
     "output_type": "stream",
     "text": [
      "INFO:tensorflow:global_step/sec: 113.852\n"
     ]
    },
    {
     "name": "stdout",
     "output_type": "stream",
     "text": [
      "INFO:tensorflow:loss = 1.6823219, step = 1200 (0.878 sec)\n"
     ]
    },
    {
     "name": "stderr",
     "output_type": "stream",
     "text": [
      "INFO:tensorflow:loss = 1.6823219, step = 1200 (0.878 sec)\n"
     ]
    },
    {
     "name": "stdout",
     "output_type": "stream",
     "text": [
      "INFO:tensorflow:global_step/sec: 112.63\n"
     ]
    },
    {
     "name": "stderr",
     "output_type": "stream",
     "text": [
      "INFO:tensorflow:global_step/sec: 112.63\n"
     ]
    },
    {
     "name": "stdout",
     "output_type": "stream",
     "text": [
      "INFO:tensorflow:loss = 1.8250992, step = 1300 (0.888 sec)\n"
     ]
    },
    {
     "name": "stderr",
     "output_type": "stream",
     "text": [
      "INFO:tensorflow:loss = 1.8250992, step = 1300 (0.888 sec)\n"
     ]
    },
    {
     "name": "stdout",
     "output_type": "stream",
     "text": [
      "INFO:tensorflow:global_step/sec: 114.176\n"
     ]
    },
    {
     "name": "stderr",
     "output_type": "stream",
     "text": [
      "INFO:tensorflow:global_step/sec: 114.176\n"
     ]
    },
    {
     "name": "stdout",
     "output_type": "stream",
     "text": [
      "INFO:tensorflow:loss = 1.756686, step = 1400 (0.876 sec)\n"
     ]
    },
    {
     "name": "stderr",
     "output_type": "stream",
     "text": [
      "INFO:tensorflow:loss = 1.756686, step = 1400 (0.876 sec)\n"
     ]
    },
    {
     "name": "stdout",
     "output_type": "stream",
     "text": [
      "INFO:tensorflow:global_step/sec: 113.677\n"
     ]
    },
    {
     "name": "stderr",
     "output_type": "stream",
     "text": [
      "INFO:tensorflow:global_step/sec: 113.677\n"
     ]
    },
    {
     "name": "stdout",
     "output_type": "stream",
     "text": [
      "INFO:tensorflow:loss = 1.81184, step = 1500 (0.880 sec)\n"
     ]
    },
    {
     "name": "stderr",
     "output_type": "stream",
     "text": [
      "INFO:tensorflow:loss = 1.81184, step = 1500 (0.880 sec)\n"
     ]
    },
    {
     "name": "stdout",
     "output_type": "stream",
     "text": [
      "INFO:tensorflow:global_step/sec: 113.666\n"
     ]
    },
    {
     "name": "stderr",
     "output_type": "stream",
     "text": [
      "INFO:tensorflow:global_step/sec: 113.666\n"
     ]
    },
    {
     "name": "stdout",
     "output_type": "stream",
     "text": [
      "INFO:tensorflow:loss = 1.6275679, step = 1600 (0.880 sec)\n"
     ]
    },
    {
     "name": "stderr",
     "output_type": "stream",
     "text": [
      "INFO:tensorflow:loss = 1.6275679, step = 1600 (0.880 sec)\n"
     ]
    },
    {
     "name": "stdout",
     "output_type": "stream",
     "text": [
      "INFO:tensorflow:global_step/sec: 115.224\n"
     ]
    },
    {
     "name": "stderr",
     "output_type": "stream",
     "text": [
      "INFO:tensorflow:global_step/sec: 115.224\n"
     ]
    },
    {
     "name": "stdout",
     "output_type": "stream",
     "text": [
      "INFO:tensorflow:loss = 1.5493795, step = 1700 (0.868 sec)\n"
     ]
    },
    {
     "name": "stderr",
     "output_type": "stream",
     "text": [
      "INFO:tensorflow:loss = 1.5493795, step = 1700 (0.868 sec)\n"
     ]
    },
    {
     "name": "stdout",
     "output_type": "stream",
     "text": [
      "INFO:tensorflow:global_step/sec: 266.337\n"
     ]
    },
    {
     "name": "stderr",
     "output_type": "stream",
     "text": [
      "INFO:tensorflow:global_step/sec: 266.337\n"
     ]
    },
    {
     "name": "stdout",
     "output_type": "stream",
     "text": [
      "INFO:tensorflow:loss = 1.4609478, step = 1800 (0.376 sec)\n"
     ]
    },
    {
     "name": "stderr",
     "output_type": "stream",
     "text": [
      "INFO:tensorflow:loss = 1.4609478, step = 1800 (0.376 sec)\n"
     ]
    },
    {
     "name": "stdout",
     "output_type": "stream",
     "text": [
      "INFO:tensorflow:global_step/sec: 61.4064\n"
     ]
    },
    {
     "name": "stderr",
     "output_type": "stream",
     "text": [
      "INFO:tensorflow:global_step/sec: 61.4064\n"
     ]
    },
    {
     "name": "stdout",
     "output_type": "stream",
     "text": [
      "INFO:tensorflow:loss = 1.4662864, step = 1900 (1.628 sec)\n"
     ]
    },
    {
     "name": "stderr",
     "output_type": "stream",
     "text": [
      "INFO:tensorflow:loss = 1.4662864, step = 1900 (1.628 sec)\n"
     ]
    },
    {
     "name": "stdout",
     "output_type": "stream",
     "text": [
      "INFO:tensorflow:global_step/sec: 113.01\n"
     ]
    },
    {
     "name": "stderr",
     "output_type": "stream",
     "text": [
      "INFO:tensorflow:global_step/sec: 113.01\n"
     ]
    },
    {
     "name": "stdout",
     "output_type": "stream",
     "text": [
      "INFO:tensorflow:loss = 1.5063202, step = 2000 (0.885 sec)\n"
     ]
    },
    {
     "name": "stderr",
     "output_type": "stream",
     "text": [
      "INFO:tensorflow:loss = 1.5063202, step = 2000 (0.885 sec)\n"
     ]
    },
    {
     "name": "stdout",
     "output_type": "stream",
     "text": [
      "INFO:tensorflow:global_step/sec: 112.874\n"
     ]
    },
    {
     "name": "stderr",
     "output_type": "stream",
     "text": [
      "INFO:tensorflow:global_step/sec: 112.874\n"
     ]
    },
    {
     "name": "stdout",
     "output_type": "stream",
     "text": [
      "INFO:tensorflow:loss = 1.5632205, step = 2100 (0.886 sec)\n"
     ]
    },
    {
     "name": "stderr",
     "output_type": "stream",
     "text": [
      "INFO:tensorflow:loss = 1.5632205, step = 2100 (0.886 sec)\n"
     ]
    },
    {
     "name": "stdout",
     "output_type": "stream",
     "text": [
      "INFO:tensorflow:global_step/sec: 112.57\n"
     ]
    },
    {
     "name": "stderr",
     "output_type": "stream",
     "text": [
      "INFO:tensorflow:global_step/sec: 112.57\n"
     ]
    },
    {
     "name": "stdout",
     "output_type": "stream",
     "text": [
      "INFO:tensorflow:loss = 1.3806043, step = 2200 (0.888 sec)\n"
     ]
    },
    {
     "name": "stderr",
     "output_type": "stream",
     "text": [
      "INFO:tensorflow:loss = 1.3806043, step = 2200 (0.888 sec)\n"
     ]
    },
    {
     "name": "stdout",
     "output_type": "stream",
     "text": [
      "INFO:tensorflow:global_step/sec: 114.595\n"
     ]
    },
    {
     "name": "stderr",
     "output_type": "stream",
     "text": [
      "INFO:tensorflow:global_step/sec: 114.595\n"
     ]
    },
    {
     "name": "stdout",
     "output_type": "stream",
     "text": [
      "INFO:tensorflow:loss = 1.4552122, step = 2300 (0.872 sec)\n"
     ]
    },
    {
     "name": "stderr",
     "output_type": "stream",
     "text": [
      "INFO:tensorflow:loss = 1.4552122, step = 2300 (0.872 sec)\n"
     ]
    },
    {
     "name": "stdout",
     "output_type": "stream",
     "text": [
      "INFO:tensorflow:global_step/sec: 113.828\n"
     ]
    },
    {
     "name": "stderr",
     "output_type": "stream",
     "text": [
      "INFO:tensorflow:global_step/sec: 113.828\n"
     ]
    },
    {
     "name": "stdout",
     "output_type": "stream",
     "text": [
      "INFO:tensorflow:loss = 1.4628265, step = 2400 (0.878 sec)\n"
     ]
    },
    {
     "name": "stderr",
     "output_type": "stream",
     "text": [
      "INFO:tensorflow:loss = 1.4628265, step = 2400 (0.878 sec)\n"
     ]
    },
    {
     "name": "stdout",
     "output_type": "stream",
     "text": [
      "INFO:tensorflow:global_step/sec: 113.415\n"
     ]
    },
    {
     "name": "stderr",
     "output_type": "stream",
     "text": [
      "INFO:tensorflow:global_step/sec: 113.415\n"
     ]
    },
    {
     "name": "stdout",
     "output_type": "stream",
     "text": [
      "INFO:tensorflow:loss = 1.2242792, step = 2500 (0.882 sec)\n"
     ]
    },
    {
     "name": "stderr",
     "output_type": "stream",
     "text": [
      "INFO:tensorflow:loss = 1.2242792, step = 2500 (0.882 sec)\n"
     ]
    },
    {
     "name": "stdout",
     "output_type": "stream",
     "text": [
      "INFO:tensorflow:global_step/sec: 114.199\n"
     ]
    },
    {
     "name": "stderr",
     "output_type": "stream",
     "text": [
      "INFO:tensorflow:global_step/sec: 114.199\n"
     ]
    },
    {
     "name": "stdout",
     "output_type": "stream",
     "text": [
      "INFO:tensorflow:loss = 1.26544, step = 2600 (0.876 sec)\n"
     ]
    },
    {
     "name": "stderr",
     "output_type": "stream",
     "text": [
      "INFO:tensorflow:loss = 1.26544, step = 2600 (0.876 sec)\n"
     ]
    },
    {
     "name": "stdout",
     "output_type": "stream",
     "text": [
      "INFO:tensorflow:global_step/sec: 160.867\n"
     ]
    },
    {
     "name": "stderr",
     "output_type": "stream",
     "text": [
      "INFO:tensorflow:global_step/sec: 160.867\n"
     ]
    },
    {
     "name": "stdout",
     "output_type": "stream",
     "text": [
      "INFO:tensorflow:loss = 1.1611787, step = 2700 (0.622 sec)\n"
     ]
    },
    {
     "name": "stderr",
     "output_type": "stream",
     "text": [
      "INFO:tensorflow:loss = 1.1611787, step = 2700 (0.622 sec)\n"
     ]
    },
    {
     "name": "stdout",
     "output_type": "stream",
     "text": [
      "INFO:tensorflow:global_step/sec: 360.855\n"
     ]
    },
    {
     "name": "stderr",
     "output_type": "stream",
     "text": [
      "INFO:tensorflow:global_step/sec: 360.855\n"
     ]
    },
    {
     "name": "stdout",
     "output_type": "stream",
     "text": [
      "INFO:tensorflow:loss = 1.1868796, step = 2800 (0.277 sec)\n"
     ]
    },
    {
     "name": "stderr",
     "output_type": "stream",
     "text": [
      "INFO:tensorflow:loss = 1.1868796, step = 2800 (0.277 sec)\n"
     ]
    },
    {
     "name": "stdout",
     "output_type": "stream",
     "text": [
      "INFO:tensorflow:global_step/sec: 61.3427\n"
     ]
    },
    {
     "name": "stderr",
     "output_type": "stream",
     "text": [
      "INFO:tensorflow:global_step/sec: 61.3427\n"
     ]
    },
    {
     "name": "stdout",
     "output_type": "stream",
     "text": [
      "INFO:tensorflow:loss = 1.3102021, step = 2900 (1.630 sec)\n"
     ]
    },
    {
     "name": "stderr",
     "output_type": "stream",
     "text": [
      "INFO:tensorflow:loss = 1.3102021, step = 2900 (1.630 sec)\n"
     ]
    },
    {
     "name": "stdout",
     "output_type": "stream",
     "text": [
      "INFO:tensorflow:global_step/sec: 113.321\n"
     ]
    },
    {
     "name": "stderr",
     "output_type": "stream",
     "text": [
      "INFO:tensorflow:global_step/sec: 113.321\n"
     ]
    },
    {
     "name": "stdout",
     "output_type": "stream",
     "text": [
      "INFO:tensorflow:loss = 1.287333, step = 3000 (0.882 sec)\n"
     ]
    },
    {
     "name": "stderr",
     "output_type": "stream",
     "text": [
      "INFO:tensorflow:loss = 1.287333, step = 3000 (0.882 sec)\n"
     ]
    },
    {
     "name": "stdout",
     "output_type": "stream",
     "text": [
      "INFO:tensorflow:global_step/sec: 113.287\n"
     ]
    },
    {
     "name": "stderr",
     "output_type": "stream",
     "text": [
      "INFO:tensorflow:global_step/sec: 113.287\n"
     ]
    },
    {
     "name": "stdout",
     "output_type": "stream",
     "text": [
      "INFO:tensorflow:loss = 1.3193758, step = 3100 (0.883 sec)\n"
     ]
    },
    {
     "name": "stderr",
     "output_type": "stream",
     "text": [
      "INFO:tensorflow:loss = 1.3193758, step = 3100 (0.883 sec)\n"
     ]
    },
    {
     "name": "stdout",
     "output_type": "stream",
     "text": [
      "INFO:tensorflow:global_step/sec: 112.965\n"
     ]
    },
    {
     "name": "stderr",
     "output_type": "stream",
     "text": [
      "INFO:tensorflow:global_step/sec: 112.965\n"
     ]
    },
    {
     "name": "stdout",
     "output_type": "stream",
     "text": [
      "INFO:tensorflow:loss = 1.0507755, step = 3200 (0.885 sec)\n"
     ]
    },
    {
     "name": "stderr",
     "output_type": "stream",
     "text": [
      "INFO:tensorflow:loss = 1.0507755, step = 3200 (0.885 sec)\n"
     ]
    },
    {
     "name": "stdout",
     "output_type": "stream",
     "text": [
      "INFO:tensorflow:global_step/sec: 113.219\n"
     ]
    },
    {
     "name": "stderr",
     "output_type": "stream",
     "text": [
      "INFO:tensorflow:global_step/sec: 113.219\n"
     ]
    },
    {
     "name": "stdout",
     "output_type": "stream",
     "text": [
      "INFO:tensorflow:loss = 1.0760037, step = 3300 (0.883 sec)\n"
     ]
    },
    {
     "name": "stderr",
     "output_type": "stream",
     "text": [
      "INFO:tensorflow:loss = 1.0760037, step = 3300 (0.883 sec)\n"
     ]
    },
    {
     "name": "stdout",
     "output_type": "stream",
     "text": [
      "INFO:tensorflow:global_step/sec: 113.1\n"
     ]
    },
    {
     "name": "stderr",
     "output_type": "stream",
     "text": [
      "INFO:tensorflow:global_step/sec: 113.1\n"
     ]
    },
    {
     "name": "stdout",
     "output_type": "stream",
     "text": [
      "INFO:tensorflow:loss = 0.9973794, step = 3400 (0.884 sec)\n"
     ]
    },
    {
     "name": "stderr",
     "output_type": "stream",
     "text": [
      "INFO:tensorflow:loss = 0.9973794, step = 3400 (0.884 sec)\n"
     ]
    },
    {
     "name": "stdout",
     "output_type": "stream",
     "text": [
      "INFO:tensorflow:global_step/sec: 113.269\n"
     ]
    },
    {
     "name": "stderr",
     "output_type": "stream",
     "text": [
      "INFO:tensorflow:global_step/sec: 113.269\n"
     ]
    },
    {
     "name": "stdout",
     "output_type": "stream",
     "text": [
      "INFO:tensorflow:loss = 1.1815102, step = 3500 (0.883 sec)\n"
     ]
    },
    {
     "name": "stderr",
     "output_type": "stream",
     "text": [
      "INFO:tensorflow:loss = 1.1815102, step = 3500 (0.883 sec)\n"
     ]
    },
    {
     "name": "stdout",
     "output_type": "stream",
     "text": [
      "INFO:tensorflow:global_step/sec: 118.013\n"
     ]
    },
    {
     "name": "stderr",
     "output_type": "stream",
     "text": [
      "INFO:tensorflow:global_step/sec: 118.013\n"
     ]
    },
    {
     "name": "stdout",
     "output_type": "stream",
     "text": [
      "INFO:tensorflow:loss = 1.0979999, step = 3600 (0.848 sec)\n"
     ]
    },
    {
     "name": "stderr",
     "output_type": "stream",
     "text": [
      "INFO:tensorflow:loss = 1.0979999, step = 3600 (0.848 sec)\n"
     ]
    },
    {
     "name": "stdout",
     "output_type": "stream",
     "text": [
      "INFO:tensorflow:global_step/sec: 374.028\n"
     ]
    },
    {
     "name": "stderr",
     "output_type": "stream",
     "text": [
      "INFO:tensorflow:global_step/sec: 374.028\n"
     ]
    },
    {
     "name": "stdout",
     "output_type": "stream",
     "text": [
      "INFO:tensorflow:loss = 1.0193896, step = 3700 (0.267 sec)\n"
     ]
    },
    {
     "name": "stderr",
     "output_type": "stream",
     "text": [
      "INFO:tensorflow:loss = 1.0193896, step = 3700 (0.267 sec)\n"
     ]
    },
    {
     "name": "stdout",
     "output_type": "stream",
     "text": [
      "INFO:tensorflow:global_step/sec: 56.696\n"
     ]
    },
    {
     "name": "stderr",
     "output_type": "stream",
     "text": [
      "INFO:tensorflow:global_step/sec: 56.696\n"
     ]
    },
    {
     "name": "stdout",
     "output_type": "stream",
     "text": [
      "INFO:tensorflow:loss = 0.96348107, step = 3800 (1.764 sec)\n"
     ]
    },
    {
     "name": "stderr",
     "output_type": "stream",
     "text": [
      "INFO:tensorflow:loss = 0.96348107, step = 3800 (1.764 sec)\n"
     ]
    },
    {
     "name": "stdout",
     "output_type": "stream",
     "text": [
      "INFO:tensorflow:global_step/sec: 113.953\n"
     ]
    },
    {
     "name": "stderr",
     "output_type": "stream",
     "text": [
      "INFO:tensorflow:global_step/sec: 113.953\n"
     ]
    },
    {
     "name": "stdout",
     "output_type": "stream",
     "text": [
      "INFO:tensorflow:loss = 1.0168278, step = 3900 (0.877 sec)\n"
     ]
    },
    {
     "name": "stderr",
     "output_type": "stream",
     "text": [
      "INFO:tensorflow:loss = 1.0168278, step = 3900 (0.877 sec)\n"
     ]
    },
    {
     "name": "stdout",
     "output_type": "stream",
     "text": [
      "INFO:tensorflow:global_step/sec: 114.646\n"
     ]
    },
    {
     "name": "stderr",
     "output_type": "stream",
     "text": [
      "INFO:tensorflow:global_step/sec: 114.646\n"
     ]
    },
    {
     "name": "stdout",
     "output_type": "stream",
     "text": [
      "INFO:tensorflow:loss = 0.9198128, step = 4000 (0.872 sec)\n"
     ]
    },
    {
     "name": "stderr",
     "output_type": "stream",
     "text": [
      "INFO:tensorflow:loss = 0.9198128, step = 4000 (0.872 sec)\n"
     ]
    },
    {
     "name": "stdout",
     "output_type": "stream",
     "text": [
      "INFO:tensorflow:global_step/sec: 113.161\n"
     ]
    },
    {
     "name": "stderr",
     "output_type": "stream",
     "text": [
      "INFO:tensorflow:global_step/sec: 113.161\n"
     ]
    },
    {
     "name": "stdout",
     "output_type": "stream",
     "text": [
      "INFO:tensorflow:loss = 0.802637, step = 4100 (0.884 sec)\n"
     ]
    },
    {
     "name": "stderr",
     "output_type": "stream",
     "text": [
      "INFO:tensorflow:loss = 0.802637, step = 4100 (0.884 sec)\n"
     ]
    },
    {
     "name": "stdout",
     "output_type": "stream",
     "text": [
      "INFO:tensorflow:global_step/sec: 116.967\n"
     ]
    },
    {
     "name": "stderr",
     "output_type": "stream",
     "text": [
      "INFO:tensorflow:global_step/sec: 116.967\n"
     ]
    },
    {
     "name": "stdout",
     "output_type": "stream",
     "text": [
      "INFO:tensorflow:loss = 1.0178231, step = 4200 (0.855 sec)\n"
     ]
    },
    {
     "name": "stderr",
     "output_type": "stream",
     "text": [
      "INFO:tensorflow:loss = 1.0178231, step = 4200 (0.855 sec)\n"
     ]
    },
    {
     "name": "stdout",
     "output_type": "stream",
     "text": [
      "INFO:tensorflow:global_step/sec: 114.172\n"
     ]
    },
    {
     "name": "stderr",
     "output_type": "stream",
     "text": [
      "INFO:tensorflow:global_step/sec: 114.172\n"
     ]
    },
    {
     "name": "stdout",
     "output_type": "stream",
     "text": [
      "INFO:tensorflow:loss = 0.82982206, step = 4300 (0.876 sec)\n"
     ]
    },
    {
     "name": "stderr",
     "output_type": "stream",
     "text": [
      "INFO:tensorflow:loss = 0.82982206, step = 4300 (0.876 sec)\n"
     ]
    },
    {
     "name": "stdout",
     "output_type": "stream",
     "text": [
      "INFO:tensorflow:global_step/sec: 114.276\n"
     ]
    },
    {
     "name": "stderr",
     "output_type": "stream",
     "text": [
      "INFO:tensorflow:global_step/sec: 114.276\n"
     ]
    },
    {
     "name": "stdout",
     "output_type": "stream",
     "text": [
      "INFO:tensorflow:loss = 0.93774354, step = 4400 (0.875 sec)\n"
     ]
    },
    {
     "name": "stderr",
     "output_type": "stream",
     "text": [
      "INFO:tensorflow:loss = 0.93774354, step = 4400 (0.875 sec)\n"
     ]
    },
    {
     "name": "stdout",
     "output_type": "stream",
     "text": [
      "INFO:tensorflow:global_step/sec: 114.967\n"
     ]
    },
    {
     "name": "stderr",
     "output_type": "stream",
     "text": [
      "INFO:tensorflow:global_step/sec: 114.967\n"
     ]
    },
    {
     "name": "stdout",
     "output_type": "stream",
     "text": [
      "INFO:tensorflow:loss = 0.9086722, step = 4500 (0.870 sec)\n"
     ]
    },
    {
     "name": "stderr",
     "output_type": "stream",
     "text": [
      "INFO:tensorflow:loss = 0.9086722, step = 4500 (0.870 sec)\n"
     ]
    },
    {
     "name": "stdout",
     "output_type": "stream",
     "text": [
      "INFO:tensorflow:global_step/sec: 223.506\n"
     ]
    },
    {
     "name": "stderr",
     "output_type": "stream",
     "text": [
      "INFO:tensorflow:global_step/sec: 223.506\n"
     ]
    },
    {
     "name": "stdout",
     "output_type": "stream",
     "text": [
      "INFO:tensorflow:loss = 0.9719672, step = 4600 (0.448 sec)\n"
     ]
    },
    {
     "name": "stderr",
     "output_type": "stream",
     "text": [
      "INFO:tensorflow:loss = 0.9719672, step = 4600 (0.448 sec)\n"
     ]
    },
    {
     "name": "stdout",
     "output_type": "stream",
     "text": [
      "INFO:tensorflow:global_step/sec: 85.1966\n"
     ]
    },
    {
     "name": "stderr",
     "output_type": "stream",
     "text": [
      "INFO:tensorflow:global_step/sec: 85.1966\n"
     ]
    },
    {
     "name": "stdout",
     "output_type": "stream",
     "text": [
      "INFO:tensorflow:loss = 0.7319959, step = 4700 (1.174 sec)\n"
     ]
    },
    {
     "name": "stderr",
     "output_type": "stream",
     "text": [
      "INFO:tensorflow:loss = 0.7319959, step = 4700 (1.174 sec)\n"
     ]
    },
    {
     "name": "stdout",
     "output_type": "stream",
     "text": [
      "INFO:tensorflow:global_step/sec: 114.762\n"
     ]
    },
    {
     "name": "stderr",
     "output_type": "stream",
     "text": [
      "INFO:tensorflow:global_step/sec: 114.762\n"
     ]
    },
    {
     "name": "stdout",
     "output_type": "stream",
     "text": [
      "INFO:tensorflow:loss = 0.8509946, step = 4800 (0.871 sec)\n"
     ]
    },
    {
     "name": "stderr",
     "output_type": "stream",
     "text": [
      "INFO:tensorflow:loss = 0.8509946, step = 4800 (0.871 sec)\n"
     ]
    },
    {
     "name": "stdout",
     "output_type": "stream",
     "text": [
      "INFO:tensorflow:global_step/sec: 114.479\n"
     ]
    },
    {
     "name": "stderr",
     "output_type": "stream",
     "text": [
      "INFO:tensorflow:global_step/sec: 114.479\n"
     ]
    },
    {
     "name": "stdout",
     "output_type": "stream",
     "text": [
      "INFO:tensorflow:loss = 0.83272266, step = 4900 (0.874 sec)\n"
     ]
    },
    {
     "name": "stderr",
     "output_type": "stream",
     "text": [
      "INFO:tensorflow:loss = 0.83272266, step = 4900 (0.874 sec)\n"
     ]
    },
    {
     "name": "stdout",
     "output_type": "stream",
     "text": [
      "INFO:tensorflow:global_step/sec: 114.192\n"
     ]
    },
    {
     "name": "stderr",
     "output_type": "stream",
     "text": [
      "INFO:tensorflow:global_step/sec: 114.192\n"
     ]
    },
    {
     "name": "stdout",
     "output_type": "stream",
     "text": [
      "INFO:tensorflow:loss = 0.73900056, step = 5000 (0.876 sec)\n"
     ]
    },
    {
     "name": "stderr",
     "output_type": "stream",
     "text": [
      "INFO:tensorflow:loss = 0.73900056, step = 5000 (0.876 sec)\n"
     ]
    },
    {
     "name": "stdout",
     "output_type": "stream",
     "text": [
      "INFO:tensorflow:global_step/sec: 113.049\n"
     ]
    },
    {
     "name": "stderr",
     "output_type": "stream",
     "text": [
      "INFO:tensorflow:global_step/sec: 113.049\n"
     ]
    },
    {
     "name": "stdout",
     "output_type": "stream",
     "text": [
      "INFO:tensorflow:loss = 0.8810166, step = 5100 (0.884 sec)\n"
     ]
    },
    {
     "name": "stderr",
     "output_type": "stream",
     "text": [
      "INFO:tensorflow:loss = 0.8810166, step = 5100 (0.884 sec)\n"
     ]
    },
    {
     "name": "stdout",
     "output_type": "stream",
     "text": [
      "INFO:tensorflow:global_step/sec: 114.157\n"
     ]
    },
    {
     "name": "stderr",
     "output_type": "stream",
     "text": [
      "INFO:tensorflow:global_step/sec: 114.157\n"
     ]
    },
    {
     "name": "stdout",
     "output_type": "stream",
     "text": [
      "INFO:tensorflow:loss = 0.6312516, step = 5200 (0.876 sec)\n"
     ]
    },
    {
     "name": "stderr",
     "output_type": "stream",
     "text": [
      "INFO:tensorflow:loss = 0.6312516, step = 5200 (0.876 sec)\n"
     ]
    },
    {
     "name": "stdout",
     "output_type": "stream",
     "text": [
      "INFO:tensorflow:global_step/sec: 113.086\n"
     ]
    },
    {
     "name": "stderr",
     "output_type": "stream",
     "text": [
      "INFO:tensorflow:global_step/sec: 113.086\n"
     ]
    },
    {
     "name": "stdout",
     "output_type": "stream",
     "text": [
      "INFO:tensorflow:loss = 0.7533829, step = 5300 (0.884 sec)\n"
     ]
    },
    {
     "name": "stderr",
     "output_type": "stream",
     "text": [
      "INFO:tensorflow:loss = 0.7533829, step = 5300 (0.884 sec)\n"
     ]
    },
    {
     "name": "stdout",
     "output_type": "stream",
     "text": [
      "INFO:tensorflow:global_step/sec: 114.184\n"
     ]
    },
    {
     "name": "stderr",
     "output_type": "stream",
     "text": [
      "INFO:tensorflow:global_step/sec: 114.184\n"
     ]
    },
    {
     "name": "stdout",
     "output_type": "stream",
     "text": [
      "INFO:tensorflow:loss = 0.7571323, step = 5400 (0.876 sec)\n"
     ]
    },
    {
     "name": "stderr",
     "output_type": "stream",
     "text": [
      "INFO:tensorflow:loss = 0.7571323, step = 5400 (0.876 sec)\n"
     ]
    },
    {
     "name": "stdout",
     "output_type": "stream",
     "text": [
      "INFO:tensorflow:global_step/sec: 141.811\n"
     ]
    },
    {
     "name": "stderr",
     "output_type": "stream",
     "text": [
      "INFO:tensorflow:global_step/sec: 141.811\n"
     ]
    },
    {
     "name": "stdout",
     "output_type": "stream",
     "text": [
      "INFO:tensorflow:loss = 0.78724813, step = 5500 (0.705 sec)\n"
     ]
    },
    {
     "name": "stderr",
     "output_type": "stream",
     "text": [
      "INFO:tensorflow:loss = 0.78724813, step = 5500 (0.705 sec)\n"
     ]
    },
    {
     "name": "stdout",
     "output_type": "stream",
     "text": [
      "INFO:tensorflow:global_step/sec: 363.272\n"
     ]
    },
    {
     "name": "stderr",
     "output_type": "stream",
     "text": [
      "INFO:tensorflow:global_step/sec: 363.272\n"
     ]
    },
    {
     "name": "stdout",
     "output_type": "stream",
     "text": [
      "INFO:tensorflow:loss = 0.6710961, step = 5600 (0.275 sec)\n"
     ]
    },
    {
     "name": "stderr",
     "output_type": "stream",
     "text": [
      "INFO:tensorflow:loss = 0.6710961, step = 5600 (0.275 sec)\n"
     ]
    },
    {
     "name": "stdout",
     "output_type": "stream",
     "text": [
      "INFO:tensorflow:global_step/sec: 54.4942\n"
     ]
    },
    {
     "name": "stderr",
     "output_type": "stream",
     "text": [
      "INFO:tensorflow:global_step/sec: 54.4942\n"
     ]
    },
    {
     "name": "stdout",
     "output_type": "stream",
     "text": [
      "INFO:tensorflow:loss = 0.77730715, step = 5700 (1.835 sec)\n"
     ]
    },
    {
     "name": "stderr",
     "output_type": "stream",
     "text": [
      "INFO:tensorflow:loss = 0.77730715, step = 5700 (1.835 sec)\n"
     ]
    },
    {
     "name": "stdout",
     "output_type": "stream",
     "text": [
      "INFO:tensorflow:global_step/sec: 113.938\n"
     ]
    },
    {
     "name": "stderr",
     "output_type": "stream",
     "text": [
      "INFO:tensorflow:global_step/sec: 113.938\n"
     ]
    },
    {
     "name": "stdout",
     "output_type": "stream",
     "text": [
      "INFO:tensorflow:loss = 0.70322883, step = 5800 (0.878 sec)\n"
     ]
    },
    {
     "name": "stderr",
     "output_type": "stream",
     "text": [
      "INFO:tensorflow:loss = 0.70322883, step = 5800 (0.878 sec)\n"
     ]
    },
    {
     "name": "stdout",
     "output_type": "stream",
     "text": [
      "INFO:tensorflow:global_step/sec: 113.055\n"
     ]
    },
    {
     "name": "stderr",
     "output_type": "stream",
     "text": [
      "INFO:tensorflow:global_step/sec: 113.055\n"
     ]
    },
    {
     "name": "stdout",
     "output_type": "stream",
     "text": [
      "INFO:tensorflow:loss = 0.565181, step = 5900 (0.884 sec)\n"
     ]
    },
    {
     "name": "stderr",
     "output_type": "stream",
     "text": [
      "INFO:tensorflow:loss = 0.565181, step = 5900 (0.884 sec)\n"
     ]
    },
    {
     "name": "stdout",
     "output_type": "stream",
     "text": [
      "INFO:tensorflow:global_step/sec: 113.104\n"
     ]
    },
    {
     "name": "stderr",
     "output_type": "stream",
     "text": [
      "INFO:tensorflow:global_step/sec: 113.104\n"
     ]
    },
    {
     "name": "stdout",
     "output_type": "stream",
     "text": [
      "INFO:tensorflow:loss = 0.63991463, step = 6000 (0.884 sec)\n"
     ]
    },
    {
     "name": "stderr",
     "output_type": "stream",
     "text": [
      "INFO:tensorflow:loss = 0.63991463, step = 6000 (0.884 sec)\n"
     ]
    },
    {
     "name": "stdout",
     "output_type": "stream",
     "text": [
      "INFO:tensorflow:global_step/sec: 112.607\n"
     ]
    },
    {
     "name": "stderr",
     "output_type": "stream",
     "text": [
      "INFO:tensorflow:global_step/sec: 112.607\n"
     ]
    },
    {
     "name": "stdout",
     "output_type": "stream",
     "text": [
      "INFO:tensorflow:loss = 0.693486, step = 6100 (0.888 sec)\n"
     ]
    },
    {
     "name": "stderr",
     "output_type": "stream",
     "text": [
      "INFO:tensorflow:loss = 0.693486, step = 6100 (0.888 sec)\n"
     ]
    },
    {
     "name": "stdout",
     "output_type": "stream",
     "text": [
      "INFO:tensorflow:global_step/sec: 112.827\n"
     ]
    },
    {
     "name": "stderr",
     "output_type": "stream",
     "text": [
      "INFO:tensorflow:global_step/sec: 112.827\n"
     ]
    },
    {
     "name": "stdout",
     "output_type": "stream",
     "text": [
      "INFO:tensorflow:loss = 0.81442523, step = 6200 (0.886 sec)\n"
     ]
    },
    {
     "name": "stderr",
     "output_type": "stream",
     "text": [
      "INFO:tensorflow:loss = 0.81442523, step = 6200 (0.886 sec)\n"
     ]
    },
    {
     "name": "stdout",
     "output_type": "stream",
     "text": [
      "INFO:tensorflow:global_step/sec: 114.905\n"
     ]
    },
    {
     "name": "stderr",
     "output_type": "stream",
     "text": [
      "INFO:tensorflow:global_step/sec: 114.905\n"
     ]
    },
    {
     "name": "stdout",
     "output_type": "stream",
     "text": [
      "INFO:tensorflow:loss = 0.6881059, step = 6300 (0.870 sec)\n"
     ]
    },
    {
     "name": "stderr",
     "output_type": "stream",
     "text": [
      "INFO:tensorflow:loss = 0.6881059, step = 6300 (0.870 sec)\n"
     ]
    },
    {
     "name": "stdout",
     "output_type": "stream",
     "text": [
      "INFO:tensorflow:global_step/sec: 114.642\n"
     ]
    },
    {
     "name": "stderr",
     "output_type": "stream",
     "text": [
      "INFO:tensorflow:global_step/sec: 114.642\n"
     ]
    },
    {
     "name": "stdout",
     "output_type": "stream",
     "text": [
      "INFO:tensorflow:loss = 0.66631556, step = 6400 (0.872 sec)\n"
     ]
    },
    {
     "name": "stderr",
     "output_type": "stream",
     "text": [
      "INFO:tensorflow:loss = 0.66631556, step = 6400 (0.872 sec)\n"
     ]
    },
    {
     "name": "stdout",
     "output_type": "stream",
     "text": [
      "INFO:tensorflow:global_step/sec: 310.415\n"
     ]
    },
    {
     "name": "stderr",
     "output_type": "stream",
     "text": [
      "INFO:tensorflow:global_step/sec: 310.415\n"
     ]
    },
    {
     "name": "stdout",
     "output_type": "stream",
     "text": [
      "INFO:tensorflow:loss = 0.5797583, step = 6500 (0.322 sec)\n"
     ]
    },
    {
     "name": "stderr",
     "output_type": "stream",
     "text": [
      "INFO:tensorflow:loss = 0.5797583, step = 6500 (0.322 sec)\n"
     ]
    },
    {
     "name": "stdout",
     "output_type": "stream",
     "text": [
      "INFO:tensorflow:global_step/sec: 76.1143\n"
     ]
    },
    {
     "name": "stderr",
     "output_type": "stream",
     "text": [
      "INFO:tensorflow:global_step/sec: 76.1143\n"
     ]
    },
    {
     "name": "stdout",
     "output_type": "stream",
     "text": [
      "INFO:tensorflow:loss = 0.6987842, step = 6600 (1.314 sec)\n"
     ]
    },
    {
     "name": "stderr",
     "output_type": "stream",
     "text": [
      "INFO:tensorflow:loss = 0.6987842, step = 6600 (1.314 sec)\n"
     ]
    },
    {
     "name": "stdout",
     "output_type": "stream",
     "text": [
      "INFO:tensorflow:global_step/sec: 112.871\n"
     ]
    },
    {
     "name": "stderr",
     "output_type": "stream",
     "text": [
      "INFO:tensorflow:global_step/sec: 112.871\n"
     ]
    },
    {
     "name": "stdout",
     "output_type": "stream",
     "text": [
      "INFO:tensorflow:loss = 0.69951165, step = 6700 (0.885 sec)\n"
     ]
    },
    {
     "name": "stderr",
     "output_type": "stream",
     "text": [
      "INFO:tensorflow:loss = 0.69951165, step = 6700 (0.885 sec)\n"
     ]
    },
    {
     "name": "stdout",
     "output_type": "stream",
     "text": [
      "INFO:tensorflow:global_step/sec: 112.564\n"
     ]
    },
    {
     "name": "stderr",
     "output_type": "stream",
     "text": [
      "INFO:tensorflow:global_step/sec: 112.564\n"
     ]
    },
    {
     "name": "stdout",
     "output_type": "stream",
     "text": [
      "INFO:tensorflow:loss = 0.7545166, step = 6800 (0.889 sec)\n"
     ]
    },
    {
     "name": "stderr",
     "output_type": "stream",
     "text": [
      "INFO:tensorflow:loss = 0.7545166, step = 6800 (0.889 sec)\n"
     ]
    },
    {
     "name": "stdout",
     "output_type": "stream",
     "text": [
      "INFO:tensorflow:global_step/sec: 113.2\n"
     ]
    },
    {
     "name": "stderr",
     "output_type": "stream",
     "text": [
      "INFO:tensorflow:global_step/sec: 113.2\n"
     ]
    },
    {
     "name": "stdout",
     "output_type": "stream",
     "text": [
      "INFO:tensorflow:loss = 0.7573935, step = 6900 (0.884 sec)\n"
     ]
    },
    {
     "name": "stderr",
     "output_type": "stream",
     "text": [
      "INFO:tensorflow:loss = 0.7573935, step = 6900 (0.884 sec)\n"
     ]
    },
    {
     "name": "stdout",
     "output_type": "stream",
     "text": [
      "INFO:tensorflow:global_step/sec: 112.581\n"
     ]
    },
    {
     "name": "stderr",
     "output_type": "stream",
     "text": [
      "INFO:tensorflow:global_step/sec: 112.581\n"
     ]
    },
    {
     "name": "stdout",
     "output_type": "stream",
     "text": [
      "INFO:tensorflow:loss = 0.69914496, step = 7000 (0.888 sec)\n"
     ]
    },
    {
     "name": "stderr",
     "output_type": "stream",
     "text": [
      "INFO:tensorflow:loss = 0.69914496, step = 7000 (0.888 sec)\n"
     ]
    },
    {
     "name": "stdout",
     "output_type": "stream",
     "text": [
      "INFO:tensorflow:global_step/sec: 113.63\n"
     ]
    },
    {
     "name": "stderr",
     "output_type": "stream",
     "text": [
      "INFO:tensorflow:global_step/sec: 113.63\n"
     ]
    },
    {
     "name": "stdout",
     "output_type": "stream",
     "text": [
      "INFO:tensorflow:loss = 0.70136493, step = 7100 (0.880 sec)\n"
     ]
    },
    {
     "name": "stderr",
     "output_type": "stream",
     "text": [
      "INFO:tensorflow:loss = 0.70136493, step = 7100 (0.880 sec)\n"
     ]
    },
    {
     "name": "stdout",
     "output_type": "stream",
     "text": [
      "INFO:tensorflow:global_step/sec: 114.321\n"
     ]
    },
    {
     "name": "stderr",
     "output_type": "stream",
     "text": [
      "INFO:tensorflow:global_step/sec: 114.321\n"
     ]
    },
    {
     "name": "stdout",
     "output_type": "stream",
     "text": [
      "INFO:tensorflow:loss = 0.7457304, step = 7200 (0.875 sec)\n"
     ]
    },
    {
     "name": "stderr",
     "output_type": "stream",
     "text": [
      "INFO:tensorflow:loss = 0.7457304, step = 7200 (0.875 sec)\n"
     ]
    },
    {
     "name": "stdout",
     "output_type": "stream",
     "text": [
      "INFO:tensorflow:global_step/sec: 113.015\n"
     ]
    },
    {
     "name": "stderr",
     "output_type": "stream",
     "text": [
      "INFO:tensorflow:global_step/sec: 113.015\n"
     ]
    },
    {
     "name": "stdout",
     "output_type": "stream",
     "text": [
      "INFO:tensorflow:loss = 0.6303762, step = 7300 (0.885 sec)\n"
     ]
    },
    {
     "name": "stderr",
     "output_type": "stream",
     "text": [
      "INFO:tensorflow:loss = 0.6303762, step = 7300 (0.885 sec)\n"
     ]
    },
    {
     "name": "stdout",
     "output_type": "stream",
     "text": [
      "INFO:tensorflow:global_step/sec: 181.441\n"
     ]
    },
    {
     "name": "stderr",
     "output_type": "stream",
     "text": [
      "INFO:tensorflow:global_step/sec: 181.441\n"
     ]
    },
    {
     "name": "stdout",
     "output_type": "stream",
     "text": [
      "INFO:tensorflow:loss = 0.58647394, step = 7400 (0.551 sec)\n"
     ]
    },
    {
     "name": "stderr",
     "output_type": "stream",
     "text": [
      "INFO:tensorflow:loss = 0.58647394, step = 7400 (0.551 sec)\n"
     ]
    },
    {
     "name": "stdout",
     "output_type": "stream",
     "text": [
      "INFO:tensorflow:global_step/sec: 362.958\n"
     ]
    },
    {
     "name": "stderr",
     "output_type": "stream",
     "text": [
      "INFO:tensorflow:global_step/sec: 362.958\n"
     ]
    },
    {
     "name": "stdout",
     "output_type": "stream",
     "text": [
      "INFO:tensorflow:loss = 0.6209979, step = 7500 (0.275 sec)\n"
     ]
    },
    {
     "name": "stderr",
     "output_type": "stream",
     "text": [
      "INFO:tensorflow:loss = 0.6209979, step = 7500 (0.275 sec)\n"
     ]
    },
    {
     "name": "stdout",
     "output_type": "stream",
     "text": [
      "INFO:tensorflow:global_step/sec: 47.9044\n"
     ]
    },
    {
     "name": "stderr",
     "output_type": "stream",
     "text": [
      "INFO:tensorflow:global_step/sec: 47.9044\n"
     ]
    },
    {
     "name": "stdout",
     "output_type": "stream",
     "text": [
      "INFO:tensorflow:loss = 0.60263544, step = 7600 (2.087 sec)\n"
     ]
    },
    {
     "name": "stderr",
     "output_type": "stream",
     "text": [
      "INFO:tensorflow:loss = 0.60263544, step = 7600 (2.087 sec)\n"
     ]
    },
    {
     "name": "stdout",
     "output_type": "stream",
     "text": [
      "INFO:tensorflow:global_step/sec: 114.406\n"
     ]
    },
    {
     "name": "stderr",
     "output_type": "stream",
     "text": [
      "INFO:tensorflow:global_step/sec: 114.406\n"
     ]
    },
    {
     "name": "stdout",
     "output_type": "stream",
     "text": [
      "INFO:tensorflow:loss = 0.50438195, step = 7700 (0.874 sec)\n"
     ]
    },
    {
     "name": "stderr",
     "output_type": "stream",
     "text": [
      "INFO:tensorflow:loss = 0.50438195, step = 7700 (0.874 sec)\n"
     ]
    },
    {
     "name": "stdout",
     "output_type": "stream",
     "text": [
      "INFO:tensorflow:global_step/sec: 114.461\n"
     ]
    },
    {
     "name": "stderr",
     "output_type": "stream",
     "text": [
      "INFO:tensorflow:global_step/sec: 114.461\n"
     ]
    },
    {
     "name": "stdout",
     "output_type": "stream",
     "text": [
      "INFO:tensorflow:loss = 0.6837965, step = 7800 (0.873 sec)\n"
     ]
    },
    {
     "name": "stderr",
     "output_type": "stream",
     "text": [
      "INFO:tensorflow:loss = 0.6837965, step = 7800 (0.873 sec)\n"
     ]
    },
    {
     "name": "stdout",
     "output_type": "stream",
     "text": [
      "INFO:tensorflow:global_step/sec: 114.019\n"
     ]
    },
    {
     "name": "stderr",
     "output_type": "stream",
     "text": [
      "INFO:tensorflow:global_step/sec: 114.019\n"
     ]
    },
    {
     "name": "stdout",
     "output_type": "stream",
     "text": [
      "INFO:tensorflow:loss = 0.5446137, step = 7900 (0.877 sec)\n"
     ]
    },
    {
     "name": "stderr",
     "output_type": "stream",
     "text": [
      "INFO:tensorflow:loss = 0.5446137, step = 7900 (0.877 sec)\n"
     ]
    },
    {
     "name": "stdout",
     "output_type": "stream",
     "text": [
      "INFO:tensorflow:global_step/sec: 114.699\n"
     ]
    },
    {
     "name": "stderr",
     "output_type": "stream",
     "text": [
      "INFO:tensorflow:global_step/sec: 114.699\n"
     ]
    },
    {
     "name": "stdout",
     "output_type": "stream",
     "text": [
      "INFO:tensorflow:loss = 0.48533368, step = 8000 (0.872 sec)\n"
     ]
    },
    {
     "name": "stderr",
     "output_type": "stream",
     "text": [
      "INFO:tensorflow:loss = 0.48533368, step = 8000 (0.872 sec)\n"
     ]
    },
    {
     "name": "stdout",
     "output_type": "stream",
     "text": [
      "INFO:tensorflow:global_step/sec: 115.261\n"
     ]
    },
    {
     "name": "stderr",
     "output_type": "stream",
     "text": [
      "INFO:tensorflow:global_step/sec: 115.261\n"
     ]
    },
    {
     "name": "stdout",
     "output_type": "stream",
     "text": [
      "INFO:tensorflow:loss = 0.44975787, step = 8100 (0.868 sec)\n"
     ]
    },
    {
     "name": "stderr",
     "output_type": "stream",
     "text": [
      "INFO:tensorflow:loss = 0.44975787, step = 8100 (0.868 sec)\n"
     ]
    },
    {
     "name": "stdout",
     "output_type": "stream",
     "text": [
      "INFO:tensorflow:global_step/sec: 114.32\n"
     ]
    },
    {
     "name": "stderr",
     "output_type": "stream",
     "text": [
      "INFO:tensorflow:global_step/sec: 114.32\n"
     ]
    },
    {
     "name": "stdout",
     "output_type": "stream",
     "text": [
      "INFO:tensorflow:loss = 0.5842058, step = 8200 (0.875 sec)\n"
     ]
    },
    {
     "name": "stderr",
     "output_type": "stream",
     "text": [
      "INFO:tensorflow:loss = 0.5842058, step = 8200 (0.875 sec)\n"
     ]
    },
    {
     "name": "stdout",
     "output_type": "stream",
     "text": [
      "INFO:tensorflow:global_step/sec: 127.416\n"
     ]
    },
    {
     "name": "stderr",
     "output_type": "stream",
     "text": [
      "INFO:tensorflow:global_step/sec: 127.416\n"
     ]
    },
    {
     "name": "stdout",
     "output_type": "stream",
     "text": [
      "INFO:tensorflow:loss = 0.61852735, step = 8300 (0.785 sec)\n"
     ]
    },
    {
     "name": "stderr",
     "output_type": "stream",
     "text": [
      "INFO:tensorflow:loss = 0.61852735, step = 8300 (0.785 sec)\n"
     ]
    },
    {
     "name": "stdout",
     "output_type": "stream",
     "text": [
      "INFO:tensorflow:global_step/sec: 371.705\n"
     ]
    },
    {
     "name": "stderr",
     "output_type": "stream",
     "text": [
      "INFO:tensorflow:global_step/sec: 371.705\n"
     ]
    },
    {
     "name": "stdout",
     "output_type": "stream",
     "text": [
      "INFO:tensorflow:loss = 0.7116207, step = 8400 (0.269 sec)\n"
     ]
    },
    {
     "name": "stderr",
     "output_type": "stream",
     "text": [
      "INFO:tensorflow:loss = 0.7116207, step = 8400 (0.269 sec)\n"
     ]
    },
    {
     "name": "stdout",
     "output_type": "stream",
     "text": [
      "INFO:tensorflow:global_step/sec: 68.8109\n"
     ]
    },
    {
     "name": "stderr",
     "output_type": "stream",
     "text": [
      "INFO:tensorflow:global_step/sec: 68.8109\n"
     ]
    },
    {
     "name": "stdout",
     "output_type": "stream",
     "text": [
      "INFO:tensorflow:loss = 0.4465224, step = 8500 (1.453 sec)\n"
     ]
    },
    {
     "name": "stderr",
     "output_type": "stream",
     "text": [
      "INFO:tensorflow:loss = 0.4465224, step = 8500 (1.453 sec)\n"
     ]
    },
    {
     "name": "stdout",
     "output_type": "stream",
     "text": [
      "INFO:tensorflow:global_step/sec: 113.002\n"
     ]
    },
    {
     "name": "stderr",
     "output_type": "stream",
     "text": [
      "INFO:tensorflow:global_step/sec: 113.002\n"
     ]
    },
    {
     "name": "stdout",
     "output_type": "stream",
     "text": [
      "INFO:tensorflow:loss = 0.65266263, step = 8600 (0.885 sec)\n"
     ]
    },
    {
     "name": "stderr",
     "output_type": "stream",
     "text": [
      "INFO:tensorflow:loss = 0.65266263, step = 8600 (0.885 sec)\n"
     ]
    },
    {
     "name": "stdout",
     "output_type": "stream",
     "text": [
      "INFO:tensorflow:global_step/sec: 115.499\n"
     ]
    },
    {
     "name": "stderr",
     "output_type": "stream",
     "text": [
      "INFO:tensorflow:global_step/sec: 115.499\n"
     ]
    },
    {
     "name": "stdout",
     "output_type": "stream",
     "text": [
      "INFO:tensorflow:loss = 0.5622315, step = 8700 (0.866 sec)\n"
     ]
    },
    {
     "name": "stderr",
     "output_type": "stream",
     "text": [
      "INFO:tensorflow:loss = 0.5622315, step = 8700 (0.866 sec)\n"
     ]
    },
    {
     "name": "stdout",
     "output_type": "stream",
     "text": [
      "INFO:tensorflow:global_step/sec: 115.406\n"
     ]
    },
    {
     "name": "stderr",
     "output_type": "stream",
     "text": [
      "INFO:tensorflow:global_step/sec: 115.406\n"
     ]
    },
    {
     "name": "stdout",
     "output_type": "stream",
     "text": [
      "INFO:tensorflow:loss = 0.5153136, step = 8800 (0.866 sec)\n"
     ]
    },
    {
     "name": "stderr",
     "output_type": "stream",
     "text": [
      "INFO:tensorflow:loss = 0.5153136, step = 8800 (0.866 sec)\n"
     ]
    },
    {
     "name": "stdout",
     "output_type": "stream",
     "text": [
      "INFO:tensorflow:global_step/sec: 115.433\n"
     ]
    },
    {
     "name": "stderr",
     "output_type": "stream",
     "text": [
      "INFO:tensorflow:global_step/sec: 115.433\n"
     ]
    },
    {
     "name": "stdout",
     "output_type": "stream",
     "text": [
      "INFO:tensorflow:loss = 0.42014232, step = 8900 (0.866 sec)\n"
     ]
    },
    {
     "name": "stderr",
     "output_type": "stream",
     "text": [
      "INFO:tensorflow:loss = 0.42014232, step = 8900 (0.866 sec)\n"
     ]
    },
    {
     "name": "stdout",
     "output_type": "stream",
     "text": [
      "INFO:tensorflow:global_step/sec: 114.113\n"
     ]
    },
    {
     "name": "stderr",
     "output_type": "stream",
     "text": [
      "INFO:tensorflow:global_step/sec: 114.113\n"
     ]
    },
    {
     "name": "stdout",
     "output_type": "stream",
     "text": [
      "INFO:tensorflow:loss = 0.42485464, step = 9000 (0.876 sec)\n"
     ]
    },
    {
     "name": "stderr",
     "output_type": "stream",
     "text": [
      "INFO:tensorflow:loss = 0.42485464, step = 9000 (0.876 sec)\n"
     ]
    },
    {
     "name": "stdout",
     "output_type": "stream",
     "text": [
      "INFO:tensorflow:global_step/sec: 114.144\n"
     ]
    },
    {
     "name": "stderr",
     "output_type": "stream",
     "text": [
      "INFO:tensorflow:global_step/sec: 114.144\n"
     ]
    },
    {
     "name": "stdout",
     "output_type": "stream",
     "text": [
      "INFO:tensorflow:loss = 0.5743935, step = 9100 (0.876 sec)\n"
     ]
    },
    {
     "name": "stderr",
     "output_type": "stream",
     "text": [
      "INFO:tensorflow:loss = 0.5743935, step = 9100 (0.876 sec)\n"
     ]
    },
    {
     "name": "stdout",
     "output_type": "stream",
     "text": [
      "INFO:tensorflow:global_step/sec: 114.741\n"
     ]
    },
    {
     "name": "stderr",
     "output_type": "stream",
     "text": [
      "INFO:tensorflow:global_step/sec: 114.741\n"
     ]
    },
    {
     "name": "stdout",
     "output_type": "stream",
     "text": [
      "INFO:tensorflow:loss = 0.671422, step = 9200 (0.872 sec)\n"
     ]
    },
    {
     "name": "stderr",
     "output_type": "stream",
     "text": [
      "INFO:tensorflow:loss = 0.671422, step = 9200 (0.872 sec)\n"
     ]
    },
    {
     "name": "stdout",
     "output_type": "stream",
     "text": [
      "INFO:tensorflow:global_step/sec: 242.343\n"
     ]
    },
    {
     "name": "stderr",
     "output_type": "stream",
     "text": [
      "INFO:tensorflow:global_step/sec: 242.343\n"
     ]
    },
    {
     "name": "stdout",
     "output_type": "stream",
     "text": [
      "INFO:tensorflow:loss = 0.48479798, step = 9300 (0.413 sec)\n"
     ]
    },
    {
     "name": "stderr",
     "output_type": "stream",
     "text": [
      "INFO:tensorflow:loss = 0.48479798, step = 9300 (0.413 sec)\n"
     ]
    },
    {
     "name": "stdout",
     "output_type": "stream",
     "text": [
      "INFO:tensorflow:global_step/sec: 83.5698\n"
     ]
    },
    {
     "name": "stderr",
     "output_type": "stream",
     "text": [
      "INFO:tensorflow:global_step/sec: 83.5698\n"
     ]
    },
    {
     "name": "stdout",
     "output_type": "stream",
     "text": [
      "INFO:tensorflow:loss = 0.6025954, step = 9400 (1.196 sec)\n"
     ]
    },
    {
     "name": "stderr",
     "output_type": "stream",
     "text": [
      "INFO:tensorflow:loss = 0.6025954, step = 9400 (1.196 sec)\n"
     ]
    },
    {
     "name": "stdout",
     "output_type": "stream",
     "text": [
      "INFO:tensorflow:global_step/sec: 129.15\n"
     ]
    },
    {
     "name": "stderr",
     "output_type": "stream",
     "text": [
      "INFO:tensorflow:global_step/sec: 129.15\n"
     ]
    },
    {
     "name": "stdout",
     "output_type": "stream",
     "text": [
      "INFO:tensorflow:loss = 0.44718996, step = 9500 (0.774 sec)\n"
     ]
    },
    {
     "name": "stderr",
     "output_type": "stream",
     "text": [
      "INFO:tensorflow:loss = 0.44718996, step = 9500 (0.774 sec)\n"
     ]
    },
    {
     "name": "stdout",
     "output_type": "stream",
     "text": [
      "INFO:tensorflow:global_step/sec: 120.364\n"
     ]
    },
    {
     "name": "stderr",
     "output_type": "stream",
     "text": [
      "INFO:tensorflow:global_step/sec: 120.364\n"
     ]
    },
    {
     "name": "stdout",
     "output_type": "stream",
     "text": [
      "INFO:tensorflow:loss = 0.7617692, step = 9600 (0.831 sec)\n"
     ]
    },
    {
     "name": "stderr",
     "output_type": "stream",
     "text": [
      "INFO:tensorflow:loss = 0.7617692, step = 9600 (0.831 sec)\n"
     ]
    },
    {
     "name": "stdout",
     "output_type": "stream",
     "text": [
      "INFO:tensorflow:global_step/sec: 114.263\n"
     ]
    },
    {
     "name": "stderr",
     "output_type": "stream",
     "text": [
      "INFO:tensorflow:global_step/sec: 114.263\n"
     ]
    },
    {
     "name": "stdout",
     "output_type": "stream",
     "text": [
      "INFO:tensorflow:loss = 0.5299103, step = 9700 (0.875 sec)\n"
     ]
    },
    {
     "name": "stderr",
     "output_type": "stream",
     "text": [
      "INFO:tensorflow:loss = 0.5299103, step = 9700 (0.875 sec)\n"
     ]
    },
    {
     "name": "stdout",
     "output_type": "stream",
     "text": [
      "INFO:tensorflow:global_step/sec: 113.736\n"
     ]
    },
    {
     "name": "stderr",
     "output_type": "stream",
     "text": [
      "INFO:tensorflow:global_step/sec: 113.736\n"
     ]
    },
    {
     "name": "stdout",
     "output_type": "stream",
     "text": [
      "INFO:tensorflow:loss = 0.43787265, step = 9800 (0.879 sec)\n"
     ]
    },
    {
     "name": "stderr",
     "output_type": "stream",
     "text": [
      "INFO:tensorflow:loss = 0.43787265, step = 9800 (0.879 sec)\n"
     ]
    },
    {
     "name": "stdout",
     "output_type": "stream",
     "text": [
      "INFO:tensorflow:global_step/sec: 113.327\n"
     ]
    },
    {
     "name": "stderr",
     "output_type": "stream",
     "text": [
      "INFO:tensorflow:global_step/sec: 113.327\n"
     ]
    },
    {
     "name": "stdout",
     "output_type": "stream",
     "text": [
      "INFO:tensorflow:loss = 0.3690548, step = 9900 (0.882 sec)\n"
     ]
    },
    {
     "name": "stderr",
     "output_type": "stream",
     "text": [
      "INFO:tensorflow:loss = 0.3690548, step = 9900 (0.882 sec)\n"
     ]
    },
    {
     "name": "stdout",
     "output_type": "stream",
     "text": [
      "INFO:tensorflow:global_step/sec: 112.415\n"
     ]
    },
    {
     "name": "stderr",
     "output_type": "stream",
     "text": [
      "INFO:tensorflow:global_step/sec: 112.415\n"
     ]
    },
    {
     "name": "stdout",
     "output_type": "stream",
     "text": [
      "INFO:tensorflow:loss = 0.5275825, step = 10000 (0.890 sec)\n"
     ]
    },
    {
     "name": "stderr",
     "output_type": "stream",
     "text": [
      "INFO:tensorflow:loss = 0.5275825, step = 10000 (0.890 sec)\n"
     ]
    },
    {
     "name": "stdout",
     "output_type": "stream",
     "text": [
      "INFO:tensorflow:global_step/sec: 113.327\n"
     ]
    },
    {
     "name": "stderr",
     "output_type": "stream",
     "text": [
      "INFO:tensorflow:global_step/sec: 113.327\n"
     ]
    },
    {
     "name": "stdout",
     "output_type": "stream",
     "text": [
      "INFO:tensorflow:loss = 0.40371907, step = 10100 (0.882 sec)\n"
     ]
    },
    {
     "name": "stderr",
     "output_type": "stream",
     "text": [
      "INFO:tensorflow:loss = 0.40371907, step = 10100 (0.882 sec)\n"
     ]
    },
    {
     "name": "stdout",
     "output_type": "stream",
     "text": [
      "INFO:tensorflow:global_step/sec: 156.161\n"
     ]
    },
    {
     "name": "stderr",
     "output_type": "stream",
     "text": [
      "INFO:tensorflow:global_step/sec: 156.161\n"
     ]
    },
    {
     "name": "stdout",
     "output_type": "stream",
     "text": [
      "INFO:tensorflow:loss = 0.4844839, step = 10200 (0.641 sec)\n"
     ]
    },
    {
     "name": "stderr",
     "output_type": "stream",
     "text": [
      "INFO:tensorflow:loss = 0.4844839, step = 10200 (0.641 sec)\n"
     ]
    },
    {
     "name": "stdout",
     "output_type": "stream",
     "text": [
      "INFO:tensorflow:global_step/sec: 367.758\n"
     ]
    },
    {
     "name": "stderr",
     "output_type": "stream",
     "text": [
      "INFO:tensorflow:global_step/sec: 367.758\n"
     ]
    },
    {
     "name": "stdout",
     "output_type": "stream",
     "text": [
      "INFO:tensorflow:loss = 0.38525915, step = 10300 (0.272 sec)\n"
     ]
    },
    {
     "name": "stderr",
     "output_type": "stream",
     "text": [
      "INFO:tensorflow:loss = 0.38525915, step = 10300 (0.272 sec)\n"
     ]
    },
    {
     "name": "stdout",
     "output_type": "stream",
     "text": [
      "INFO:tensorflow:global_step/sec: 62.3575\n"
     ]
    },
    {
     "name": "stderr",
     "output_type": "stream",
     "text": [
      "INFO:tensorflow:global_step/sec: 62.3575\n"
     ]
    },
    {
     "name": "stdout",
     "output_type": "stream",
     "text": [
      "INFO:tensorflow:loss = 0.47613, step = 10400 (1.604 sec)\n"
     ]
    },
    {
     "name": "stderr",
     "output_type": "stream",
     "text": [
      "INFO:tensorflow:loss = 0.47613, step = 10400 (1.604 sec)\n"
     ]
    },
    {
     "name": "stdout",
     "output_type": "stream",
     "text": [
      "INFO:tensorflow:global_step/sec: 114.41\n"
     ]
    },
    {
     "name": "stderr",
     "output_type": "stream",
     "text": [
      "INFO:tensorflow:global_step/sec: 114.41\n"
     ]
    },
    {
     "name": "stdout",
     "output_type": "stream",
     "text": [
      "INFO:tensorflow:loss = 0.68314373, step = 10500 (0.874 sec)\n"
     ]
    },
    {
     "name": "stderr",
     "output_type": "stream",
     "text": [
      "INFO:tensorflow:loss = 0.68314373, step = 10500 (0.874 sec)\n"
     ]
    },
    {
     "name": "stdout",
     "output_type": "stream",
     "text": [
      "INFO:tensorflow:global_step/sec: 113.926\n"
     ]
    },
    {
     "name": "stderr",
     "output_type": "stream",
     "text": [
      "INFO:tensorflow:global_step/sec: 113.926\n"
     ]
    },
    {
     "name": "stdout",
     "output_type": "stream",
     "text": [
      "INFO:tensorflow:loss = 0.30651793, step = 10600 (0.878 sec)\n"
     ]
    },
    {
     "name": "stderr",
     "output_type": "stream",
     "text": [
      "INFO:tensorflow:loss = 0.30651793, step = 10600 (0.878 sec)\n"
     ]
    },
    {
     "name": "stdout",
     "output_type": "stream",
     "text": [
      "INFO:tensorflow:global_step/sec: 113.21\n"
     ]
    },
    {
     "name": "stderr",
     "output_type": "stream",
     "text": [
      "INFO:tensorflow:global_step/sec: 113.21\n"
     ]
    },
    {
     "name": "stdout",
     "output_type": "stream",
     "text": [
      "INFO:tensorflow:loss = 0.4338395, step = 10700 (0.883 sec)\n"
     ]
    },
    {
     "name": "stderr",
     "output_type": "stream",
     "text": [
      "INFO:tensorflow:loss = 0.4338395, step = 10700 (0.883 sec)\n"
     ]
    },
    {
     "name": "stdout",
     "output_type": "stream",
     "text": [
      "INFO:tensorflow:global_step/sec: 113.664\n"
     ]
    },
    {
     "name": "stderr",
     "output_type": "stream",
     "text": [
      "INFO:tensorflow:global_step/sec: 113.664\n"
     ]
    },
    {
     "name": "stdout",
     "output_type": "stream",
     "text": [
      "INFO:tensorflow:loss = 0.4499012, step = 10800 (0.880 sec)\n"
     ]
    },
    {
     "name": "stderr",
     "output_type": "stream",
     "text": [
      "INFO:tensorflow:loss = 0.4499012, step = 10800 (0.880 sec)\n"
     ]
    },
    {
     "name": "stdout",
     "output_type": "stream",
     "text": [
      "INFO:tensorflow:global_step/sec: 112.881\n"
     ]
    },
    {
     "name": "stderr",
     "output_type": "stream",
     "text": [
      "INFO:tensorflow:global_step/sec: 112.881\n"
     ]
    },
    {
     "name": "stdout",
     "output_type": "stream",
     "text": [
      "INFO:tensorflow:loss = 0.54250115, step = 10900 (0.886 sec)\n"
     ]
    },
    {
     "name": "stderr",
     "output_type": "stream",
     "text": [
      "INFO:tensorflow:loss = 0.54250115, step = 10900 (0.886 sec)\n"
     ]
    },
    {
     "name": "stdout",
     "output_type": "stream",
     "text": [
      "INFO:tensorflow:global_step/sec: 113.187\n"
     ]
    },
    {
     "name": "stderr",
     "output_type": "stream",
     "text": [
      "INFO:tensorflow:global_step/sec: 113.187\n"
     ]
    },
    {
     "name": "stdout",
     "output_type": "stream",
     "text": [
      "INFO:tensorflow:loss = 0.53265464, step = 11000 (0.884 sec)\n"
     ]
    },
    {
     "name": "stderr",
     "output_type": "stream",
     "text": [
      "INFO:tensorflow:loss = 0.53265464, step = 11000 (0.884 sec)\n"
     ]
    },
    {
     "name": "stdout",
     "output_type": "stream",
     "text": [
      "INFO:tensorflow:global_step/sec: 114.557\n"
     ]
    },
    {
     "name": "stderr",
     "output_type": "stream",
     "text": [
      "INFO:tensorflow:global_step/sec: 114.557\n"
     ]
    },
    {
     "name": "stdout",
     "output_type": "stream",
     "text": [
      "INFO:tensorflow:loss = 0.5215628, step = 11100 (0.873 sec)\n"
     ]
    },
    {
     "name": "stderr",
     "output_type": "stream",
     "text": [
      "INFO:tensorflow:loss = 0.5215628, step = 11100 (0.873 sec)\n"
     ]
    },
    {
     "name": "stdout",
     "output_type": "stream",
     "text": [
      "INFO:tensorflow:global_step/sec: 362.696\n"
     ]
    },
    {
     "name": "stderr",
     "output_type": "stream",
     "text": [
      "INFO:tensorflow:global_step/sec: 362.696\n"
     ]
    },
    {
     "name": "stdout",
     "output_type": "stream",
     "text": [
      "INFO:tensorflow:loss = 0.7979821, step = 11200 (0.276 sec)\n"
     ]
    },
    {
     "name": "stderr",
     "output_type": "stream",
     "text": [
      "INFO:tensorflow:loss = 0.7979821, step = 11200 (0.276 sec)\n"
     ]
    },
    {
     "name": "stdout",
     "output_type": "stream",
     "text": [
      "INFO:tensorflow:global_step/sec: 56.7931\n"
     ]
    },
    {
     "name": "stderr",
     "output_type": "stream",
     "text": [
      "INFO:tensorflow:global_step/sec: 56.7931\n"
     ]
    },
    {
     "name": "stdout",
     "output_type": "stream",
     "text": [
      "INFO:tensorflow:loss = 0.42034245, step = 11300 (1.760 sec)\n"
     ]
    },
    {
     "name": "stderr",
     "output_type": "stream",
     "text": [
      "INFO:tensorflow:loss = 0.42034245, step = 11300 (1.760 sec)\n"
     ]
    },
    {
     "name": "stdout",
     "output_type": "stream",
     "text": [
      "INFO:tensorflow:global_step/sec: 113.254\n"
     ]
    },
    {
     "name": "stderr",
     "output_type": "stream",
     "text": [
      "INFO:tensorflow:global_step/sec: 113.254\n"
     ]
    },
    {
     "name": "stdout",
     "output_type": "stream",
     "text": [
      "INFO:tensorflow:loss = 0.5292198, step = 11400 (0.883 sec)\n"
     ]
    },
    {
     "name": "stderr",
     "output_type": "stream",
     "text": [
      "INFO:tensorflow:loss = 0.5292198, step = 11400 (0.883 sec)\n"
     ]
    },
    {
     "name": "stdout",
     "output_type": "stream",
     "text": [
      "INFO:tensorflow:global_step/sec: 114.024\n"
     ]
    },
    {
     "name": "stderr",
     "output_type": "stream",
     "text": [
      "INFO:tensorflow:global_step/sec: 114.024\n"
     ]
    },
    {
     "name": "stdout",
     "output_type": "stream",
     "text": [
      "INFO:tensorflow:loss = 0.4254782, step = 11500 (0.877 sec)\n"
     ]
    },
    {
     "name": "stderr",
     "output_type": "stream",
     "text": [
      "INFO:tensorflow:loss = 0.4254782, step = 11500 (0.877 sec)\n"
     ]
    },
    {
     "name": "stdout",
     "output_type": "stream",
     "text": [
      "INFO:tensorflow:global_step/sec: 113.553\n"
     ]
    },
    {
     "name": "stderr",
     "output_type": "stream",
     "text": [
      "INFO:tensorflow:global_step/sec: 113.553\n"
     ]
    },
    {
     "name": "stdout",
     "output_type": "stream",
     "text": [
      "INFO:tensorflow:loss = 0.50970966, step = 11600 (0.881 sec)\n"
     ]
    },
    {
     "name": "stderr",
     "output_type": "stream",
     "text": [
      "INFO:tensorflow:loss = 0.50970966, step = 11600 (0.881 sec)\n"
     ]
    },
    {
     "name": "stdout",
     "output_type": "stream",
     "text": [
      "INFO:tensorflow:global_step/sec: 113.633\n"
     ]
    },
    {
     "name": "stderr",
     "output_type": "stream",
     "text": [
      "INFO:tensorflow:global_step/sec: 113.633\n"
     ]
    },
    {
     "name": "stdout",
     "output_type": "stream",
     "text": [
      "INFO:tensorflow:loss = 0.29519865, step = 11700 (0.880 sec)\n"
     ]
    },
    {
     "name": "stderr",
     "output_type": "stream",
     "text": [
      "INFO:tensorflow:loss = 0.29519865, step = 11700 (0.880 sec)\n"
     ]
    },
    {
     "name": "stdout",
     "output_type": "stream",
     "text": [
      "INFO:tensorflow:global_step/sec: 112.489\n"
     ]
    },
    {
     "name": "stderr",
     "output_type": "stream",
     "text": [
      "INFO:tensorflow:global_step/sec: 112.489\n"
     ]
    },
    {
     "name": "stdout",
     "output_type": "stream",
     "text": [
      "INFO:tensorflow:loss = 0.42551592, step = 11800 (0.889 sec)\n"
     ]
    },
    {
     "name": "stderr",
     "output_type": "stream",
     "text": [
      "INFO:tensorflow:loss = 0.42551592, step = 11800 (0.889 sec)\n"
     ]
    },
    {
     "name": "stdout",
     "output_type": "stream",
     "text": [
      "INFO:tensorflow:global_step/sec: 114.285\n"
     ]
    },
    {
     "name": "stderr",
     "output_type": "stream",
     "text": [
      "INFO:tensorflow:global_step/sec: 114.285\n"
     ]
    },
    {
     "name": "stdout",
     "output_type": "stream",
     "text": [
      "INFO:tensorflow:loss = 0.69208634, step = 11900 (0.875 sec)\n"
     ]
    },
    {
     "name": "stderr",
     "output_type": "stream",
     "text": [
      "INFO:tensorflow:loss = 0.69208634, step = 11900 (0.875 sec)\n"
     ]
    },
    {
     "name": "stdout",
     "output_type": "stream",
     "text": [
      "INFO:tensorflow:global_step/sec: 114.739\n"
     ]
    },
    {
     "name": "stderr",
     "output_type": "stream",
     "text": [
      "INFO:tensorflow:global_step/sec: 114.739\n"
     ]
    },
    {
     "name": "stdout",
     "output_type": "stream",
     "text": [
      "INFO:tensorflow:loss = 0.46524662, step = 12000 (0.871 sec)\n"
     ]
    },
    {
     "name": "stderr",
     "output_type": "stream",
     "text": [
      "INFO:tensorflow:loss = 0.46524662, step = 12000 (0.871 sec)\n"
     ]
    },
    {
     "name": "stdout",
     "output_type": "stream",
     "text": [
      "INFO:tensorflow:global_step/sec: 201.432\n"
     ]
    },
    {
     "name": "stderr",
     "output_type": "stream",
     "text": [
      "INFO:tensorflow:global_step/sec: 201.432\n"
     ]
    },
    {
     "name": "stdout",
     "output_type": "stream",
     "text": [
      "INFO:tensorflow:loss = 0.64448845, step = 12100 (0.497 sec)\n"
     ]
    },
    {
     "name": "stderr",
     "output_type": "stream",
     "text": [
      "INFO:tensorflow:loss = 0.64448845, step = 12100 (0.497 sec)\n"
     ]
    },
    {
     "name": "stdout",
     "output_type": "stream",
     "text": [
      "INFO:tensorflow:global_step/sec: 83.4712\n"
     ]
    },
    {
     "name": "stderr",
     "output_type": "stream",
     "text": [
      "INFO:tensorflow:global_step/sec: 83.4712\n"
     ]
    },
    {
     "name": "stdout",
     "output_type": "stream",
     "text": [
      "INFO:tensorflow:loss = 0.6804011, step = 12200 (1.197 sec)\n"
     ]
    },
    {
     "name": "stderr",
     "output_type": "stream",
     "text": [
      "INFO:tensorflow:loss = 0.6804011, step = 12200 (1.197 sec)\n"
     ]
    },
    {
     "name": "stdout",
     "output_type": "stream",
     "text": [
      "INFO:tensorflow:global_step/sec: 113.681\n"
     ]
    },
    {
     "name": "stderr",
     "output_type": "stream",
     "text": [
      "INFO:tensorflow:global_step/sec: 113.681\n"
     ]
    },
    {
     "name": "stdout",
     "output_type": "stream",
     "text": [
      "INFO:tensorflow:loss = 0.25450796, step = 12300 (0.880 sec)\n"
     ]
    },
    {
     "name": "stderr",
     "output_type": "stream",
     "text": [
      "INFO:tensorflow:loss = 0.25450796, step = 12300 (0.880 sec)\n"
     ]
    },
    {
     "name": "stdout",
     "output_type": "stream",
     "text": [
      "INFO:tensorflow:global_step/sec: 114.133\n"
     ]
    },
    {
     "name": "stderr",
     "output_type": "stream",
     "text": [
      "INFO:tensorflow:global_step/sec: 114.133\n"
     ]
    },
    {
     "name": "stdout",
     "output_type": "stream",
     "text": [
      "INFO:tensorflow:loss = 0.456465, step = 12400 (0.876 sec)\n"
     ]
    },
    {
     "name": "stderr",
     "output_type": "stream",
     "text": [
      "INFO:tensorflow:loss = 0.456465, step = 12400 (0.876 sec)\n"
     ]
    },
    {
     "name": "stdout",
     "output_type": "stream",
     "text": [
      "INFO:tensorflow:global_step/sec: 114.349\n"
     ]
    },
    {
     "name": "stderr",
     "output_type": "stream",
     "text": [
      "INFO:tensorflow:global_step/sec: 114.349\n"
     ]
    },
    {
     "name": "stdout",
     "output_type": "stream",
     "text": [
      "INFO:tensorflow:loss = 0.42321965, step = 12500 (0.875 sec)\n"
     ]
    },
    {
     "name": "stderr",
     "output_type": "stream",
     "text": [
      "INFO:tensorflow:loss = 0.42321965, step = 12500 (0.875 sec)\n"
     ]
    },
    {
     "name": "stdout",
     "output_type": "stream",
     "text": [
      "INFO:tensorflow:global_step/sec: 112.92\n"
     ]
    },
    {
     "name": "stderr",
     "output_type": "stream",
     "text": [
      "INFO:tensorflow:global_step/sec: 112.92\n"
     ]
    },
    {
     "name": "stdout",
     "output_type": "stream",
     "text": [
      "INFO:tensorflow:loss = 0.39983463, step = 12600 (0.886 sec)\n"
     ]
    },
    {
     "name": "stderr",
     "output_type": "stream",
     "text": [
      "INFO:tensorflow:loss = 0.39983463, step = 12600 (0.886 sec)\n"
     ]
    },
    {
     "name": "stdout",
     "output_type": "stream",
     "text": [
      "INFO:tensorflow:global_step/sec: 113.06\n"
     ]
    },
    {
     "name": "stderr",
     "output_type": "stream",
     "text": [
      "INFO:tensorflow:global_step/sec: 113.06\n"
     ]
    },
    {
     "name": "stdout",
     "output_type": "stream",
     "text": [
      "INFO:tensorflow:loss = 0.3548218, step = 12700 (0.885 sec)\n"
     ]
    },
    {
     "name": "stderr",
     "output_type": "stream",
     "text": [
      "INFO:tensorflow:loss = 0.3548218, step = 12700 (0.885 sec)\n"
     ]
    },
    {
     "name": "stdout",
     "output_type": "stream",
     "text": [
      "INFO:tensorflow:global_step/sec: 112.597\n"
     ]
    },
    {
     "name": "stderr",
     "output_type": "stream",
     "text": [
      "INFO:tensorflow:global_step/sec: 112.597\n"
     ]
    },
    {
     "name": "stdout",
     "output_type": "stream",
     "text": [
      "INFO:tensorflow:loss = 0.44753984, step = 12800 (0.888 sec)\n"
     ]
    },
    {
     "name": "stderr",
     "output_type": "stream",
     "text": [
      "INFO:tensorflow:loss = 0.44753984, step = 12800 (0.888 sec)\n"
     ]
    },
    {
     "name": "stdout",
     "output_type": "stream",
     "text": [
      "INFO:tensorflow:global_step/sec: 113.062\n"
     ]
    },
    {
     "name": "stderr",
     "output_type": "stream",
     "text": [
      "INFO:tensorflow:global_step/sec: 113.062\n"
     ]
    },
    {
     "name": "stdout",
     "output_type": "stream",
     "text": [
      "INFO:tensorflow:loss = 0.41929197, step = 12900 (0.885 sec)\n"
     ]
    },
    {
     "name": "stderr",
     "output_type": "stream",
     "text": [
      "INFO:tensorflow:loss = 0.41929197, step = 12900 (0.885 sec)\n"
     ]
    },
    {
     "name": "stdout",
     "output_type": "stream",
     "text": [
      "INFO:tensorflow:global_step/sec: 138.649\n"
     ]
    },
    {
     "name": "stderr",
     "output_type": "stream",
     "text": [
      "INFO:tensorflow:global_step/sec: 138.649\n"
     ]
    },
    {
     "name": "stdout",
     "output_type": "stream",
     "text": [
      "INFO:tensorflow:loss = 0.35650593, step = 13000 (0.721 sec)\n"
     ]
    },
    {
     "name": "stderr",
     "output_type": "stream",
     "text": [
      "INFO:tensorflow:loss = 0.35650593, step = 13000 (0.721 sec)\n"
     ]
    },
    {
     "name": "stdout",
     "output_type": "stream",
     "text": [
      "INFO:tensorflow:global_step/sec: 374.276\n"
     ]
    },
    {
     "name": "stderr",
     "output_type": "stream",
     "text": [
      "INFO:tensorflow:global_step/sec: 374.276\n"
     ]
    },
    {
     "name": "stdout",
     "output_type": "stream",
     "text": [
      "INFO:tensorflow:loss = 0.42515814, step = 13100 (0.267 sec)\n"
     ]
    },
    {
     "name": "stderr",
     "output_type": "stream",
     "text": [
      "INFO:tensorflow:loss = 0.42515814, step = 13100 (0.267 sec)\n"
     ]
    },
    {
     "name": "stdout",
     "output_type": "stream",
     "text": [
      "INFO:tensorflow:global_step/sec: 66.1085\n"
     ]
    },
    {
     "name": "stderr",
     "output_type": "stream",
     "text": [
      "INFO:tensorflow:global_step/sec: 66.1085\n"
     ]
    },
    {
     "name": "stdout",
     "output_type": "stream",
     "text": [
      "INFO:tensorflow:loss = 0.49356452, step = 13200 (1.513 sec)\n"
     ]
    },
    {
     "name": "stderr",
     "output_type": "stream",
     "text": [
      "INFO:tensorflow:loss = 0.49356452, step = 13200 (1.513 sec)\n"
     ]
    },
    {
     "name": "stdout",
     "output_type": "stream",
     "text": [
      "INFO:tensorflow:global_step/sec: 114.321\n"
     ]
    },
    {
     "name": "stderr",
     "output_type": "stream",
     "text": [
      "INFO:tensorflow:global_step/sec: 114.321\n"
     ]
    },
    {
     "name": "stdout",
     "output_type": "stream",
     "text": [
      "INFO:tensorflow:loss = 0.41032612, step = 13300 (0.875 sec)\n"
     ]
    },
    {
     "name": "stderr",
     "output_type": "stream",
     "text": [
      "INFO:tensorflow:loss = 0.41032612, step = 13300 (0.875 sec)\n"
     ]
    },
    {
     "name": "stdout",
     "output_type": "stream",
     "text": [
      "INFO:tensorflow:global_step/sec: 115.027\n"
     ]
    },
    {
     "name": "stderr",
     "output_type": "stream",
     "text": [
      "INFO:tensorflow:global_step/sec: 115.027\n"
     ]
    },
    {
     "name": "stdout",
     "output_type": "stream",
     "text": [
      "INFO:tensorflow:loss = 0.5270637, step = 13400 (0.869 sec)\n"
     ]
    },
    {
     "name": "stderr",
     "output_type": "stream",
     "text": [
      "INFO:tensorflow:loss = 0.5270637, step = 13400 (0.869 sec)\n"
     ]
    },
    {
     "name": "stdout",
     "output_type": "stream",
     "text": [
      "INFO:tensorflow:global_step/sec: 115.032\n"
     ]
    },
    {
     "name": "stderr",
     "output_type": "stream",
     "text": [
      "INFO:tensorflow:global_step/sec: 115.032\n"
     ]
    },
    {
     "name": "stdout",
     "output_type": "stream",
     "text": [
      "INFO:tensorflow:loss = 0.37458575, step = 13500 (0.869 sec)\n"
     ]
    },
    {
     "name": "stderr",
     "output_type": "stream",
     "text": [
      "INFO:tensorflow:loss = 0.37458575, step = 13500 (0.869 sec)\n"
     ]
    },
    {
     "name": "stdout",
     "output_type": "stream",
     "text": [
      "INFO:tensorflow:global_step/sec: 114.641\n"
     ]
    },
    {
     "name": "stderr",
     "output_type": "stream",
     "text": [
      "INFO:tensorflow:global_step/sec: 114.641\n"
     ]
    },
    {
     "name": "stdout",
     "output_type": "stream",
     "text": [
      "INFO:tensorflow:loss = 0.40344495, step = 13600 (0.872 sec)\n"
     ]
    },
    {
     "name": "stderr",
     "output_type": "stream",
     "text": [
      "INFO:tensorflow:loss = 0.40344495, step = 13600 (0.872 sec)\n"
     ]
    },
    {
     "name": "stdout",
     "output_type": "stream",
     "text": [
      "INFO:tensorflow:global_step/sec: 115.601\n"
     ]
    },
    {
     "name": "stderr",
     "output_type": "stream",
     "text": [
      "INFO:tensorflow:global_step/sec: 115.601\n"
     ]
    },
    {
     "name": "stdout",
     "output_type": "stream",
     "text": [
      "INFO:tensorflow:loss = 0.53613955, step = 13700 (0.865 sec)\n"
     ]
    },
    {
     "name": "stderr",
     "output_type": "stream",
     "text": [
      "INFO:tensorflow:loss = 0.53613955, step = 13700 (0.865 sec)\n"
     ]
    },
    {
     "name": "stdout",
     "output_type": "stream",
     "text": [
      "INFO:tensorflow:global_step/sec: 115.628\n"
     ]
    },
    {
     "name": "stderr",
     "output_type": "stream",
     "text": [
      "INFO:tensorflow:global_step/sec: 115.628\n"
     ]
    },
    {
     "name": "stdout",
     "output_type": "stream",
     "text": [
      "INFO:tensorflow:loss = 0.4105112, step = 13800 (0.865 sec)\n"
     ]
    },
    {
     "name": "stderr",
     "output_type": "stream",
     "text": [
      "INFO:tensorflow:loss = 0.4105112, step = 13800 (0.865 sec)\n"
     ]
    },
    {
     "name": "stdout",
     "output_type": "stream",
     "text": [
      "INFO:tensorflow:global_step/sec: 113.617\n"
     ]
    },
    {
     "name": "stderr",
     "output_type": "stream",
     "text": [
      "INFO:tensorflow:global_step/sec: 113.617\n"
     ]
    },
    {
     "name": "stdout",
     "output_type": "stream",
     "text": [
      "INFO:tensorflow:loss = 0.38070506, step = 13900 (0.880 sec)\n"
     ]
    },
    {
     "name": "stderr",
     "output_type": "stream",
     "text": [
      "INFO:tensorflow:loss = 0.38070506, step = 13900 (0.880 sec)\n"
     ]
    },
    {
     "name": "stdout",
     "output_type": "stream",
     "text": [
      "INFO:tensorflow:global_step/sec: 289.21\n"
     ]
    },
    {
     "name": "stderr",
     "output_type": "stream",
     "text": [
      "INFO:tensorflow:global_step/sec: 289.21\n"
     ]
    },
    {
     "name": "stdout",
     "output_type": "stream",
     "text": [
      "INFO:tensorflow:loss = 0.49386114, step = 14000 (0.346 sec)\n"
     ]
    },
    {
     "name": "stderr",
     "output_type": "stream",
     "text": [
      "INFO:tensorflow:loss = 0.49386114, step = 14000 (0.346 sec)\n"
     ]
    },
    {
     "name": "stdout",
     "output_type": "stream",
     "text": [
      "INFO:tensorflow:global_step/sec: 60.6021\n"
     ]
    },
    {
     "name": "stderr",
     "output_type": "stream",
     "text": [
      "INFO:tensorflow:global_step/sec: 60.6021\n"
     ]
    },
    {
     "name": "stdout",
     "output_type": "stream",
     "text": [
      "INFO:tensorflow:loss = 0.55049473, step = 14100 (1.650 sec)\n"
     ]
    },
    {
     "name": "stderr",
     "output_type": "stream",
     "text": [
      "INFO:tensorflow:loss = 0.55049473, step = 14100 (1.650 sec)\n"
     ]
    },
    {
     "name": "stdout",
     "output_type": "stream",
     "text": [
      "INFO:tensorflow:global_step/sec: 114.677\n"
     ]
    },
    {
     "name": "stderr",
     "output_type": "stream",
     "text": [
      "INFO:tensorflow:global_step/sec: 114.677\n"
     ]
    },
    {
     "name": "stdout",
     "output_type": "stream",
     "text": [
      "INFO:tensorflow:loss = 0.42319727, step = 14200 (0.872 sec)\n"
     ]
    },
    {
     "name": "stderr",
     "output_type": "stream",
     "text": [
      "INFO:tensorflow:loss = 0.42319727, step = 14200 (0.872 sec)\n"
     ]
    },
    {
     "name": "stdout",
     "output_type": "stream",
     "text": [
      "INFO:tensorflow:global_step/sec: 113.916\n"
     ]
    },
    {
     "name": "stderr",
     "output_type": "stream",
     "text": [
      "INFO:tensorflow:global_step/sec: 113.916\n"
     ]
    },
    {
     "name": "stdout",
     "output_type": "stream",
     "text": [
      "INFO:tensorflow:loss = 0.4049874, step = 14300 (0.878 sec)\n"
     ]
    },
    {
     "name": "stderr",
     "output_type": "stream",
     "text": [
      "INFO:tensorflow:loss = 0.4049874, step = 14300 (0.878 sec)\n"
     ]
    },
    {
     "name": "stdout",
     "output_type": "stream",
     "text": [
      "INFO:tensorflow:global_step/sec: 114.132\n"
     ]
    },
    {
     "name": "stderr",
     "output_type": "stream",
     "text": [
      "INFO:tensorflow:global_step/sec: 114.132\n"
     ]
    },
    {
     "name": "stdout",
     "output_type": "stream",
     "text": [
      "INFO:tensorflow:loss = 0.43009394, step = 14400 (0.876 sec)\n"
     ]
    },
    {
     "name": "stderr",
     "output_type": "stream",
     "text": [
      "INFO:tensorflow:loss = 0.43009394, step = 14400 (0.876 sec)\n"
     ]
    },
    {
     "name": "stdout",
     "output_type": "stream",
     "text": [
      "INFO:tensorflow:global_step/sec: 113.773\n"
     ]
    },
    {
     "name": "stderr",
     "output_type": "stream",
     "text": [
      "INFO:tensorflow:global_step/sec: 113.773\n"
     ]
    },
    {
     "name": "stdout",
     "output_type": "stream",
     "text": [
      "INFO:tensorflow:loss = 0.48520046, step = 14500 (0.879 sec)\n"
     ]
    },
    {
     "name": "stderr",
     "output_type": "stream",
     "text": [
      "INFO:tensorflow:loss = 0.48520046, step = 14500 (0.879 sec)\n"
     ]
    },
    {
     "name": "stdout",
     "output_type": "stream",
     "text": [
      "INFO:tensorflow:global_step/sec: 114.622\n"
     ]
    },
    {
     "name": "stderr",
     "output_type": "stream",
     "text": [
      "INFO:tensorflow:global_step/sec: 114.622\n"
     ]
    },
    {
     "name": "stdout",
     "output_type": "stream",
     "text": [
      "INFO:tensorflow:loss = 0.34818208, step = 14600 (0.872 sec)\n"
     ]
    },
    {
     "name": "stderr",
     "output_type": "stream",
     "text": [
      "INFO:tensorflow:loss = 0.34818208, step = 14600 (0.872 sec)\n"
     ]
    },
    {
     "name": "stdout",
     "output_type": "stream",
     "text": [
      "INFO:tensorflow:global_step/sec: 114.907\n"
     ]
    },
    {
     "name": "stderr",
     "output_type": "stream",
     "text": [
      "INFO:tensorflow:global_step/sec: 114.907\n"
     ]
    },
    {
     "name": "stdout",
     "output_type": "stream",
     "text": [
      "INFO:tensorflow:loss = 0.3500738, step = 14700 (0.870 sec)\n"
     ]
    },
    {
     "name": "stderr",
     "output_type": "stream",
     "text": [
      "INFO:tensorflow:loss = 0.3500738, step = 14700 (0.870 sec)\n"
     ]
    },
    {
     "name": "stdout",
     "output_type": "stream",
     "text": [
      "INFO:tensorflow:global_step/sec: 114.216\n"
     ]
    },
    {
     "name": "stderr",
     "output_type": "stream",
     "text": [
      "INFO:tensorflow:global_step/sec: 114.216\n"
     ]
    },
    {
     "name": "stdout",
     "output_type": "stream",
     "text": [
      "INFO:tensorflow:loss = 0.36332196, step = 14800 (0.876 sec)\n"
     ]
    },
    {
     "name": "stderr",
     "output_type": "stream",
     "text": [
      "INFO:tensorflow:loss = 0.36332196, step = 14800 (0.876 sec)\n"
     ]
    },
    {
     "name": "stdout",
     "output_type": "stream",
     "text": [
      "INFO:tensorflow:global_step/sec: 175.485\n"
     ]
    },
    {
     "name": "stderr",
     "output_type": "stream",
     "text": [
      "INFO:tensorflow:global_step/sec: 175.485\n"
     ]
    },
    {
     "name": "stdout",
     "output_type": "stream",
     "text": [
      "INFO:tensorflow:loss = 0.4468686, step = 14900 (0.570 sec)\n"
     ]
    },
    {
     "name": "stderr",
     "output_type": "stream",
     "text": [
      "INFO:tensorflow:loss = 0.4468686, step = 14900 (0.570 sec)\n"
     ]
    },
    {
     "name": "stdout",
     "output_type": "stream",
     "text": [
      "INFO:tensorflow:global_step/sec: 365.413\n"
     ]
    },
    {
     "name": "stderr",
     "output_type": "stream",
     "text": [
      "INFO:tensorflow:global_step/sec: 365.413\n"
     ]
    },
    {
     "name": "stdout",
     "output_type": "stream",
     "text": [
      "INFO:tensorflow:loss = 0.42602667, step = 15000 (0.274 sec)\n"
     ]
    },
    {
     "name": "stderr",
     "output_type": "stream",
     "text": [
      "INFO:tensorflow:loss = 0.42602667, step = 15000 (0.274 sec)\n"
     ]
    },
    {
     "name": "stdout",
     "output_type": "stream",
     "text": [
      "INFO:tensorflow:global_step/sec: 48.86\n"
     ]
    },
    {
     "name": "stderr",
     "output_type": "stream",
     "text": [
      "INFO:tensorflow:global_step/sec: 48.86\n"
     ]
    },
    {
     "name": "stdout",
     "output_type": "stream",
     "text": [
      "INFO:tensorflow:loss = 0.44417766, step = 15100 (2.047 sec)\n"
     ]
    },
    {
     "name": "stderr",
     "output_type": "stream",
     "text": [
      "INFO:tensorflow:loss = 0.44417766, step = 15100 (2.047 sec)\n"
     ]
    },
    {
     "name": "stdout",
     "output_type": "stream",
     "text": [
      "INFO:tensorflow:global_step/sec: 116.518\n"
     ]
    },
    {
     "name": "stderr",
     "output_type": "stream",
     "text": [
      "INFO:tensorflow:global_step/sec: 116.518\n"
     ]
    },
    {
     "name": "stdout",
     "output_type": "stream",
     "text": [
      "INFO:tensorflow:loss = 0.4127115, step = 15200 (0.858 sec)\n"
     ]
    },
    {
     "name": "stderr",
     "output_type": "stream",
     "text": [
      "INFO:tensorflow:loss = 0.4127115, step = 15200 (0.858 sec)\n"
     ]
    },
    {
     "name": "stdout",
     "output_type": "stream",
     "text": [
      "INFO:tensorflow:global_step/sec: 114.024\n"
     ]
    },
    {
     "name": "stderr",
     "output_type": "stream",
     "text": [
      "INFO:tensorflow:global_step/sec: 114.024\n"
     ]
    },
    {
     "name": "stdout",
     "output_type": "stream",
     "text": [
      "INFO:tensorflow:loss = 0.36801755, step = 15300 (0.877 sec)\n"
     ]
    },
    {
     "name": "stderr",
     "output_type": "stream",
     "text": [
      "INFO:tensorflow:loss = 0.36801755, step = 15300 (0.877 sec)\n"
     ]
    },
    {
     "name": "stdout",
     "output_type": "stream",
     "text": [
      "INFO:tensorflow:global_step/sec: 113.828\n"
     ]
    },
    {
     "name": "stderr",
     "output_type": "stream",
     "text": [
      "INFO:tensorflow:global_step/sec: 113.828\n"
     ]
    },
    {
     "name": "stdout",
     "output_type": "stream",
     "text": [
      "INFO:tensorflow:loss = 0.4315992, step = 15400 (0.878 sec)\n"
     ]
    },
    {
     "name": "stderr",
     "output_type": "stream",
     "text": [
      "INFO:tensorflow:loss = 0.4315992, step = 15400 (0.878 sec)\n"
     ]
    },
    {
     "name": "stdout",
     "output_type": "stream",
     "text": [
      "INFO:tensorflow:global_step/sec: 114.734\n"
     ]
    },
    {
     "name": "stderr",
     "output_type": "stream",
     "text": [
      "INFO:tensorflow:global_step/sec: 114.734\n"
     ]
    },
    {
     "name": "stdout",
     "output_type": "stream",
     "text": [
      "INFO:tensorflow:loss = 0.40361735, step = 15500 (0.872 sec)\n"
     ]
    },
    {
     "name": "stderr",
     "output_type": "stream",
     "text": [
      "INFO:tensorflow:loss = 0.40361735, step = 15500 (0.872 sec)\n"
     ]
    },
    {
     "name": "stdout",
     "output_type": "stream",
     "text": [
      "INFO:tensorflow:global_step/sec: 115.736\n"
     ]
    },
    {
     "name": "stderr",
     "output_type": "stream",
     "text": [
      "INFO:tensorflow:global_step/sec: 115.736\n"
     ]
    },
    {
     "name": "stdout",
     "output_type": "stream",
     "text": [
      "INFO:tensorflow:loss = 0.2569517, step = 15600 (0.864 sec)\n"
     ]
    },
    {
     "name": "stderr",
     "output_type": "stream",
     "text": [
      "INFO:tensorflow:loss = 0.2569517, step = 15600 (0.864 sec)\n"
     ]
    },
    {
     "name": "stdout",
     "output_type": "stream",
     "text": [
      "INFO:tensorflow:global_step/sec: 115.164\n"
     ]
    },
    {
     "name": "stderr",
     "output_type": "stream",
     "text": [
      "INFO:tensorflow:global_step/sec: 115.164\n"
     ]
    },
    {
     "name": "stdout",
     "output_type": "stream",
     "text": [
      "INFO:tensorflow:loss = 0.6191261, step = 15700 (0.868 sec)\n"
     ]
    },
    {
     "name": "stderr",
     "output_type": "stream",
     "text": [
      "INFO:tensorflow:loss = 0.6191261, step = 15700 (0.868 sec)\n"
     ]
    },
    {
     "name": "stdout",
     "output_type": "stream",
     "text": [
      "INFO:tensorflow:global_step/sec: 125.364\n"
     ]
    },
    {
     "name": "stderr",
     "output_type": "stream",
     "text": [
      "INFO:tensorflow:global_step/sec: 125.364\n"
     ]
    },
    {
     "name": "stdout",
     "output_type": "stream",
     "text": [
      "INFO:tensorflow:loss = 0.51780957, step = 15800 (0.798 sec)\n"
     ]
    },
    {
     "name": "stderr",
     "output_type": "stream",
     "text": [
      "INFO:tensorflow:loss = 0.51780957, step = 15800 (0.798 sec)\n"
     ]
    },
    {
     "name": "stdout",
     "output_type": "stream",
     "text": [
      "INFO:tensorflow:global_step/sec: 371.551\n"
     ]
    },
    {
     "name": "stderr",
     "output_type": "stream",
     "text": [
      "INFO:tensorflow:global_step/sec: 371.551\n"
     ]
    },
    {
     "name": "stdout",
     "output_type": "stream",
     "text": [
      "INFO:tensorflow:loss = 0.41759554, step = 15900 (0.269 sec)\n"
     ]
    },
    {
     "name": "stderr",
     "output_type": "stream",
     "text": [
      "INFO:tensorflow:loss = 0.41759554, step = 15900 (0.269 sec)\n"
     ]
    },
    {
     "name": "stdout",
     "output_type": "stream",
     "text": [
      "INFO:tensorflow:global_step/sec: 55.5316\n"
     ]
    },
    {
     "name": "stderr",
     "output_type": "stream",
     "text": [
      "INFO:tensorflow:global_step/sec: 55.5316\n"
     ]
    },
    {
     "name": "stdout",
     "output_type": "stream",
     "text": [
      "INFO:tensorflow:loss = 0.42506653, step = 16000 (1.801 sec)\n"
     ]
    },
    {
     "name": "stderr",
     "output_type": "stream",
     "text": [
      "INFO:tensorflow:loss = 0.42506653, step = 16000 (1.801 sec)\n"
     ]
    },
    {
     "name": "stdout",
     "output_type": "stream",
     "text": [
      "INFO:tensorflow:global_step/sec: 116.078\n"
     ]
    },
    {
     "name": "stderr",
     "output_type": "stream",
     "text": [
      "INFO:tensorflow:global_step/sec: 116.078\n"
     ]
    },
    {
     "name": "stdout",
     "output_type": "stream",
     "text": [
      "INFO:tensorflow:loss = 0.5116013, step = 16100 (0.861 sec)\n"
     ]
    },
    {
     "name": "stderr",
     "output_type": "stream",
     "text": [
      "INFO:tensorflow:loss = 0.5116013, step = 16100 (0.861 sec)\n"
     ]
    },
    {
     "name": "stdout",
     "output_type": "stream",
     "text": [
      "INFO:tensorflow:global_step/sec: 114.288\n"
     ]
    },
    {
     "name": "stderr",
     "output_type": "stream",
     "text": [
      "INFO:tensorflow:global_step/sec: 114.288\n"
     ]
    },
    {
     "name": "stdout",
     "output_type": "stream",
     "text": [
      "INFO:tensorflow:loss = 0.41195214, step = 16200 (0.875 sec)\n"
     ]
    },
    {
     "name": "stderr",
     "output_type": "stream",
     "text": [
      "INFO:tensorflow:loss = 0.41195214, step = 16200 (0.875 sec)\n"
     ]
    },
    {
     "name": "stdout",
     "output_type": "stream",
     "text": [
      "INFO:tensorflow:global_step/sec: 113.028\n"
     ]
    },
    {
     "name": "stderr",
     "output_type": "stream",
     "text": [
      "INFO:tensorflow:global_step/sec: 113.028\n"
     ]
    },
    {
     "name": "stdout",
     "output_type": "stream",
     "text": [
      "INFO:tensorflow:loss = 0.50017667, step = 16300 (0.885 sec)\n"
     ]
    },
    {
     "name": "stderr",
     "output_type": "stream",
     "text": [
      "INFO:tensorflow:loss = 0.50017667, step = 16300 (0.885 sec)\n"
     ]
    },
    {
     "name": "stdout",
     "output_type": "stream",
     "text": [
      "INFO:tensorflow:global_step/sec: 113.825\n"
     ]
    },
    {
     "name": "stderr",
     "output_type": "stream",
     "text": [
      "INFO:tensorflow:global_step/sec: 113.825\n"
     ]
    },
    {
     "name": "stdout",
     "output_type": "stream",
     "text": [
      "INFO:tensorflow:loss = 0.4877981, step = 16400 (0.879 sec)\n"
     ]
    },
    {
     "name": "stderr",
     "output_type": "stream",
     "text": [
      "INFO:tensorflow:loss = 0.4877981, step = 16400 (0.879 sec)\n"
     ]
    },
    {
     "name": "stdout",
     "output_type": "stream",
     "text": [
      "INFO:tensorflow:global_step/sec: 114.086\n"
     ]
    },
    {
     "name": "stderr",
     "output_type": "stream",
     "text": [
      "INFO:tensorflow:global_step/sec: 114.086\n"
     ]
    },
    {
     "name": "stdout",
     "output_type": "stream",
     "text": [
      "INFO:tensorflow:loss = 0.44067618, step = 16500 (0.876 sec)\n"
     ]
    },
    {
     "name": "stderr",
     "output_type": "stream",
     "text": [
      "INFO:tensorflow:loss = 0.44067618, step = 16500 (0.876 sec)\n"
     ]
    },
    {
     "name": "stdout",
     "output_type": "stream",
     "text": [
      "INFO:tensorflow:global_step/sec: 113.174\n"
     ]
    },
    {
     "name": "stderr",
     "output_type": "stream",
     "text": [
      "INFO:tensorflow:global_step/sec: 113.174\n"
     ]
    },
    {
     "name": "stdout",
     "output_type": "stream",
     "text": [
      "INFO:tensorflow:loss = 0.41255957, step = 16600 (0.884 sec)\n"
     ]
    },
    {
     "name": "stderr",
     "output_type": "stream",
     "text": [
      "INFO:tensorflow:loss = 0.41255957, step = 16600 (0.884 sec)\n"
     ]
    },
    {
     "name": "stdout",
     "output_type": "stream",
     "text": [
      "INFO:tensorflow:global_step/sec: 114.05\n"
     ]
    },
    {
     "name": "stderr",
     "output_type": "stream",
     "text": [
      "INFO:tensorflow:global_step/sec: 114.05\n"
     ]
    },
    {
     "name": "stdout",
     "output_type": "stream",
     "text": [
      "INFO:tensorflow:loss = 0.42842972, step = 16700 (0.877 sec)\n"
     ]
    },
    {
     "name": "stderr",
     "output_type": "stream",
     "text": [
      "INFO:tensorflow:loss = 0.42842972, step = 16700 (0.877 sec)\n"
     ]
    },
    {
     "name": "stdout",
     "output_type": "stream",
     "text": [
      "INFO:tensorflow:global_step/sec: 228.281\n"
     ]
    },
    {
     "name": "stderr",
     "output_type": "stream",
     "text": [
      "INFO:tensorflow:global_step/sec: 228.281\n"
     ]
    },
    {
     "name": "stdout",
     "output_type": "stream",
     "text": [
      "INFO:tensorflow:loss = 0.38361323, step = 16800 (0.439 sec)\n"
     ]
    },
    {
     "name": "stderr",
     "output_type": "stream",
     "text": [
      "INFO:tensorflow:loss = 0.38361323, step = 16800 (0.439 sec)\n"
     ]
    },
    {
     "name": "stdout",
     "output_type": "stream",
     "text": [
      "INFO:tensorflow:global_step/sec: 65.3225\n"
     ]
    },
    {
     "name": "stderr",
     "output_type": "stream",
     "text": [
      "INFO:tensorflow:global_step/sec: 65.3225\n"
     ]
    },
    {
     "name": "stdout",
     "output_type": "stream",
     "text": [
      "INFO:tensorflow:loss = 0.35772476, step = 16900 (1.531 sec)\n"
     ]
    },
    {
     "name": "stderr",
     "output_type": "stream",
     "text": [
      "INFO:tensorflow:loss = 0.35772476, step = 16900 (1.531 sec)\n"
     ]
    },
    {
     "name": "stdout",
     "output_type": "stream",
     "text": [
      "INFO:tensorflow:global_step/sec: 114.907\n"
     ]
    },
    {
     "name": "stderr",
     "output_type": "stream",
     "text": [
      "INFO:tensorflow:global_step/sec: 114.907\n"
     ]
    },
    {
     "name": "stdout",
     "output_type": "stream",
     "text": [
      "INFO:tensorflow:loss = 0.3619805, step = 17000 (0.870 sec)\n"
     ]
    },
    {
     "name": "stderr",
     "output_type": "stream",
     "text": [
      "INFO:tensorflow:loss = 0.3619805, step = 17000 (0.870 sec)\n"
     ]
    },
    {
     "name": "stdout",
     "output_type": "stream",
     "text": [
      "INFO:tensorflow:global_step/sec: 113.694\n"
     ]
    },
    {
     "name": "stderr",
     "output_type": "stream",
     "text": [
      "INFO:tensorflow:global_step/sec: 113.694\n"
     ]
    },
    {
     "name": "stdout",
     "output_type": "stream",
     "text": [
      "INFO:tensorflow:loss = 0.52509713, step = 17100 (0.879 sec)\n"
     ]
    },
    {
     "name": "stderr",
     "output_type": "stream",
     "text": [
      "INFO:tensorflow:loss = 0.52509713, step = 17100 (0.879 sec)\n"
     ]
    },
    {
     "name": "stdout",
     "output_type": "stream",
     "text": [
      "INFO:tensorflow:global_step/sec: 113.523\n"
     ]
    },
    {
     "name": "stderr",
     "output_type": "stream",
     "text": [
      "INFO:tensorflow:global_step/sec: 113.523\n"
     ]
    },
    {
     "name": "stdout",
     "output_type": "stream",
     "text": [
      "INFO:tensorflow:loss = 0.42296046, step = 17200 (0.881 sec)\n"
     ]
    },
    {
     "name": "stderr",
     "output_type": "stream",
     "text": [
      "INFO:tensorflow:loss = 0.42296046, step = 17200 (0.881 sec)\n"
     ]
    },
    {
     "name": "stdout",
     "output_type": "stream",
     "text": [
      "INFO:tensorflow:global_step/sec: 114.753\n"
     ]
    },
    {
     "name": "stderr",
     "output_type": "stream",
     "text": [
      "INFO:tensorflow:global_step/sec: 114.753\n"
     ]
    },
    {
     "name": "stdout",
     "output_type": "stream",
     "text": [
      "INFO:tensorflow:loss = 0.48458552, step = 17300 (0.871 sec)\n"
     ]
    },
    {
     "name": "stderr",
     "output_type": "stream",
     "text": [
      "INFO:tensorflow:loss = 0.48458552, step = 17300 (0.871 sec)\n"
     ]
    },
    {
     "name": "stdout",
     "output_type": "stream",
     "text": [
      "INFO:tensorflow:global_step/sec: 112.992\n"
     ]
    },
    {
     "name": "stderr",
     "output_type": "stream",
     "text": [
      "INFO:tensorflow:global_step/sec: 112.992\n"
     ]
    },
    {
     "name": "stdout",
     "output_type": "stream",
     "text": [
      "INFO:tensorflow:loss = 0.30212393, step = 17400 (0.885 sec)\n"
     ]
    },
    {
     "name": "stderr",
     "output_type": "stream",
     "text": [
      "INFO:tensorflow:loss = 0.30212393, step = 17400 (0.885 sec)\n"
     ]
    },
    {
     "name": "stdout",
     "output_type": "stream",
     "text": [
      "INFO:tensorflow:global_step/sec: 112.902\n"
     ]
    },
    {
     "name": "stderr",
     "output_type": "stream",
     "text": [
      "INFO:tensorflow:global_step/sec: 112.902\n"
     ]
    },
    {
     "name": "stdout",
     "output_type": "stream",
     "text": [
      "INFO:tensorflow:loss = 0.50265574, step = 17500 (0.886 sec)\n"
     ]
    },
    {
     "name": "stderr",
     "output_type": "stream",
     "text": [
      "INFO:tensorflow:loss = 0.50265574, step = 17500 (0.886 sec)\n"
     ]
    },
    {
     "name": "stdout",
     "output_type": "stream",
     "text": [
      "INFO:tensorflow:global_step/sec: 112.921\n"
     ]
    },
    {
     "name": "stderr",
     "output_type": "stream",
     "text": [
      "INFO:tensorflow:global_step/sec: 112.921\n"
     ]
    },
    {
     "name": "stdout",
     "output_type": "stream",
     "text": [
      "INFO:tensorflow:loss = 0.29823345, step = 17600 (0.885 sec)\n"
     ]
    },
    {
     "name": "stderr",
     "output_type": "stream",
     "text": [
      "INFO:tensorflow:loss = 0.29823345, step = 17600 (0.885 sec)\n"
     ]
    },
    {
     "name": "stdout",
     "output_type": "stream",
     "text": [
      "INFO:tensorflow:global_step/sec: 150.37\n"
     ]
    },
    {
     "name": "stderr",
     "output_type": "stream",
     "text": [
      "INFO:tensorflow:global_step/sec: 150.37\n"
     ]
    },
    {
     "name": "stdout",
     "output_type": "stream",
     "text": [
      "INFO:tensorflow:loss = 0.3331016, step = 17700 (0.665 sec)\n"
     ]
    },
    {
     "name": "stderr",
     "output_type": "stream",
     "text": [
      "INFO:tensorflow:loss = 0.3331016, step = 17700 (0.665 sec)\n"
     ]
    },
    {
     "name": "stdout",
     "output_type": "stream",
     "text": [
      "INFO:tensorflow:global_step/sec: 380.586\n"
     ]
    },
    {
     "name": "stderr",
     "output_type": "stream",
     "text": [
      "INFO:tensorflow:global_step/sec: 380.586\n"
     ]
    },
    {
     "name": "stdout",
     "output_type": "stream",
     "text": [
      "INFO:tensorflow:loss = 0.38862753, step = 17800 (0.263 sec)\n"
     ]
    },
    {
     "name": "stderr",
     "output_type": "stream",
     "text": [
      "INFO:tensorflow:loss = 0.38862753, step = 17800 (0.263 sec)\n"
     ]
    },
    {
     "name": "stdout",
     "output_type": "stream",
     "text": [
      "INFO:tensorflow:global_step/sec: 52.4361\n"
     ]
    },
    {
     "name": "stderr",
     "output_type": "stream",
     "text": [
      "INFO:tensorflow:global_step/sec: 52.4361\n"
     ]
    },
    {
     "name": "stdout",
     "output_type": "stream",
     "text": [
      "INFO:tensorflow:loss = 0.44772893, step = 17900 (1.907 sec)\n"
     ]
    },
    {
     "name": "stderr",
     "output_type": "stream",
     "text": [
      "INFO:tensorflow:loss = 0.44772893, step = 17900 (1.907 sec)\n"
     ]
    },
    {
     "name": "stdout",
     "output_type": "stream",
     "text": [
      "INFO:tensorflow:global_step/sec: 113.274\n"
     ]
    },
    {
     "name": "stderr",
     "output_type": "stream",
     "text": [
      "INFO:tensorflow:global_step/sec: 113.274\n"
     ]
    },
    {
     "name": "stdout",
     "output_type": "stream",
     "text": [
      "INFO:tensorflow:loss = 0.28227234, step = 18000 (0.882 sec)\n"
     ]
    },
    {
     "name": "stderr",
     "output_type": "stream",
     "text": [
      "INFO:tensorflow:loss = 0.28227234, step = 18000 (0.882 sec)\n"
     ]
    },
    {
     "name": "stdout",
     "output_type": "stream",
     "text": [
      "INFO:tensorflow:global_step/sec: 114.795\n"
     ]
    },
    {
     "name": "stderr",
     "output_type": "stream",
     "text": [
      "INFO:tensorflow:global_step/sec: 114.795\n"
     ]
    },
    {
     "name": "stdout",
     "output_type": "stream",
     "text": [
      "INFO:tensorflow:loss = 0.24277452, step = 18100 (0.872 sec)\n"
     ]
    },
    {
     "name": "stderr",
     "output_type": "stream",
     "text": [
      "INFO:tensorflow:loss = 0.24277452, step = 18100 (0.872 sec)\n"
     ]
    },
    {
     "name": "stdout",
     "output_type": "stream",
     "text": [
      "INFO:tensorflow:global_step/sec: 114.489\n"
     ]
    },
    {
     "name": "stderr",
     "output_type": "stream",
     "text": [
      "INFO:tensorflow:global_step/sec: 114.489\n"
     ]
    },
    {
     "name": "stdout",
     "output_type": "stream",
     "text": [
      "INFO:tensorflow:loss = 0.31620902, step = 18200 (0.874 sec)\n"
     ]
    },
    {
     "name": "stderr",
     "output_type": "stream",
     "text": [
      "INFO:tensorflow:loss = 0.31620902, step = 18200 (0.874 sec)\n"
     ]
    },
    {
     "name": "stdout",
     "output_type": "stream",
     "text": [
      "INFO:tensorflow:global_step/sec: 114.686\n"
     ]
    },
    {
     "name": "stderr",
     "output_type": "stream",
     "text": [
      "INFO:tensorflow:global_step/sec: 114.686\n"
     ]
    },
    {
     "name": "stdout",
     "output_type": "stream",
     "text": [
      "INFO:tensorflow:loss = 0.34351897, step = 18300 (0.872 sec)\n"
     ]
    },
    {
     "name": "stderr",
     "output_type": "stream",
     "text": [
      "INFO:tensorflow:loss = 0.34351897, step = 18300 (0.872 sec)\n"
     ]
    },
    {
     "name": "stdout",
     "output_type": "stream",
     "text": [
      "INFO:tensorflow:global_step/sec: 113.773\n"
     ]
    },
    {
     "name": "stderr",
     "output_type": "stream",
     "text": [
      "INFO:tensorflow:global_step/sec: 113.773\n"
     ]
    },
    {
     "name": "stdout",
     "output_type": "stream",
     "text": [
      "INFO:tensorflow:loss = 0.3088002, step = 18400 (0.879 sec)\n"
     ]
    },
    {
     "name": "stderr",
     "output_type": "stream",
     "text": [
      "INFO:tensorflow:loss = 0.3088002, step = 18400 (0.879 sec)\n"
     ]
    },
    {
     "name": "stdout",
     "output_type": "stream",
     "text": [
      "INFO:tensorflow:global_step/sec: 114.688\n"
     ]
    },
    {
     "name": "stderr",
     "output_type": "stream",
     "text": [
      "INFO:tensorflow:global_step/sec: 114.688\n"
     ]
    },
    {
     "name": "stdout",
     "output_type": "stream",
     "text": [
      "INFO:tensorflow:loss = 0.43423826, step = 18500 (0.872 sec)\n"
     ]
    },
    {
     "name": "stderr",
     "output_type": "stream",
     "text": [
      "INFO:tensorflow:loss = 0.43423826, step = 18500 (0.872 sec)\n"
     ]
    },
    {
     "name": "stdout",
     "output_type": "stream",
     "text": [
      "INFO:tensorflow:global_step/sec: 113.319\n"
     ]
    },
    {
     "name": "stderr",
     "output_type": "stream",
     "text": [
      "INFO:tensorflow:global_step/sec: 113.319\n"
     ]
    },
    {
     "name": "stdout",
     "output_type": "stream",
     "text": [
      "INFO:tensorflow:loss = 0.42925596, step = 18600 (0.882 sec)\n"
     ]
    },
    {
     "name": "stderr",
     "output_type": "stream",
     "text": [
      "INFO:tensorflow:loss = 0.42925596, step = 18600 (0.882 sec)\n"
     ]
    },
    {
     "name": "stdout",
     "output_type": "stream",
     "text": [
      "INFO:tensorflow:global_step/sec: 366.589\n"
     ]
    },
    {
     "name": "stderr",
     "output_type": "stream",
     "text": [
      "INFO:tensorflow:global_step/sec: 366.589\n"
     ]
    },
    {
     "name": "stdout",
     "output_type": "stream",
     "text": [
      "INFO:tensorflow:loss = 0.29147583, step = 18700 (0.273 sec)\n"
     ]
    },
    {
     "name": "stderr",
     "output_type": "stream",
     "text": [
      "INFO:tensorflow:loss = 0.29147583, step = 18700 (0.273 sec)\n"
     ]
    },
    {
     "name": "stdout",
     "output_type": "stream",
     "text": [
      "INFO:tensorflow:Saving checkpoints for 18760 into models/mnist-dnn/model.ckpt.\n"
     ]
    },
    {
     "name": "stderr",
     "output_type": "stream",
     "text": [
      "INFO:tensorflow:Saving checkpoints for 18760 into models/mnist-dnn/model.ckpt.\n"
     ]
    },
    {
     "name": "stdout",
     "output_type": "stream",
     "text": [
      "INFO:tensorflow:Loss for final step: 0.35029247.\n"
     ]
    },
    {
     "name": "stderr",
     "output_type": "stream",
     "text": [
      "INFO:tensorflow:Loss for final step: 0.35029247.\n"
     ]
    },
    {
     "data": {
      "text/plain": [
       "<tensorflow_estimator.python.estimator.canned.dnn.DNNClassifierV2 at 0x7f843848bc10>"
      ]
     },
     "execution_count": 5,
     "metadata": {},
     "output_type": "execute_result"
    }
   ],
   "source": [
    "## Step 3: instantiate the estimator\n",
    "dnn_classifier = tf.estimator.DNNClassifier(\n",
    "    feature_columns=[image_feature_column],\n",
    "    hidden_units=[32, 16],\n",
    "    n_classes=10,\n",
    "    model_dir='models/mnist-dnn/')\n",
    "\n",
    "\n",
    "## Step 4: train\n",
    "dnn_classifier.train(\n",
    "    input_fn=train_input_fn,\n",
    "    steps=NUM_EPOCHS * steps_per_epoch)\n"
   ]
  },
  {
   "cell_type": "code",
   "execution_count": null,
   "metadata": {},
   "outputs": [],
   "source": []
  },
  {
   "cell_type": "code",
   "execution_count": 6,
   "metadata": {},
   "outputs": [
    {
     "name": "stderr",
     "output_type": "stream",
     "text": [
      "WARNING:absl:Warning: Setting shuffle_files=True because split=TRAIN and shuffle_files=None. This behavior will be deprecated on 2019-08-06, at which point shuffle_files=False will be the default for all splits.\n"
     ]
    },
    {
     "name": "stdout",
     "output_type": "stream",
     "text": [
      "INFO:tensorflow:Calling model_fn.\n"
     ]
    },
    {
     "name": "stderr",
     "output_type": "stream",
     "text": [
      "INFO:tensorflow:Calling model_fn.\n"
     ]
    },
    {
     "name": "stdout",
     "output_type": "stream",
     "text": [
      "INFO:tensorflow:Done calling model_fn.\n"
     ]
    },
    {
     "name": "stderr",
     "output_type": "stream",
     "text": [
      "INFO:tensorflow:Done calling model_fn.\n"
     ]
    },
    {
     "name": "stdout",
     "output_type": "stream",
     "text": [
      "INFO:tensorflow:Starting evaluation at 2019-10-06T20:09:11Z\n"
     ]
    },
    {
     "name": "stderr",
     "output_type": "stream",
     "text": [
      "INFO:tensorflow:Starting evaluation at 2019-10-06T20:09:11Z\n"
     ]
    },
    {
     "name": "stdout",
     "output_type": "stream",
     "text": [
      "INFO:tensorflow:Graph was finalized.\n"
     ]
    },
    {
     "name": "stderr",
     "output_type": "stream",
     "text": [
      "INFO:tensorflow:Graph was finalized.\n"
     ]
    },
    {
     "name": "stdout",
     "output_type": "stream",
     "text": [
      "INFO:tensorflow:Restoring parameters from models/mnist-dnn/model.ckpt-18760\n"
     ]
    },
    {
     "name": "stderr",
     "output_type": "stream",
     "text": [
      "INFO:tensorflow:Restoring parameters from models/mnist-dnn/model.ckpt-18760\n"
     ]
    },
    {
     "name": "stdout",
     "output_type": "stream",
     "text": [
      "INFO:tensorflow:Running local_init_op.\n"
     ]
    },
    {
     "name": "stderr",
     "output_type": "stream",
     "text": [
      "INFO:tensorflow:Running local_init_op.\n"
     ]
    },
    {
     "name": "stdout",
     "output_type": "stream",
     "text": [
      "INFO:tensorflow:Done running local_init_op.\n"
     ]
    },
    {
     "name": "stderr",
     "output_type": "stream",
     "text": [
      "INFO:tensorflow:Done running local_init_op.\n"
     ]
    },
    {
     "name": "stdout",
     "output_type": "stream",
     "text": [
      "INFO:tensorflow:Finished evaluation at 2019-10-06-20:09:13\n"
     ]
    },
    {
     "name": "stderr",
     "output_type": "stream",
     "text": [
      "INFO:tensorflow:Finished evaluation at 2019-10-06-20:09:13\n"
     ]
    },
    {
     "name": "stdout",
     "output_type": "stream",
     "text": [
      "INFO:tensorflow:Saving dict for global step 18760: accuracy = 0.8957, average_loss = 0.3876346, global_step = 18760, loss = 0.38815108\n"
     ]
    },
    {
     "name": "stderr",
     "output_type": "stream",
     "text": [
      "INFO:tensorflow:Saving dict for global step 18760: accuracy = 0.8957, average_loss = 0.3876346, global_step = 18760, loss = 0.38815108\n"
     ]
    },
    {
     "name": "stdout",
     "output_type": "stream",
     "text": [
      "INFO:tensorflow:Saving 'checkpoint_path' summary for global step 18760: models/mnist-dnn/model.ckpt-18760\n"
     ]
    },
    {
     "name": "stderr",
     "output_type": "stream",
     "text": [
      "INFO:tensorflow:Saving 'checkpoint_path' summary for global step 18760: models/mnist-dnn/model.ckpt-18760\n"
     ]
    },
    {
     "name": "stdout",
     "output_type": "stream",
     "text": [
      "{'accuracy': 0.8957, 'average_loss': 0.3876346, 'loss': 0.38815108, 'global_step': 18760}\n"
     ]
    }
   ],
   "source": [
    "eval_result = dnn_classifier.evaluate(\n",
    "    input_fn=eval_input_fn)\n",
    "\n",
    "print(eval_result)"
   ]
  },
  {
   "cell_type": "markdown",
   "metadata": {},
   "source": [
    "### Converting a Keras model to an estimator"
   ]
  },
  {
   "cell_type": "code",
   "execution_count": 1,
   "metadata": {},
   "outputs": [],
   "source": [
    "import tensorflow as tf\n",
    "import numpy as np\n",
    "import matplotlib.pyplot as plt\n",
    "%matplotlib inline"
   ]
  },
  {
   "cell_type": "code",
   "execution_count": 2,
   "metadata": {},
   "outputs": [],
   "source": [
    "\n",
    "## Set random seeds for reproducibility\n",
    "tf.random.set_seed(1)\n",
    "np.random.seed(1)\n",
    "\n",
    "## Create the data\n",
    "x = np.random.uniform(low=-1, high=1, size=(200, 2))\n",
    "y = np.ones(len(x))\n",
    "y[x[:, 0] * x[:, 1]<0] = 0\n",
    "\n",
    "x_train = x[:100, :]\n",
    "y_train = y[:100]\n",
    "x_valid = x[100:, :]\n",
    "y_valid = y[100:]"
   ]
  },
  {
   "cell_type": "code",
   "execution_count": 3,
   "metadata": {},
   "outputs": [],
   "source": [
    "## Step 1: Define the input functions\n",
    "def train_input_fn(x_train, y_train, batch_size=8):\n",
    "    dataset = tf.data.Dataset.from_tensor_slices(\n",
    "        ({'input-features':x_train}, y_train.reshape(-1, 1)))\n",
    "\n",
    "    # Shuffle, repeat, and batch the examples.\n",
    "    return dataset.shuffle(100).repeat().batch(batch_size)\n",
    "\n",
    "def eval_input_fn(x_test, y_test=None, batch_size=8):\n",
    "    if y_test is None:\n",
    "        dataset = tf.data.Dataset.from_tensor_slices(\n",
    "            {'input-features':x_test})\n",
    "    else:\n",
    "        dataset = tf.data.Dataset.from_tensor_slices(\n",
    "            ({'input-features':x_test}, y_test.reshape(-1, 1)))\n",
    "\n",
    "\n",
    "    # Shuffle, repeat, and batch the examples.\n",
    "    return dataset.batch(batch_size)\n"
   ]
  },
  {
   "cell_type": "code",
   "execution_count": 4,
   "metadata": {},
   "outputs": [
    {
     "data": {
      "text/plain": [
       "[NumericColumn(key='input-features:', shape=(2,), default_value=None, dtype=tf.float32, normalizer_fn=None)]"
      ]
     },
     "execution_count": 4,
     "metadata": {},
     "output_type": "execute_result"
    }
   ],
   "source": [
    "## Step 2: Define the feature columns\n",
    "features = [\n",
    "    tf.feature_column.numeric_column(\n",
    "        key='input-features:', shape=(2,))\n",
    "]\n",
    "    \n",
    "features"
   ]
  },
  {
   "cell_type": "code",
   "execution_count": 11,
   "metadata": {},
   "outputs": [
    {
     "name": "stdout",
     "output_type": "stream",
     "text": [
      "Model: \"sequential_1\"\n",
      "_________________________________________________________________\n",
      "Layer (type)                 Output Shape              Param #   \n",
      "=================================================================\n",
      "dense_4 (Dense)              (None, 4)                 12        \n",
      "_________________________________________________________________\n",
      "dense_5 (Dense)              (None, 4)                 20        \n",
      "_________________________________________________________________\n",
      "dense_6 (Dense)              (None, 4)                 20        \n",
      "_________________________________________________________________\n",
      "dense_7 (Dense)              (None, 1)                 5         \n",
      "=================================================================\n",
      "Total params: 57\n",
      "Trainable params: 57\n",
      "Non-trainable params: 0\n",
      "_________________________________________________________________\n",
      "INFO:tensorflow:Using default config.\n",
      "INFO:tensorflow:Using the Keras model provided.\n",
      "INFO:tensorflow:Using config: {'_model_dir': 'models/estimator-for-XOR/', '_tf_random_seed': None, '_save_summary_steps': 100, '_save_checkpoints_steps': None, '_save_checkpoints_secs': 600, '_session_config': allow_soft_placement: true\n",
      "graph_options {\n",
      "  rewrite_options {\n",
      "    meta_optimizer_iterations: ONE\n",
      "  }\n",
      "}\n",
      ", '_keep_checkpoint_max': 5, '_keep_checkpoint_every_n_hours': 10000, '_log_step_count_steps': 100, '_train_distribute': None, '_device_fn': None, '_protocol': None, '_eval_distribute': None, '_experimental_distribute': None, '_experimental_max_worker_delay_secs': None, '_session_creation_timeout_secs': 7200, '_service': None, '_cluster_spec': <tensorflow.python.training.server_lib.ClusterSpec object at 0x7fe1145c5490>, '_task_type': 'worker', '_task_id': 0, '_global_id_in_cluster': 0, '_master': '', '_evaluation_master': '', '_is_chief': True, '_num_ps_replicas': 0, '_num_worker_replicas': 1}\n"
     ]
    }
   ],
   "source": [
    "## Step 3: Create the estimator: convert from a Keras model\n",
    "model = tf.keras.Sequential([\n",
    "    tf.keras.layers.Input(shape=(2,), name='input-features'),\n",
    "    tf.keras.layers.Dense(units=4, activation='relu'),\n",
    "    tf.keras.layers.Dense(units=4, activation='relu'),\n",
    "    tf.keras.layers.Dense(units=4, activation='relu'),\n",
    "    tf.keras.layers.Dense(1, activation='sigmoid')\n",
    "])\n",
    "\n",
    "model.summary()\n",
    "\n",
    "model.compile(optimizer=tf.keras.optimizers.SGD(),\n",
    "              loss=tf.keras.losses.BinaryCrossentropy(),\n",
    "              metrics=[tf.keras.metrics.BinaryAccuracy()])\n",
    "\n",
    "my_estimator = tf.keras.estimator.model_to_estimator(\n",
    "    keras_model=model,\n",
    "    model_dir='models/estimator-for-XOR/')\n",
    "\n",
    "#help(tf.keras.estimator.model_to_estimator)"
   ]
  },
  {
   "cell_type": "code",
   "execution_count": 12,
   "metadata": {},
   "outputs": [
    {
     "name": "stdout",
     "output_type": "stream",
     "text": [
      "INFO:tensorflow:Calling model_fn.\n",
      "INFO:tensorflow:Done calling model_fn.\n",
      "INFO:tensorflow:Warm-starting with WarmStartSettings: WarmStartSettings(ckpt_to_initialize_from='models/estimator-for-XOR/keras/keras_model.ckpt', vars_to_warm_start='.*', var_name_to_vocab_info={}, var_name_to_prev_var_name={})\n",
      "INFO:tensorflow:Warm-starting from: models/estimator-for-XOR/keras/keras_model.ckpt\n",
      "INFO:tensorflow:Warm-starting variables only in TRAINABLE_VARIABLES.\n",
      "INFO:tensorflow:Warm-started 8 variables.\n",
      "INFO:tensorflow:Create CheckpointSaverHook.\n",
      "INFO:tensorflow:Graph was finalized.\n",
      "INFO:tensorflow:Running local_init_op.\n",
      "INFO:tensorflow:Done running local_init_op.\n",
      "INFO:tensorflow:Saving checkpoints for 0 into models/estimator-for-XOR/model.ckpt.\n",
      "INFO:tensorflow:loss = 0.67477477, step = 0\n",
      "INFO:tensorflow:global_step/sec: 574.172\n",
      "INFO:tensorflow:loss = 0.6321867, step = 100 (0.176 sec)\n",
      "INFO:tensorflow:global_step/sec: 798.178\n",
      "INFO:tensorflow:loss = 0.534695, step = 200 (0.125 sec)\n",
      "INFO:tensorflow:global_step/sec: 787.151\n",
      "INFO:tensorflow:loss = 0.68169975, step = 300 (0.127 sec)\n",
      "INFO:tensorflow:global_step/sec: 744.349\n",
      "INFO:tensorflow:loss = 0.3399461, step = 400 (0.134 sec)\n",
      "INFO:tensorflow:global_step/sec: 740.664\n",
      "INFO:tensorflow:loss = 0.34612662, step = 500 (0.135 sec)\n",
      "INFO:tensorflow:global_step/sec: 742.643\n",
      "INFO:tensorflow:loss = 0.5351488, step = 600 (0.135 sec)\n",
      "INFO:tensorflow:global_step/sec: 760.274\n",
      "INFO:tensorflow:loss = 0.5951747, step = 700 (0.132 sec)\n",
      "INFO:tensorflow:global_step/sec: 758.965\n",
      "INFO:tensorflow:loss = 0.3279724, step = 800 (0.132 sec)\n",
      "INFO:tensorflow:global_step/sec: 755.136\n",
      "INFO:tensorflow:loss = 0.3465306, step = 900 (0.133 sec)\n",
      "INFO:tensorflow:global_step/sec: 721.75\n",
      "INFO:tensorflow:loss = 0.47171068, step = 1000 (0.139 sec)\n",
      "INFO:tensorflow:global_step/sec: 776.736\n",
      "INFO:tensorflow:loss = 0.4781041, step = 1100 (0.129 sec)\n",
      "INFO:tensorflow:global_step/sec: 789.161\n",
      "INFO:tensorflow:loss = 0.5628091, step = 1200 (0.127 sec)\n",
      "INFO:tensorflow:global_step/sec: 759.355\n",
      "INFO:tensorflow:loss = 0.18982677, step = 1300 (0.132 sec)\n",
      "INFO:tensorflow:global_step/sec: 782.603\n",
      "INFO:tensorflow:loss = 0.30944666, step = 1400 (0.128 sec)\n",
      "INFO:tensorflow:global_step/sec: 780.022\n",
      "INFO:tensorflow:loss = 0.5283603, step = 1500 (0.128 sec)\n",
      "INFO:tensorflow:global_step/sec: 768.739\n",
      "INFO:tensorflow:loss = 0.09619397, step = 1600 (0.130 sec)\n",
      "INFO:tensorflow:global_step/sec: 774.064\n",
      "INFO:tensorflow:loss = 0.25747803, step = 1700 (0.129 sec)\n",
      "INFO:tensorflow:global_step/sec: 770.068\n",
      "INFO:tensorflow:loss = 0.11317325, step = 1800 (0.130 sec)\n",
      "INFO:tensorflow:global_step/sec: 778.389\n",
      "INFO:tensorflow:loss = 0.15888521, step = 1900 (0.128 sec)\n",
      "INFO:tensorflow:global_step/sec: 791.814\n",
      "INFO:tensorflow:loss = 0.29326433, step = 2000 (0.126 sec)\n",
      "INFO:tensorflow:global_step/sec: 828.68\n",
      "INFO:tensorflow:loss = 0.4962164, step = 2100 (0.121 sec)\n",
      "INFO:tensorflow:global_step/sec: 827.592\n",
      "INFO:tensorflow:loss = 0.07616831, step = 2200 (0.121 sec)\n",
      "INFO:tensorflow:global_step/sec: 810.752\n",
      "INFO:tensorflow:loss = 0.09109494, step = 2300 (0.123 sec)\n",
      "INFO:tensorflow:global_step/sec: 762.748\n",
      "INFO:tensorflow:loss = 0.17533378, step = 2400 (0.131 sec)\n",
      "INFO:tensorflow:global_step/sec: 767.635\n",
      "INFO:tensorflow:loss = 0.2621813, step = 2500 (0.130 sec)\n",
      "INFO:tensorflow:global_step/sec: 796.129\n",
      "INFO:tensorflow:loss = 0.25053543, step = 2600 (0.126 sec)\n",
      "INFO:tensorflow:global_step/sec: 777.264\n",
      "INFO:tensorflow:loss = 6.320847e-05, step = 2700 (0.129 sec)\n",
      "INFO:tensorflow:global_step/sec: 779.224\n",
      "INFO:tensorflow:loss = 0.051956728, step = 2800 (0.128 sec)\n",
      "INFO:tensorflow:global_step/sec: 836.752\n",
      "INFO:tensorflow:loss = 0.04556096, step = 2900 (0.120 sec)\n",
      "INFO:tensorflow:global_step/sec: 812.958\n",
      "INFO:tensorflow:loss = 0.054016236, step = 3000 (0.123 sec)\n",
      "INFO:tensorflow:global_step/sec: 831.439\n",
      "INFO:tensorflow:loss = 0.10925404, step = 3100 (0.120 sec)\n",
      "INFO:tensorflow:global_step/sec: 808.99\n",
      "INFO:tensorflow:loss = 0.00033308862, step = 3200 (0.124 sec)\n",
      "INFO:tensorflow:global_step/sec: 800.347\n",
      "INFO:tensorflow:loss = 1.492853e-05, step = 3300 (0.125 sec)\n",
      "INFO:tensorflow:global_step/sec: 804.795\n",
      "INFO:tensorflow:loss = 0.014800702, step = 3400 (0.124 sec)\n",
      "INFO:tensorflow:global_step/sec: 815.792\n",
      "INFO:tensorflow:loss = 0.031656396, step = 3500 (0.123 sec)\n",
      "INFO:tensorflow:global_step/sec: 838.497\n",
      "INFO:tensorflow:loss = 0.0056599732, step = 3600 (0.119 sec)\n",
      "INFO:tensorflow:global_step/sec: 815.693\n",
      "INFO:tensorflow:loss = 0.058009762, step = 3700 (0.123 sec)\n",
      "INFO:tensorflow:global_step/sec: 813.719\n",
      "INFO:tensorflow:loss = 0.113356866, step = 3800 (0.123 sec)\n",
      "INFO:tensorflow:global_step/sec: 823.145\n",
      "INFO:tensorflow:loss = 0.008040999, step = 3900 (0.122 sec)\n",
      "INFO:tensorflow:global_step/sec: 807.229\n",
      "INFO:tensorflow:loss = 0.025541877, step = 4000 (0.124 sec)\n",
      "INFO:tensorflow:global_step/sec: 773.022\n",
      "INFO:tensorflow:loss = 0.0064005647, step = 4100 (0.129 sec)\n",
      "INFO:tensorflow:global_step/sec: 802.403\n",
      "INFO:tensorflow:loss = 0.064237915, step = 4200 (0.125 sec)\n",
      "INFO:tensorflow:global_step/sec: 801.679\n",
      "INFO:tensorflow:loss = 0.004642074, step = 4300 (0.125 sec)\n",
      "INFO:tensorflow:global_step/sec: 779.961\n",
      "INFO:tensorflow:loss = 0.0012563752, step = 4400 (0.128 sec)\n",
      "INFO:tensorflow:global_step/sec: 787.182\n",
      "INFO:tensorflow:loss = 1.6980503e-05, step = 4500 (0.127 sec)\n",
      "INFO:tensorflow:global_step/sec: 784.774\n",
      "INFO:tensorflow:loss = 0.023048583, step = 4600 (0.127 sec)\n",
      "INFO:tensorflow:global_step/sec: 794.629\n",
      "INFO:tensorflow:loss = 0.0041898433, step = 4700 (0.126 sec)\n",
      "INFO:tensorflow:global_step/sec: 768.154\n",
      "INFO:tensorflow:loss = 0.05029011, step = 4800 (0.130 sec)\n",
      "INFO:tensorflow:global_step/sec: 749.79\n",
      "INFO:tensorflow:loss = 0.04048004, step = 4900 (0.133 sec)\n",
      "INFO:tensorflow:global_step/sec: 751.737\n",
      "INFO:tensorflow:loss = 0.02229347, step = 5000 (0.133 sec)\n",
      "INFO:tensorflow:global_step/sec: 768.048\n",
      "INFO:tensorflow:loss = 0.0055005806, step = 5100 (0.130 sec)\n",
      "INFO:tensorflow:global_step/sec: 728.385\n",
      "INFO:tensorflow:loss = 7.945169e-05, step = 5200 (0.137 sec)\n",
      "INFO:tensorflow:global_step/sec: 690.054\n",
      "INFO:tensorflow:loss = 0.075152755, step = 5300 (0.145 sec)\n",
      "INFO:tensorflow:global_step/sec: 694.668\n",
      "INFO:tensorflow:loss = 0.0013963212, step = 5400 (0.144 sec)\n",
      "INFO:tensorflow:global_step/sec: 808.131\n",
      "INFO:tensorflow:loss = 0.003022093, step = 5500 (0.124 sec)\n",
      "INFO:tensorflow:global_step/sec: 814.838\n",
      "INFO:tensorflow:loss = 0.014565887, step = 5600 (0.123 sec)\n",
      "INFO:tensorflow:global_step/sec: 789.301\n",
      "INFO:tensorflow:loss = 0.014141492, step = 5700 (0.127 sec)\n",
      "INFO:tensorflow:global_step/sec: 781.824\n",
      "INFO:tensorflow:loss = 0.0025591291, step = 5800 (0.128 sec)\n",
      "INFO:tensorflow:global_step/sec: 843.941\n",
      "INFO:tensorflow:loss = 0.023362594, step = 5900 (0.118 sec)\n",
      "INFO:tensorflow:global_step/sec: 871.435\n",
      "INFO:tensorflow:loss = 0.015386263, step = 6000 (0.115 sec)\n",
      "INFO:tensorflow:global_step/sec: 785.155\n",
      "INFO:tensorflow:loss = 7.1655855e-08, step = 6100 (0.127 sec)\n",
      "INFO:tensorflow:global_step/sec: 829.173\n",
      "INFO:tensorflow:loss = 0.012131969, step = 6200 (0.121 sec)\n",
      "INFO:tensorflow:global_step/sec: 846.307\n",
      "INFO:tensorflow:loss = 0.027618604, step = 6300 (0.118 sec)\n",
      "INFO:tensorflow:global_step/sec: 829.765\n",
      "INFO:tensorflow:loss = 0.0269943, step = 6400 (0.120 sec)\n",
      "INFO:tensorflow:global_step/sec: 773.718\n",
      "INFO:tensorflow:loss = 0.0027163997, step = 6500 (0.129 sec)\n",
      "INFO:tensorflow:global_step/sec: 814.246\n",
      "INFO:tensorflow:loss = 0.080381945, step = 6600 (0.123 sec)\n",
      "INFO:tensorflow:global_step/sec: 810.719\n",
      "INFO:tensorflow:loss = 0.010852154, step = 6700 (0.123 sec)\n",
      "INFO:tensorflow:global_step/sec: 811.726\n",
      "INFO:tensorflow:loss = 1.708062e-08, step = 6800 (0.123 sec)\n",
      "INFO:tensorflow:global_step/sec: 821.314\n",
      "INFO:tensorflow:loss = 6.749074e-06, step = 6900 (0.122 sec)\n",
      "INFO:tensorflow:global_step/sec: 781.595\n",
      "INFO:tensorflow:loss = 0.021214139, step = 7000 (0.128 sec)\n",
      "INFO:tensorflow:global_step/sec: 794.561\n",
      "INFO:tensorflow:loss = 0.021281583, step = 7100 (0.126 sec)\n",
      "INFO:tensorflow:global_step/sec: 782.203\n",
      "INFO:tensorflow:loss = 0.07172878, step = 7200 (0.128 sec)\n",
      "INFO:tensorflow:global_step/sec: 784.871\n",
      "INFO:tensorflow:loss = 0.073791675, step = 7300 (0.128 sec)\n",
      "INFO:tensorflow:global_step/sec: 764.855\n",
      "INFO:tensorflow:loss = 0.002004325, step = 7400 (0.131 sec)\n",
      "INFO:tensorflow:global_step/sec: 791.502\n",
      "INFO:tensorflow:loss = 0.004043079, step = 7500 (0.126 sec)\n",
      "INFO:tensorflow:global_step/sec: 836.65\n",
      "INFO:tensorflow:loss = 0.027419746, step = 7600 (0.119 sec)\n",
      "INFO:tensorflow:global_step/sec: 852.347\n",
      "INFO:tensorflow:loss = 0.019583877, step = 7700 (0.117 sec)\n",
      "INFO:tensorflow:global_step/sec: 854.007\n",
      "INFO:tensorflow:loss = 0.0009029062, step = 7800 (0.117 sec)\n",
      "INFO:tensorflow:global_step/sec: 837.487\n",
      "INFO:tensorflow:loss = 5.2825213e-11, step = 7900 (0.119 sec)\n",
      "INFO:tensorflow:global_step/sec: 856.328\n",
      "INFO:tensorflow:loss = 0.010316769, step = 8000 (0.117 sec)\n",
      "INFO:tensorflow:global_step/sec: 836.253\n",
      "INFO:tensorflow:loss = 0.0013620084, step = 8100 (0.120 sec)\n",
      "INFO:tensorflow:global_step/sec: 839.269\n",
      "INFO:tensorflow:loss = 0.008181376, step = 8200 (0.119 sec)\n",
      "INFO:tensorflow:global_step/sec: 809.317\n",
      "INFO:tensorflow:loss = 0.033164613, step = 8300 (0.123 sec)\n",
      "INFO:tensorflow:global_step/sec: 799.395\n",
      "INFO:tensorflow:loss = 1.0116619, step = 8400 (0.125 sec)\n",
      "INFO:tensorflow:global_step/sec: 789.458\n",
      "INFO:tensorflow:loss = 0.37799022, step = 8500 (0.127 sec)\n",
      "INFO:tensorflow:global_step/sec: 804.451\n",
      "INFO:tensorflow:loss = 0.0018210857, step = 8600 (0.124 sec)\n",
      "INFO:tensorflow:global_step/sec: 769.172\n",
      "INFO:tensorflow:loss = 0.00077041663, step = 8700 (0.130 sec)\n",
      "INFO:tensorflow:global_step/sec: 790.124\n",
      "INFO:tensorflow:loss = 1.1200687e-05, step = 8800 (0.127 sec)\n",
      "INFO:tensorflow:global_step/sec: 810.337\n",
      "INFO:tensorflow:loss = 0.0015405031, step = 8900 (0.123 sec)\n",
      "INFO:tensorflow:global_step/sec: 811.975\n",
      "INFO:tensorflow:loss = 0.0018443201, step = 9000 (0.123 sec)\n",
      "INFO:tensorflow:global_step/sec: 847.237\n",
      "INFO:tensorflow:loss = 0.0039219605, step = 9100 (0.118 sec)\n",
      "INFO:tensorflow:global_step/sec: 750.282\n",
      "INFO:tensorflow:loss = 0.012582438, step = 9200 (0.133 sec)\n",
      "INFO:tensorflow:global_step/sec: 774.686\n",
      "INFO:tensorflow:loss = 3.4304968e-09, step = 9300 (0.129 sec)\n",
      "INFO:tensorflow:global_step/sec: 790.759\n",
      "INFO:tensorflow:loss = 0.0017814172, step = 9400 (0.127 sec)\n",
      "INFO:tensorflow:global_step/sec: 816.71\n",
      "INFO:tensorflow:loss = 0.014989376, step = 9500 (0.122 sec)\n",
      "INFO:tensorflow:global_step/sec: 811.376\n",
      "INFO:tensorflow:loss = 0.0004930453, step = 9600 (0.123 sec)\n",
      "INFO:tensorflow:global_step/sec: 798.564\n",
      "INFO:tensorflow:loss = 0.007868855, step = 9700 (0.125 sec)\n",
      "INFO:tensorflow:global_step/sec: 799.509\n",
      "INFO:tensorflow:loss = 8.356229e-07, step = 9800 (0.125 sec)\n",
      "INFO:tensorflow:global_step/sec: 781.742\n",
      "INFO:tensorflow:loss = 0.00047293206, step = 9900 (0.128 sec)\n",
      "INFO:tensorflow:Saving checkpoints for 10000 into models/estimator-for-XOR/model.ckpt.\n",
      "INFO:tensorflow:Loss for final step: 0.006963645.\n"
     ]
    },
    {
     "data": {
      "text/plain": [
       "<tensorflow_estimator.python.estimator.estimator.EstimatorV2 at 0x7fe11c596710>"
      ]
     },
     "execution_count": 12,
     "metadata": {},
     "output_type": "execute_result"
    }
   ],
   "source": [
    "## Step 4: use the estimator: train/evaluate/predict\n",
    "\n",
    "num_epochs = 200\n",
    "batch_size = 2\n",
    "steps_per_epoch = np.ceil(len(x_train) / batch_size)\n",
    "\n",
    "my_estimator.train(\n",
    "    input_fn=lambda: train_input_fn(x_train, y_train, batch_size),\n",
    "    steps=num_epochs * steps_per_epoch)"
   ]
  },
  {
   "cell_type": "code",
   "execution_count": 13,
   "metadata": {},
   "outputs": [
    {
     "name": "stdout",
     "output_type": "stream",
     "text": [
      "INFO:tensorflow:Calling model_fn.\n",
      "INFO:tensorflow:Done calling model_fn.\n",
      "INFO:tensorflow:Starting evaluation at 2019-10-06T20:23:58Z\n",
      "INFO:tensorflow:Graph was finalized.\n",
      "INFO:tensorflow:Restoring parameters from models/estimator-for-XOR/model.ckpt-10000\n",
      "INFO:tensorflow:Running local_init_op.\n",
      "INFO:tensorflow:Done running local_init_op.\n",
      "INFO:tensorflow:Finished evaluation at 2019-10-06-20:23:58\n",
      "INFO:tensorflow:Saving dict for global step 10000: binary_accuracy = 0.94, global_step = 10000, loss = 0.08391656\n",
      "INFO:tensorflow:Saving 'checkpoint_path' summary for global step 10000: models/estimator-for-XOR/model.ckpt-10000\n"
     ]
    },
    {
     "data": {
      "text/plain": [
       "{'binary_accuracy': 0.94, 'loss': 0.08391656, 'global_step': 10000}"
      ]
     },
     "execution_count": 13,
     "metadata": {},
     "output_type": "execute_result"
    }
   ],
   "source": [
    "my_estimator.evaluate(\n",
    "    input_fn=lambda: eval_input_fn(x_valid, y_valid, batch_size))"
   ]
  },
  {
   "cell_type": "code",
   "execution_count": null,
   "metadata": {},
   "outputs": [],
   "source": []
  },
  {
   "cell_type": "markdown",
   "metadata": {},
   "source": [
    "..."
   ]
  },
  {
   "cell_type": "markdown",
   "metadata": {},
   "source": [
    "# Summary"
   ]
  },
  {
   "cell_type": "markdown",
   "metadata": {},
   "source": [
    "..."
   ]
  },
  {
   "cell_type": "markdown",
   "metadata": {},
   "source": [
    "---\n",
    "\n",
    "Readers may ignore the next cell."
   ]
  },
  {
   "cell_type": "code",
   "execution_count": 28,
   "metadata": {},
   "outputs": [
    {
     "name": "stdout",
     "output_type": "stream",
     "text": [
      "[NbConvertApp] Converting notebook ch12.ipynb to script\n",
      "[NbConvertApp] Writing 19212 bytes to ch12.py\n"
     ]
    }
   ],
   "source": [
    "! python ../.convert_notebook_to_script.py --input ch14.ipynb --output ch14.py"
   ]
  }
 ],
 "metadata": {
  "kernelspec": {
   "display_name": "Python 3",
   "language": "python",
   "name": "python3"
  },
  "language_info": {
   "codemirror_mode": {
    "name": "ipython",
    "version": 3
   },
   "file_extension": ".py",
   "mimetype": "text/x-python",
   "name": "python",
   "nbconvert_exporter": "python",
   "pygments_lexer": "ipython3",
   "version": "3.7.3"
  }
 },
 "nbformat": 4,
 "nbformat_minor": 4
}
