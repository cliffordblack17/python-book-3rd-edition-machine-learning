{
 "cells": [
  {
   "cell_type": "markdown",
   "metadata": {},
   "source": [
    "*Python Machine Learning 3rd Edition* by [Sebastian Raschka](https://sebastianraschka.com) & [Vahid Mirjalili](http://vahidmirjalili.com), Packt Publishing Ltd. 2019\n",
    "\n",
    "Code Repository: https://github.com/rasbt/python-machine-learning-book-3rd-edition\n",
    "\n",
    "Code License: [MIT License](https://github.com/rasbt/python-machine-learning-book-3rd-edition/blob/master/LICENSE.txt)"
   ]
  },
  {
   "cell_type": "markdown",
   "metadata": {},
   "source": [
    "# Chapter 13: Parallelizing Neural Network Training with TensorFlow  (Part 2/2)\n"
   ]
  },
  {
   "cell_type": "markdown",
   "metadata": {},
   "source": [
    "Note that the optional watermark extension is a small IPython notebook plugin that I developed to make the code reproducible. You can just skip the following line(s)."
   ]
  },
  {
   "cell_type": "code",
   "execution_count": 1,
   "metadata": {},
   "outputs": [
    {
     "name": "stdout",
     "output_type": "stream",
     "text": [
      "Sebastian Raschka & Vahid Mirjalili \n",
      "last updated: 2019-10-26 \n",
      "\n",
      "numpy 1.16.4\n",
      "scipy 1.2.1\n",
      "matplotlib 3.1.0\n",
      "tensorflow 2.0.0\n"
     ]
    }
   ],
   "source": [
    "%load_ext watermark\n",
    "%watermark -a \"Sebastian Raschka & Vahid Mirjalili\" -u -d -p numpy,scipy,matplotlib,tensorflow"
   ]
  },
  {
   "cell_type": "code",
   "execution_count": 2,
   "metadata": {},
   "outputs": [],
   "source": [
    "%matplotlib inline"
   ]
  },
  {
   "cell_type": "markdown",
   "metadata": {},
   "source": [
    "## Building a neural network model in TensorFlow"
   ]
  },
  {
   "cell_type": "markdown",
   "metadata": {},
   "source": [
    "### The TensorFlow Keras API (tf.keras)"
   ]
  },
  {
   "cell_type": "markdown",
   "metadata": {},
   "source": [
    "### Building a linear regression model"
   ]
  },
  {
   "cell_type": "code",
   "execution_count": 3,
   "metadata": {},
   "outputs": [],
   "source": [
    "import tensorflow as tf\n",
    "import numpy as np\n",
    "import matplotlib.pyplot as plt\n",
    "%matplotlib inline"
   ]
  },
  {
   "cell_type": "code",
   "execution_count": 4,
   "metadata": {},
   "outputs": [
    {
     "data": {
      "image/png": "[encoded data removed]",
      "text/plain": [
       "<Figure size 432x288 with 1 Axes>"
      ]
     },
     "metadata": {
      "needs_background": "light"
     },
     "output_type": "display_data"
    }
   ],
   "source": [
    "X_train = np.arange(10).reshape((10, 1))\n",
    "y_train = np.array([1.0, 1.3, 3.1,\n",
    "                    2.0, 5.0, 6.3,\n",
    "                    6.6, 7.4, 8.0,\n",
    "                    9.0])\n",
    "\n",
    "\n",
    "plt.plot(X_train, y_train, 'o', markersize=10)\n",
    "plt.xlabel('x')\n",
    "plt.ylabel('y')\n",
    "plt.show()"
   ]
  },
  {
   "cell_type": "code",
   "execution_count": 5,
   "metadata": {},
   "outputs": [],
   "source": [
    "X_train_norm = (X_train - np.mean(X_train))/np.std(X_train)\n",
    "\n",
    "ds_train_orig = tf.data.Dataset.from_tensor_slices(\n",
    "    (tf.cast(X_train_norm, tf.float32),\n",
    "     tf.cast(y_train, tf.float32)))"
   ]
  },
  {
   "cell_type": "code",
   "execution_count": 6,
   "metadata": {},
   "outputs": [
    {
     "name": "stdout",
     "output_type": "stream",
     "text": [
      "Model: \"my_model\"\n",
      "_________________________________________________________________\n",
      "Layer (type)                 Output Shape              Param #   \n",
      "=================================================================\n",
      "Total params: 2\n",
      "Trainable params: 2\n",
      "Non-trainable params: 0\n",
      "_________________________________________________________________\n"
     ]
    }
   ],
   "source": [
    "class MyModel(tf.keras.Model):\n",
    "    def __init__(self):\n",
    "        super(MyModel, self).__init__()\n",
    "        self.w = tf.Variable(0.0, name='weight')\n",
    "        self.b = tf.Variable(0.0, name='bias')\n",
    "\n",
    "    def call(self, x):\n",
    "        return self.w*x + self.b\n",
    "\n",
    "\n",
    "model = MyModel()\n",
    "\n",
    "model.build(input_shape=(None, 1))\n",
    "model.summary()"
   ]
  },
  {
   "cell_type": "code",
   "execution_count": 7,
   "metadata": {},
   "outputs": [
    {
     "data": {
      "text/plain": [
       "<tf.Tensor: id=33, shape=(), dtype=float32, numpy=0.25>"
      ]
     },
     "execution_count": 7,
     "metadata": {},
     "output_type": "execute_result"
    }
   ],
   "source": [
    "def loss_fn(y_true, y_pred):\n",
    "    return tf.reduce_mean(tf.square(y_true - y_pred))\n",
    "\n",
    "\n",
    "## testing the function:\n",
    "yt = tf.convert_to_tensor([1.0])\n",
    "yp = tf.convert_to_tensor([1.5])\n",
    "\n",
    "loss_fn(yt, yp)"
   ]
  },
  {
   "cell_type": "code",
   "execution_count": 8,
   "metadata": {},
   "outputs": [],
   "source": [
    "def train(model, inputs, outputs, learning_rate):\n",
    "    with tf.GradientTape() as tape:\n",
    "        current_loss = loss_fn(model(inputs), outputs)\n",
    "    dW, db = tape.gradient(current_loss, [model.w, model.b])\n",
    "    model.w.assign_sub(learning_rate * dW)\n",
    "    model.b.assign_sub(learning_rate * db)"
   ]
  },
  {
   "cell_type": "code",
   "execution_count": 9,
   "metadata": {},
   "outputs": [
    {
     "name": "stdout",
     "output_type": "stream",
     "text": [
      "Epoch    0 Step  0 Loss 43.5600\n",
      "Epoch   10 Step 100 Loss 0.7530\n",
      "Epoch   20 Step 200 Loss 20.1759\n",
      "Epoch   30 Step 300 Loss 23.3976\n",
      "Epoch   40 Step 400 Loss 6.3481\n",
      "Epoch   50 Step 500 Loss 4.6356\n",
      "Epoch   60 Step 600 Loss 0.2411\n",
      "Epoch   70 Step 700 Loss 0.2036\n",
      "Epoch   80 Step 800 Loss 3.8177\n",
      "Epoch   90 Step 900 Loss 0.9416\n",
      "Epoch  100 Step 1000 Loss 0.7035\n",
      "Epoch  110 Step 1100 Loss 0.0348\n",
      "Epoch  120 Step 1200 Loss 0.5404\n",
      "Epoch  130 Step 1300 Loss 0.1170\n",
      "Epoch  140 Step 1400 Loss 0.1195\n",
      "Epoch  150 Step 1500 Loss 0.0944\n",
      "Epoch  160 Step 1600 Loss 0.4670\n",
      "Epoch  170 Step 1700 Loss 2.0695\n",
      "Epoch  180 Step 1800 Loss 0.0020\n",
      "Epoch  190 Step 1900 Loss 0.3612\n"
     ]
    }
   ],
   "source": [
    "tf.random.set_seed(1)\n",
    "\n",
    "num_epochs = 200\n",
    "log_steps = 100\n",
    "learning_rate = 0.001\n",
    "batch_size = 1\n",
    "steps_per_epoch = int(np.ceil(len(y_train) / batch_size))\n",
    "\n",
    "\n",
    "ds_train = ds_train_orig.shuffle(buffer_size=len(y_train))\n",
    "ds_train = ds_train.repeat(count=None)\n",
    "ds_train = ds_train.batch(1)\n",
    "\n",
    "Ws, bs = [], []\n",
    "\n",
    "for i, batch in enumerate(ds_train):\n",
    "    if i >= steps_per_epoch * num_epochs:\n",
    "        break\n",
    "    Ws.append(model.w.numpy())\n",
    "    bs.append(model.b.numpy())\n",
    "\n",
    "    bx, by = batch\n",
    "    loss_val = loss_fn(model(bx), by)\n",
    "\n",
    "    train(model, bx, by, learning_rate=learning_rate)\n",
    "    if i%log_steps==0:\n",
    "        print('Epoch {:4d} Step {:2d} Loss {:6.4f}'.format(\n",
    "              int(i/steps_per_epoch), i, loss_val))"
   ]
  },
  {
   "cell_type": "code",
   "execution_count": 10,
   "metadata": {},
   "outputs": [
    {
     "name": "stdout",
     "output_type": "stream",
     "text": [
      "Final Parameters: 2.6576622 4.8798566\n"
     ]
    },
    {
     "data": {
      "image/png": "[encoded data removed]",
      "text/plain": [
       "<Figure size 936x360 with 2 Axes>"
      ]
     },
     "metadata": {
      "needs_background": "light"
     },
     "output_type": "display_data"
    }
   ],
   "source": [
    "print('Final Parameters:', model.w.numpy(), model.b.numpy())\n",
    "\n",
    "\n",
    "X_test = np.linspace(0, 9, num=100).reshape(-1, 1)\n",
    "X_test_norm = (X_test - np.mean(X_train)) / np.std(X_train)\n",
    "\n",
    "y_pred = model(tf.cast(X_test_norm, dtype=tf.float32))\n",
    "\n",
    "\n",
    "fig = plt.figure(figsize=(13, 5))\n",
    "ax = fig.add_subplot(1, 2, 1)\n",
    "plt.plot(X_train_norm, y_train, 'o', markersize=10)\n",
    "plt.plot(X_test_norm, y_pred, '--', lw=3)\n",
    "plt.legend(['Training examples', 'Linear Reg.'], fontsize=15)\n",
    "ax.set_xlabel('x', size=15)\n",
    "ax.set_ylabel('y', size=15)\n",
    "ax.tick_params(axis='both', which='major', labelsize=15)\n",
    "\n",
    "ax = fig.add_subplot(1, 2, 2)\n",
    "plt.plot(Ws, lw=3)\n",
    "plt.plot(bs, lw=3)\n",
    "plt.legend(['Weight w', 'Bias unit b'], fontsize=15)\n",
    "ax.set_xlabel('Iteration', size=15)\n",
    "ax.set_ylabel('Value', size=15)\n",
    "ax.tick_params(axis='both', which='major', labelsize=15)\n",
    "#plt.savefig('ch13-linreg-1.pdf')\n",
    "\n",
    "plt.show()"
   ]
  },
  {
   "cell_type": "markdown",
   "metadata": {},
   "source": [
    "### Model training via the .compile() and .fit() methods"
   ]
  },
  {
   "cell_type": "code",
   "execution_count": 11,
   "metadata": {},
   "outputs": [],
   "source": [
    "tf.random.set_seed(1)\n",
    "model = MyModel()\n",
    "#model.build((None, 1))\n",
    "\n",
    "model.compile(optimizer='sgd', \n",
    "              loss=loss_fn,\n",
    "              metrics=['mae', 'mse'])"
   ]
  },
  {
   "cell_type": "code",
   "execution_count": 12,
   "metadata": {},
   "outputs": [
    {
     "name": "stdout",
     "output_type": "stream",
     "text": [
      "Train on 10 samples\n",
      "Epoch 1/200\n",
      "10/10 [==============================] - 0s 40ms/sample - loss: 27.8562 - mae: 4.5967 - mse: 27.8562\n",
      "Epoch 2/200\n",
      "10/10 [==============================] - 0s 2ms/sample - loss: 18.6235 - mae: 3.7249 - mse: 18.6235\n",
      "Epoch 3/200\n",
      "10/10 [==============================] - 0s 2ms/sample - loss: 12.5081 - mae: 3.0572 - mse: 12.5081\n",
      "Epoch 4/200\n",
      "10/10 [==============================] - 0s 2ms/sample - loss: 8.4484 - mae: 2.4816 - mse: 8.4484\n",
      "Epoch 5/200\n",
      "10/10 [==============================] - 0s 2ms/sample - loss: 5.7520 - mae: 2.0644 - mse: 5.7520\n",
      "Epoch 6/200\n",
      "10/10 [==============================] - 0s 2ms/sample - loss: 3.9580 - mae: 1.7283 - mse: 3.9580\n",
      "Epoch 7/200\n",
      "10/10 [==============================] - 0s 2ms/sample - loss: 2.7617 - mae: 1.4792 - mse: 2.7617\n",
      "Epoch 8/200\n",
      "10/10 [==============================] - 0s 2ms/sample - loss: 1.9714 - mae: 1.2577 - mse: 1.9714\n",
      "Epoch 9/200\n",
      "10/10 [==============================] - 0s 2ms/sample - loss: 1.4485 - mae: 1.0911 - mse: 1.4485\n",
      "Epoch 10/200\n",
      "10/10 [==============================] - 0s 2ms/sample - loss: 1.1002 - mae: 0.9636 - mse: 1.1002\n",
      "Epoch 11/200\n",
      "10/10 [==============================] - 0s 2ms/sample - loss: 0.8714 - mae: 0.8620 - mse: 0.8714\n",
      "Epoch 12/200\n",
      "10/10 [==============================] - 0s 2ms/sample - loss: 0.7190 - mae: 0.7764 - mse: 0.7190\n",
      "Epoch 13/200\n",
      "10/10 [==============================] - 0s 2ms/sample - loss: 0.6173 - mae: 0.7089 - mse: 0.6173\n",
      "Epoch 14/200\n",
      "10/10 [==============================] - 0s 2ms/sample - loss: 0.5492 - mae: 0.6419 - mse: 0.5492\n",
      "Epoch 15/200\n",
      "10/10 [==============================] - 0s 2ms/sample - loss: 0.5042 - mae: 0.6007 - mse: 0.5042\n",
      "Epoch 16/200\n",
      "10/10 [==============================] - 0s 2ms/sample - loss: 0.4740 - mae: 0.5553 - mse: 0.4740\n",
      "Epoch 17/200\n",
      "10/10 [==============================] - 0s 2ms/sample - loss: 0.4546 - mae: 0.5334 - mse: 0.4546\n",
      "Epoch 18/200\n",
      "10/10 [==============================] - 0s 2ms/sample - loss: 0.4402 - mae: 0.5155 - mse: 0.4402  \n",
      "Epoch 19/200\n",
      "10/10 [==============================] - 0s 2ms/sample - loss: 0.4310 - mae: 0.5022 - mse: 0.4310\n",
      "Epoch 20/200\n",
      "10/10 [==============================] - 0s 2ms/sample - loss: 0.4248 - mae: 0.5025 - mse: 0.4248\n",
      "Epoch 21/200\n",
      "10/10 [==============================] - 0s 2ms/sample - loss: 0.4211 - mae: 0.4927 - mse: 0.4211\n",
      "Epoch 22/200\n",
      "10/10 [==============================] - 0s 2ms/sample - loss: 0.4175 - mae: 0.5016 - mse: 0.4175\n",
      "Epoch 23/200\n",
      "10/10 [==============================] - 0s 2ms/sample - loss: 0.4166 - mae: 0.4911 - mse: 0.4166\n",
      "Epoch 24/200\n",
      "10/10 [==============================] - 0s 2ms/sample - loss: 0.4155 - mae: 0.4918 - mse: 0.4155\n",
      "Epoch 25/200\n",
      "10/10 [==============================] - 0s 2ms/sample - loss: 0.4147 - mae: 0.4931 - mse: 0.4147\n",
      "Epoch 26/200\n",
      "10/10 [==============================] - 0s 2ms/sample - loss: 0.4144 - mae: 0.4922 - mse: 0.4144\n",
      "Epoch 27/200\n",
      "10/10 [==============================] - 0s 2ms/sample - loss: 0.4141 - mae: 0.4902 - mse: 0.4141\n",
      "Epoch 28/200\n",
      "10/10 [==============================] - 0s 2ms/sample - loss: 0.4141 - mae: 0.4900 - mse: 0.4141\n",
      "Epoch 29/200\n",
      "10/10 [==============================] - 0s 2ms/sample - loss: 0.4139 - mae: 0.4923 - mse: 0.4139\n",
      "Epoch 30/200\n",
      "10/10 [==============================] - 0s 2ms/sample - loss: 0.4138 - mae: 0.4917 - mse: 0.4138\n",
      "Epoch 31/200\n",
      "10/10 [==============================] - 0s 2ms/sample - loss: 0.4137 - mae: 0.4893 - mse: 0.4137\n",
      "Epoch 32/200\n",
      "10/10 [==============================] - 0s 2ms/sample - loss: 0.4139 - mae: 0.4854 - mse: 0.4139\n",
      "Epoch 33/200\n",
      "10/10 [==============================] - 0s 2ms/sample - loss: 0.4139 - mae: 0.4882 - mse: 0.4139\n",
      "Epoch 34/200\n",
      "10/10 [==============================] - 0s 2ms/sample - loss: 0.4139 - mae: 0.4898 - mse: 0.4139\n",
      "Epoch 35/200\n",
      "10/10 [==============================] - 0s 2ms/sample - loss: 0.4137 - mae: 0.4816 - mse: 0.4137\n",
      "Epoch 36/200\n",
      "10/10 [==============================] - 0s 2ms/sample - loss: 0.4137 - mae: 0.4933 - mse: 0.4137\n",
      "Epoch 37/200\n",
      "10/10 [==============================] - 0s 2ms/sample - loss: 0.4137 - mae: 0.4883 - mse: 0.4137\n",
      "Epoch 38/200\n",
      "10/10 [==============================] - 0s 2ms/sample - loss: 0.4132 - mae: 0.4801 - mse: 0.4132\n",
      "Epoch 39/200\n",
      "10/10 [==============================] - 0s 2ms/sample - loss: 0.4137 - mae: 0.4855 - mse: 0.4137\n",
      "Epoch 40/200\n",
      "10/10 [==============================] - 0s 2ms/sample - loss: 0.4135 - mae: 0.4975 - mse: 0.4135\n",
      "Epoch 41/200\n",
      "10/10 [==============================] - 0s 2ms/sample - loss: 0.4137 - mae: 0.4905 - mse: 0.4137\n",
      "Epoch 42/200\n",
      "10/10 [==============================] - 0s 2ms/sample - loss: 0.4138 - mae: 0.4851 - mse: 0.4138\n",
      "Epoch 43/200\n",
      "10/10 [==============================] - 0s 2ms/sample - loss: 0.4132 - mae: 0.4889 - mse: 0.4132\n",
      "Epoch 44/200\n",
      "10/10 [==============================] - 0s 2ms/sample - loss: 0.4137 - mae: 0.4928 - mse: 0.4137\n",
      "Epoch 45/200\n",
      "10/10 [==============================] - 0s 2ms/sample - loss: 0.4136 - mae: 0.4864 - mse: 0.4136\n",
      "Epoch 46/200\n",
      "10/10 [==============================] - 0s 2ms/sample - loss: 0.4140 - mae: 0.4923 - mse: 0.4140\n",
      "Epoch 47/200\n",
      "10/10 [==============================] - 0s 2ms/sample - loss: 0.4138 - mae: 0.4837 - mse: 0.4138\n",
      "Epoch 48/200\n",
      "10/10 [==============================] - 0s 2ms/sample - loss: 0.4138 - mae: 0.4909 - mse: 0.4138\n",
      "Epoch 49/200\n",
      "10/10 [==============================] - 0s 2ms/sample - loss: 0.4137 - mae: 0.4855 - mse: 0.4137\n",
      "Epoch 50/200\n",
      "10/10 [==============================] - 0s 2ms/sample - loss: 0.4138 - mae: 0.4883 - mse: 0.4138\n",
      "Epoch 51/200\n",
      "10/10 [==============================] - 0s 2ms/sample - loss: 0.4139 - mae: 0.4890 - mse: 0.4139\n",
      "Epoch 52/200\n",
      "10/10 [==============================] - 0s 2ms/sample - loss: 0.4138 - mae: 0.4979 - mse: 0.4138\n",
      "Epoch 53/200\n",
      "10/10 [==============================] - 0s 2ms/sample - loss: 0.4136 - mae: 0.4861 - mse: 0.4136\n",
      "Epoch 54/200\n",
      "10/10 [==============================] - 0s 2ms/sample - loss: 0.4132 - mae: 0.4830 - mse: 0.4132\n",
      "Epoch 55/200\n",
      "10/10 [==============================] - 0s 3ms/sample - loss: 0.4130 - mae: 0.4840 - mse: 0.4130\n",
      "Epoch 56/200\n",
      "10/10 [==============================] - 0s 2ms/sample - loss: 0.4135 - mae: 0.4892 - mse: 0.4135\n",
      "Epoch 57/200\n",
      "10/10 [==============================] - 0s 2ms/sample - loss: 0.4133 - mae: 0.4945 - mse: 0.4133\n",
      "Epoch 58/200\n",
      "10/10 [==============================] - 0s 2ms/sample - loss: 0.4131 - mae: 0.4946 - mse: 0.4131\n",
      "Epoch 59/200\n",
      "10/10 [==============================] - 0s 2ms/sample - loss: 0.4135 - mae: 0.4834 - mse: 0.4135\n",
      "Epoch 60/200\n",
      "10/10 [==============================] - 0s 2ms/sample - loss: 0.4139 - mae: 0.4922 - mse: 0.4139\n",
      "Epoch 61/200\n",
      "10/10 [==============================] - 0s 2ms/sample - loss: 0.4138 - mae: 0.4860 - mse: 0.4138\n",
      "Epoch 62/200\n",
      "10/10 [==============================] - 0s 2ms/sample - loss: 0.4134 - mae: 0.4980 - mse: 0.4134\n",
      "Epoch 63/200\n",
      "10/10 [==============================] - 0s 2ms/sample - loss: 0.4137 - mae: 0.4926 - mse: 0.4137\n",
      "Epoch 64/200\n",
      "10/10 [==============================] - 0s 2ms/sample - loss: 0.4140 - mae: 0.4892 - mse: 0.4140\n",
      "Epoch 65/200\n",
      "10/10 [==============================] - 0s 2ms/sample - loss: 0.4129 - mae: 0.4811 - mse: 0.4129\n",
      "Epoch 66/200\n",
      "10/10 [==============================] - 0s 2ms/sample - loss: 0.4138 - mae: 0.4914 - mse: 0.4138\n",
      "Epoch 67/200\n",
      "10/10 [==============================] - 0s 2ms/sample - loss: 0.4137 - mae: 0.4957 - mse: 0.4137\n",
      "Epoch 68/200\n",
      "10/10 [==============================] - 0s 2ms/sample - loss: 0.4138 - mae: 0.4915 - mse: 0.4138\n",
      "Epoch 69/200\n",
      "10/10 [==============================] - 0s 2ms/sample - loss: 0.4129 - mae: 0.4910 - mse: 0.4129\n",
      "Epoch 70/200\n",
      "10/10 [==============================] - 0s 2ms/sample - loss: 0.4138 - mae: 0.4919 - mse: 0.4138\n",
      "Epoch 71/200\n",
      "10/10 [==============================] - 0s 2ms/sample - loss: 0.4137 - mae: 0.4926 - mse: 0.4137\n",
      "Epoch 72/200\n",
      "10/10 [==============================] - 0s 2ms/sample - loss: 0.4138 - mae: 0.4884 - mse: 0.4138\n",
      "Epoch 73/200\n",
      "10/10 [==============================] - 0s 2ms/sample - loss: 0.4141 - mae: 0.4875 - mse: 0.4141\n",
      "Epoch 74/200\n",
      "10/10 [==============================] - 0s 2ms/sample - loss: 0.4136 - mae: 0.4875 - mse: 0.4136\n",
      "Epoch 75/200\n",
      "10/10 [==============================] - 0s 2ms/sample - loss: 0.4136 - mae: 0.4810 - mse: 0.4136\n",
      "Epoch 76/200\n",
      "10/10 [==============================] - 0s 2ms/sample - loss: 0.4140 - mae: 0.4874 - mse: 0.4140\n",
      "Epoch 77/200\n",
      "10/10 [==============================] - 0s 2ms/sample - loss: 0.4140 - mae: 0.4874 - mse: 0.4140\n",
      "Epoch 78/200\n",
      "10/10 [==============================] - 0s 2ms/sample - loss: 0.4135 - mae: 0.4810 - mse: 0.4135\n",
      "Epoch 79/200\n",
      "10/10 [==============================] - 0s 2ms/sample - loss: 0.4137 - mae: 0.4840 - mse: 0.4137\n",
      "Epoch 80/200\n",
      "10/10 [==============================] - 0s 2ms/sample - loss: 0.4138 - mae: 0.4855 - mse: 0.4138\n",
      "Epoch 81/200\n",
      "10/10 [==============================] - 0s 2ms/sample - loss: 0.4132 - mae: 0.4876 - mse: 0.4132\n",
      "Epoch 82/200\n",
      "10/10 [==============================] - 0s 2ms/sample - loss: 0.4138 - mae: 0.4899 - mse: 0.4138\n",
      "Epoch 83/200\n",
      "10/10 [==============================] - 0s 2ms/sample - loss: 0.4136 - mae: 0.4850 - mse: 0.4136\n",
      "Epoch 84/200\n",
      "10/10 [==============================] - 0s 2ms/sample - loss: 0.4137 - mae: 0.4958 - mse: 0.4137\n",
      "Epoch 85/200\n",
      "10/10 [==============================] - 0s 2ms/sample - loss: 0.4138 - mae: 0.4924 - mse: 0.4138\n",
      "Epoch 86/200\n",
      "10/10 [==============================] - 0s 2ms/sample - loss: 0.4135 - mae: 0.4956 - mse: 0.4135\n",
      "Epoch 87/200\n",
      "10/10 [==============================] - 0s 2ms/sample - loss: 0.4132 - mae: 0.4832 - mse: 0.4132\n",
      "Epoch 88/200\n",
      "10/10 [==============================] - 0s 2ms/sample - loss: 0.4139 - mae: 0.4920 - mse: 0.4139\n",
      "Epoch 89/200\n",
      "10/10 [==============================] - 0s 2ms/sample - loss: 0.4136 - mae: 0.4900 - mse: 0.4136\n",
      "Epoch 90/200\n",
      "10/10 [==============================] - 0s 2ms/sample - loss: 0.4139 - mae: 0.4911 - mse: 0.4139\n",
      "Epoch 91/200\n",
      "10/10 [==============================] - 0s 2ms/sample - loss: 0.4137 - mae: 0.4846 - mse: 0.4137\n",
      "Epoch 92/200\n",
      "10/10 [==============================] - 0s 2ms/sample - loss: 0.4140 - mae: 0.4901 - mse: 0.4140\n",
      "Epoch 93/200\n",
      "10/10 [==============================] - 0s 2ms/sample - loss: 0.4137 - mae: 0.4845 - mse: 0.4137\n",
      "Epoch 94/200\n",
      "10/10 [==============================] - 0s 2ms/sample - loss: 0.4134 - mae: 0.4819 - mse: 0.4134\n",
      "Epoch 95/200\n",
      "10/10 [==============================] - 0s 2ms/sample - loss: 0.4139 - mae: 0.4921 - mse: 0.4139\n",
      "Epoch 96/200\n",
      "10/10 [==============================] - 0s 2ms/sample - loss: 0.4139 - mae: 0.4903 - mse: 0.4139\n",
      "Epoch 97/200\n",
      "10/10 [==============================] - 0s 2ms/sample - loss: 0.4135 - mae: 0.4885 - mse: 0.4135\n",
      "Epoch 98/200\n",
      "10/10 [==============================] - 0s 2ms/sample - loss: 0.4137 - mae: 0.4818 - mse: 0.4137\n",
      "Epoch 99/200\n",
      "10/10 [==============================] - 0s 2ms/sample - loss: 0.4138 - mae: 0.4875 - mse: 0.4138\n",
      "Epoch 100/200\n",
      "10/10 [==============================] - 0s 2ms/sample - loss: 0.4137 - mae: 0.4857 - mse: 0.4137\n",
      "Epoch 101/200\n",
      "10/10 [==============================] - 0s 2ms/sample - loss: 0.4139 - mae: 0.4911 - mse: 0.4139\n",
      "Epoch 102/200\n",
      "10/10 [==============================] - 0s 2ms/sample - loss: 0.4139 - mae: 0.4904 - mse: 0.4139\n",
      "Epoch 103/200\n",
      "10/10 [==============================] - 0s 2ms/sample - loss: 0.4138 - mae: 0.4911 - mse: 0.4138\n",
      "Epoch 104/200\n",
      "10/10 [==============================] - 0s 2ms/sample - loss: 0.4140 - mae: 0.4912 - mse: 0.4140\n",
      "Epoch 105/200\n",
      "10/10 [==============================] - 0s 2ms/sample - loss: 0.4139 - mae: 0.4946 - mse: 0.4139\n",
      "Epoch 106/200\n",
      "10/10 [==============================] - 0s 2ms/sample - loss: 0.4139 - mae: 0.4861 - mse: 0.4139\n",
      "Epoch 107/200\n",
      "10/10 [==============================] - 0s 2ms/sample - loss: 0.4135 - mae: 0.4843 - mse: 0.4135\n",
      "Epoch 108/200\n",
      "10/10 [==============================] - 0s 2ms/sample - loss: 0.4136 - mae: 0.4863 - mse: 0.4136\n",
      "Epoch 109/200\n",
      "10/10 [==============================] - 0s 2ms/sample - loss: 0.4139 - mae: 0.4938 - mse: 0.4139\n",
      "Epoch 110/200\n",
      "10/10 [==============================] - 0s 2ms/sample - loss: 0.4134 - mae: 0.4853 - mse: 0.4134\n",
      "Epoch 111/200\n",
      "10/10 [==============================] - 0s 2ms/sample - loss: 0.4138 - mae: 0.4918 - mse: 0.4138\n",
      "Epoch 112/200\n",
      "10/10 [==============================] - 0s 2ms/sample - loss: 0.4139 - mae: 0.4904 - mse: 0.4139\n",
      "Epoch 113/200\n",
      "10/10 [==============================] - 0s 2ms/sample - loss: 0.4135 - mae: 0.4854 - mse: 0.4135\n",
      "Epoch 114/200\n",
      "10/10 [==============================] - 0s 2ms/sample - loss: 0.4139 - mae: 0.4937 - mse: 0.4139\n",
      "Epoch 115/200\n",
      "10/10 [==============================] - 0s 2ms/sample - loss: 0.4140 - mae: 0.4901 - mse: 0.4140\n",
      "Epoch 116/200\n",
      "10/10 [==============================] - 0s 2ms/sample - loss: 0.4138 - mae: 0.4897 - mse: 0.4138\n",
      "Epoch 117/200\n",
      "10/10 [==============================] - 0s 2ms/sample - loss: 0.4139 - mae: 0.4881 - mse: 0.4139\n",
      "Epoch 118/200\n",
      "10/10 [==============================] - 0s 2ms/sample - loss: 0.4140 - mae: 0.4906 - mse: 0.4140\n",
      "Epoch 119/200\n",
      "10/10 [==============================] - 0s 2ms/sample - loss: 0.4139 - mae: 0.4877 - mse: 0.4139\n",
      "Epoch 120/200\n",
      "10/10 [==============================] - 0s 2ms/sample - loss: 0.4136 - mae: 0.4859 - mse: 0.4136\n",
      "Epoch 121/200\n",
      "10/10 [==============================] - 0s 2ms/sample - loss: 0.4136 - mae: 0.4972 - mse: 0.4136\n",
      "Epoch 122/200\n",
      "10/10 [==============================] - 0s 2ms/sample - loss: 0.4139 - mae: 0.4900 - mse: 0.4139\n",
      "Epoch 123/200\n",
      "10/10 [==============================] - 0s 2ms/sample - loss: 0.4132 - mae: 0.4932 - mse: 0.4132\n",
      "Epoch 124/200\n",
      "10/10 [==============================] - 0s 2ms/sample - loss: 0.4135 - mae: 0.4805 - mse: 0.4135\n",
      "Epoch 125/200\n",
      "10/10 [==============================] - 0s 2ms/sample - loss: 0.4132 - mae: 0.4915 - mse: 0.4132\n",
      "Epoch 126/200\n",
      "10/10 [==============================] - 0s 2ms/sample - loss: 0.4139 - mae: 0.4916 - mse: 0.4139\n",
      "Epoch 127/200\n",
      "10/10 [==============================] - 0s 2ms/sample - loss: 0.4138 - mae: 0.4923 - mse: 0.4138\n",
      "Epoch 128/200\n",
      "10/10 [==============================] - 0s 2ms/sample - loss: 0.4138 - mae: 0.4930 - mse: 0.4138\n",
      "Epoch 129/200\n",
      "10/10 [==============================] - 0s 2ms/sample - loss: 0.4139 - mae: 0.4863 - mse: 0.4139\n",
      "Epoch 130/200\n",
      "10/10 [==============================] - 0s 2ms/sample - loss: 0.4140 - mae: 0.4908 - mse: 0.4140\n",
      "Epoch 131/200\n",
      "10/10 [==============================] - 0s 2ms/sample - loss: 0.4138 - mae: 0.4875 - mse: 0.4138\n",
      "Epoch 132/200\n",
      "10/10 [==============================] - 0s 2ms/sample - loss: 0.4131 - mae: 0.4763 - mse: 0.4131\n",
      "Epoch 133/200\n",
      "10/10 [==============================] - 0s 2ms/sample - loss: 0.4139 - mae: 0.4887 - mse: 0.4139\n",
      "Epoch 134/200\n",
      "10/10 [==============================] - 0s 2ms/sample - loss: 0.4131 - mae: 0.4830 - mse: 0.4131\n",
      "Epoch 135/200\n",
      "10/10 [==============================] - 0s 2ms/sample - loss: 0.4137 - mae: 0.4861 - mse: 0.4137\n",
      "Epoch 136/200\n",
      "10/10 [==============================] - 0s 2ms/sample - loss: 0.4135 - mae: 0.4861 - mse: 0.4135\n",
      "Epoch 137/200\n",
      "10/10 [==============================] - 0s 2ms/sample - loss: 0.4137 - mae: 0.4842 - mse: 0.4137\n",
      "Epoch 138/200\n",
      "10/10 [==============================] - 0s 2ms/sample - loss: 0.4141 - mae: 0.4924 - mse: 0.4141\n",
      "Epoch 139/200\n",
      "10/10 [==============================] - 0s 2ms/sample - loss: 0.4138 - mae: 0.4948 - mse: 0.4138\n",
      "Epoch 140/200\n",
      "10/10 [==============================] - 0s 2ms/sample - loss: 0.4136 - mae: 0.4842 - mse: 0.4136\n",
      "Epoch 141/200\n",
      "10/10 [==============================] - 0s 2ms/sample - loss: 0.4137 - mae: 0.4956 - mse: 0.4137\n",
      "Epoch 142/200\n",
      "10/10 [==============================] - 0s 2ms/sample - loss: 0.4137 - mae: 0.4872 - mse: 0.4137\n",
      "Epoch 143/200\n",
      "10/10 [==============================] - 0s 2ms/sample - loss: 0.4139 - mae: 0.4895 - mse: 0.4139\n",
      "Epoch 144/200\n",
      "10/10 [==============================] - 0s 2ms/sample - loss: 0.4136 - mae: 0.4865 - mse: 0.4136\n",
      "Epoch 145/200\n",
      "10/10 [==============================] - 0s 2ms/sample - loss: 0.4137 - mae: 0.4940 - mse: 0.4137\n",
      "Epoch 146/200\n",
      "10/10 [==============================] - 0s 2ms/sample - loss: 0.4139 - mae: 0.4884 - mse: 0.4139\n",
      "Epoch 147/200\n",
      "10/10 [==============================] - 0s 2ms/sample - loss: 0.4130 - mae: 0.4828 - mse: 0.4130\n",
      "Epoch 148/200\n",
      "10/10 [==============================] - 0s 2ms/sample - loss: 0.4140 - mae: 0.4875 - mse: 0.4140\n",
      "Epoch 149/200\n",
      "10/10 [==============================] - 0s 2ms/sample - loss: 0.4133 - mae: 0.4924 - mse: 0.4133\n",
      "Epoch 150/200\n",
      "10/10 [==============================] - 0s 2ms/sample - loss: 0.4137 - mae: 0.4875 - mse: 0.4137\n",
      "Epoch 151/200\n",
      "10/10 [==============================] - 0s 2ms/sample - loss: 0.4138 - mae: 0.4866 - mse: 0.4138\n",
      "Epoch 152/200\n",
      "10/10 [==============================] - 0s 2ms/sample - loss: 0.4133 - mae: 0.4924 - mse: 0.4133\n",
      "Epoch 153/200\n",
      "10/10 [==============================] - 0s 2ms/sample - loss: 0.4140 - mae: 0.4889 - mse: 0.4140\n",
      "Epoch 154/200\n",
      "10/10 [==============================] - 0s 2ms/sample - loss: 0.4140 - mae: 0.4895 - mse: 0.4140\n",
      "Epoch 155/200\n",
      "10/10 [==============================] - 0s 2ms/sample - loss: 0.4138 - mae: 0.4835 - mse: 0.4138\n",
      "Epoch 156/200\n",
      "10/10 [==============================] - 0s 2ms/sample - loss: 0.4139 - mae: 0.4862 - mse: 0.4139\n",
      "Epoch 157/200\n",
      "10/10 [==============================] - 0s 2ms/sample - loss: 0.4138 - mae: 0.4868 - mse: 0.4138\n",
      "Epoch 158/200\n",
      "10/10 [==============================] - 0s 2ms/sample - loss: 0.4138 - mae: 0.4910 - mse: 0.4138\n",
      "Epoch 159/200\n",
      "10/10 [==============================] - 0s 2ms/sample - loss: 0.4138 - mae: 0.4858 - mse: 0.4138\n",
      "Epoch 160/200\n",
      "10/10 [==============================] - 0s 2ms/sample - loss: 0.4139 - mae: 0.4881 - mse: 0.4139\n",
      "Epoch 161/200\n",
      "10/10 [==============================] - 0s 2ms/sample - loss: 0.4140 - mae: 0.4895 - mse: 0.4140\n",
      "Epoch 162/200\n",
      "10/10 [==============================] - 0s 2ms/sample - loss: 0.4131 - mae: 0.4949 - mse: 0.4131\n",
      "Epoch 163/200\n",
      "10/10 [==============================] - 0s 2ms/sample - loss: 0.4138 - mae: 0.4830 - mse: 0.4138\n",
      "Epoch 164/200\n",
      "10/10 [==============================] - 0s 2ms/sample - loss: 0.4135 - mae: 0.4943 - mse: 0.4135\n",
      "Epoch 165/200\n",
      "10/10 [==============================] - 0s 2ms/sample - loss: 0.4138 - mae: 0.4824 - mse: 0.4138\n",
      "Epoch 166/200\n",
      "10/10 [==============================] - 0s 2ms/sample - loss: 0.4140 - mae: 0.4889 - mse: 0.4140\n",
      "Epoch 167/200\n",
      "10/10 [==============================] - 0s 2ms/sample - loss: 0.4134 - mae: 0.4799 - mse: 0.4134\n",
      "Epoch 168/200\n",
      "10/10 [==============================] - 0s 2ms/sample - loss: 0.4137 - mae: 0.4864 - mse: 0.4137\n",
      "Epoch 169/200\n",
      "10/10 [==============================] - 0s 2ms/sample - loss: 0.4134 - mae: 0.4937 - mse: 0.4134\n",
      "Epoch 170/200\n",
      "10/10 [==============================] - 0s 2ms/sample - loss: 0.4140 - mae: 0.4894 - mse: 0.4140\n",
      "Epoch 171/200\n",
      "10/10 [==============================] - 0s 2ms/sample - loss: 0.4137 - mae: 0.4887 - mse: 0.4137\n",
      "Epoch 172/200\n",
      "10/10 [==============================] - 0s 3ms/sample - loss: 0.4139 - mae: 0.4906 - mse: 0.4139\n",
      "Epoch 173/200\n",
      "10/10 [==============================] - 0s 3ms/sample - loss: 0.4135 - mae: 0.4860 - mse: 0.4135\n",
      "Epoch 174/200\n",
      "10/10 [==============================] - 0s 2ms/sample - loss: 0.4135 - mae: 0.4947 - mse: 0.4135\n",
      "Epoch 175/200\n",
      "10/10 [==============================] - 0s 2ms/sample - loss: 0.4139 - mae: 0.4869 - mse: 0.4139\n",
      "Epoch 176/200\n",
      "10/10 [==============================] - 0s 2ms/sample - loss: 0.4135 - mae: 0.4864 - mse: 0.4135\n",
      "Epoch 177/200\n",
      "10/10 [==============================] - 0s 2ms/sample - loss: 0.4138 - mae: 0.4841 - mse: 0.4138\n",
      "Epoch 178/200\n",
      "10/10 [==============================] - 0s 2ms/sample - loss: 0.4133 - mae: 0.4857 - mse: 0.4133\n",
      "Epoch 179/200\n",
      "10/10 [==============================] - 0s 2ms/sample - loss: 0.4140 - mae: 0.4915 - mse: 0.4140\n",
      "Epoch 180/200\n",
      "10/10 [==============================] - 0s 2ms/sample - loss: 0.4139 - mae: 0.4901 - mse: 0.4139\n",
      "Epoch 181/200\n",
      "10/10 [==============================] - 0s 2ms/sample - loss: 0.4137 - mae: 0.4932 - mse: 0.4137\n",
      "Epoch 182/200\n",
      "10/10 [==============================] - 0s 2ms/sample - loss: 0.4138 - mae: 0.4887 - mse: 0.4138\n",
      "Epoch 183/200\n",
      "10/10 [==============================] - 0s 2ms/sample - loss: 0.4137 - mae: 0.4905 - mse: 0.4137\n",
      "Epoch 184/200\n",
      "10/10 [==============================] - 0s 2ms/sample - loss: 0.4138 - mae: 0.4861 - mse: 0.4138\n",
      "Epoch 185/200\n",
      "10/10 [==============================] - 0s 2ms/sample - loss: 0.4136 - mae: 0.4954 - mse: 0.4136\n",
      "Epoch 186/200\n",
      "10/10 [==============================] - 0s 2ms/sample - loss: 0.4139 - mae: 0.4933 - mse: 0.4139\n",
      "Epoch 187/200\n",
      "10/10 [==============================] - 0s 2ms/sample - loss: 0.4139 - mae: 0.4905 - mse: 0.4139\n",
      "Epoch 188/200\n",
      "10/10 [==============================] - 0s 2ms/sample - loss: 0.4135 - mae: 0.4797 - mse: 0.4135\n",
      "Epoch 189/200\n",
      "10/10 [==============================] - 0s 2ms/sample - loss: 0.4140 - mae: 0.4899 - mse: 0.4140\n",
      "Epoch 190/200\n",
      "10/10 [==============================] - 0s 2ms/sample - loss: 0.4138 - mae: 0.4942 - mse: 0.4138\n",
      "Epoch 191/200\n",
      "10/10 [==============================] - 0s 2ms/sample - loss: 0.4139 - mae: 0.4856 - mse: 0.4139\n",
      "Epoch 192/200\n",
      "10/10 [==============================] - 0s 2ms/sample - loss: 0.4137 - mae: 0.4908 - mse: 0.4137\n",
      "Epoch 193/200\n",
      "10/10 [==============================] - 0s 2ms/sample - loss: 0.4139 - mae: 0.4914 - mse: 0.4139\n",
      "Epoch 194/200\n",
      "10/10 [==============================] - 0s 2ms/sample - loss: 0.4139 - mae: 0.4909 - mse: 0.4139\n",
      "Epoch 195/200\n",
      "10/10 [==============================] - 0s 2ms/sample - loss: 0.4139 - mae: 0.4894 - mse: 0.4139\n",
      "Epoch 196/200\n",
      "10/10 [==============================] - 0s 2ms/sample - loss: 0.4135 - mae: 0.4965 - mse: 0.4135\n",
      "Epoch 197/200\n",
      "10/10 [==============================] - 0s 2ms/sample - loss: 0.4138 - mae: 0.4930 - mse: 0.4138\n",
      "Epoch 198/200\n",
      "10/10 [==============================] - 0s 2ms/sample - loss: 0.4136 - mae: 0.4804 - mse: 0.4136\n",
      "Epoch 199/200\n",
      "10/10 [==============================] - 0s 2ms/sample - loss: 0.4137 - mae: 0.4902 - mse: 0.4137\n",
      "Epoch 200/200\n",
      "10/10 [==============================] - 0s 2ms/sample - loss: 0.4139 - mae: 0.4925 - mse: 0.4139\n"
     ]
    },
    {
     "data": {
      "text/plain": [
       "<tensorflow.python.keras.callbacks.History at 0x7f8f6454fac8>"
      ]
     },
     "execution_count": 12,
     "metadata": {},
     "output_type": "execute_result"
    }
   ],
   "source": [
    "model.fit(X_train_norm, y_train, \n",
    "          epochs=num_epochs, batch_size=batch_size,\n",
    "          verbose=1)\n"
   ]
  },
  {
   "cell_type": "code",
   "execution_count": 13,
   "metadata": {},
   "outputs": [
    {
     "name": "stdout",
     "output_type": "stream",
     "text": [
      "2.7058773 4.9710183\n"
     ]
    },
    {
     "data": {
      "image/png": "[encoded data removed]",
      "text/plain": [
       "<Figure size 936x360 with 2 Axes>"
      ]
     },
     "metadata": {
      "needs_background": "light"
     },
     "output_type": "display_data"
    }
   ],
   "source": [
    "print(model.w.numpy(), model.b.numpy())\n",
    "\n",
    "\n",
    "X_test = np.linspace(0, 9, num=100).reshape(-1, 1)\n",
    "X_test_norm = (X_test - np.mean(X_train)) / np.std(X_train)\n",
    "\n",
    "y_pred = model(tf.cast(X_test_norm, dtype=tf.float32))\n",
    "\n",
    "\n",
    "fig = plt.figure(figsize=(13, 5))\n",
    "ax = fig.add_subplot(1, 2, 1)\n",
    "plt.plot(X_train_norm, y_train, 'o', markersize=10)\n",
    "plt.plot(X_test_norm, y_pred, '--', lw=3)\n",
    "plt.legend(['Training Samples', 'Linear Regression'], fontsize=15)\n",
    "\n",
    "ax = fig.add_subplot(1, 2, 2)\n",
    "plt.plot(Ws, lw=3)\n",
    "plt.plot(bs, lw=3)\n",
    "plt.legend(['W', 'bias'], fontsize=15)\n",
    "plt.show()"
   ]
  },
  {
   "cell_type": "markdown",
   "metadata": {},
   "source": [
    "## Building a multilayer perceptron for classifying flowers in the Iris dataset"
   ]
  },
  {
   "cell_type": "code",
   "execution_count": 14,
   "metadata": {},
   "outputs": [
    {
     "name": "stdout",
     "output_type": "stream",
     "text": [
      "tfds.core.DatasetInfo(\n",
      "    name='iris',\n",
      "    version=1.0.0,\n",
      "    description='This is perhaps the best known database to be found in the pattern recognition\n",
      "literature. Fisher's paper is a classic in the field and is referenced\n",
      "frequently to this day. (See Duda & Hart, for example.) The data set contains\n",
      "3 classes of 50 instances each, where each class refers to a type of iris\n",
      "plant. One class is linearly separable from the other 2; the latter are NOT\n",
      "linearly separable from each other.\n",
      "',\n",
      "    urls=['https://archive.ics.uci.edu/ml/datasets/iris'],\n",
      "    features=FeaturesDict({\n",
      "        'features': Tensor(shape=(4,), dtype=tf.float32),\n",
      "        'label': ClassLabel(shape=(), dtype=tf.int64, num_classes=3),\n",
      "    }),\n",
      "    total_num_examples=150,\n",
      "    splits={\n",
      "        'train': 150,\n",
      "    },\n",
      "    supervised_keys=('features', 'label'),\n",
      "    citation=\"\"\"@misc{Dua:2019 ,\n",
      "    author = \"Dua, Dheeru and Graff, Casey\",\n",
      "    year = \"2017\",\n",
      "    title = \"{UCI} Machine Learning Repository\",\n",
      "    url = \"http://archive.ics.uci.edu/ml\",\n",
      "    institution = \"University of California, Irvine, School of Information and Computer Sciences\"\n",
      "    }\"\"\",\n",
      "    redistribution_info=,\n",
      ")\n",
      "\n"
     ]
    }
   ],
   "source": [
    "import tensorflow_datasets as tfds\n",
    "\n",
    "\n",
    "\n",
    "iris, iris_info = tfds.load('iris', with_info=True)\n",
    "\n",
    "print(iris_info)"
   ]
  },
  {
   "cell_type": "code",
   "execution_count": 15,
   "metadata": {},
   "outputs": [
    {
     "name": "stdout",
     "output_type": "stream",
     "text": [
      "{'features': <tf.Tensor: id=121442, shape=(4,), dtype=float32, numpy=array([5.5, 3.5, 1.3, 0.2], dtype=float32)>, 'label': <tf.Tensor: id=121443, shape=(), dtype=int64, numpy=0>}\n"
     ]
    }
   ],
   "source": [
    "tf.random.set_seed(1)\n",
    "\n",
    "ds_orig = iris['train']\n",
    "ds_orig = ds_orig.shuffle(150, reshuffle_each_iteration=False)\n",
    "\n",
    "print(next(iter(ds_orig)))\n",
    "\n",
    "ds_train_orig = ds_orig.take(100)\n",
    "ds_test = ds_orig.skip(100)"
   ]
  },
  {
   "cell_type": "code",
   "execution_count": 16,
   "metadata": {},
   "outputs": [
    {
     "name": "stdout",
     "output_type": "stream",
     "text": [
      "100\n",
      "50\n"
     ]
    }
   ],
   "source": [
    "## checking the number of examples:\n",
    "\n",
    "n = 0\n",
    "for example in ds_train_orig:\n",
    "    n += 1\n",
    "print(n)\n",
    "\n",
    "\n",
    "n = 0\n",
    "for example in ds_test:\n",
    "    n += 1\n",
    "print(n)"
   ]
  },
  {
   "cell_type": "code",
   "execution_count": 17,
   "metadata": {},
   "outputs": [
    {
     "data": {
      "text/plain": [
       "(<tf.Tensor: id=121777, shape=(4,), dtype=float32, numpy=array([5.5, 3.5, 1.3, 0.2], dtype=float32)>,\n",
       " <tf.Tensor: id=121778, shape=(), dtype=int64, numpy=0>)"
      ]
     },
     "execution_count": 17,
     "metadata": {},
     "output_type": "execute_result"
    }
   ],
   "source": [
    "ds_train_orig = ds_train_orig.map(\n",
    "    lambda x: (x['features'], x['label']))\n",
    "\n",
    "ds_test = ds_test.map(\n",
    "    lambda x: (x['features'], x['label']))\n",
    "\n",
    "next(iter(ds_train_orig))"
   ]
  },
  {
   "cell_type": "code",
   "execution_count": 18,
   "metadata": {},
   "outputs": [
    {
     "name": "stdout",
     "output_type": "stream",
     "text": [
      "Model: \"sequential\"\n",
      "_________________________________________________________________\n",
      "Layer (type)                 Output Shape              Param #   \n",
      "=================================================================\n",
      "fc1 (Dense)                  (None, 16)                80        \n",
      "_________________________________________________________________\n",
      "fc2 (Dense)                  (None, 3)                 51        \n",
      "=================================================================\n",
      "Total params: 131\n",
      "Trainable params: 131\n",
      "Non-trainable params: 0\n",
      "_________________________________________________________________\n"
     ]
    }
   ],
   "source": [
    "model = tf.keras.Sequential([\n",
    "    tf.keras.layers.Dense(16, activation='sigmoid', \n",
    "                          name='fc1', input_shape=(4,)),\n",
    "    tf.keras.layers.Dense(3, name='fc2', activation='softmax')])\n",
    "\n",
    "model.summary()"
   ]
  },
  {
   "cell_type": "code",
   "execution_count": 19,
   "metadata": {},
   "outputs": [],
   "source": [
    "model.compile(optimizer='adam',\n",
    "              loss='sparse_categorical_crossentropy',\n",
    "              metrics=['accuracy'])"
   ]
  },
  {
   "cell_type": "code",
   "execution_count": 20,
   "metadata": {},
   "outputs": [],
   "source": [
    "num_epochs = 100\n",
    "training_size = 100\n",
    "batch_size = 2\n",
    "steps_per_epoch = np.ceil(training_size / batch_size)\n",
    "\n",
    "ds_train = ds_train_orig.shuffle(buffer_size=training_size)\n",
    "ds_train = ds_train.repeat()\n",
    "ds_train = ds_train.batch(batch_size=batch_size)\n",
    "ds_train = ds_train.prefetch(buffer_size=1000)\n",
    "\n",
    "\n",
    "history = model.fit(ds_train, epochs=num_epochs,\n",
    "                    steps_per_epoch=steps_per_epoch, \n",
    "                    verbose=0)"
   ]
  },
  {
   "cell_type": "code",
   "execution_count": 21,
   "metadata": {},
   "outputs": [
    {
     "data": {
      "image/png": "[encoded data removed]",
      "text/plain": [
       "<Figure size 864x360 with 2 Axes>"
      ]
     },
     "metadata": {
      "needs_background": "light"
     },
     "output_type": "display_data"
    }
   ],
   "source": [
    "hist = history.history\n",
    "\n",
    "fig = plt.figure(figsize=(12, 5))\n",
    "ax = fig.add_subplot(1, 2, 1)\n",
    "ax.plot(hist['loss'], lw=3)\n",
    "ax.set_title('Training loss', size=15)\n",
    "ax.set_xlabel('Epoch', size=15)\n",
    "ax.tick_params(axis='both', which='major', labelsize=15)\n",
    "\n",
    "ax = fig.add_subplot(1, 2, 2)\n",
    "ax.plot(hist['accuracy'], lw=3)\n",
    "ax.set_title('Training accuracy', size=15)\n",
    "ax.set_xlabel('Epoch', size=15)\n",
    "ax.tick_params(axis='both', which='major', labelsize=15)\n",
    "plt.tight_layout()\n",
    "#plt.savefig('ch13-cls-learning-curve.pdf')\n",
    "\n",
    "plt.show()"
   ]
  },
  {
   "cell_type": "markdown",
   "metadata": {},
   "source": [
    "### Evaluating the trained model on the test dataset"
   ]
  },
  {
   "cell_type": "code",
   "execution_count": 22,
   "metadata": {},
   "outputs": [
    {
     "name": "stdout",
     "output_type": "stream",
     "text": [
      "Test loss: 0.1491   Test Acc.: 1.0000\n"
     ]
    }
   ],
   "source": [
    "results = model.evaluate(ds_test.batch(50), verbose=0)\n",
    "print('Test loss: {:.4f}   Test Acc.: {:.4f}'.format(*results))"
   ]
  },
  {
   "cell_type": "markdown",
   "metadata": {},
   "source": [
    "### Saving and reloading the trained model"
   ]
  },
  {
   "cell_type": "code",
   "execution_count": 23,
   "metadata": {},
   "outputs": [],
   "source": [
    "model.save('iris-classifier.h5', \n",
    "           overwrite=True,\n",
    "           include_optimizer=True,\n",
    "           save_format='h5')"
   ]
  },
  {
   "cell_type": "code",
   "execution_count": 24,
   "metadata": {},
   "outputs": [
    {
     "name": "stdout",
     "output_type": "stream",
     "text": [
      "Model: \"sequential\"\n",
      "_________________________________________________________________\n",
      "Layer (type)                 Output Shape              Param #   \n",
      "=================================================================\n",
      "fc1 (Dense)                  (None, 16)                80        \n",
      "_________________________________________________________________\n",
      "fc2 (Dense)                  (None, 3)                 51        \n",
      "=================================================================\n",
      "Total params: 131\n",
      "Trainable params: 131\n",
      "Non-trainable params: 0\n",
      "_________________________________________________________________\n"
     ]
    }
   ],
   "source": [
    "model_new = tf.keras.models.load_model('iris-classifier.h5')\n",
    "\n",
    "model_new.summary()"
   ]
  },
  {
   "cell_type": "code",
   "execution_count": 25,
   "metadata": {},
   "outputs": [
    {
     "name": "stdout",
     "output_type": "stream",
     "text": [
      "Test loss: 0.1491   Test Acc.: 1.0000\n"
     ]
    }
   ],
   "source": [
    "results = model_new.evaluate(ds_test.batch(50), verbose=0)\n",
    "print('Test loss: {:.4f}   Test Acc.: {:.4f}'.format(*results))"
   ]
  },
  {
   "cell_type": "code",
   "execution_count": 26,
   "metadata": {},
   "outputs": [
    {
     "name": "stdout",
     "output_type": "stream",
     "text": [
      "Training Set:  100 Test Set:  50\n"
     ]
    }
   ],
   "source": [
    "labels_train = []\n",
    "for i,item in enumerate(ds_train_orig):\n",
    "    labels_train.append(item[1].numpy())\n",
    "    \n",
    "labels_test = []\n",
    "for i,item in enumerate(ds_test):\n",
    "    labels_test.append(item[1].numpy())\n",
    "print('Training Set: ',len(labels_train), 'Test Set: ', len(labels_test))"
   ]
  },
  {
   "cell_type": "code",
   "execution_count": 27,
   "metadata": {},
   "outputs": [
    {
     "data": {
      "text/plain": [
       "'{\"class_name\": \"Sequential\", \"config\": {\"name\": \"sequential\", \"layers\": [{\"class_name\": \"Dense\", \"config\": {\"name\": \"fc1\", \"trainable\": true, \"batch_input_shape\": [null, 4], \"dtype\": \"float32\", \"units\": 16, \"activation\": \"sigmoid\", \"use_bias\": true, \"kernel_initializer\": {\"class_name\": \"GlorotUniform\", \"config\": {\"seed\": null}}, \"bias_initializer\": {\"class_name\": \"Zeros\", \"config\": {}}, \"kernel_regularizer\": null, \"bias_regularizer\": null, \"activity_regularizer\": null, \"kernel_constraint\": null, \"bias_constraint\": null}}, {\"class_name\": \"Dense\", \"config\": {\"name\": \"fc2\", \"trainable\": true, \"dtype\": \"float32\", \"units\": 3, \"activation\": \"softmax\", \"use_bias\": true, \"kernel_initializer\": {\"class_name\": \"GlorotUniform\", \"config\": {\"seed\": null}}, \"bias_initializer\": {\"class_name\": \"Zeros\", \"config\": {}}, \"kernel_regularizer\": null, \"bias_regularizer\": null, \"activity_regularizer\": null, \"kernel_constraint\": null, \"bias_constraint\": null}}]}, \"keras_version\": \"2.2.4-tf\", \"backend\": \"tensorflow\"}'"
      ]
     },
     "execution_count": 27,
     "metadata": {},
     "output_type": "execute_result"
    }
   ],
   "source": [
    "model.to_json()"
   ]
  },
  {
   "cell_type": "markdown",
   "metadata": {},
   "source": [
    "## Choosing activation functions for multilayer neural networks\n"
   ]
  },
  {
   "cell_type": "markdown",
   "metadata": {},
   "source": [
    "### Logistic function recap"
   ]
  },
  {
   "cell_type": "code",
   "execution_count": 28,
   "metadata": {},
   "outputs": [
    {
     "name": "stdout",
     "output_type": "stream",
     "text": [
      "P(y=1|x) = 0.888\n"
     ]
    }
   ],
   "source": [
    "import numpy as np\n",
    "\n",
    "X = np.array([1, 1.4, 2.5]) ## first value must be 1\n",
    "w = np.array([0.4, 0.3, 0.5])\n",
    "\n",
    "def net_input(X, w):\n",
    "    return np.dot(X, w)\n",
    "\n",
    "def logistic(z):\n",
    "    return 1.0 / (1.0 + np.exp(-z))\n",
    "\n",
    "def logistic_activation(X, w):\n",
    "    z = net_input(X, w)\n",
    "    return logistic(z)\n",
    "\n",
    "print('P(y=1|x) = %.3f' % logistic_activation(X, w)) "
   ]
  },
  {
   "cell_type": "code",
   "execution_count": 29,
   "metadata": {},
   "outputs": [
    {
     "name": "stdout",
     "output_type": "stream",
     "text": [
      "Net Input: \n",
      " [1.78 0.76 1.65]\n",
      "Output Units:\n",
      " [0.85569687 0.68135373 0.83889105]\n"
     ]
    }
   ],
   "source": [
    "# W : array with shape = (n_output_units, n_hidden_units+1)\n",
    "# note that the first column are the bias units\n",
    "\n",
    "W = np.array([[1.1, 1.2, 0.8, 0.4],\n",
    "              [0.2, 0.4, 1.0, 0.2],\n",
    "              [0.6, 1.5, 1.2, 0.7]])\n",
    "\n",
    "# A : data array with shape = (n_hidden_units + 1, n_samples)\n",
    "# note that the first column of this array must be 1\n",
    "\n",
    "A = np.array([[1, 0.1, 0.4, 0.6]])\n",
    "Z = np.dot(W, A[0])\n",
    "y_probas = logistic(Z)\n",
    "print('Net Input: \\n', Z)\n",
    "\n",
    "print('Output Units:\\n', y_probas) "
   ]
  },
  {
   "cell_type": "code",
   "execution_count": 30,
   "metadata": {},
   "outputs": [
    {
     "name": "stdout",
     "output_type": "stream",
     "text": [
      "Predicted class label: 0\n"
     ]
    }
   ],
   "source": [
    "y_class = np.argmax(Z, axis=0)\n",
    "print('Predicted class label: %d' % y_class) "
   ]
  },
  {
   "cell_type": "markdown",
   "metadata": {},
   "source": [
    "### Estimating class probabilities in multiclass classification via the softmax function"
   ]
  },
  {
   "cell_type": "code",
   "execution_count": 31,
   "metadata": {},
   "outputs": [
    {
     "name": "stdout",
     "output_type": "stream",
     "text": [
      "Probabilities:\n",
      " [0.44668973 0.16107406 0.39223621]\n"
     ]
    },
    {
     "data": {
      "text/plain": [
       "1.0"
      ]
     },
     "execution_count": 31,
     "metadata": {},
     "output_type": "execute_result"
    }
   ],
   "source": [
    "def softmax(z):\n",
    "    return np.exp(z) / np.sum(np.exp(z))\n",
    "\n",
    "y_probas = softmax(Z)\n",
    "print('Probabilities:\\n', y_probas)\n",
    "\n",
    "np.sum(y_probas)"
   ]
  },
  {
   "cell_type": "markdown",
   "metadata": {},
   "source": [
    "### Broadening the output spectrum using a hyperbolic tangent"
   ]
  },
  {
   "cell_type": "code",
   "execution_count": 32,
   "metadata": {},
   "outputs": [
    {
     "data": {
      "image/png": "[encoded data removed]",
      "text/plain": [
       "<Figure size 432x288 with 1 Axes>"
      ]
     },
     "metadata": {
      "needs_background": "light"
     },
     "output_type": "display_data"
    }
   ],
   "source": [
    "import matplotlib.pyplot as plt\n",
    "%matplotlib inline\n",
    "\n",
    "def tanh(z):\n",
    "    e_p = np.exp(z)\n",
    "    e_m = np.exp(-z)\n",
    "    return (e_p - e_m) / (e_p + e_m)\n",
    "\n",
    "z = np.arange(-5, 5, 0.005)\n",
    "log_act = logistic(z)\n",
    "tanh_act = tanh(z)\n",
    "plt.ylim([-1.5, 1.5])\n",
    "plt.xlabel('Net input $z$')\n",
    "plt.ylabel('Activation $\\phi(z)$')\n",
    "plt.axhline(1, color='black', linestyle=':')\n",
    "plt.axhline(0.5, color='black', linestyle=':')\n",
    "plt.axhline(0, color='black', linestyle=':')\n",
    "plt.axhline(-0.5, color='black', linestyle=':')\n",
    "plt.axhline(-1, color='black', linestyle=':')\n",
    "plt.plot(z, tanh_act,\n",
    "    linewidth=3, linestyle='--',\n",
    "    label='Tanh')\n",
    "plt.plot(z, log_act,\n",
    "    linewidth=3,\n",
    "    label='Logistic')\n",
    "plt.legend(loc='lower right')\n",
    "plt.tight_layout()\n",
    "plt.show()\n"
   ]
  },
  {
   "cell_type": "code",
   "execution_count": 33,
   "metadata": {},
   "outputs": [
    {
     "data": {
      "text/plain": [
       "array([-0.9999092 , -0.99990829, -0.99990737, ...,  0.99990644,\n",
       "        0.99990737,  0.99990829])"
      ]
     },
     "execution_count": 33,
     "metadata": {},
     "output_type": "execute_result"
    }
   ],
   "source": [
    "np.tanh(z)"
   ]
  },
  {
   "cell_type": "code",
   "execution_count": 34,
   "metadata": {},
   "outputs": [],
   "source": [
    "from scipy.special import expit\n",
    "log_act = expit(z)"
   ]
  },
  {
   "cell_type": "markdown",
   "metadata": {},
   "source": [
    "### Rectified linear unit activation"
   ]
  },
  {
   "cell_type": "markdown",
   "metadata": {},
   "source": [
    "## Summary"
   ]
  },
  {
   "cell_type": "markdown",
   "metadata": {},
   "source": [
    "# Appendix\n",
    "\n",
    "## Splitting a dataset: danger of mixing train/test examples"
   ]
  },
  {
   "cell_type": "code",
   "execution_count": 35,
   "metadata": {},
   "outputs": [
    {
     "name": "stdout",
     "output_type": "stream",
     "text": [
      "{0, 1, 2, 3, 6, 7, 9, 10, 11, 13} {4, 5, 8, 12, 14}\n"
     ]
    }
   ],
   "source": [
    "## the correct way:\n",
    "ds = tf.data.Dataset.range(15)\n",
    "ds = ds.shuffle(15, reshuffle_each_iteration=False)\n",
    "\n",
    "\n",
    "ds_train = ds.take(10)\n",
    "ds_test = ds.skip(10)\n",
    "\n",
    "ds_train = ds_train.shuffle(10).repeat(10)\n",
    "ds_test = ds_test.shuffle(5)\n",
    "ds_test = ds_test.repeat(10)\n",
    "\n",
    "set_train = set()\n",
    "for i,item in enumerate(ds_train):\n",
    "    set_train.add(item.numpy())\n",
    "\n",
    "set_test = set()\n",
    "for i,item in enumerate(ds_test):\n",
    "    set_test.add(item.numpy())\n",
    "\n",
    "print(set_train, set_test)"
   ]
  },
  {
   "cell_type": "code",
   "execution_count": 36,
   "metadata": {},
   "outputs": [
    {
     "name": "stdout",
     "output_type": "stream",
     "text": [
      "{0, 1, 2, 3, 4, 5, 6, 7, 8, 9, 10, 11, 12, 13, 14} {0, 1, 2, 3, 4, 5, 6, 7, 8, 9, 10, 11, 12, 13, 14}\n"
     ]
    }
   ],
   "source": [
    "## The wrong way:\n",
    "ds = tf.data.Dataset.range(15)\n",
    "ds = ds.shuffle(15, reshuffle_each_iteration=True)\n",
    "\n",
    "\n",
    "ds_train = ds.take(10)\n",
    "ds_test = ds.skip(10)\n",
    "\n",
    "ds_train = ds_train.shuffle(10).repeat(10)\n",
    "ds_test = ds_test.shuffle(5)\n",
    "ds_test = ds_test.repeat(10)\n",
    "\n",
    "set_train = set()\n",
    "for i,item in enumerate(ds_train):\n",
    "    set_train.add(item.numpy())\n",
    "\n",
    "set_test = set()\n",
    "for i,item in enumerate(ds_test):\n",
    "    set_test.add(item.numpy())\n",
    "\n",
    "print(set_train, set_test)"
   ]
  },
  {
   "cell_type": "markdown",
   "metadata": {},
   "source": [
    "### Splitting a dataset using `tfds.Split`"
   ]
  },
  {
   "cell_type": "code",
   "execution_count": 37,
   "metadata": {},
   "outputs": [
    {
     "name": "stdout",
     "output_type": "stream",
     "text": [
      "{'features': <tf.Tensor: id=139258, shape=(4,), dtype=float32, numpy=array([6.1, 2.8, 4.7, 1.2], dtype=float32)>, 'label': <tf.Tensor: id=139259, shape=(), dtype=int64, numpy=1>}\n",
      "\n",
      "{'features': <tf.Tensor: id=139265, shape=(4,), dtype=float32, numpy=array([5.7, 3. , 4.2, 1.2], dtype=float32)>, 'label': <tf.Tensor: id=139266, shape=(), dtype=int64, numpy=1>}\n",
      "(<tf.Tensor: id=139310, shape=(4,), dtype=float32, numpy=array([6.8, 2.8, 4.8, 1.4], dtype=float32)>, <tf.Tensor: id=139311, shape=(), dtype=int64, numpy=1>)\n",
      "Training Set:  116 Test Set:  34\n",
      "10 12 12\n",
      "Training Set:  116 Test Set:  34\n",
      "10 12 12\n",
      "Training Set:  116 Test Set:  34\n",
      "10 12 12\n",
      "Training Set:  116 Test Set:  34\n",
      "10 12 12\n",
      "Training Set:  116 Test Set:  34\n",
      "10 12 12\n"
     ]
    }
   ],
   "source": [
    "\n",
    "##--------------------------- Attention ------------------------##\n",
    "##                                                              ##\n",
    "##     Note: currently, tfds.Split has a bug  in TF 2.0.0       ##\n",
    "##                                                              ##\n",
    "##  I.e., splitting [2, 1] is expected to result in             ##\n",
    "##      100 train and 50 test examples                          ##\n",
    "##                                                              ##\n",
    "##  but instead, it results in 116 train and 34 test examples   ##\n",
    "##                                                              ##\n",
    "##--------------------------------------------------------------##\n",
    "\n",
    "import tensorflow as tf\n",
    "import tensorflow_datasets as tfds\n",
    "import numpy as np\n",
    "\n",
    "##  method 1: specifying percentage:\n",
    "#first_67_percent = tfds.Split.TRAIN.subsplit(tfds.percent[:67])\n",
    "#last_33_percent = tfds.Split.TRAIN.subsplit(tfds.percent[-33:])\n",
    "\n",
    "#ds_train_orig = tfds.load('iris', split=first_67_percent)\n",
    "#ds_test = tfds.load('iris', split=last_33_percent)\n",
    "\n",
    "\n",
    "##  method 2: specifying the weights\n",
    "split_train, split_test = tfds.Split.TRAIN.subsplit([2, 1])\n",
    "\n",
    "ds_train_orig = tfds.load('iris', split=split_train)\n",
    "ds_test = tfds.load('iris', split=split_test)\n",
    "\n",
    "print(next(iter(ds_train_orig)))\n",
    "print()\n",
    "print(next(iter(ds_test)))\n",
    "\n",
    "\n",
    "ds_train_orig = ds_train_orig.shuffle(100, reshuffle_each_iteration=True)\n",
    "ds_test  = ds_test.shuffle(50, reshuffle_each_iteration=False)\n",
    "\n",
    "ds_train_orig = ds_train_orig.map(\n",
    "    lambda x: (x['features'], x['label']))\n",
    "\n",
    "ds_test = ds_test.map(\n",
    "    lambda x: (x['features'], x['label']))\n",
    "\n",
    "print(next(iter(ds_train_orig)))\n",
    "\n",
    "\n",
    "for j in range(5):\n",
    "    labels_train = []\n",
    "    for i,item in enumerate(ds_train_orig):\n",
    "        labels_train.append(item[1].numpy())\n",
    "\n",
    "    labels_test = []\n",
    "    for i,item in enumerate(ds_test):\n",
    "        labels_test.append(item[1].numpy())\n",
    "    print('Training Set: ',len(labels_train), 'Test Set: ', len(labels_test))\n",
    "\n",
    "    labels_test = np.array(labels_test)\n",
    "\n",
    "    print(np.sum(labels_test == 0), np.sum(labels_test == 1), np.sum(labels_test == 2))"
   ]
  },
  {
   "cell_type": "markdown",
   "metadata": {},
   "source": [
    "<br>\n",
    "<br>\n",
    "<br>"
   ]
  },
  {
   "cell_type": "markdown",
   "metadata": {},
   "source": [
    "---\n",
    "\n",
    "Readers may ignore the next cell."
   ]
  },
  {
   "cell_type": "code",
   "execution_count": 38,
   "metadata": {},
   "outputs": [
    {
     "name": "stdout",
     "output_type": "stream",
     "text": [
      "[NbConvertApp] Converting notebook ch13_part2.ipynb to script\n",
      "[NbConvertApp] Writing 13644 bytes to ch13_part2.py\n"
     ]
    }
   ],
   "source": [
    "! python ../.convert_notebook_to_script.py --input ch13_part2.ipynb --output ch13_part2.py"
   ]
  }
 ],
 "metadata": {
  "kernelspec": {
   "display_name": "Python 3",
   "language": "python",
   "name": "python3"
  },
  "language_info": {
   "codemirror_mode": {
    "name": "ipython",
    "version": 3
   },
   "file_extension": ".py",
   "mimetype": "text/x-python",
   "name": "python",
   "nbconvert_exporter": "python",
   "pygments_lexer": "ipython3",
   "version": "3.7.3"
  },
  "toc-showmarkdowntxt": false,
  "toc-showtags": false
 },
 "nbformat": 4,
 "nbformat_minor": 4
}
